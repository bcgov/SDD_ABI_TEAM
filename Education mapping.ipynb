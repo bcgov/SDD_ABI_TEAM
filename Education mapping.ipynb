{
 "cells": [
  {
   "cell_type": "code",
   "execution_count": 3,
   "metadata": {},
   "outputs": [
    {
     "name": "stdout",
     "output_type": "stream",
     "text": [
      "ECRR\n",
      "TRU\n",
      "TRUOL\n",
      "BCIT\n",
      "CAMO\n",
      "CAPU\n",
      "CMTN\n",
      "CNC\n",
      "COTR\n",
      "DOUG\n",
      "KPU\n",
      "NIC\n",
      "NLC\n",
      "NVIT\n",
      "OC\n",
      "RRU\n",
      "UFV\n",
      "UNBC\n",
      "VIU\n",
      "SELK\n",
      "UBCO\n",
      "UBCV\n",
      "UVIC\n",
      "LANG\n",
      "SFU\n",
      "VCC\n"
     ]
    }
   ],
   "source": [
    "import pandas as pd\n",
    "import glob\n",
    "\n",
    "path = r'\\\\SFP.IDIR.BCGOV\\U134\\GDALLAS$\\Education Mapping\\Output - Copy' # use your path\n",
    "all_files = glob.glob(path + \"/*.xlsx\")\n",
    "for t in all_files:\n",
    "    l = t.split()\n",
    "    ll = l[len(l)-1]\n",
    "    k = ll.split(\".\")\n",
    "    print(k[0])"
   ]
  },
  {
   "cell_type": "code",
   "execution_count": 4,
   "metadata": {},
   "outputs": [
    {
     "name": "stdout",
     "output_type": "stream",
     "text": [
      "Empty DataFrame\n",
      "Columns: [Institution, Program, Options, URL, Campuses, Terms, Start Date, Learning Methods, Lengths, Exact Length, Co-op/Work Exp, App Fee, Tuition, Books & Supplies, Aboriginal Focus, Trades Foundation, High School Equivalency, Apprenticeship, Extracted Name, Course Number, Subject Area, FOS]\n",
      "Index: []\n",
      "\n",
      "[0 rows x 22 columns]\n",
      "\\\\SFP.IDIR.BCGOV\\U134\\GDALLAS$\\Education Mapping\\Output - Copy\\2020 UG VR-s ECRR.xlsx\n",
      "\\\\SFP.IDIR.BCGOV\\U134\\GDALLAS$\\Education Mapping\\Output - Copy\\2020 VR UG-r TRU - TRU.xlsx\n",
      "\\\\SFP.IDIR.BCGOV\\U134\\GDALLAS$\\Education Mapping\\Output - Copy\\2020 VR UG-r TRUOL.xlsx\n",
      "\\\\SFP.IDIR.BCGOV\\U134\\GDALLAS$\\Education Mapping\\Output - Copy\\2020 VR UG-s BCIT.xlsx\n",
      "\\\\SFP.IDIR.BCGOV\\U134\\GDALLAS$\\Education Mapping\\Output - Copy\\2020 VR UG-s CAMO.xlsx\n",
      "\\\\SFP.IDIR.BCGOV\\U134\\GDALLAS$\\Education Mapping\\Output - Copy\\2020 VR UG-s CAPU.xlsx\n",
      "\\\\SFP.IDIR.BCGOV\\U134\\GDALLAS$\\Education Mapping\\Output - Copy\\2020 VR UG-s CMTN.xlsx\n",
      "\\\\SFP.IDIR.BCGOV\\U134\\GDALLAS$\\Education Mapping\\Output - Copy\\2020 VR UG-s CNC.xlsx\n",
      "\\\\SFP.IDIR.BCGOV\\U134\\GDALLAS$\\Education Mapping\\Output - Copy\\2020 VR UG-s COTR.xlsx\n",
      "\\\\SFP.IDIR.BCGOV\\U134\\GDALLAS$\\Education Mapping\\Output - Copy\\2020 VR UG-s DOUG.xlsx\n",
      "\\\\SFP.IDIR.BCGOV\\U134\\GDALLAS$\\Education Mapping\\Output - Copy\\2020 VR UG-s KPU.xlsx\n",
      "\\\\SFP.IDIR.BCGOV\\U134\\GDALLAS$\\Education Mapping\\Output - Copy\\2020 VR UG-s NIC.xlsx\n",
      "\\\\SFP.IDIR.BCGOV\\U134\\GDALLAS$\\Education Mapping\\Output - Copy\\2020 VR UG-s NLC.xlsx\n",
      "\\\\SFP.IDIR.BCGOV\\U134\\GDALLAS$\\Education Mapping\\Output - Copy\\2020 VR UG-s NVIT.xlsx\n",
      "\\\\SFP.IDIR.BCGOV\\U134\\GDALLAS$\\Education Mapping\\Output - Copy\\2020 VR UG-s OC.xlsx\n",
      "\\\\SFP.IDIR.BCGOV\\U134\\GDALLAS$\\Education Mapping\\Output - Copy\\2020 VR UG-s RRU.xlsx\n",
      "\\\\SFP.IDIR.BCGOV\\U134\\GDALLAS$\\Education Mapping\\Output - Copy\\2020 VR UG-s UFV.xlsx\n",
      "\\\\SFP.IDIR.BCGOV\\U134\\GDALLAS$\\Education Mapping\\Output - Copy\\2020 VR UG-s UNBC.xlsx\n",
      "\\\\SFP.IDIR.BCGOV\\U134\\GDALLAS$\\Education Mapping\\Output - Copy\\2020 VR UG-s VIU.xlsx\n",
      "\\\\SFP.IDIR.BCGOV\\U134\\GDALLAS$\\Education Mapping\\Output - Copy\\2020 VR UG-s2 SELK.xlsx\n",
      "\\\\SFP.IDIR.BCGOV\\U134\\GDALLAS$\\Education Mapping\\Output - Copy\\2021 UG VR-s UBCO.xlsx\n",
      "\\\\SFP.IDIR.BCGOV\\U134\\GDALLAS$\\Education Mapping\\Output - Copy\\2021 UG VR-s UBCV.xlsx\n",
      "\\\\SFP.IDIR.BCGOV\\U134\\GDALLAS$\\Education Mapping\\Output - Copy\\2021 UG VR-s UVIC.xlsx\n",
      "\\\\SFP.IDIR.BCGOV\\U134\\GDALLAS$\\Education Mapping\\Output - Copy\\2021 VR UG-s LANG.xlsx\n",
      "\\\\SFP.IDIR.BCGOV\\U134\\GDALLAS$\\Education Mapping\\Output - Copy\\2021 VR UG-s SFU.xlsx\n",
      "\\\\SFP.IDIR.BCGOV\\U134\\GDALLAS$\\Education Mapping\\Output - Copy\\2021 VR UG-s VCC.xlsx\n"
     ]
    }
   ],
   "source": [
    "df_ = pd.DataFrame( columns=[\"Institution\",\"Program\",\"Options\",\"URL\",\"Campuses\",\"Terms\",\"Start Date\",\"Learning Methods\",\"Lengths\",\"Exact Length\",\"Co-op/Work Exp\",\"App Fee\",\"Tuition\",\"Books & Supplies\",\"Aboriginal Focus\",\"Trades Foundation\",\"High School Equivalency\",\"Apprenticeship\",\"Extracted Name\",\"Course Number\",\"Subject Area\",\"FOS\"])\n",
    "print(df_)\n",
    "for x in all_files:\n",
    "    l = x.split()\n",
    "    ll = l[len(l)-1]\n",
    "    k = ll.split(\".\")\n",
    "    print(x)\n",
    "    df_1 = pd.read_excel(x, sheet_name = 'Sheet1')\n",
    "    df_1[\"Institution\"] = k[0]\n",
    "    df_ = pd.concat([df_,df_1], axis=0, ignore_index=True)\n",
    "df_.to_csv(r'\\\\SFP.IDIR.BCGOV\\U134\\GDALLAS$\\Education Mapping\\Output - Copy\\complete_listing_with_institution.csv')"
   ]
  }
 ],
 "metadata": {
  "kernelspec": {
   "display_name": "Python 3",
   "language": "python",
   "name": "python3"
  },
  "language_info": {
   "codemirror_mode": {
    "name": "ipython",
    "version": 3
   },
   "file_extension": ".py",
   "mimetype": "text/x-python",
   "name": "python",
   "nbconvert_exporter": "python",
   "pygments_lexer": "ipython3",
   "version": "3.7.6"
  }
 },
 "nbformat": 4,
 "nbformat_minor": 4
}
