{
 "cells": [
  {
   "cell_type": "code",
   "execution_count": 9,
   "metadata": {},
   "outputs": [
    {
     "ename": "DatabaseError",
     "evalue": "ORA-12545: Connect failed because target host or object does not exist",
     "output_type": "error",
     "traceback": [
      "\u001b[1;31m---------------------------------------------------------------------------\u001b[0m",
      "\u001b[1;31mDatabaseError\u001b[0m                             Traceback (most recent call last)",
      "\u001b[1;32m<ipython-input-9-fdef198fb5df>\u001b[0m in \u001b[0;36m<module>\u001b[1;34m\u001b[0m\n\u001b[0;32m     16\u001b[0m \u001b[0mdsn_tns\u001b[0m \u001b[1;33m=\u001b[0m \u001b[0mcx_Oracle\u001b[0m\u001b[1;33m.\u001b[0m\u001b[0mmakedsn\u001b[0m\u001b[1;33m(\u001b[0m\u001b[0mhost\u001b[0m\u001b[1;33m,\u001b[0m \u001b[0mport\u001b[0m\u001b[1;33m,\u001b[0m \u001b[0mservice_name\u001b[0m\u001b[1;33m=\u001b[0m\u001b[0mservice\u001b[0m\u001b[1;33m)\u001b[0m\u001b[1;33m\u001b[0m\u001b[1;33m\u001b[0m\u001b[0m\n\u001b[0;32m     17\u001b[0m \u001b[1;33m\u001b[0m\u001b[0m\n\u001b[1;32m---> 18\u001b[1;33m \u001b[0mconn\u001b[0m \u001b[1;33m=\u001b[0m \u001b[0mcx_Oracle\u001b[0m\u001b[1;33m.\u001b[0m\u001b[0mconnect\u001b[0m\u001b[1;33m(\u001b[0m\u001b[0muser\u001b[0m\u001b[1;33m=\u001b[0m\u001b[0musr\u001b[0m\u001b[1;33m,\u001b[0m \u001b[0mpassword\u001b[0m\u001b[1;33m=\u001b[0m\u001b[0mpw\u001b[0m\u001b[1;33m,\u001b[0m \u001b[0mdsn\u001b[0m\u001b[1;33m=\u001b[0m\u001b[0mdsn_tns\u001b[0m\u001b[1;33m)\u001b[0m\u001b[1;33m\u001b[0m\u001b[1;33m\u001b[0m\u001b[0m\n\u001b[0m\u001b[0;32m     19\u001b[0m \u001b[1;33m\u001b[0m\u001b[0m\n\u001b[0;32m     20\u001b[0m \u001b[0mc\u001b[0m \u001b[1;33m=\u001b[0m \u001b[0mconn\u001b[0m\u001b[1;33m.\u001b[0m\u001b[0mcursor\u001b[0m\u001b[1;33m(\u001b[0m\u001b[1;33m)\u001b[0m\u001b[1;33m\u001b[0m\u001b[1;33m\u001b[0m\u001b[0m\n",
      "\u001b[1;31mDatabaseError\u001b[0m: ORA-12545: Connect failed because target host or object does not exist"
     ]
    }
   ],
   "source": [
    "\n",
    "import pandas as pd\n",
    "    \n",
    "import cx_Oracle\n",
    "\n",
    "pw = '!99HAW!re67'\n",
    "\n",
    "usr = 'GDALLAS'\n",
    "path = 'C:\\ORACLE\\instantclient_19_11'\n",
    "\n",
    "host = 'ALASTRIA'\n",
    "port = 1524\n",
    "service = 'CW1T2'\n",
    "cx_Oracle.init_oracle_client(lib_dir= path) # use this is service isn't initialised\n",
    "\n",
    "cx_Oracle.clientversion()  \n",
    "dsn_tns = cx_Oracle.makedsn(host, port, service_name=service)\n",
    "\n",
    "conn = cx_Oracle.connect(user=usr, password=pw, dsn=dsn_tns)\n",
    "\n",
    "c = conn.cursor()\n",
    "\n",
    "query = \"\"\"select distinct \"WBC_CASE_D\".\"CASE_NUM\" \"Case_Number\", \"WBC_CATCHMENT_AREA_D\".\"CATCHMENT\" \"Catchment\", \"WBC_CATCHMENT_AREA_D\".\"CATCHMENT_AREA_CODE\" \"Catchment_Area_Code\", \"WBC_OFFICE_D\".\"OFFICE_NAME\" \"Office_Name\", \"WBC_OFFICE_D\".\"OFFICE_CD\" \"Office_Code\"\n",
    " from \"CDW\".\"WBC_CASE_D\" \"WBC_CASE_D\", \"CDW\".\"WBC_CATCHMENT_AREA_D\" \"WBC_CATCHMENT_AREA_D\", \"CDW\".\"WBC_OFFICE_D\" \"WBC_OFFICE_D\", \"CDW\".\"WBC_CASE_F\" \"coguda30\", \"CDW\".\"WBC_OFFICE_D\" \"coguda31\"\n",
    " where  \"coguda30\".\"OFFICE_ORG_WID\"=\"coguda31\".\"OFFICE_ORG_WID\" and \"coguda30\".\"CASE_WID\"=\"WBC_CASE_D\".\"CASE_WID\" and \"coguda30\".\"OFFICE_ORG_WID\"=\"WBC_OFFICE_D\".\"OFFICE_ORG_WID\" and \"WBC_OFFICE_D\".\"CATCHMENT_AREA_WID\"=\"WBC_CATCHMENT_AREA_D\".\"CATCHMENT_AREA_WID\"\n",
    "\n",
    "\"\"\"\n",
    "query2 = \"\"\"with a as (select replace(POSTAL_CODE, ' ','') as POSTAL_CODE,X_Contact_Num  from icm_stg.w_party_per_d where POSTAL_CODE <> 'Unspecified'),\n",
    "\n",
    "b as (select POSTCD, COMM_NAME, MUN_NAME, CATCHMENT_NAME from ods.hrdw_tmf)\n",
    "\n",
    "select * from a left join b on a.POSTAL_CODE = b.POSTCD \n",
    "\n",
    "\n",
    "\"\"\"\n",
    "df = pd.read_sql(query2, con=conn)\n",
    "# print(df.head())\n",
    "\n",
    "# query3 = \"\"\"select distinct \"WBC_CLIENT_D\".\"CONTACT_NUM\" \"Person_ID_ICM\", \"WBC_OFFICE_D\".\"OFFICE_CD\" \"Office_Code\", \"WBC_OFFICE_D\".\"OFFICE_NAME\" \"Office_Name\", \"WBC_CATCHMENT_AREA_D\".\"CATCHMENT_AREA_CODE\" \"Catchment_Area_Code\", \"WBC_CATCHMENT_AREA_D\".\"CATCHMENT\" \"Catchment\"\n",
    "#  from \"CDW\".\"WBC_CLIENT_D\" \"WBC_CLIENT_D\", \"CDW\".\"WBC_OFFICE_D\" \"WBC_OFFICE_D\", \"CDW\".\"WBC_CATCHMENT_AREA_D\" \"WBC_CATCHMENT_AREA_D\", \"CDW\".\"WBC_CASE_F\" \"coguda30\", \"CDW\".\"WBC_OFFICE_D\" \"coguda31\"\n",
    "#  where \"coguda30\".\"OFFICE_ORG_WID\"=\"coguda31\".\"OFFICE_ORG_WID\" and \"coguda30\".\"CONTACT_WID\"=\"WBC_CLIENT_D\".\"CONTACT_WID\" and \"coguda30\".\"OFFICE_ORG_WID\"=\"WBC_OFFICE_D\".\"OFFICE_ORG_WID\" and \"WBC_OFFICE_D\".\"CATCHMENT_AREA_WID\"=\"WBC_CATCHMENT_AREA_D\".\"CATCHMENT_AREA_WID\"\n",
    "\n",
    "# \"\"\"\n",
    "\n",
    "# df2 = pd.read_sql(query3, con=conn)\n",
    "\n",
    "# query4 = \"\"\"select distinct \"WBC_CLIENT_D\".\"CONTACT_NUM\" \"Person_ID_ICM\", \"WBC_OFFICE_D\".\"OFFICE_CD\" \"Office_Code\", \"WBC_OFFICE_D\".\"OFFICE_NAME\" \"Office_Name\", \"WBC_CATCHMENT_AREA_D\".\"CATCHMENT_AREA_CODE\" \"Catchment_Area_Code\", \"WBC_CATCHMENT_AREA_D\".\"CATCHMENT\" \"Catchment\"\n",
    "#  from \"CDW\".\"WBC_CLIENT_D\" \"WBC_CLIENT_D\", \"CDW\".\"WBC_OFFICE_D\" \"WBC_OFFICE_D\", \"CDW\".\"WBC_CATCHMENT_AREA_D\" \"WBC_CATCHMENT_AREA_D\", \"CDW\".\"WBC_CASE_F\" \"coguda30\", \"CDW\".\"WBC_OFFICE_D\" \"coguda31\"\n",
    "#  where \"coguda30\".\"OFFICE_ORG_WID\"=\"coguda31\".\"OFFICE_ORG_WID\" and \"coguda30\".\"CONTACT_WID\"=\"WBC_CLIENT_D\".\"CONTACT_WID\" and \"coguda30\".\"OFFICE_ORG_WID\"=\"WBC_OFFICE_D\".\"OFFICE_ORG_WID\" and \"WBC_OFFICE_D\".\"CATCHMENT_AREA_WID\"=\"WBC_CATCHMENT_AREA_D\".\"CATCHMENT_AREA_WID\"\n",
    "\n",
    "# \"\"\"\n",
    "# df3 = pd.read_sql(query4, con=conn)\n",
    "# df = df.append(df2)\n",
    "# df = df.append(df3)"
   ]
  },
  {
   "cell_type": "code",
   "execution_count": 2,
   "metadata": {},
   "outputs": [],
   "source": [
    "import pandas as pd\n",
    "p = pd.read_excel('output (4).xlsx')"
   ]
  },
  {
   "cell_type": "code",
   "execution_count": 3,
   "metadata": {},
   "outputs": [
    {
     "data": {
      "text/plain": [
       "Index(['POSTAL_CODE', 'X_CONTACT_NUM', 'POSTCD', 'COMM_NAME', 'MUN_NAME',\n",
       "       'CATCHMENT_NAME'],\n",
       "      dtype='object')"
      ]
     },
     "execution_count": 3,
     "metadata": {},
     "output_type": "execute_result"
    }
   ],
   "source": [
    "n = pd.read_csv('export3.csv')\n",
    "n.columns"
   ]
  },
  {
   "cell_type": "code",
   "execution_count": 23,
   "metadata": {},
   "outputs": [
    {
     "name": "stdout",
     "output_type": "stream",
     "text": [
      "   POSTCD                                 COMM_NAME  \\\n",
      "0  V3B4R4  PORT COQUITLAM                             \n",
      "\n",
      "                                            MUN_NAME CATCHMENT_NAME  \n",
      "0  Port Coquitlam                                ...     Tri-Cities  \n"
     ]
    }
   ],
   "source": [
    "\n",
    "import pandas as pd\n",
    "    \n",
    "import cx_Oracle\n",
    "\n",
    "pw = '!99HAW!re67'\n",
    "\n",
    "usr = 'GDALLAS'\n",
    "path = 'C:\\ORACLE\\instantclient_19_11'\n",
    "\n",
    "host = 'ALASTRIA'\n",
    "port = 1524\n",
    "service = 'CW1T2'\n",
    "#cx_Oracle.init_oracle_client(lib_dir= path) # use this is service isn't initialised\n",
    "\n",
    "cx_Oracle.clientversion()  \n",
    "dsn_tns = cx_Oracle.makedsn(host, port, service_name=service)\n",
    "\n",
    "conn = cx_Oracle.connect(user=usr, password=pw, dsn=dsn_tns)\n",
    "\n",
    "c = conn.cursor()\n",
    "q = \"\"\"select POSTCD, COMM_NAME, MUN_NAME, CATCHMENT_NAME from ods.hrdw_tmf where POSTCD = 'V3B4R4'\"\"\"\n",
    "d = pd.read_sql(q, con=conn)\n",
    "print(d)"
   ]
  },
  {
   "cell_type": "code",
   "execution_count": null,
   "metadata": {},
   "outputs": [],
   "source": []
  },
  {
   "cell_type": "code",
   "execution_count": 5,
   "metadata": {},
   "outputs": [
    {
     "name": "stdout",
     "output_type": "stream",
     "text": [
      "(5958, 24)\n",
      "(5958, 24)\n",
      "<bound method NDFrame.head of      Activity Type Activity Sub-Type  \\\n",
      "0     Notification               NaN   \n",
      "1     Notification               NaN   \n",
      "2     Notification               NaN   \n",
      "3     Notification               NaN   \n",
      "4     Notification   Action Required   \n",
      "...            ...               ...   \n",
      "5953  Notification               NaN   \n",
      "5954  Notification               NaN   \n",
      "5955  Notification               NaN   \n",
      "5956  Notification               NaN   \n",
      "5957  Notification               NaN   \n",
      "\n",
      "                                   Activity Description  Activity Owner  \\\n",
      "0     EP TEAM: COVID-19 protocol, EP Waived. Client ...             NaN   \n",
      "1     COVID-19 protocol, EP Waived. Client requires ...             NaN   \n",
      "2     ** EP TEAM: Review for new referral and new EP...             NaN   \n",
      "3     EP TEAM: COVID-19 protocol, EP Waived. EP Clie...             NaN   \n",
      "4     COVID19 PROTOCOL: REVIEW FOR WORKBC REFERRAL W...             NaN   \n",
      "...                                                 ...             ...   \n",
      "5953  COVID-19 protocol, EP Waived. Client requires ...             NaN   \n",
      "5954  Spouse (Chun Fang Cheng) “COVID-19 protocol, E...             NaN   \n",
      "5955  COVID-19 protocol, EP Waived. Client requires ...             NaN   \n",
      "5956  “COVID-19 protocol, EP\\nWaived. Refer to Work ...             NaN   \n",
      "5957  COVID-19\\nprotocol, EP Waived. Client requires...             NaN   \n",
      "\n",
      "     Activity Created Date  Activity End Date Activity Service Office  \\\n",
      "0               2021-10-20                NaN  0CP - Employment Plans   \n",
      "1               2020-12-01                NaN  0CP - Employment Plans   \n",
      "2               2020-12-01                NaN  0CP - Employment Plans   \n",
      "3               2021-05-11                NaN  0CP - Employment Plans   \n",
      "4               2021-02-08                NaN  0CP - Employment Plans   \n",
      "...                    ...                ...                     ...   \n",
      "5953            2021-11-01                NaN  0CP - Employment Plans   \n",
      "5954            2021-11-03                NaN  0CP - Employment Plans   \n",
      "5955            2021-11-04                NaN  0CP - Employment Plans   \n",
      "5956            2021-11-05                NaN  0CP - Employment Plans   \n",
      "5957            2021-11-10                NaN  0CP - Employment Plans   \n",
      "\n",
      "      Activity Result    Case Number         EPBC Catchment  ... CONTACT_WID  \\\n",
      "0                 NaN   1-2389-46989      Surrey Cloverdale  ...    38870647   \n",
      "1                 NaN  1-2440-102459      Surrey Cloverdale  ...    38835477   \n",
      "2                 NaN   1-2272-94685  Vancouver City Centre  ...    39838624   \n",
      "3                 NaN  1-2311-193325        North Vancouver  ...    37780808   \n",
      "4                 NaN  1-2681-140223      Thompson - Nicola  ...    37767879   \n",
      "...               ...            ...                    ...  ...         ...   \n",
      "5953              NaN  1-65757627784      Southern Okanagan  ...    39176596   \n",
      "5954              NaN  1-65794535942        Vancouver South  ...   169469431   \n",
      "5955              NaN  1-65818551322    Kamloops - Thompson  ...    38610057   \n",
      "5956              NaN  1-65831947216             Tri-Cities  ...   167607825   \n",
      "5957              NaN  1-65895505879      Surrey Cloverdale  ...   110801432   \n",
      "\n",
      "      Person ID ICM Relationship Code Self Identified Aboriginal flag  \\\n",
      "0     1-3707-191888        Key player                               N   \n",
      "1      1-2758-97348        Key player                               N   \n",
      "2      1-3563-95949        Key player                               N   \n",
      "3     1-2703-194476        Key player                               N   \n",
      "4      1-2359-11851        Key player                               Y   \n",
      "...             ...               ...                             ...   \n",
      "5953  1-3884-146744            Spouse                               N   \n",
      "5954  1-65380817951        Key player                               N   \n",
      "5955  1-2203-190694        Key player                               N   \n",
      "5956  1-64220494992        Key player                               N   \n",
      "5957  1-20750435727        Key player                               N   \n",
      "\n",
      "     POSTAL_CODE  X_CONTACT_NUM  POSTCD  \\\n",
      "0         V1J0H3  1-3707-191888  V1J0H3   \n",
      "1         V3K1J3   1-2758-97348  V3K1J3   \n",
      "2            NaN            NaN     NaN   \n",
      "3         V3W6N2  1-2703-194476  V3W6N2   \n",
      "4         V0X1K0   1-2359-11851  V0X1K0   \n",
      "...          ...            ...     ...   \n",
      "5953      V2A6A9  1-3884-146744  V2A6A9   \n",
      "5954         NaN            NaN     NaN   \n",
      "5955      V2R3A1  1-2203-190694  V2R3A1   \n",
      "5956         NaN            NaN     NaN   \n",
      "5957         NaN            NaN     NaN   \n",
      "\n",
      "                                     COMM_NAME  \\\n",
      "0     FORT ST. JOHN                              \n",
      "1     COQUITLAM                                  \n",
      "2                                          NaN   \n",
      "3     SURREY                                     \n",
      "4     HEDLEY                                     \n",
      "...                                        ...   \n",
      "5953  PENTICTON                                  \n",
      "5954                                       NaN   \n",
      "5955  CHILLIWACK                                 \n",
      "5956                                       NaN   \n",
      "5957                                       NaN   \n",
      "\n",
      "                                               MUN_NAME     CATCHMENT_NAME  \n",
      "0     Fort St. John                                 ...          Northeast  \n",
      "1     Coquitlam                                     ...         Tri-Cities  \n",
      "2                                                   NaN                NaN  \n",
      "3     Surrey                                        ...      Surrey Newton  \n",
      "4     Okanagan-Similkameen G                        ...  Southern Okanagan  \n",
      "...                                                 ...                ...  \n",
      "5953  Penticton                                     ...  Southern Okanagan  \n",
      "5954                                                NaN                NaN  \n",
      "5955  Chilliwack                                    ...  Fraser North-East  \n",
      "5956                                                NaN                NaN  \n",
      "5957                                                NaN                NaN  \n",
      "\n",
      "[5958 rows x 30 columns]>\n"
     ]
    }
   ],
   "source": [
    "print(p.shape)\n",
    "#print(df.dtypes)\n",
    "y = p.merge(n, how = 'left', left_on = 'Person ID ICM', right_on = 'X_CONTACT_NUM')\n",
    "print(p.shape)\n",
    "print(y.head)\n"
   ]
  },
  {
   "cell_type": "code",
   "execution_count": 57,
   "metadata": {},
   "outputs": [
    {
     "name": "stdout",
     "output_type": "stream",
     "text": [
      "0         1-60126132253\n",
      "1         1-64280204941\n",
      "2         1-65160239268\n",
      "3         1-65383767358\n",
      "4         1-65379762909\n",
      "              ...      \n",
      "365485    1-62987164461\n",
      "365486    1-63950669564\n",
      "365487    1-65431047715\n",
      "365488    1-64362143206\n",
      "365489    1-41278613006\n",
      "Name: Service_Request_Number, Length: 365490, dtype: object\n"
     ]
    }
   ],
   "source": [
    "df.loc[df['Service_Request_Number'].astype(str) == '1-63665214766']\n",
    "print(df['Service_Request_Number'])"
   ]
  },
  {
   "cell_type": "code",
   "execution_count": 61,
   "metadata": {},
   "outputs": [
    {
     "name": "stdout",
     "output_type": "stream",
     "text": [
      "60292638767.0\n"
     ]
    }
   ],
   "source": [
    "d = df['Service_Request_Number'].str[2:]\n",
    "print(min(d.astype(float), key=lambda x:abs(x-60292786984)))"
   ]
  },
  {
   "cell_type": "code",
   "execution_count": 6,
   "metadata": {},
   "outputs": [],
   "source": [
    "y.to_csv('output (3).csv')"
   ]
  }
 ],
 "metadata": {
  "kernelspec": {
   "display_name": "Python 3",
   "language": "python",
   "name": "python3"
  },
  "language_info": {
   "codemirror_mode": {
    "name": "ipython",
    "version": 3
   },
   "file_extension": ".py",
   "mimetype": "text/x-python",
   "name": "python",
   "nbconvert_exporter": "python",
   "pygments_lexer": "ipython3",
   "version": "3.7.6"
  }
 },
 "nbformat": 4,
 "nbformat_minor": 4
}
