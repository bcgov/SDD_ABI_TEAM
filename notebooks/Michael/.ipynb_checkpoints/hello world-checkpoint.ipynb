{
 "cells": [
  {
   "cell_type": "code",
   "execution_count": null,
   "id": "f181b307-e204-4477-8e81-e58e9ca8151e",
   "metadata": {},
   "outputs": [],
   "source": [
    "print('hello Michael!')"
   ]
  }
 ],
 "metadata": {
  "kernelspec": {
   "display_name": "Python 3 (ipykernel)",
   "language": "python",
   "name": "python3"
  },
  "language_info": {
   "codemirror_mode": {
    "name": "ipython",
    "version": 3
   },
   "file_extension": ".py",
   "mimetype": "text/x-python",
   "name": "python",
   "nbconvert_exporter": "python",
   "pygments_lexer": "ipython3",
   "version": "3.9.13"
  }
 },
 "nbformat": 4,
 "nbformat_minor": 5
}
