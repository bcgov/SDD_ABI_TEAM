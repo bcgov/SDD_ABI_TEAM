{
 "cells": [
  {
   "cell_type": "code",
   "execution_count": 3,
   "metadata": {},
   "outputs": [
    {
     "name": "stdout",
     "output_type": "stream",
     "text": [
      "(25277, 5)\n",
      "(37029, 5)\n"
     ]
    }
   ],
   "source": [
    "import cx_Oracle\n",
    "import pandas as pd\n",
    "\n",
    "f=open(\"pwds.txt\",\"r\")\n",
    "lines=f.readlines()\n",
    "usr=lines[0]\n",
    "pw=lines[1]\n",
    "f.close()\n",
    "path = 'C:\\ORACLE\\instantclient_19_11'\n",
    "\n",
    "host = 'ALASTRIA'\n",
    "port = 1524\n",
    "service = 'CW1T2'\n",
    "cx_Oracle.init_oracle_client(lib_dir= path)\n",
    "\n",
    "cx_Oracle.clientversion()  \n",
    "dsn_tns = cx_Oracle.makedsn(host, port, service_name=service)\n",
    "\n",
    "conn = cx_Oracle.connect(user=usr, password=pw, dsn=dsn_tns)\n",
    "\n",
    "c = conn.cursor()\n",
    "\n",
    "no_sus = \"\"\"\n",
    "\n",
    "select \"WBC_CASE_D\".\"CASE_NUM\" \"Case_Number\", \"WBC_DATE_D_Start\".\"CALENDAR_DATE\" \"Start_Date\", \"WBC_DATE_D_Exit\".\"CALENDAR_DATE\" \"Exit_Date\", avg(\"coguda30\".\"WEEKS_TO_ACHV_SUST_EMP_ELAPSED\") \"c4\", \"WBC_ES_STAGE_OF_SERVICE_D\".\"STAGE_OF_SERVICE_NAME\" \"Stage_of_Employment_Service1\"\n",
    " from \"CDW\".\"WBC_CASE_D\" \"WBC_CASE_D\", \"CDW\".\"WBC_DATE_D\" \"WBC_DATE_D_Start\", \"CDW\".\"WBC_DATE_D\" \"WBC_DATE_D_Exit\", \"CDW\".\"WBC_CASE_F\" \"coguda30\", \"CDW\".\"WBC_OFFICE_D\" \"coguda31\", \"CDW\".\"WBC_ES_STAGE_OF_SERVICE_D\" \"WBC_ES_STAGE_OF_SERVICE_D\"\n",
    " where  \"coguda30\".\"OFFICE_ORG_WID\"=\"coguda31\".\"OFFICE_ORG_WID\" and \"WBC_DATE_D_Start\".\"FISCAL_YEAR\">2019 and \"coguda30\".\"ES_SRV_PLN_TYPE\" in ('Employment Services') and \"WBC_ES_STAGE_OF_SERVICE_D\".\"STAGE_OF_SERVICE_NAME\" in ('Before Sustainable Employment Achieved', 'Left Before Outcome', 'Not Available') and \"coguda30\".\"CASE_TYPE_WID\"=1 and \"coguda30\".\"SNAPSHOT_DT_WID\"=(\n",
    "select snapshot_dt_wid\n",
    " from cdw.wbc_run_ctl_d) and \"coguda30\".\"CASE_WID\"=\"WBC_CASE_D\".\"CASE_WID\" and \"coguda30\".\"ES_STAGE_OF_SERVICE_WID\"=\"WBC_ES_STAGE_OF_SERVICE_D\".\"ES_STAGE_OF_SERVICE_WID\" and \"WBC_DATE_D_Start\".\"DATE_WID\"=\"coguda30\".\"PLAN_START_DT_WID\" and \"coguda30\".\"PLAN_CLOSED_DT_WID\"=\"WBC_DATE_D_Exit\".\"DATE_WID\"\n",
    " group by \"WBC_CASE_D\".\"CASE_NUM\", \"WBC_DATE_D_Exit\".\"CALENDAR_DATE\", \"WBC_DATE_D_Start\".\"CALENDAR_DATE\", \"WBC_ES_STAGE_OF_SERVICE_D\".\"STAGE_OF_SERVICE_NAME\"\n",
    "\n",
    "\n",
    "\"\"\"\n",
    "\n",
    "sus = \"\"\"\n",
    "\n",
    "select \"WBC_CASE_D\".\"CASE_NUM\" \"Case_Number\", \"WBC_DATE_D_Start\".\"CALENDAR_DATE\" \"Start_Date\", \"WBC_DATE_D_Exit\".\"CALENDAR_DATE\" \"Exit_Date\", avg(\"coguda30\".\"WEEKS_TO_ACHV_SUST_EMP_ELAPSED\") \"c4\", \"WBC_ES_STAGE_OF_SERVICE_D\".\"STAGE_OF_SERVICE_NAME\" \"Stage_of_Employment_Service1\"\n",
    " from \"CDW\".\"WBC_CASE_D\" \"WBC_CASE_D\", \"CDW\".\"WBC_DATE_D\" \"WBC_DATE_D_Start\", \"CDW\".\"WBC_DATE_D\" \"WBC_DATE_D_Exit\", \"CDW\".\"WBC_CASE_F\" \"coguda30\", \"CDW\".\"WBC_OFFICE_D\" \"coguda31\", \"CDW\".\"WBC_ES_STAGE_OF_SERVICE_D\" \"WBC_ES_STAGE_OF_SERVICE_D\"\n",
    " where \"coguda30\".\"OFFICE_ORG_WID\"=\"coguda31\".\"OFFICE_ORG_WID\" and \"WBC_DATE_D_Start\".\"FISCAL_YEAR\">2019 and \"coguda30\".\"ES_SRV_PLN_TYPE\" in ('Employment Services') and \"WBC_ES_STAGE_OF_SERVICE_D\".\"STAGE_OF_SERVICE_NAME\" in ('Left Before Completing Sustainment', 'Left After Completing Sustainment', 'In Sustainment') and \"coguda30\".\"CASE_TYPE_WID\"=1 and \"coguda30\".\"SNAPSHOT_DT_WID\"=(\n",
    "select snapshot_dt_wid\n",
    " from cdw.wbc_run_ctl_d) and \"coguda30\".\"CASE_WID\"=\"WBC_CASE_D\".\"CASE_WID\" and \"coguda30\".\"ES_STAGE_OF_SERVICE_WID\"=\"WBC_ES_STAGE_OF_SERVICE_D\".\"ES_STAGE_OF_SERVICE_WID\" and \"WBC_DATE_D_Start\".\"DATE_WID\"=\"coguda30\".\"PLAN_START_DT_WID\" and \"coguda30\".\"PLAN_CLOSED_DT_WID\"=\"WBC_DATE_D_Exit\".\"DATE_WID\"\n",
    " group by \"WBC_CASE_D\".\"CASE_NUM\", \"WBC_DATE_D_Exit\".\"CALENDAR_DATE\", \"WBC_DATE_D_Start\".\"CALENDAR_DATE\", \"WBC_ES_STAGE_OF_SERVICE_D\".\"STAGE_OF_SERVICE_NAME\"\n",
    "\n",
    "\n",
    "\n",
    "\n",
    "\"\"\"\n",
    "df = pd.read_sql(sus, con=conn)\n",
    "print(df.shape)\n",
    "df2 = pd.read_sql(no_sus, con=conn)\n",
    "print(df2.shape)\n",
    "\n"
   ]
  },
  {
   "cell_type": "code",
   "execution_count": 4,
   "metadata": {},
   "outputs": [
    {
     "data": {
      "text/plain": [
       "<matplotlib.axes._subplots.AxesSubplot at 0x1729e2b3b88>"
      ]
     },
     "execution_count": 4,
     "metadata": {},
     "output_type": "execute_result"
    },
    {
     "data": {
      "image/png": "[encoded data removed]",
      "text/plain": [
       "<Figure size 432x288 with 1 Axes>"
      ]
     },
     "metadata": {
      "needs_background": "light"
     },
     "output_type": "display_data"
    }
   ],
   "source": [
    "df.c4.plot.hist(bins=100, alpha=0.5)"
   ]
  },
  {
   "cell_type": "code",
   "execution_count": 5,
   "metadata": {},
   "outputs": [
    {
     "name": "stdout",
     "output_type": "stream",
     "text": [
      "<bound method NDFrame.head of             Case_Number Region_Code                      Catchment  \\\n",
      "0         1-56052045193        EDR1          05-ES COWICHAN VALLEY   \n",
      "1                     0        EDR2               17-ES TRI-CITIES   \n",
      "2       1-421181-191989        EDR3        30-ES THOMPSON - NICOLA   \n",
      "3         1-56177037887        EDR2                  24-ES BURNABY   \n",
      "4         1-57127199186        EDR2          14-ES VANCOUVER SOUTH   \n",
      "...                 ...         ...                            ...   \n",
      "123207  1-421193-429015         UNK       Source Value was Invalid   \n",
      "123208    1-63799368650        EDR1  ASSISTIVE TECHNOLOGY SERVICES   \n",
      "123209    1-58288244815        EDR2            APPRENTICE SERVICES   \n",
      "123210  1-421189-197001        EDR2            APPRENTICE SERVICES   \n",
      "123211    1-59026100477        EDR2            APPRENTICE SERVICES   \n",
      "\n",
      "       Explaining_to_Others Getting_Along_with_Others             New_Things  \\\n",
      "0         I am good at this         I am good at this      I am good at this   \n",
      "1         I am good at this         I am good at this      I am good at this   \n",
      "2         I am good at this     I could use some help  I could use some help   \n",
      "3         I am good at this         I am good at this      I am good at this   \n",
      "4         I am good at this         I am good at this      I am good at this   \n",
      "...                     ...                       ...                    ...   \n",
      "123207                 None                      None                   None   \n",
      "123208                 None                      None                   None   \n",
      "123209                 None                      None                   None   \n",
      "123210                 None                      None                   None   \n",
      "123211                 None                      None                   None   \n",
      "\n",
      "                   Organizing    Problem_Solving Reading_and_Understanding  \\\n",
      "0           I am good at this  I am good at this         I am good at this   \n",
      "1       I could use some help  I am good at this         I am good at this   \n",
      "2       I could use some help  I am good at this         I am good at this   \n",
      "3           I am good at this  I am good at this         I am good at this   \n",
      "4           I am good at this  I am good at this         I am good at this   \n",
      "...                       ...                ...                       ...   \n",
      "123207                   None               None                      None   \n",
      "123208                   None               None                      None   \n",
      "123209                   None               None                      None   \n",
      "123210                   None               None                      None   \n",
      "123211                   None               None                      None   \n",
      "\n",
      "              Using_Computers  ... Goal_is_Casual Can_Relocate  \\\n",
      "0           I am good at this  ...              N            N   \n",
      "1           I am good at this  ...              N            N   \n",
      "2       I could use some help  ...              N            Y   \n",
      "3           I am good at this  ...              N            N   \n",
      "4           I am good at this  ...              N            N   \n",
      "...                       ...  ...            ...          ...   \n",
      "123207                   None  ...           None         None   \n",
      "123208                   None  ...           None         None   \n",
      "123209                   None  ...           None         None   \n",
      "123210                   None  ...           None         None   \n",
      "123211                   None  ...           None         None   \n",
      "\n",
      "       Has_Transportation OES_Application_Num   Office Catchment_Selected  \\\n",
      "0                       Y              962585  05-ES-1    COWICHAN VALLEY   \n",
      "1                       Y              981829  17-ES-3         TRI-CITIES   \n",
      "2                       N              994420  30-ES-1  THOMPSON - NICOLA   \n",
      "3                       Y              990043  24-ES-1            BURNABY   \n",
      "4                       N             1012176  14-ES-1    VANCOUVER SOUTH   \n",
      "...                   ...                 ...      ...                ...   \n",
      "123207               None                None     None               None   \n",
      "123208               None                None     None               None   \n",
      "123209               None                None     None               None   \n",
      "123210               None                None     None               None   \n",
      "123211               None                None     None               None   \n",
      "\n",
      "       Service_Selected Accepted_into_Case_Management  c101  \\\n",
      "0                  None                             Y  None   \n",
      "1                  None                             Y  None   \n",
      "2                  None                             Y  None   \n",
      "3                  None                             Y  None   \n",
      "4                  None                             Y  None   \n",
      "...                 ...                           ...   ...   \n",
      "123207             None                          None  None   \n",
      "123208             None                          None  None   \n",
      "123209             None                          None  None   \n",
      "123210             None                          None  None   \n",
      "123211             None                          None  None   \n",
      "\n",
      "                                      Explore_with_Client  \n",
      "0       Client only working part time and has opportun...  \n",
      "1                                                    None  \n",
      "2       Seasons Health Therapies Functional Capacities...  \n",
      "3       Client is BCEA and reachback client. Client to...  \n",
      "4                                                    None  \n",
      "...                                                   ...  \n",
      "123207                                               None  \n",
      "123208                                               None  \n",
      "123209                                               None  \n",
      "123210                                               None  \n",
      "123211                                               None  \n",
      "\n",
      "[123212 rows x 102 columns]>\n",
      "(25482, 102)\n"
     ]
    }
   ],
   "source": [
    "link = \"\"\"\n",
    "select distinct \"WBC_CASE_D\".\"CASE_NUM\" \"Case_Number\", \"WBC_CATCHMENT_AREA_D\".\"REGION_CODE\" \"Region_Code\", \"WBC_CATCHMENT_AREA_D\".\"CATCHMENT\" \"Catchment\", \"WBC_OES_APPLICATION_D\".\"EXPLAINING_TO_OTHERS\" \"Explaining_to_Others\", \"WBC_OES_APPLICATION_D\".\"GET_ALONG_WITH_OTHERS\" \"Getting_Along_with_Others\", \"WBC_OES_APPLICATION_D\".\"LEARNING_NEW_THINGS\" \"New_Things\", \"WBC_OES_APPLICATION_D\".\"ORGANIZING_INFORMATION\" \"Organizing\", \"WBC_OES_APPLICATION_D\".\"PROBLEM_SOLVING\" \"Problem_Solving\", \"WBC_OES_APPLICATION_D\".\"READING_INFORMATION\" \"Reading_and_Understanding\", \"WBC_OES_APPLICATION_D\".\"USING_COMPUTERS\" \"Using_Computers\", \"WBC_OES_APPLICATION_D\".\"CREATING_DOCUMENTS\" \"Working_with_Documents\", \"WBC_OES_APPLICATION_D\".\"WORKING_WITH_MATH\" \"Working_with_Math\", \"WBC_OES_APPLICATION_D\".\"WRITING_INFORMATION\" \"Writing\", \"WBC_OES_APPLICATION_D\".\"FRANCOPHONE\" \"Francophone\", \"WBC_OES_APPLICATION_D\".\"RECENT_IMMIGRANT\" \"Recent_Immigrant\", \"WBC_OES_APPLICATION_D\".\"INDIGENOUS_PERSON\" \"Indigenous_Person\", \"WBC_OES_APPLICATION_D\".\"PERSON_WITH_DISABILITY\" \"Person_with_a_Disability\", \"WBC_OES_APPLICATION_D\".\"SURVIVOR_OF_VIOLENCE\" \"Survivor_of_Violence_or_Abuse\", \"WBC_OES_APPLICATION_D\".\"LANGUAGE\" \"Language19\", \"WBC_OES_APPLICATION_D\".\"LANGUAGE_OTHER\" \"Other_Language\", \"WBC_OES_APPLICATION_D\".\"DISABILITY_OTHER_DESC\" \"Other_Disability_Discription\", \"WBC_OES_APPLICATION_D\".\"STATUS_IN_CANADA_OTHER_DESC\" \"c22\", \"WBC_OES_APPLICATION_D\".\"SCHOOL_LEVEL\" \"Education_Level\", \"WBC_OES_APPLICATION_D\".\"CURRENTLY_IN_SCHOOL\" \"Currently_In_School\", \"WBC_OES_APPLICATION_D\".\"CURRENTLY_IN_SCHOOL_STATUS\" \"c25\", \"WBC_OES_APPLICATION_D\".\"AREA_OF_STUDY\" \"Education_Area_of_Study\", \"WBC_OES_APPLICATION_D\".\"INDIGENOUS_TYPE\" \"Indigenous_Type\", \"WBC_OES_APPLICATION_D\".\"STATUS_INDIAN\" \"Status_Indian\", \"WBC_OES_APPLICATION_D\".\"DRENA_REQUIRED\" \"DRENA_Required\", \"WBC_OES_APPLICATION_D\".\"LEGAL_TO_WORK\" \"c30\", \"WBC_OES_APPLICATION_D\".\"CHANGE_OF_CIRCUMSATNCE\" \"Change_of_Circumstance\", \"WBC_OES_APPLICATION_D\".\"CHANGE_OF_CIRCUMSATNCE_REASON\" \"Change_of_Circumstance_Reason\", \"WBC_OES_APPLICATION_D\".\"BCEID_GUID\" \"BCeID_GUID\", \"WBC_OES_APPLICATION_D\".\"CLIENT_BCEID\" \"Client_BCeID\", \"WBC_OES_APPLICATION_D\".\"CLIENT_CONSENT\" \"Client_Consent\", \"WBC_OES_APPLICATION_D\".\"PROGRAM_TYPE\" \"Program_Type\", \"WBC_OES_APPLICATION_D\".\"CURRENT_EMPLOYMENT_INSURANCE\" \"c37\", \"WBC_OES_APPLICATION_D\".\"PAST_EMPLOYMENT_INSURANCE\" \"c38\", \"WBC_OES_APPLICATION_D\".\"PAST_FIVE_YEARS_WORK\" \"c39\", \"WBC_OES_APPLICATION_D\".\"BCEA_INCOME_ASSISTANCE\" \"c40\", \"WBC_OES_APPLICATION_D\".\"INCOME_ASSISTANCE_DURATION\" \"c41\", \"WBC_OES_APPLICATION_D\".\"NON_BC_INCOME_ASSISTANCE\" \"c42\", \"WBC_OES_APPLICATION_D\".\"NON_BC_INCOME_ASSISTANCE_CNT\" \"c43\", \"WBC_OES_APPLICATION_D\".\"OTHER_FUNDING\" \"c44\", \"WBC_OES_APPLICATION_D\".\"EMPLOYMENT_FACTOR_AGE\" \"Age\", \"WBC_OES_APPLICATION_D\".\"EMPLOYMENT_FACTOR_LACK_HOUSING\" \"Lack_Housing\", \"WBC_OES_APPLICATION_D\".\"EMPLOYMENT_FACTOR_ADDICTION\" \"Addiction\", \"WBC_OES_APPLICATION_D\".\"VISIBLE_MINORITY\" \"Visible_Minority\", \"WBC_OES_APPLICATION_D\".\"CHILDREN_AT_HOME\" \"Child_at_Home\", \"WBC_OES_APPLICATION_D\".\"SINGLE_PARENT\" \"Single_Parent\", \"WBC_OES_APPLICATION_D\".\"DISABILITY_PHYSICAL\" \"Physical_Disability\", \"WBC_OES_APPLICATION_D\".\"DISABILITY_LEARNING\" \"Learning_Disablilit\", \"WBC_OES_APPLICATION_D\".\"DEVELOPMENTAL_DISABILITY\" \"Developmental_Disability\", \"WBC_OES_APPLICATION_D\".\"DISABILITY_VISUAL\" \"Visual_Disability\", \"WBC_OES_APPLICATION_D\".\"DISABILITY_HEARING\" \"Hearing_Disability\", \"WBC_OES_APPLICATION_D\".\"DISABILITY_MENTAL_HEALTH\" \"Mental_Health_Condition\", \"WBC_OES_APPLICATION_D\".\"DISABILITY_CHRONIC_ILLNESS\" \"Chronic_Illness\", \"WBC_OES_APPLICATION_D\".\"DISABILITY_SHORT_TERM_ILLNESS\" \"Short_term_Illness\", \"WBC_OES_APPLICATION_D\".\"DISABILITY_OTHER\" \"Other_Disability\", \"WBC_OES_APPLICATION_D\".\"INTERVIEW_METHOD_IN_PERSON\" \"Interview_In_Person\", \"WBC_OES_APPLICATION_D\".\"EMPLOYED\" \"Client_Employed_Flag\", \"WBC_OES_APPLICATION_D\".\"UNEMP_PERSONAL_SITUATION\" \"c62\", \"WBC_OES_APPLICATION_D\".\"UNEMP_KEEPING_JOBS\" \"Unemployed___Keeping_Jobs\", \"WBC_OES_APPLICATION_D\".\"UNEMP_DISABLTY_SUPPORTS_NEEDED\" \"c64\", \"WBC_OES_APPLICATION_D\".\"UNEMP_KIND_OF_WORK_UNKNOWN\" \"c65\", \"WBC_OES_APPLICATION_D\".\"UNEMP_FNCL_SUPPORTS_NEEDED\" \"c66\", \"WBC_OES_APPLICATION_D\".\"UNEMP_TRAINING_NEEDED\" \"Unemployed___Training_Needed\", \"WBC_OES_APPLICATION_D\".\"UNEMP_JOB_SEARCH_HELP_NEEDED\" \"c68\", \"WBC_OES_APPLICATION_D\".\"UNEMP_JOB_OFFER_LACK_RESOURCES\" \"Unemployed___Lack_Resources\", \"WBC_OES_APPLICATION_D\".\"UNEMP_RETURN_TO_SAME_WORK\" \"c70\", \"WBC_OES_APPLICATION_D\".\"UNEMP_OTHER_FACTOR\" \"Unemployed___Other\", \"WBC_OES_APPLICATION_D\".\"UNEMP_OTHER_FACTOR_DESC\" \"Unemployed___Other_Description\", \"WBC_OES_APPLICATION_D\".\"EMP_SELF_EMPLOYED\" \"Employed___Self_Employed\", \"WBC_OES_APPLICATION_D\".\"EMP_LOSING_JOB\" \"Employed___Losing_Job\", \"WBC_OES_APPLICATION_D\".\"EMP_DISABLTY_SUPPORTS_NEEDED\" \"Employed___Disability_Supports\", \"WBC_OES_APPLICATION_D\".\"EMP_JOB_OFFER_LACK_RESOURCES\" \"Employed___Lack_Resources\", \"WBC_OES_APPLICATION_D\".\"EMP_NEED_MORE_HOURS_OF_WORK\" \"Employed___Need_More_hours\", \"WBC_OES_APPLICATION_D\".\"EMP_TRAINING_NEEDED\" \"Employed___Training\", \"WBC_OES_APPLICATION_D\".\"EMP_NEW_LINE_OF_WORK\" \"Employed___New_Line_of_Work\", \"WBC_OES_APPLICATION_D\".\"EMP_SEEKEING_CHANGE\" \"Employed___Dislike_Current\", \"WBC_OES_APPLICATION_D\".\"EMP_CHALLENGING_JOB\" \"Employed___More_Challenge\", \"WBC_OES_APPLICATION_D\".\"EMPLOYMENT_FACTOR_OTHER\" \"Employed___Other\", \"WBC_OES_APPLICATION_D\".\"EMPLOYMENT_FACTOR_OTHER_DESC\" \"Employed___Other_Description\", \"WBC_OES_APPLICATION_D\".\"EMPLOYMENT_SITUATION_LIST\" \"Employment_Situation_List\", \"WBC_OES_APPLICATION_D\".\"INTERVIEW_METHOD_PHONE\" \"Interview_By_Telephone\", \"WBC_OES_APPLICATION_D\".\"INTERVIEW_METHOD_VIDEO_CALL\" \"Interview_By_Video_Call\", \"WBC_OES_APPLICATION_D\".\"INTERVIEW_METHOD_WITH_ATTNDENT\" \"Interview_With_Attendant\", \"WBC_OES_APPLICATION_D\".\"INTERVIEW_METHOD_OTHER\" \"Interview_Other\", \"WBC_OES_APPLICATION_D\".\"EMPLOYMENT_GOAL\" \"Employment_Goal\", \"WBC_OES_APPLICATION_D\".\"HOURS_PER_WEEK\" \"Hours_per_Week_Goal\", \"WBC_OES_APPLICATION_D\".\"WAGE_PER_HOUR\" \"Wage_Per_Hour_Goal\", \"WBC_OES_APPLICATION_D\".\"EMPLOYMENT_GOAL_SEASONAL\" \"Goal_is_Seasonal\", \"WBC_OES_APPLICATION_D\".\"EMPLOYMENT_GOAL_CASUAL\" \"Goal_is_Casual\", \"WBC_OES_APPLICATION_D\".\"EMPLOYMENT_GOAL_RELOCATE\" \"Can_Relocate\", \"WBC_OES_APPLICATION_D\".\"EMPLOYMENT_GOAL_TRANSPORT\" \"Has_Transportation\", \"WBC_OES_APPLICATION_D\".\"PORTAL_APPLICATION_NUMBER\" \"OES_Application_Num\", \"WBC_OES_APPLICATION_D\".\"OFFICE\" \"Office\", \"WBC_OES_APPLICATION_D\".\"CATCHMENT\" \"Catchment_Selected\", \"WBC_OES_APPLICATION_D\".\"SERVICE_SELECTED\" \"Service_Selected\", \"WBC_OES_APPLICATION_D\".\"ACCEPTED_INTO_CASE_MGMT\" \"Accepted_into_Case_Management\", \"WBC_OES_APPLICATION_D\".\"NOTACCEPT_CASE_MGMT_OTHER_DESC\" \"c101\", \"WBC_OES_APPLICATION_D\".\"EXPLORE_WITH_CLIENT\" \"Explore_with_Client\"\n",
    " from (((\"CDW\".\"WBC_OFFICE_D\" \"WBC_OFFICE_D\" INNER JOIN (\n",
    "select \"WBC_CATCHMENT_AREA_D\".\"CATCHMENT_AREA_WID\" \"CATCHMENT_AREA_WID\", \"WBC_CATCHMENT_AREA_D\".\"CATCHMENT\" \"CATCHMENT\", \"WBC_CATCHMENT_AREA_D\".\"REGION_CODE\" \"REGION_CODE\"\n",
    " from \"CDW\".\"WBC_CATCHMENT_AREA_D\" \"WBC_CATCHMENT_AREA_D\"\n",
    " ) \"WBC_CATCHMENT_AREA_D\" on \"WBC_OFFICE_D\".\"CATCHMENT_AREA_WID\"=\"WBC_CATCHMENT_AREA_D\".\"CATCHMENT_AREA_WID\") INNER JOIN (\n",
    "select \"WBC_OES_APPLICATION_F\".\"TAAAPA_WID\" \"TAAAPA_WID\", \"WBC_OES_APPLICATION_F\".\"OFFICE_ORG_WID\" \"OFFICE_ORG_WID\", \"WBC_OES_APPLICATION_F\".\"CASE_WID\" \"CASE_WID\"\n",
    " from \"CDW\".\"WBC_OES_APPLICATION_F\" \"WBC_OES_APPLICATION_F\"\n",
    ") \"WBC_OES_APPLICATION_F\" on \"WBC_OES_APPLICATION_F\".\"OFFICE_ORG_WID\"=\"WBC_OFFICE_D\".\"OFFICE_ORG_WID\") INNER JOIN \"CDW\".\"WBC_CASE_D\" \"WBC_CASE_D\" on \"WBC_OES_APPLICATION_F\".\"CASE_WID\"=\"WBC_CASE_D\".\"CASE_WID\") LEFT OUTER JOIN \"CDW\".\"WBC_OES_APPLICATION_D\" \"WBC_OES_APPLICATION_D\" on \"WBC_OES_APPLICATION_F\".\"TAAAPA_WID\"=\"WBC_OES_APPLICATION_D\".\"TAAAPA_WID\"\n",
    "\n",
    "\n",
    "\n",
    "\"\"\"\n",
    "link = pd.read_sql(link, con=conn)\n",
    "print(link.head)\n",
    "link2 = link[link['Case_Number'].isin(df['Case_Number'])]\n",
    "print(link2.shape)\n",
    "data = link2"
   ]
  },
  {
   "cell_type": "code",
   "execution_count": 25,
   "metadata": {},
   "outputs": [
    {
     "name": "stdout",
     "output_type": "stream",
     "text": [
      "c22\n",
      "c25\n",
      "c30\n",
      "c37\n",
      "c38\n",
      "c39\n",
      "c40\n",
      "c41\n",
      "c42\n",
      "c43\n",
      "c44\n",
      "c62\n",
      "c64\n",
      "c65\n",
      "c66\n",
      "c68\n",
      "c70\n",
      "c101\n"
     ]
    },
    {
     "ename": "TypeError",
     "evalue": "no numeric data to plot",
     "output_type": "error",
     "traceback": [
      "\u001b[1;31m---------------------------------------------------------------------------\u001b[0m",
      "\u001b[1;31mTypeError\u001b[0m                                 Traceback (most recent call last)",
      "\u001b[1;32m<ipython-input-25-e44bac8f2e09>\u001b[0m in \u001b[0;36m<module>\u001b[1;34m\u001b[0m\n\u001b[0;32m      3\u001b[0m         \u001b[0mprint\u001b[0m\u001b[1;33m(\u001b[0m\u001b[0mx\u001b[0m\u001b[1;33m)\u001b[0m\u001b[1;33m\u001b[0m\u001b[1;33m\u001b[0m\u001b[0m\n\u001b[0;32m      4\u001b[0m \u001b[1;33m\u001b[0m\u001b[0m\n\u001b[1;32m----> 5\u001b[1;33m \u001b[0mdata\u001b[0m\u001b[1;33m.\u001b[0m\u001b[0mc22\u001b[0m\u001b[1;33m.\u001b[0m\u001b[0mplot\u001b[0m\u001b[1;33m.\u001b[0m\u001b[0mhist\u001b[0m\u001b[1;33m(\u001b[0m\u001b[0mbins\u001b[0m\u001b[1;33m=\u001b[0m\u001b[1;36m100\u001b[0m\u001b[1;33m,\u001b[0m \u001b[0malpha\u001b[0m\u001b[1;33m=\u001b[0m\u001b[1;36m0.5\u001b[0m\u001b[1;33m)\u001b[0m\u001b[1;33m\u001b[0m\u001b[1;33m\u001b[0m\u001b[0m\n\u001b[0m",
      "\u001b[1;32mC:\\ProgramData\\Anaconda3\\lib\\site-packages\\pandas\\plotting\\_core.py\u001b[0m in \u001b[0;36mhist\u001b[1;34m(self, by, bins, **kwargs)\u001b[0m\n\u001b[0;32m   1178\u001b[0m             \u001b[1;33m>>\u001b[0m\u001b[1;33m>\u001b[0m \u001b[0max\u001b[0m \u001b[1;33m=\u001b[0m \u001b[0mdf\u001b[0m\u001b[1;33m.\u001b[0m\u001b[0mplot\u001b[0m\u001b[1;33m.\u001b[0m\u001b[0mhist\u001b[0m\u001b[1;33m(\u001b[0m\u001b[0mbins\u001b[0m\u001b[1;33m=\u001b[0m\u001b[1;36m12\u001b[0m\u001b[1;33m,\u001b[0m \u001b[0malpha\u001b[0m\u001b[1;33m=\u001b[0m\u001b[1;36m0.5\u001b[0m\u001b[1;33m)\u001b[0m\u001b[1;33m\u001b[0m\u001b[1;33m\u001b[0m\u001b[0m\n\u001b[0;32m   1179\u001b[0m         \"\"\"\n\u001b[1;32m-> 1180\u001b[1;33m         \u001b[1;32mreturn\u001b[0m \u001b[0mself\u001b[0m\u001b[1;33m(\u001b[0m\u001b[0mkind\u001b[0m\u001b[1;33m=\u001b[0m\u001b[1;34m\"hist\"\u001b[0m\u001b[1;33m,\u001b[0m \u001b[0mby\u001b[0m\u001b[1;33m=\u001b[0m\u001b[0mby\u001b[0m\u001b[1;33m,\u001b[0m \u001b[0mbins\u001b[0m\u001b[1;33m=\u001b[0m\u001b[0mbins\u001b[0m\u001b[1;33m,\u001b[0m \u001b[1;33m**\u001b[0m\u001b[0mkwargs\u001b[0m\u001b[1;33m)\u001b[0m\u001b[1;33m\u001b[0m\u001b[1;33m\u001b[0m\u001b[0m\n\u001b[0m\u001b[0;32m   1181\u001b[0m \u001b[1;33m\u001b[0m\u001b[0m\n\u001b[0;32m   1182\u001b[0m     \u001b[1;32mdef\u001b[0m \u001b[0mkde\u001b[0m\u001b[1;33m(\u001b[0m\u001b[0mself\u001b[0m\u001b[1;33m,\u001b[0m \u001b[0mbw_method\u001b[0m\u001b[1;33m=\u001b[0m\u001b[1;32mNone\u001b[0m\u001b[1;33m,\u001b[0m \u001b[0mind\u001b[0m\u001b[1;33m=\u001b[0m\u001b[1;32mNone\u001b[0m\u001b[1;33m,\u001b[0m \u001b[1;33m**\u001b[0m\u001b[0mkwargs\u001b[0m\u001b[1;33m)\u001b[0m\u001b[1;33m:\u001b[0m\u001b[1;33m\u001b[0m\u001b[1;33m\u001b[0m\u001b[0m\n",
      "\u001b[1;32mC:\\ProgramData\\Anaconda3\\lib\\site-packages\\pandas\\plotting\\_core.py\u001b[0m in \u001b[0;36m__call__\u001b[1;34m(self, *args, **kwargs)\u001b[0m\n\u001b[0;32m    845\u001b[0m                     \u001b[0mdata\u001b[0m\u001b[1;33m.\u001b[0m\u001b[0mcolumns\u001b[0m \u001b[1;33m=\u001b[0m \u001b[0mlabel_name\u001b[0m\u001b[1;33m\u001b[0m\u001b[1;33m\u001b[0m\u001b[0m\n\u001b[0;32m    846\u001b[0m \u001b[1;33m\u001b[0m\u001b[0m\n\u001b[1;32m--> 847\u001b[1;33m         \u001b[1;32mreturn\u001b[0m \u001b[0mplot_backend\u001b[0m\u001b[1;33m.\u001b[0m\u001b[0mplot\u001b[0m\u001b[1;33m(\u001b[0m\u001b[0mdata\u001b[0m\u001b[1;33m,\u001b[0m \u001b[0mkind\u001b[0m\u001b[1;33m=\u001b[0m\u001b[0mkind\u001b[0m\u001b[1;33m,\u001b[0m \u001b[1;33m**\u001b[0m\u001b[0mkwargs\u001b[0m\u001b[1;33m)\u001b[0m\u001b[1;33m\u001b[0m\u001b[1;33m\u001b[0m\u001b[0m\n\u001b[0m\u001b[0;32m    848\u001b[0m \u001b[1;33m\u001b[0m\u001b[0m\n\u001b[0;32m    849\u001b[0m     \u001b[0m__call__\u001b[0m\u001b[1;33m.\u001b[0m\u001b[0m__doc__\u001b[0m \u001b[1;33m=\u001b[0m \u001b[0m__doc__\u001b[0m\u001b[1;33m\u001b[0m\u001b[1;33m\u001b[0m\u001b[0m\n",
      "\u001b[1;32mC:\\ProgramData\\Anaconda3\\lib\\site-packages\\pandas\\plotting\\_matplotlib\\__init__.py\u001b[0m in \u001b[0;36mplot\u001b[1;34m(data, kind, **kwargs)\u001b[0m\n\u001b[0;32m     59\u001b[0m             \u001b[0mkwargs\u001b[0m\u001b[1;33m[\u001b[0m\u001b[1;34m\"ax\"\u001b[0m\u001b[1;33m]\u001b[0m \u001b[1;33m=\u001b[0m \u001b[0mgetattr\u001b[0m\u001b[1;33m(\u001b[0m\u001b[0max\u001b[0m\u001b[1;33m,\u001b[0m \u001b[1;34m\"left_ax\"\u001b[0m\u001b[1;33m,\u001b[0m \u001b[0max\u001b[0m\u001b[1;33m)\u001b[0m\u001b[1;33m\u001b[0m\u001b[1;33m\u001b[0m\u001b[0m\n\u001b[0;32m     60\u001b[0m     \u001b[0mplot_obj\u001b[0m \u001b[1;33m=\u001b[0m \u001b[0mPLOT_CLASSES\u001b[0m\u001b[1;33m[\u001b[0m\u001b[0mkind\u001b[0m\u001b[1;33m]\u001b[0m\u001b[1;33m(\u001b[0m\u001b[0mdata\u001b[0m\u001b[1;33m,\u001b[0m \u001b[1;33m**\u001b[0m\u001b[0mkwargs\u001b[0m\u001b[1;33m)\u001b[0m\u001b[1;33m\u001b[0m\u001b[1;33m\u001b[0m\u001b[0m\n\u001b[1;32m---> 61\u001b[1;33m     \u001b[0mplot_obj\u001b[0m\u001b[1;33m.\u001b[0m\u001b[0mgenerate\u001b[0m\u001b[1;33m(\u001b[0m\u001b[1;33m)\u001b[0m\u001b[1;33m\u001b[0m\u001b[1;33m\u001b[0m\u001b[0m\n\u001b[0m\u001b[0;32m     62\u001b[0m     \u001b[0mplot_obj\u001b[0m\u001b[1;33m.\u001b[0m\u001b[0mdraw\u001b[0m\u001b[1;33m(\u001b[0m\u001b[1;33m)\u001b[0m\u001b[1;33m\u001b[0m\u001b[1;33m\u001b[0m\u001b[0m\n\u001b[0;32m     63\u001b[0m     \u001b[1;32mreturn\u001b[0m \u001b[0mplot_obj\u001b[0m\u001b[1;33m.\u001b[0m\u001b[0mresult\u001b[0m\u001b[1;33m\u001b[0m\u001b[1;33m\u001b[0m\u001b[0m\n",
      "\u001b[1;32mC:\\ProgramData\\Anaconda3\\lib\\site-packages\\pandas\\plotting\\_matplotlib\\core.py\u001b[0m in \u001b[0;36mgenerate\u001b[1;34m(self)\u001b[0m\n\u001b[0;32m    259\u001b[0m     \u001b[1;32mdef\u001b[0m \u001b[0mgenerate\u001b[0m\u001b[1;33m(\u001b[0m\u001b[0mself\u001b[0m\u001b[1;33m)\u001b[0m\u001b[1;33m:\u001b[0m\u001b[1;33m\u001b[0m\u001b[1;33m\u001b[0m\u001b[0m\n\u001b[0;32m    260\u001b[0m         \u001b[0mself\u001b[0m\u001b[1;33m.\u001b[0m\u001b[0m_args_adjust\u001b[0m\u001b[1;33m(\u001b[0m\u001b[1;33m)\u001b[0m\u001b[1;33m\u001b[0m\u001b[1;33m\u001b[0m\u001b[0m\n\u001b[1;32m--> 261\u001b[1;33m         \u001b[0mself\u001b[0m\u001b[1;33m.\u001b[0m\u001b[0m_compute_plot_data\u001b[0m\u001b[1;33m(\u001b[0m\u001b[1;33m)\u001b[0m\u001b[1;33m\u001b[0m\u001b[1;33m\u001b[0m\u001b[0m\n\u001b[0m\u001b[0;32m    262\u001b[0m         \u001b[0mself\u001b[0m\u001b[1;33m.\u001b[0m\u001b[0m_setup_subplots\u001b[0m\u001b[1;33m(\u001b[0m\u001b[1;33m)\u001b[0m\u001b[1;33m\u001b[0m\u001b[1;33m\u001b[0m\u001b[0m\n\u001b[0;32m    263\u001b[0m         \u001b[0mself\u001b[0m\u001b[1;33m.\u001b[0m\u001b[0m_make_plot\u001b[0m\u001b[1;33m(\u001b[0m\u001b[1;33m)\u001b[0m\u001b[1;33m\u001b[0m\u001b[1;33m\u001b[0m\u001b[0m\n",
      "\u001b[1;32mC:\\ProgramData\\Anaconda3\\lib\\site-packages\\pandas\\plotting\\_matplotlib\\core.py\u001b[0m in \u001b[0;36m_compute_plot_data\u001b[1;34m(self)\u001b[0m\n\u001b[0;32m    408\u001b[0m         \u001b[1;31m# no non-numeric frames or series allowed\u001b[0m\u001b[1;33m\u001b[0m\u001b[1;33m\u001b[0m\u001b[1;33m\u001b[0m\u001b[0m\n\u001b[0;32m    409\u001b[0m         \u001b[1;32mif\u001b[0m \u001b[0mis_empty\u001b[0m\u001b[1;33m:\u001b[0m\u001b[1;33m\u001b[0m\u001b[1;33m\u001b[0m\u001b[0m\n\u001b[1;32m--> 410\u001b[1;33m             \u001b[1;32mraise\u001b[0m \u001b[0mTypeError\u001b[0m\u001b[1;33m(\u001b[0m\u001b[1;34m\"no numeric data to plot\"\u001b[0m\u001b[1;33m)\u001b[0m\u001b[1;33m\u001b[0m\u001b[1;33m\u001b[0m\u001b[0m\n\u001b[0m\u001b[0;32m    411\u001b[0m \u001b[1;33m\u001b[0m\u001b[0m\n\u001b[0;32m    412\u001b[0m         \u001b[1;31m# GH25587: cast ExtensionArray of pandas (IntegerArray, etc.) to\u001b[0m\u001b[1;33m\u001b[0m\u001b[1;33m\u001b[0m\u001b[1;33m\u001b[0m\u001b[0m\n",
      "\u001b[1;31mTypeError\u001b[0m: no numeric data to plot"
     ]
    }
   ],
   "source": [
    "for x in data.columns:\n",
    "    if x[0] == 'c':\n",
    "        print(x)\n",
    "\n",
    "data.c22.plot.hist(bins=100, alpha=0.5)"
   ]
  },
  {
   "cell_type": "code",
   "execution_count": 90,
   "metadata": {},
   "outputs": [
    {
     "name": "stdout",
     "output_type": "stream",
     "text": [
      "Case_Number\n",
      "Other_Language\n",
      "Other_Disability_Discription\n",
      "Education_Area_of_Study\n",
      "Change_of_Circumstance_Reason\n",
      "BCeID_GUID\n",
      "Client_BCeID\n",
      "Unemployed___Other_Description\n",
      "Employed___Other_Description\n",
      "Employment_Situation_List\n",
      "Employment_Goal\n",
      "Wage_Per_Hour_Goal\n",
      "OES_Application_Num\n",
      "Office\n",
      "Explore_with_Client\n",
      "Case_Number                      object\n",
      "Region_Code                      object\n",
      "Catchment                        object\n",
      "Explaining_to_Others             object\n",
      "Getting_Along_with_Others        object\n",
      "                                  ...  \n",
      "Has_Transportation               object\n",
      "Catchment_Selected               object\n",
      "Service_Selected                 object\n",
      "Accepted_into_Case_Management    object\n",
      "c101                             object\n",
      "Length: 89, dtype: object\n",
      "Case_Number\n",
      "22629\n",
      "Region_Code\n",
      "7\n",
      "Catchment\n",
      "45\n",
      "Explaining_to_Others\n",
      "2\n",
      "Getting_Along_with_Others\n",
      "2\n",
      "New_Things\n",
      "2\n",
      "Organizing\n",
      "2\n",
      "Problem_Solving\n",
      "2\n",
      "Reading_and_Understanding\n",
      "2\n",
      "Using_Computers\n",
      "2\n",
      "Working_with_Documents\n",
      "2\n",
      "Working_with_Math\n",
      "2\n",
      "Writing\n",
      "2\n",
      "Francophone\n",
      "3\n",
      "Recent_Immigrant\n",
      "3\n",
      "Indigenous_Person\n",
      "3\n",
      "Person_with_a_Disability\n",
      "3\n",
      "Survivor_of_Violence_or_Abuse\n",
      "3\n",
      "Language19\n",
      "8\n",
      "c22\n",
      "55\n",
      "Education_Level\n",
      "11\n",
      "Currently_In_School\n",
      "2\n",
      "c25\n",
      "2\n",
      "Indigenous_Type\n",
      "3\n",
      "Status_Indian\n",
      "2\n",
      "DRENA_Required\n",
      "2\n",
      "c30\n",
      "3\n",
      "Change_of_Circumstance\n",
      "2\n",
      "Client_Consent\n",
      "2\n",
      "Program_Type\n",
      "1\n",
      "c37\n",
      "4\n",
      "c38\n",
      "3\n",
      "c39\n",
      "3\n",
      "c40\n",
      "4\n",
      "c41\n",
      "7\n",
      "c42\n",
      "3\n",
      "c43\n",
      "3\n",
      "c44\n",
      "3\n",
      "Age\n",
      "2\n",
      "Lack_Housing\n",
      "3\n",
      "Addiction\n",
      "3\n",
      "Visible_Minority\n",
      "3\n",
      "Child_at_Home\n",
      "3\n",
      "Single_Parent\n",
      "3\n",
      "Physical_Disability\n",
      "2\n",
      "Learning_Disablilit\n",
      "2\n",
      "Developmental_Disability\n",
      "2\n",
      "Visual_Disability\n",
      "2\n",
      "Hearing_Disability\n",
      "2\n",
      "Mental_Health_Condition\n",
      "2\n",
      "Chronic_Illness\n",
      "2\n",
      "Short_term_Illness\n",
      "2\n",
      "Other_Disability\n",
      "2\n",
      "Interview_In_Person\n",
      "2\n",
      "Client_Employed_Flag\n",
      "2\n",
      "c62\n",
      "2\n",
      "Unemployed___Keeping_Jobs\n",
      "2\n",
      "c64\n",
      "2\n",
      "c65\n",
      "2\n",
      "c66\n",
      "2\n",
      "Unemployed___Training_Needed\n",
      "2\n",
      "c68\n",
      "2\n",
      "Unemployed___Lack_Resources\n",
      "2\n",
      "c70\n",
      "2\n",
      "Unemployed___Other\n",
      "2\n",
      "Employed___Self_Employed\n",
      "2\n",
      "Employed___Losing_Job\n",
      "2\n",
      "Employed___Disability_Supports\n",
      "2\n",
      "Employed___Lack_Resources\n",
      "2\n",
      "Employed___Need_More_hours\n",
      "2\n",
      "Employed___Training\n",
      "2\n",
      "Employed___New_Line_of_Work\n",
      "2\n",
      "Employed___Dislike_Current\n",
      "2\n",
      "Employed___More_Challenge\n",
      "2\n",
      "Employed___Other\n",
      "2\n",
      "Interview_By_Telephone\n",
      "2\n",
      "Interview_By_Video_Call\n",
      "2\n",
      "Interview_With_Attendant\n",
      "2\n",
      "Interview_Other\n",
      "2\n",
      "Hours_per_Week_Goal\n",
      "36\n",
      "Wage_Per_Hour_Goal\n",
      "262\n",
      "Goal_is_Seasonal\n",
      "2\n",
      "Goal_is_Casual\n",
      "2\n",
      "Can_Relocate\n",
      "2\n",
      "Has_Transportation\n",
      "2\n",
      "Catchment_Selected\n",
      "45\n",
      "Service_Selected\n",
      "0\n",
      "Accepted_into_Case_Management\n",
      "1\n",
      "c101\n",
      "0\n"
     ]
    }
   ],
   "source": [
    "l = []\n",
    "for col in data.columns:\n",
    "    #print(\"--------COLUMN--------\")\n",
    "    if data[col].nunique() > 100:\n",
    "        print(col)\n",
    "        \n",
    "        if (col != 'Case_Number') & (col != 'Wage_Per_Hour_Goal'):\n",
    "            l.append(col)\n",
    "\n",
    "    #print(data[col].nunique())\n",
    "data = data.drop(l, axis = 1)\n",
    "print(data.dtypes)\n",
    "for x in data.columns:\n",
    "    print(x)\n",
    "    print(data[x].nunique())"
   ]
  },
  {
   "cell_type": "code",
   "execution_count": 102,
   "metadata": {},
   "outputs": [
    {
     "name": "stdout",
     "output_type": "stream",
     "text": [
      "object\n",
      "<bound method NDFrame.head of            Case_Number  c4\n",
      "0      1-421153-145231  42\n",
      "1      1-421153-333224  12\n",
      "2      1-421153-334446   4\n",
      "3      1-421153-383868  11\n",
      "4      1-421153-384913  11\n",
      "...                ...  ..\n",
      "23226    1-64324757911   3\n",
      "23227    1-64364496656   2\n",
      "23228    1-64709848423   1\n",
      "23229    1-64677850033   1\n",
      "23230    1-64586373569   1\n",
      "\n",
      "[23231 rows x 2 columns]>\n"
     ]
    },
    {
     "data": {
      "text/plain": [
       "<matplotlib.axes._subplots.AxesSubplot at 0x1eda7a98a08>"
      ]
     },
     "execution_count": 102,
     "metadata": {},
     "output_type": "execute_result"
    },
    {
     "data": {
      "image/png": "[encoded data removed]",
      "text/plain": [
       "<Figure size 432x288 with 1 Axes>"
      ]
     },
     "metadata": {
      "needs_background": "light"
     },
     "output_type": "display_data"
    }
   ],
   "source": [
    "print(data['Case_Number'].dtypes)\n",
    "pp = df[['Case_Number', 'c4']]\n",
    "print(pp.head)\n",
    "tt=data.merge(df[['Case_Number', 'c4']], on = 'Case_Number', how = 'left')\n",
    "tt.c4.plot.hist(bins=100, alpha=0.5)"
   ]
  },
  {
   "cell_type": "code",
   "execution_count": 103,
   "metadata": {},
   "outputs": [],
   "source": [
    "from sklearn import preprocessing\n",
    "tt=tt.drop('Case_Number', axis = 1)\n",
    "tt=tt.drop('Wage_Per_Hour_Goal', axis = 1)\n",
    "tst = tt\n",
    "#print(tst.dtypes)\n",
    "#le = preprocessing.LabelEncoder()\n",
    "le = preprocessing.OneHotEncoder()\n",
    "\n",
    "# for col in tst.columns:\n",
    "#     if col != 'c4':\n",
    "#         tst[col] = le.fit_transform(tst[col].astype(str))\n",
    "\n",
    "# print(tst.head)\n",
    "features = tst.drop('c4', axis = 1)\n",
    "label = tst['c4']\n",
    "for col in features.columns:\n",
    "    features[col]=features[col].astype(str)\n",
    "\n",
    "le.fit(features)\n",
    "features = pd.DataFrame(le.transform(features).toarray())"
   ]
  },
  {
   "cell_type": "code",
   "execution_count": 104,
   "metadata": {},
   "outputs": [
    {
     "data": {
      "text/plain": [
       "<matplotlib.axes._subplots.AxesSubplot at 0x1eda03efdc8>"
      ]
     },
     "execution_count": 104,
     "metadata": {},
     "output_type": "execute_result"
    },
    {
     "data": {
      "image/png": "[encoded data removed]",
      "text/plain": [
       "<Figure size 432x288 with 1 Axes>"
      ]
     },
     "metadata": {
      "needs_background": "light"
     },
     "output_type": "display_data"
    }
   ],
   "source": [
    "# features = tst.drop('c4', axis = 1)\n",
    "# label = tst['c4']\n",
    "#tst.c4.plot.hist(bins=100, alpha=0.5)\n",
    "\n",
    "from sklearn.neighbors import KNeighborsClassifier\n",
    "from sklearn.model_selection import train_test_split\n",
    "x_train, x_test, y_train, y_test = train_test_split(features, label)\n",
    "from sklearn.preprocessing import StandardScaler\n",
    "scaler = StandardScaler()\n",
    "scaler.fit(x_train)\n",
    "\n",
    "x_train = scaler.transform(x_train)\n",
    "x_test = scaler.transform(x_test)\n",
    "model = KNeighborsClassifier(n_neighbors=3)\n",
    "\n",
    "# Train the model using the training sets\n",
    "model.fit(x_train,y_train)\n",
    "y_test.plot.hist(bins=100, alpha=0.5)"
   ]
  },
  {
   "cell_type": "code",
   "execution_count": 105,
   "metadata": {},
   "outputs": [
    {
     "name": "stdout",
     "output_type": "stream",
     "text": [
      "[[170  56  29 ...   0   0   0]\n",
      " [ 54  46  36 ...   0   0   0]\n",
      " [ 42  28  28 ...   0   0   0]\n",
      " ...\n",
      " [  0   0   0 ...   0   0   0]\n",
      " [  0   1   0 ...   0   0   0]\n",
      " [  0   0   1 ...   0   0   0]]\n",
      "The mean squared error (MSE) on test set: 676.5771\n"
     ]
    }
   ],
   "source": [
    "y_pred = model.predict(x_test)\n",
    "from sklearn.metrics import classification_report, confusion_matrix, mean_squared_error\n",
    "print(confusion_matrix(y_test, y_pred))\n",
    "mse = mean_squared_error(y_test, y_pred)\n",
    "print(\"The mean squared error (MSE) on test set: {:.4f}\".format(mse))"
   ]
  },
  {
   "cell_type": "code",
   "execution_count": 106,
   "metadata": {},
   "outputs": [
    {
     "name": "stdout",
     "output_type": "stream",
     "text": [
      "The mean squared error (MSE) on test set: 405.5841\n",
      "The mean squared error (MSE) on test set: 20.1391\n"
     ]
    }
   ],
   "source": [
    "from sklearn import datasets, ensemble\n",
    "from sklearn.inspection import permutation_importance\n",
    "from sklearn.metrics import mean_squared_error\n",
    "from sklearn.model_selection import train_test_split\n",
    "import math\n",
    "params = {'n_estimators': 500,\n",
    "          'max_depth': 4,\n",
    "          'min_samples_split': 5,\n",
    "          'learning_rate': 0.01,\n",
    "          'loss': 'ls'}\n",
    "\n",
    "reg = ensemble.GradientBoostingRegressor(**params)\n",
    "reg.fit(x_train, y_train)\n",
    "\n",
    "mse = mean_squared_error(y_test, reg.predict(x_test))\n",
    "print(\"The mean squared error (MSE) on test set: {:.4f}\".format(mse))\n",
    "\n",
    "y_pred = reg.predict(x_test)\n",
    "\n",
    "mse = math.sqrt(mean_squared_error(y_test, y_pred))\n",
    "print(\"The mean squared error (MSE) on test set: {:.4f}\".format(mse))"
   ]
  },
  {
   "cell_type": "code",
   "execution_count": 107,
   "metadata": {},
   "outputs": [
    {
     "name": "stdout",
     "output_type": "stream",
     "text": [
      "              precision    recall  f1-score   support\n",
      "\n",
      "           1       0.18      0.62      0.27       451\n",
      "           2       0.06      0.13      0.08       289\n",
      "           3       0.06      0.09      0.07       255\n",
      "           4       0.05      0.18      0.08       264\n",
      "           5       0.05      0.18      0.07       245\n",
      "           6       0.08      0.02      0.03       223\n",
      "           7       0.04      0.01      0.02       188\n",
      "           8       0.03      0.07      0.05       194\n",
      "           9       0.06      0.06      0.06       170\n",
      "          10       0.04      0.03      0.03       154\n",
      "          11       0.12      0.02      0.04       147\n",
      "          12       0.04      0.01      0.01       156\n",
      "          13       0.06      0.04      0.05       141\n",
      "          14       0.04      0.01      0.01       128\n",
      "          15       0.04      0.01      0.01       140\n",
      "          16       0.00      0.00      0.00       119\n",
      "          17       0.00      0.00      0.00       126\n",
      "          18       0.00      0.00      0.00       110\n",
      "          19       0.00      0.00      0.00       110\n",
      "          20       0.00      0.00      0.00       103\n",
      "          21       0.00      0.00      0.00        71\n",
      "          22       0.00      0.00      0.00        77\n",
      "          23       0.00      0.00      0.00        60\n",
      "          24       0.00      0.00      0.00        76\n",
      "          25       0.00      0.00      0.00       101\n",
      "          26       0.00      0.00      0.00        85\n",
      "          27       0.00      0.00      0.00        65\n",
      "          28       0.00      0.00      0.00        73\n",
      "          29       0.00      0.00      0.00        62\n",
      "          30       0.00      0.00      0.00        58\n",
      "          31       0.00      0.00      0.00        52\n",
      "          32       0.00      0.00      0.00        61\n",
      "          33       0.00      0.00      0.00        49\n",
      "          34       0.00      0.00      0.00        47\n",
      "          35       0.00      0.00      0.00        41\n",
      "          36       0.00      0.00      0.00        43\n",
      "          37       0.00      0.00      0.00        38\n",
      "          38       0.00      0.00      0.00        40\n",
      "          39       0.00      0.00      0.00        44\n",
      "          40       0.00      0.00      0.00        34\n",
      "          41       0.00      0.00      0.00        29\n",
      "          42       0.00      0.00      0.00        38\n",
      "          43       0.00      0.00      0.00        43\n",
      "          44       0.00      0.00      0.00        42\n",
      "          45       0.00      0.00      0.00        26\n",
      "          46       0.00      0.00      0.00        31\n",
      "          47       0.00      0.00      0.00        20\n",
      "          48       0.00      0.00      0.00        33\n",
      "          49       0.00      0.00      0.00        28\n",
      "          50       0.00      0.00      0.00        30\n",
      "          51       0.00      0.00      0.00        17\n",
      "          52       0.00      0.00      0.00        22\n",
      "          53       0.00      0.00      0.00        28\n",
      "          54       0.00      0.00      0.00        22\n",
      "          55       0.00      0.00      0.00        25\n",
      "          56       0.00      0.00      0.00        14\n",
      "          57       0.00      0.00      0.00        37\n",
      "          58       0.00      0.00      0.00        17\n",
      "          59       0.00      0.00      0.00        17\n",
      "          60       0.00      0.00      0.00        14\n",
      "          61       0.00      0.00      0.00        26\n",
      "          62       0.00      0.00      0.00        14\n",
      "          63       0.00      0.00      0.00        20\n",
      "          64       0.00      0.00      0.00        24\n",
      "          65       0.00      0.00      0.00        19\n",
      "          66       0.00      0.00      0.00        18\n",
      "          67       0.00      0.00      0.00        14\n",
      "          68       0.01      0.09      0.01        11\n",
      "          69       0.00      0.00      0.00        10\n",
      "          70       0.00      0.00      0.00        18\n",
      "          71       0.00      0.00      0.00        14\n",
      "          72       0.00      0.00      0.00         7\n",
      "          73       0.00      0.00      0.00        11\n",
      "          74       0.00      0.00      0.00        15\n",
      "          75       0.00      0.00      0.00        12\n",
      "          76       0.00      0.00      0.00        12\n",
      "          77       0.00      0.00      0.00         8\n",
      "          78       0.00      0.00      0.00         9\n",
      "          79       0.00      0.00      0.00         5\n",
      "          80       0.00      0.00      0.00         9\n",
      "          81       0.00      0.00      0.00        16\n",
      "          82       0.00      0.00      0.00         8\n",
      "          83       0.00      0.00      0.00         5\n",
      "          84       0.00      0.00      0.00         7\n",
      "          85       0.00      0.00      0.00         4\n",
      "          86       0.00      0.00      0.00        11\n",
      "          87       0.00      0.00      0.00         5\n",
      "          88       0.00      0.00      0.00         2\n",
      "          89       0.00      0.00      0.00         7\n",
      "          90       0.00      0.00      0.00         9\n",
      "          91       0.00      0.00      0.00         6\n",
      "          92       0.00      0.00      0.00         8\n",
      "          93       0.00      0.00      0.00         7\n",
      "          94       0.00      0.00      0.00         4\n",
      "          95       0.00      0.00      0.00         3\n",
      "          96       0.00      0.00      0.00         5\n",
      "          97       0.00      0.00      0.00         6\n",
      "          98       0.00      0.00      0.00         1\n",
      "          99       0.00      0.00      0.00         4\n",
      "         101       0.00      0.00      0.00         5\n",
      "         102       0.00      0.00      0.00         3\n",
      "         103       0.00      0.00      0.00         2\n",
      "         104       0.00      0.00      0.00         3\n",
      "         105       0.00      0.00      0.00         4\n",
      "         106       0.00      0.00      0.00         2\n",
      "         107       0.00      0.00      0.00         2\n",
      "         108       0.00      0.00      0.00         1\n",
      "         109       0.00      0.00      0.00         1\n",
      "         110       0.00      0.00      0.00         1\n",
      "         112       0.00      0.00      0.00         1\n",
      "         113       0.00      0.00      0.00         1\n",
      "         115       0.00      0.00      0.00         1\n",
      "         116       0.00      0.00      0.00         1\n",
      "\n",
      "    accuracy                           0.08      5845\n",
      "   macro avg       0.01      0.01      0.01      5845\n",
      "weighted avg       0.04      0.08      0.04      5845\n",
      "\n",
      "[[278  43  12 ...   0   0   0]\n",
      " [110  38  18 ...   0   0   0]\n",
      " [ 69  43  22 ...   0   0   0]\n",
      " ...\n",
      " [  0   0   0 ...   0   0   0]\n",
      " [  0   0   0 ...   0   0   0]\n",
      " [  0   0   1 ...   0   0   0]]\n",
      "The mean squared error (MSE) on test set: 27.8518\n"
     ]
    },
    {
     "name": "stderr",
     "output_type": "stream",
     "text": [
      "C:\\ProgramData\\Anaconda3\\lib\\site-packages\\sklearn\\metrics\\_classification.py:1272: UndefinedMetricWarning: Precision and F-score are ill-defined and being set to 0.0 in labels with no predicted samples. Use `zero_division` parameter to control this behavior.\n",
      "  _warn_prf(average, modifier, msg_start, len(result))\n"
     ]
    }
   ],
   "source": [
    "from sklearn.neural_network import MLPClassifier\n",
    "clf = MLPClassifier(solver='adam', alpha=1e-4,hidden_layer_sizes=(10, 10), random_state=1, max_iter = 2000)\n",
    "clf.fit(x_train, y_train)\n",
    "y_pred = clf.predict(x_test)\n",
    "print(classification_report(y_test, y_pred.round()))\n",
    "print(confusion_matrix(y_test, y_pred.round()))\n",
    "mse = math.sqrt(mean_squared_error(y_test, y_pred))\n",
    "print(\"The mean squared error (MSE) on test set: {:.4f}\".format(mse))"
   ]
  },
  {
   "cell_type": "code",
   "execution_count": 108,
   "metadata": {},
   "outputs": [
    {
     "name": "stdout",
     "output_type": "stream",
     "text": [
      "192\n"
     ]
    }
   ],
   "source": [
    "from sklearn.decomposition import PCA\n",
    "# Make an instance of the Model\n",
    "pca = PCA(.90)\n",
    "pca.fit(x_train)\n",
    "print(pca.n_components_)\n",
    "x_train_pca = pca.transform(x_train)\n",
    "x_test_pca = pca.transform(x_test)"
   ]
  },
  {
   "cell_type": "code",
   "execution_count": 109,
   "metadata": {},
   "outputs": [
    {
     "name": "stdout",
     "output_type": "stream",
     "text": [
      "The mean squared error (MSE) on test set: 414.0211\n",
      "The mean squared error (MSE) on test set: 20.3475\n"
     ]
    }
   ],
   "source": [
    "reg = ensemble.GradientBoostingRegressor(**params)\n",
    "reg.fit(x_train_pca, y_train)\n",
    "\n",
    "mse = mean_squared_error(y_test, reg.predict(x_test_pca))\n",
    "print(\"The mean squared error (MSE) on test set: {:.4f}\".format(mse))\n",
    "\n",
    "y_pred = reg.predict(x_test_pca)\n",
    "\n",
    "mse = math.sqrt(mean_squared_error(y_test, y_pred))\n",
    "print(\"The mean squared error (MSE) on test set: {:.4f}\".format(mse))"
   ]
  },
  {
   "cell_type": "code",
   "execution_count": 110,
   "metadata": {},
   "outputs": [
    {
     "name": "stdout",
     "output_type": "stream",
     "text": [
      "The mean squared error (MSE) on test set: 26.9062\n"
     ]
    }
   ],
   "source": [
    "model = KNeighborsClassifier(n_neighbors=5)\n",
    "\n",
    "# Train the model using the training sets\n",
    "model.fit(x_train_pca,y_train)\n",
    "y_pred = model.predict(x_test_pca)\n",
    "mse = math.sqrt(mean_squared_error(y_test, y_pred))\n",
    "print(\"The mean squared error (MSE) on test set: {:.4f}\".format(mse))"
   ]
  },
  {
   "cell_type": "code",
   "execution_count": 1,
   "metadata": {},
   "outputs": [
    {
     "ename": "NameError",
     "evalue": "name 'y_train' is not defined",
     "output_type": "error",
     "traceback": [
      "\u001b[1;31m---------------------------------------------------------------------------\u001b[0m",
      "\u001b[1;31mNameError\u001b[0m                                 Traceback (most recent call last)",
      "\u001b[1;32m<ipython-input-1-3798f023ef55>\u001b[0m in \u001b[0;36m<module>\u001b[1;34m\u001b[0m\n\u001b[0;32m      1\u001b[0m \u001b[1;32mimport\u001b[0m \u001b[0mnumpy\u001b[0m \u001b[1;32mas\u001b[0m \u001b[0mnp\u001b[0m\u001b[1;33m\u001b[0m\u001b[1;33m\u001b[0m\u001b[0m\n\u001b[1;32m----> 2\u001b[1;33m \u001b[0my_train\u001b[0m\u001b[1;33m.\u001b[0m\u001b[0mmean\u001b[0m\u001b[1;33m(\u001b[0m\u001b[1;33m)\u001b[0m\u001b[1;33m\u001b[0m\u001b[1;33m\u001b[0m\u001b[0m\n\u001b[0m\u001b[0;32m      3\u001b[0m \u001b[0mbench\u001b[0m \u001b[1;33m=\u001b[0m \u001b[0mpd\u001b[0m\u001b[1;33m.\u001b[0m\u001b[0mSeries\u001b[0m\u001b[1;33m(\u001b[0m\u001b[0mnp\u001b[0m\u001b[1;33m.\u001b[0m\u001b[0mtile\u001b[0m\u001b[1;33m(\u001b[0m\u001b[0my_train\u001b[0m\u001b[1;33m.\u001b[0m\u001b[0mmean\u001b[0m\u001b[1;33m(\u001b[0m\u001b[1;33m)\u001b[0m\u001b[1;33m,\u001b[0m \u001b[0my_train\u001b[0m\u001b[1;33m.\u001b[0m\u001b[0msize\u001b[0m\u001b[1;33m)\u001b[0m\u001b[1;33m)\u001b[0m\u001b[1;33m\u001b[0m\u001b[1;33m\u001b[0m\u001b[0m\n\u001b[0;32m      4\u001b[0m \u001b[0mmse\u001b[0m \u001b[1;33m=\u001b[0m \u001b[0mmath\u001b[0m\u001b[1;33m.\u001b[0m\u001b[0msqrt\u001b[0m\u001b[1;33m(\u001b[0m\u001b[0mmean_squared_error\u001b[0m\u001b[1;33m(\u001b[0m\u001b[0my_train\u001b[0m\u001b[1;33m,\u001b[0m \u001b[0mbench\u001b[0m\u001b[1;33m)\u001b[0m\u001b[1;33m)\u001b[0m\u001b[1;33m\u001b[0m\u001b[1;33m\u001b[0m\u001b[0m\n\u001b[0;32m      5\u001b[0m \u001b[0mprint\u001b[0m\u001b[1;33m(\u001b[0m\u001b[1;34m\"The mean squared error (MSE) OF EVERYTHING IS: {:.4f}\"\u001b[0m\u001b[1;33m.\u001b[0m\u001b[0mformat\u001b[0m\u001b[1;33m(\u001b[0m\u001b[0mmse\u001b[0m\u001b[1;33m)\u001b[0m\u001b[1;33m)\u001b[0m\u001b[1;33m\u001b[0m\u001b[1;33m\u001b[0m\u001b[0m\n",
      "\u001b[1;31mNameError\u001b[0m: name 'y_train' is not defined"
     ]
    }
   ],
   "source": [
    "\n",
    "import numpy as np\n",
    "y_train.mean()\n",
    "bench = pd.Series(np.tile(y_train.mean(), y_train.size))\n",
    "mse = math.sqrt(mean_squared_error(y_train, bench))\n",
    "print(\"The mean squared error (MSE) OF EVERYTHING IS: {:.4f}\".format(mse))"
   ]
  },
  {
   "cell_type": "code",
   "execution_count": 113,
   "metadata": {},
   "outputs": [
    {
     "name": "stdout",
     "output_type": "stream",
     "text": [
      "              precision    recall  f1-score   support\n",
      "\n",
      "           1       0.18      0.62      0.27       451\n",
      "           2       0.06      0.13      0.08       289\n",
      "           3       0.06      0.09      0.07       255\n",
      "           4       0.05      0.18      0.08       264\n",
      "           5       0.05      0.18      0.07       245\n",
      "           6       0.08      0.02      0.03       223\n",
      "           7       0.04      0.01      0.02       188\n",
      "           8       0.03      0.07      0.05       194\n",
      "           9       0.06      0.06      0.06       170\n",
      "          10       0.04      0.03      0.03       154\n",
      "          11       0.12      0.02      0.04       147\n",
      "          12       0.04      0.01      0.01       156\n",
      "          13       0.06      0.04      0.05       141\n",
      "          14       0.04      0.01      0.01       128\n",
      "          15       0.04      0.01      0.01       140\n",
      "          16       0.00      0.00      0.00       119\n",
      "          17       0.00      0.00      0.00       126\n",
      "          18       0.00      0.00      0.00       110\n",
      "          19       0.00      0.00      0.00       110\n",
      "          20       0.00      0.00      0.00       103\n",
      "          21       0.00      0.00      0.00        71\n",
      "          22       0.00      0.00      0.00        77\n",
      "          23       0.00      0.00      0.00        60\n",
      "          24       0.00      0.00      0.00        76\n",
      "          25       0.00      0.00      0.00       101\n",
      "          26       0.00      0.00      0.00        85\n",
      "          27       0.00      0.00      0.00        65\n",
      "          28       0.00      0.00      0.00        73\n",
      "          29       0.00      0.00      0.00        62\n",
      "          30       0.00      0.00      0.00        58\n",
      "          31       0.00      0.00      0.00        52\n",
      "          32       0.00      0.00      0.00        61\n",
      "          33       0.00      0.00      0.00        49\n",
      "          34       0.00      0.00      0.00        47\n",
      "          35       0.00      0.00      0.00        41\n",
      "          36       0.00      0.00      0.00        43\n",
      "          37       0.00      0.00      0.00        38\n",
      "          38       0.00      0.00      0.00        40\n",
      "          39       0.00      0.00      0.00        44\n",
      "          40       0.00      0.00      0.00        34\n",
      "          41       0.00      0.00      0.00        29\n",
      "          42       0.00      0.00      0.00        38\n",
      "          43       0.00      0.00      0.00        43\n",
      "          44       0.00      0.00      0.00        42\n",
      "          45       0.00      0.00      0.00        26\n",
      "          46       0.00      0.00      0.00        31\n",
      "          47       0.00      0.00      0.00        20\n",
      "          48       0.00      0.00      0.00        33\n",
      "          49       0.00      0.00      0.00        28\n",
      "          50       0.00      0.00      0.00        30\n",
      "          51       0.00      0.00      0.00        17\n",
      "          52       0.00      0.00      0.00        22\n",
      "          53       0.00      0.00      0.00        28\n",
      "          54       0.00      0.00      0.00        22\n",
      "          55       0.00      0.00      0.00        25\n",
      "          56       0.00      0.00      0.00        14\n",
      "          57       0.00      0.00      0.00        37\n",
      "          58       0.00      0.00      0.00        17\n",
      "          59       0.00      0.00      0.00        17\n",
      "          60       0.00      0.00      0.00        14\n",
      "          61       0.00      0.00      0.00        26\n",
      "          62       0.00      0.00      0.00        14\n",
      "          63       0.00      0.00      0.00        20\n",
      "          64       0.00      0.00      0.00        24\n",
      "          65       0.00      0.00      0.00        19\n",
      "          66       0.00      0.00      0.00        18\n",
      "          67       0.00      0.00      0.00        14\n",
      "          68       0.01      0.09      0.01        11\n",
      "          69       0.00      0.00      0.00        10\n",
      "          70       0.00      0.00      0.00        18\n",
      "          71       0.00      0.00      0.00        14\n",
      "          72       0.00      0.00      0.00         7\n",
      "          73       0.00      0.00      0.00        11\n",
      "          74       0.00      0.00      0.00        15\n",
      "          75       0.00      0.00      0.00        12\n",
      "          76       0.00      0.00      0.00        12\n",
      "          77       0.00      0.00      0.00         8\n",
      "          78       0.00      0.00      0.00         9\n",
      "          79       0.00      0.00      0.00         5\n",
      "          80       0.00      0.00      0.00         9\n",
      "          81       0.00      0.00      0.00        16\n",
      "          82       0.00      0.00      0.00         8\n",
      "          83       0.00      0.00      0.00         5\n",
      "          84       0.00      0.00      0.00         7\n",
      "          85       0.00      0.00      0.00         4\n",
      "          86       0.00      0.00      0.00        11\n",
      "          87       0.00      0.00      0.00         5\n",
      "          88       0.00      0.00      0.00         2\n",
      "          89       0.00      0.00      0.00         7\n",
      "          90       0.00      0.00      0.00         9\n",
      "          91       0.00      0.00      0.00         6\n",
      "          92       0.00      0.00      0.00         8\n",
      "          93       0.00      0.00      0.00         7\n",
      "          94       0.00      0.00      0.00         4\n",
      "          95       0.00      0.00      0.00         3\n",
      "          96       0.00      0.00      0.00         5\n",
      "          97       0.00      0.00      0.00         6\n",
      "          98       0.00      0.00      0.00         1\n",
      "          99       0.00      0.00      0.00         4\n",
      "         101       0.00      0.00      0.00         5\n",
      "         102       0.00      0.00      0.00         3\n",
      "         103       0.00      0.00      0.00         2\n",
      "         104       0.00      0.00      0.00         3\n",
      "         105       0.00      0.00      0.00         4\n",
      "         106       0.00      0.00      0.00         2\n",
      "         107       0.00      0.00      0.00         2\n",
      "         108       0.00      0.00      0.00         1\n",
      "         109       0.00      0.00      0.00         1\n",
      "         110       0.00      0.00      0.00         1\n",
      "         112       0.00      0.00      0.00         1\n",
      "         113       0.00      0.00      0.00         1\n",
      "         115       0.00      0.00      0.00         1\n",
      "         116       0.00      0.00      0.00         1\n",
      "\n",
      "    accuracy                           0.08      5845\n",
      "   macro avg       0.01      0.01      0.01      5845\n",
      "weighted avg       0.04      0.08      0.04      5845\n",
      "\n",
      "[[278  43  12 ...   0   0   0]\n",
      " [110  38  18 ...   0   0   0]\n",
      " [ 69  43  22 ...   0   0   0]\n",
      " ...\n",
      " [  0   0   0 ...   0   0   0]\n",
      " [  0   0   0 ...   0   0   0]\n",
      " [  0   0   1 ...   0   0   0]]\n",
      "The mean squared error (MSE) on test set: 27.8518\n"
     ]
    },
    {
     "name": "stderr",
     "output_type": "stream",
     "text": [
      "C:\\ProgramData\\Anaconda3\\lib\\site-packages\\sklearn\\metrics\\_classification.py:1272: UndefinedMetricWarning: Precision and F-score are ill-defined and being set to 0.0 in labels with no predicted samples. Use `zero_division` parameter to control this behavior.\n",
      "  _warn_prf(average, modifier, msg_start, len(result))\n"
     ]
    }
   ],
   "source": [
    "from sklearn.neural_network import MLPClassifier\n",
    "clf = MLPClassifier(solver='adam', alpha=1e-4,hidden_layer_sizes=(10, 10), random_state=1, max_iter = 2000)\n",
    "clf.fit(x_train, y_train)\n",
    "y_pred = clf.predict(x_test)\n",
    "print(classification_report(y_test, y_pred.round()))\n",
    "print(confusion_matrix(y_test, y_pred.round()))\n",
    "mse = math.sqrt(mean_squared_error(y_test, y_pred))\n",
    "print(\"The mean squared error (MSE) on test set: {:.4f}\".format(mse))"
   ]
  },
  {
   "cell_type": "code",
   "execution_count": 112,
   "metadata": {},
   "outputs": [
    {
     "data": {
      "text/plain": [
       "<matplotlib.axes._subplots.AxesSubplot at 0x1edfa8a5848>"
      ]
     },
     "execution_count": 112,
     "metadata": {},
     "output_type": "execute_result"
    },
    {
     "data": {
      "image/png": "[encoded data removed]",
      "text/plain": [
       "<Figure size 432x288 with 1 Axes>"
      ]
     },
     "metadata": {
      "needs_background": "light"
     },
     "output_type": "display_data"
    }
   ],
   "source": [
    "y_train.plot.hist(bins=100, alpha=0.5)"
   ]
  },
  {
   "cell_type": "code",
   "execution_count": 26,
   "metadata": {},
   "outputs": [
    {
     "name": "stdout",
     "output_type": "stream",
     "text": [
      "<bound method NDFrame.head of            Case_Number    c2 Start_Day_Date    c4              Is_Active\n",
      "0      1-421153-102573   5.0     2018-06-01   5.0  Not Active In Program\n",
      "1      1-421153-102637   NaN     2019-03-14   NaN      Active In Program\n",
      "2      1-421153-102713   NaN     2019-03-04   NaN  Not Active In Program\n",
      "3      1-421153-103684   NaN     2018-04-23   NaN      Active In Program\n",
      "4      1-421153-103719  21.0     2019-01-17  21.0  Not Active In Program\n",
      "...                ...   ...            ...   ...                    ...\n",
      "93508    1-64732710780   NaN     2021-07-28   NaN      Active In Program\n",
      "93509    1-64733701827   NaN     2021-07-28   NaN      Active In Program\n",
      "93510    1-64734636923   NaN     2021-07-28   NaN      Active In Program\n",
      "93511    1-64735345090   NaN     2021-07-28   NaN      Active In Program\n",
      "93512    1-64737267417   NaN     2021-07-28   NaN      Active In Program\n",
      "\n",
      "[93513 rows x 5 columns]>\n",
      "Index(['Case_Number', 'c2', 'Start_Day_Date', 'c4', 'Is_Active'], dtype='object')\n"
     ]
    }
   ],
   "source": [
    "q = \"\"\"select \"WBC_CASE_D\".\"CASE_NUM\" \"Case_Number\", avg(\"coguda10\".\"WEEKS_TO_ACHV_SUST_EMP_ELAPSED\") \"c2\", \"WBC_DATE_D_Start\".\"DAY_DT\" \"Start_Day_Date\", avg(\"coguda10\".\"WEEKS_TO_ACHV_SUST_EMP_IN_PROG\") \"c4\", \"WBC_ES_STAGE_OF_SERVICE_D\".\"IS_ACTIVE_NAME\" \"Is_Active\"\n",
    " from \"CDW\".\"WBC_CASE_D\" \"WBC_CASE_D\", \"CDW\".\"WBC_CASE_F\" \"coguda10\", \"CDW\".\"WBC_OFFICE_D\" \"coguda11\", \"CDW\".\"WBC_ES_STAGE_OF_SERVICE_D\" \"WBC_ES_STAGE_OF_SERVICE_D\", \"CDW\".\"WBC_DATE_D\" \"WBC_DATE_D_Start\"\n",
    " where  \"coguda10\".\"OFFICE_ORG_WID\"=\"coguda11\".\"OFFICE_ORG_WID\" and \"WBC_DATE_D_Start\".\"FISCAL_YEAR\">=2019 and \"WBC_CASE_D\".\"CASE_TYPE_CD\" in ('Employment Services') and \"coguda10\".\"CASE_TYPE_WID\"=1 and \"coguda10\".\"SNAPSHOT_DT_WID\"=(\n",
    "select snapshot_dt_wid\n",
    " from cdw.wbc_run_ctl_d) and \"coguda10\".\"CASE_WID\"=\"WBC_CASE_D\".\"CASE_WID\" and \"coguda10\".\"ES_STAGE_OF_SERVICE_WID\"=\"WBC_ES_STAGE_OF_SERVICE_D\".\"ES_STAGE_OF_SERVICE_WID\" and \"WBC_DATE_D_Start\".\"DATE_WID\"=\"coguda10\".\"PLAN_START_DT_WID\"\n",
    " group by \"WBC_CASE_D\".\"CASE_NUM\", \"WBC_ES_STAGE_OF_SERVICE_D\".\"IS_ACTIVE_NAME\", \"WBC_DATE_D_Start\".\"DAY_DT\"\n",
    "\n",
    "\"\"\"\n",
    "link = pd.read_sql(q, con=conn)\n",
    "print(link.head)\n",
    "link2 = link[link['Case_Number'].isin(df['Case_Number'])]\n",
    "print(link2.columns)\n"
   ]
  },
  {
   "cell_type": "code",
   "execution_count": 76,
   "metadata": {},
   "outputs": [
    {
     "data": {
      "text/plain": [
       "<matplotlib.axes._subplots.AxesSubplot at 0x1edf47387c8>"
      ]
     },
     "execution_count": 76,
     "metadata": {},
     "output_type": "execute_result"
    },
    {
     "data": {
      "image/png": "[encoded data removed]",
      "text/plain": [
       "<Figure size 432x288 with 1 Axes>"
      ]
     },
     "metadata": {
      "needs_background": "light"
     },
     "output_type": "display_data"
    }
   ],
   "source": [
    "n = np.log(y_train)\n",
    "n.plot.hist(bins=10, alpha=0.5)\n"
   ]
  },
  {
   "cell_type": "code",
   "execution_count": 77,
   "metadata": {},
   "outputs": [
    {
     "name": "stdout",
     "output_type": "stream",
     "text": [
      "The mean squared error (MSE) on test set: 786.5802\n",
      "The mean squared error (MSE) on test set: 22.2657\n"
     ]
    }
   ],
   "source": [
    "reg = ensemble.GradientBoostingRegressor(**params)\n",
    "reg.fit(x_train_pca, n)\n",
    "\n",
    "mse = mean_squared_error(y_test, reg.predict(x_test_pca))\n",
    "print(\"The mean squared error (MSE) on test set: {:.4f}\".format(mse))\n",
    "\n",
    "y_pred = reg.predict(x_test_pca)\n",
    "\n",
    "mse = math.sqrt(mean_squared_error(y_test, np.exp(y_pred)))\n",
    "print(\"The mean squared error (MSE) on test set: {:.4f}\".format(mse))"
   ]
  },
  {
   "cell_type": "code",
   "execution_count": 80,
   "metadata": {},
   "outputs": [],
   "source": [
    "pd.DataFrame(x_train).to_csv('x_train_analysis.csv')"
   ]
  }
 ],
 "metadata": {
  "kernelspec": {
   "display_name": "Python 3 (ipykernel)",
   "language": "python",
   "name": "python3"
  },
  "language_info": {
   "codemirror_mode": {
    "name": "ipython",
    "version": 3
   },
   "file_extension": ".py",
   "mimetype": "text/x-python",
   "name": "python",
   "nbconvert_exporter": "python",
   "pygments_lexer": "ipython3",
   "version": "3.9.10"
  }
 },
 "nbformat": 4,
 "nbformat_minor": 4
}
