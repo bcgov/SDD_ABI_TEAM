{
 "cells": [
  {
   "cell_type": "code",
   "execution_count": 1,
   "id": "24cf8cc9-956b-4c62-ab7d-970ed8b91acd",
   "metadata": {
    "tags": []
   },
   "outputs": [],
   "source": [
    "def preprocess_cna_data_by_case_num(var1):\n",
    "    #This is the main preprocessing function for the ML alogrithm that predicts the number of\n",
    "    #weeks to sustainment. The only input it takes is a list of case numbers. It then \n",
    "    #preprocesses all the case numbers in the history of OES CNA's and returns them all\n",
    "    #EXCEPT the case numbers that are in the input. I.e. the output of this function is:\n",
    "    #all case numbers preprocessed - input(var1)\n",
    "    import pandas as pd\n",
    "    import cx_Oracle\n",
    "    import os\n",
    "    #this gets the credentials for the CDW from the environmental variables in \n",
    "    #OpenShift. Change these variables when we have access to prod CDW\n",
    "    port = os.environ['port']\n",
    "    pw = os.environ['password']\n",
    "    host = os.environ['host']\n",
    "    service = os.environ['service']\n",
    "    usr= os.environ['username']\n",
    "\n",
    "\n",
    "    #path to Oracle client. The oracle python library needs this to know\n",
    "    #where the intialisation files are\n",
    "    path = '/home/jovyan/instantclient_21_6'\n",
    "    \n",
    "\n",
    "    \n",
    "    #create a connection with the oracle client\n",
    "    try:\n",
    "        #intiialise the client\n",
    "        cx_Oracle.init_oracle_client(lib_dir= path)\n",
    "    except Exception as err:\n",
    "        print('client already initialised')\n",
    "    cx_Oracle.clientversion() \n",
    "    \n",
    "    #specify the path to the CDW\n",
    "    dsn_tns = cx_Oracle.makedsn(host, port, service_name=service)\n",
    "    \n",
    "    #make the connection with the client\n",
    "    conn = cx_Oracle.connect(user=usr, password=pw, dsn=dsn_tns)\n",
    "    \n",
    "    \n",
    "    c = conn.cursor()\n",
    "\n",
    "    #this query gets the first dump of data from the CDW    \n",
    "    query = \"\"\"\n",
    "\n",
    "    select \"WBC_SERVICES_SUPPORTS_PLAN_D\".\"CASE_NUM\" \"Case_Number\", \"WBC_SERVICES_SUPPORTS_PLAN_D\".\"SRV_PLAN_NUM\" \"Service_Plan_Number\", \"WBC_SERVICES_SUPPORTS_PLAN_D\".\"PLAN_NAME\" \"Plan_Name\", \"WBC_SERVICES_SUPPORTS_PLAN_D\".\"SRV_PLAN_STATUS_CD\" \"Plan_Status\", \"WBC_SERVICES_SUPPORTS_PLAN_D\".\"PLAN_START_DT\" \"Plan_Start_Date\", \"WBC_SERVICES_SUPPORTS_PLAN_D\".\"PLAN_CREATED_DT\" \"Plan_Created_Date\", \"WBC_SERVICES_SUPPORTS_PLAN_D\".\"PLAN_CLOSED_DT\" \"Plan_Closed_Date\", \"WBC_SERVICES_SUPPORTS_PLAN_D\".\"AGE_AT_PLAN_START\" \"Age_at_Plan_Start\", \"WBC_SERVICES_SUPPORTS_PLAN_D\".\"COUNTRY_OF_ORIGIN\" \"Country_of_Origin\", \"WBC_SERVICES_SUPPORTS_PLAN_D\".\"COC_REASON\" \"Change_of_Circumstance_Reason\", \"WBC_SERVICES_SUPPORTS_PLAN_D\".\"SD_CHANNEL_CD\" \"Service_Delivery_Channel\", TRUNC(cast(least(nvl(\"WBC_SERVICES_SUPPORTS_PLAN_D\".\"SUSTAINED_EMP_DT\", \"WBC_SERVICES_SUPPORTS_PLAN_D\".\"PLAN_CLOSED_DT\"), nvl(\"WBC_SERVICES_SUPPORTS_PLAN_D\".\"PLAN_CLOSED_DT\", \"WBC_SERVICES_SUPPORTS_PLAN_D\".\"SUSTAINED_EMP_DT\")) as TIMESTAMP(9))) \"In_Case_Management_End_Date\", \"WBC_SERVICES_SUPPORTS_PLAN_D\".\"SUSTAINED_EMP_DT\" \"c13\", case  when not \"WBC_SERVICES_SUPPORTS_PLAN_D\".\"SUSTAINED_EMP_DT\" is null then 'Y' else 'N' end  \"c14\", \"WBC_SERVICES_SUPPORTS_PLAN_D\".\"WEEKS_SUSTAINED\" \"c15\", \"WBC_SERVICES_SUPPORTS_PLAN_D\".\"ACTION_PLAN_FILE_DATE\" \"Action_Plan_File_Date\", sum(\"WBC_SERVICES_SUPPORTS_PLAN_D\".\"ACTION_PLAN_CNT\") \"Action_Plan_Count\", \"WBC_SERVICES_SUPPORTS_PLAN_D\".\"ACTV_IN_WBC_PROGRAM_FLG\" \"Active_In_WorkBC_Program\", \"WBC_SERVICES_SUPPORTS_PLAN_D\".\"CURRENT_SERVICE_ACTIVITY\" \"Current_Service_Activity\", \"WBC_SERVICES_SUPPORTS_PLAN_D\".\"CASE_MNGD_SERVICES_DELIVERED\" \"c20\", \"WBC_SERVICES_SUPPORTS_PLAN_D\".\"SELF_SERVE_SERVICES_DELIVERED\" \"c21\", \"WBC_SERVICES_SUPPORTS_PLAN_D\".\"A2T_CLIENT_FLG\" \"A2T_Applicant\", \"WBC_SERVICES_SUPPORTS_PLAN_D\".\"A2T_START_DT\" \"A2T_Approval_Date\", \"WBC_SERVICES_SUPPORTS_PLAN_D\".\"BCEA_REFERRAL_SR_NUM\" \"BCEA_Service_Request_Number\", \"WBC_SERVICES_SUPPORTS_PLAN_D\".\"WEOG_REFERRAL\" \"WEOG_Referral\"\n",
    "     from \"CDW\".\"WBC_SERVICES_SUPPORTS_PLAN_D\" \"WBC_SERVICES_SUPPORTS_PLAN_D\"\n",
    "     group by \"WBC_SERVICES_SUPPORTS_PLAN_D\".\"CASE_NUM\", \"WBC_SERVICES_SUPPORTS_PLAN_D\".\"SRV_PLAN_NUM\", \"WBC_SERVICES_SUPPORTS_PLAN_D\".\"PLAN_NAME\", \"WBC_SERVICES_SUPPORTS_PLAN_D\".\"SRV_PLAN_STATUS_CD\", \"WBC_SERVICES_SUPPORTS_PLAN_D\".\"PLAN_START_DT\", \"WBC_SERVICES_SUPPORTS_PLAN_D\".\"PLAN_CREATED_DT\", \"WBC_SERVICES_SUPPORTS_PLAN_D\".\"PLAN_CLOSED_DT\", \"WBC_SERVICES_SUPPORTS_PLAN_D\".\"AGE_AT_PLAN_START\", \"WBC_SERVICES_SUPPORTS_PLAN_D\".\"COUNTRY_OF_ORIGIN\", \"WBC_SERVICES_SUPPORTS_PLAN_D\".\"COC_REASON\", \"WBC_SERVICES_SUPPORTS_PLAN_D\".\"SD_CHANNEL_CD\", TRUNC(cast(least(nvl(\"WBC_SERVICES_SUPPORTS_PLAN_D\".\"SUSTAINED_EMP_DT\", \"WBC_SERVICES_SUPPORTS_PLAN_D\".\"PLAN_CLOSED_DT\"), nvl(\"WBC_SERVICES_SUPPORTS_PLAN_D\".\"PLAN_CLOSED_DT\", \"WBC_SERVICES_SUPPORTS_PLAN_D\".\"SUSTAINED_EMP_DT\")) as TIMESTAMP(9))), \"WBC_SERVICES_SUPPORTS_PLAN_D\".\"SUSTAINED_EMP_DT\", case  when not \"WBC_SERVICES_SUPPORTS_PLAN_D\".\"SUSTAINED_EMP_DT\" is null then 'Y' else 'N' end , \"WBC_SERVICES_SUPPORTS_PLAN_D\".\"WEEKS_SUSTAINED\", \"WBC_SERVICES_SUPPORTS_PLAN_D\".\"ACTION_PLAN_FILE_DATE\", \"WBC_SERVICES_SUPPORTS_PLAN_D\".\"ACTV_IN_WBC_PROGRAM_FLG\", \"WBC_SERVICES_SUPPORTS_PLAN_D\".\"CURRENT_SERVICE_ACTIVITY\", \"WBC_SERVICES_SUPPORTS_PLAN_D\".\"CASE_MNGD_SERVICES_DELIVERED\", \"WBC_SERVICES_SUPPORTS_PLAN_D\".\"SELF_SERVE_SERVICES_DELIVERED\", \"WBC_SERVICES_SUPPORTS_PLAN_D\".\"A2T_CLIENT_FLG\", \"WBC_SERVICES_SUPPORTS_PLAN_D\".\"A2T_START_DT\", \"WBC_SERVICES_SUPPORTS_PLAN_D\".\"BCEA_REFERRAL_SR_NUM\", \"WBC_SERVICES_SUPPORTS_PLAN_D\".\"WEOG_REFERRAL\"\n",
    "\n",
    "\n",
    "\n",
    "    \"\"\"\n",
    "    #this function is the one that actually makes the query and reads the data in as \n",
    "    #a pandas dataframe called df\n",
    "    df = pd.read_sql(query, con=conn)\n",
    "    \n",
    "    #print the dimensions of the dataframe to make sure data is coming back\n",
    "    print(df.shape)\n",
    "    \n",
    "    #this gets the latest CNA for each case number\n",
    "    df = df.loc[df.groupby(['Case_Number'], sort=False)['Plan_Start_Date'].idxmax()]\n",
    "    \n",
    "    #this gets the second dump of data\n",
    "    query = \"\"\"\n",
    "    select distinct \"WBC_CLIENT_D\".\"CONTACT_NUM\" \"Person_ID_ICM\", case  when \"WBC_CLIENT_D\".\"LAST_NAME\" is null  or \"WBC_CLIENT_D\".\"FST_NAME\" is null  then  null  else \"WBC_CLIENT_D\".\"LAST_NAME\" || ', ' || \"WBC_CLIENT_D\".\"FST_NAME\" end  \"Client_Name\", \"WBC_CLIENT_D\".\"FST_NAME\" \"Client_First_Name\", \"WBC_CLIENT_D\".\"LAST_NAME\" \"Client_Last_Name\", \"WBC_CLIENT_D\".\"MID_NAME\" \"Client_Middle_Name\", \"WBC_CLIENT_D\".\"SEX_MF_CODE\" \"Client_Gender\", case  when \"WBC_CLIENT_D\".\"SEX_MF_CODE\"='F' then 'Female' when \"WBC_CLIENT_D\".\"SEX_MF_CODE\"='M' then 'Male' when \"WBC_CLIENT_D\".\"SEX_MF_CODE\"='U' then 'Unknown' when \"WBC_CLIENT_D\".\"SEX_MF_CODE\"='~' then 'Undefined' else 'Not Set' end  \"Client_Gender_Name\", \"WBC_CLIENT_D\".\"X_SOC_SECURITY_NUM\" \"SIN\", \"WBC_CLIENT_D\".\"BIRTH_DT\" \"Client_Date_of_Birth\", \"WBC_CLIENT_D\".\"DECEASE_FLG\" \"Client_Deceased_Flag\", \"WBC_CLIENT_D\".\"HOME_PH_NUM\" \"Home_Phone_Number\", \"WBC_CLIENT_D\".\"MOBILE_NUM\" \"Cell_Phone_Number\", \"WBC_CLIENT_D\".\"EMAIL_ADDRESS\" \"Primary_Email_Address\", \"WBC_CLIENT_D\".\"X_MIS_INTEGRATION_ID\" \"Person_ID_MIS\", \"WBC_CLIENT_D\".\"CHILD_WITH_DISABILITY_FLG\" \"Child_with_a_Disibility_Flag\", \"WBC_CLIENT_D\".\"OPEN_BCEA_CASE_FLG\" \"Open_BCEA_Case_Flag\", \"WBC_CLIENT_D\".\"D_BCEA_CASE_NUM\" \"BCEA_Case_Number\", \"WBC_CLIENT_D\".\"LATEST_BCEA_CASE_OPEN_DT\" \"BCEA_Case_Open_Date\", \"WBC_CLIENT_D\".\"SPEI_ELIGIBILITY\" \"Current_SPEI_Eligibility\", \"WBC_CLIENT_D\".\"SPEI_STATUS\" \"SPEI_Status\", \"WBC_CASE_D\".\"CASE_TYPE_CD\" \"Case_Type\", \"WBC_CASE_D\".\"CASE_NUM\" \"Case_Number\", \"WBC_CASE_D\".\"CASE_OPEN_DT\" \"Case_Open_Date\", \"WBC_CASE_D\".\"CASE_CLOSED_DT\" \"Case_Closed_Date\", \"WBC_CASE_D\".\"STATUS_CD\" \"Case_Status\", \"WBC_CASE_D\".\"X_CREATED_BY\" \"Created_By\", \"WBC_CASE_D\".\"X_CREATED_BY_OFFICE\" \"Created_by_Office\", \"WBC_CASE_D\".\"CREATED_ON_DT\" \"Created_on_Date\", \"WBC_CASE_D\".\"X_CASELOAD\" \"Caseload\", \"WBC_CASE_D\".\"CLIENT_TRANSITION_STATUS\" \"Client_Transition_Status\", \"WBC_CASE_D\".\"X_CONT_TO_PAY\" \"Apprentice_Continue_to_Pay\", \"WBC_CASE_D\".\"X_CONT_TO_WORK\" \"Apprentice_Continue_to_Work\", \"WBC_CASE_D\".\"X_EMPLOY_SPONSR_CD\" \"c33\", \"WBC_CASE_D\".\"X_ITA_REG_NUM\" \"ITA_Registration__\", \"WBC_CASE_D\".\"X_LEGACY_FILE_NUM\" \"Legacy_File_Number\", \"WBC_CASE_D\".\"X_REOPEN_DT\" \"Case_Re_Open_Date\", \"WBC_CASE_D\".\"X_UPDATED_DT\" \"Duplicate_Case_Updated_Date\", \"WBC_CASE_D\".\"X_EI_PAY_END_DT\" \"EI_Payment_End_Date\", \"WBC_CASE_D\".\"X_EI_REACHBCK_DT\" \"EI_Reachback_Date\", \"WBC_CASE_D\".\"X_CM_ACCPT_DT\" \"CM_Acceptance_Date\", \"WBC_CASE_D\".\"X_EARLY_OPN_RSN_CD\" \"Immediate_Need_Flag\", \"WBC_CASE_D\".\"PREV_OFFICE_NAME\" \"Previous_Office_Name\", \"WBC_CASE_D\".\"PREV_OFFICE_END_DT\" \"Previous_Office_End_Date\", \"WBC_CASE_D\".\"X_RENEW_DT\" \"Renew_Date\", \"WBC_CASE_D\".\"X_RENEW_REASON\" \"Renew_Reason\"\n",
    "     from \"CDW\".\"WBC_CLIENT_D\" \"WBC_CLIENT_D\", \"CDW\".\"WBC_CASE_D\" \"WBC_CASE_D\", \"CDW\".\"WBC_CASE_F\" \"coguda20\", \"CDW\".\"WBC_OFFICE_D\" \"coguda21\"\n",
    "     where \"coguda20\".\"OFFICE_ORG_WID\"=\"coguda21\".\"OFFICE_ORG_WID\" and \"coguda20\".\"CONTACT_WID\"=\"WBC_CLIENT_D\".\"CONTACT_WID\" and \"coguda20\".\"CASE_WID\"=\"WBC_CASE_D\".\"CASE_WID\"\n",
    "\n",
    "    \"\"\"\n",
    "    \n",
    "    #data read in as pandas dataframe df2\n",
    "    df2 = pd.read_sql(query, con=conn)\n",
    "\n",
    "    #the two dataframes are inner joined to make a dataframe t\n",
    "    t = df.merge(df2, on = 'Case_Number', how = 'inner')\n",
    "\n",
    "    #next dump of data\n",
    "    q3 = \"\"\"\n",
    "\n",
    "    select \"WBC_CASE_D\".\"CASE_NUM\" \"Case_Number\", \"WBC_ES_STAGE_OF_SERVICE_D\".\"STAGE_OF_SERVICE_NAME\" \"Stage_of_Employment_Service\", \"WBC_ES_STAGE_OF_SERVICE_D\".\"IS_ACTIVE_NAME\" \"Is_Active\", count(distinct \"coguda20\".\"CONTACT_WID\") \"C___Clients\", \"WBC_DATE_D_PlanStart\".\"CALENDAR_DATE\" \"Start_Date\"\n",
    "     from \"CDW\".\"WBC_CASE_D\" \"WBC_CASE_D\", \"CDW\".\"WBC_ES_STAGE_OF_SERVICE_D\" \"WBC_ES_STAGE_OF_SERVICE_D\", \"CDW\".\"WBC_CASE_F\" \"coguda20\", \"CDW\".\"WBC_OFFICE_D\" \"coguda21\", \"CDW\".\"WBC_DATE_D\" \"WBC_DATE_D_PlanStart\"\n",
    "     where  \"coguda20\".\"OFFICE_ORG_WID\"=\"coguda21\".\"OFFICE_ORG_WID\" and \"coguda20\".\"CASE_TYPE_WID\"=1 and \"coguda20\".\"SNAPSHOT_DT_WID\"=(\n",
    "    select snapshot_dt_wid\n",
    "     from cdw.wbc_run_ctl_d) and \"coguda20\".\"CASE_WID\"=\"WBC_CASE_D\".\"CASE_WID\" and \"coguda20\".\"ES_STAGE_OF_SERVICE_WID\"=\"WBC_ES_STAGE_OF_SERVICE_D\".\"ES_STAGE_OF_SERVICE_WID\" and \"WBC_DATE_D_PlanStart\".\"DATE_WID\"=\"coguda20\".\"PLAN_START_DT_WID\"\n",
    "     group by \"WBC_DATE_D_PlanStart\".\"CALENDAR_DATE\", \"WBC_CASE_D\".\"CASE_NUM\", \"WBC_ES_STAGE_OF_SERVICE_D\".\"IS_ACTIVE_NAME\", \"WBC_ES_STAGE_OF_SERVICE_D\".\"STAGE_OF_SERVICE_NAME\"\n",
    "\n",
    "\n",
    "    \"\"\"\n",
    "    \n",
    "    #data is read in as pandas dataframe de\n",
    "    de = pd.read_sql(q3, con=conn)\n",
    "    \n",
    "    #clean up dataframe by dropping a column\n",
    "    d = de.drop(columns=['C___Clients'])\n",
    "\n",
    "    #initialise \n",
    "    sus = pd.DataFrame()\n",
    "    nosus = pd.DataFrame()\n",
    "\n",
    "    from datetime import datetime\n",
    "    from dateutil.relativedelta import relativedelta\n",
    "\n",
    "    #get date of a year ago \n",
    "    yr_ago = datetime.now() - relativedelta(years=1)\n",
    "    \n",
    "    bcn = d[(d.Start_Date < yr_ago) & (d.Stage_of_Employment_Service != 'Not Available')].Case_Number\n",
    "    \n",
    "    #recast case numbers as strings\n",
    "    t.Case_Number = t.Case_Number.astype('str')\n",
    "    d.Case_Number = d.Case_Number.astype('str')\n",
    "\n",
    "    #merge all data into 1 dataframe called zzt\n",
    "    zzt = pd.merge(d, t, on = 'Case_Number')\n",
    "    \n",
    "    #only keep those in employment services\n",
    "    zzt = zzt[(zzt.Plan_Name == 'Employment Services')]\n",
    "    \n",
    "    \n",
    "    dupe = zzt[zzt.Case_Number.duplicated()].Case_Number\n",
    "\n",
    "\n",
    "    yt = zzt[zzt['Case_Number'].isin(dupe)]\n",
    "    for col in zzt.columns:\n",
    "        if zzt[col].nunique() < 20 and zzt[col].nunique() > 1:\n",
    "            #print(col)\n",
    "            #print(zzt[col].value_counts())\n",
    "            continue\n",
    "    #drop duplicates from dataframe\n",
    "    zzt = zzt.drop_duplicates()\n",
    "    \n",
    "    #get clients who haven't acheived sustainable employment yet\n",
    "    tst = zzt[zzt.Stage_of_Employment_Service == 'Before Sustainable Employment Achieved']\n",
    "    \n",
    "    \n",
    "    yr_ago = datetime.now() - relativedelta(months=18)\n",
    "    \n",
    "    #if clients have been in the system over 18 months and still\n",
    "    #haven't achieved sustainment, mark them as not having acheived sustainment\n",
    "    not_in_sus = tst[tst.Start_Date < yr_ago].Case_Number\n",
    "    \n",
    "    #if client has been in workBC less than 18 months, don't classify them\n",
    "    #as either having got sustainment or not\n",
    "    drop_case_ns = tst[tst.Start_Date > yr_ago].Case_Number\n",
    "    \n",
    "    \n",
    "    az = zzt \n",
    "    \n",
    "    #classify not_in_sus appropriately in stage of employment services column\n",
    "    az.loc[az['Case_Number'].isin(not_in_sus), 'Stage_of_Employment_Service'] = 'More than 2 years since start'\n",
    "\n",
    "\n",
    "\n",
    "    o = az.Stage_of_Employment_Service.value_counts().rename_axis('unique_values').reset_index(name='counts')\n",
    "    \n",
    "    #classify output according to stage of employment services column\n",
    "    out_code = {\"Left Before Outcome\":'0', \"Left After Completing Sustainment\": '1', \"In Sustainment\":'1',\"Left Before Completing Sustainment\":'1', \"More than 2 years since start\":'0' }\n",
    "    o['out'] = o['unique_values'].map(out_code)\n",
    "\n",
    "    t_set = az.merge(o, left_on='Stage_of_Employment_Service', right_on='unique_values',\n",
    "              suffixes=('', '_right'), how = 'left')\n",
    "    \n",
    "    #if there are too many unique values in a column, drop them\n",
    "    #also drop columns with only 1 value\n",
    "    l = []\n",
    "    for col in t_set.columns:\n",
    "        if t_set[col].nunique() < 20 and t_set[col].nunique() > 1:\n",
    "\n",
    "            l.append(col)\n",
    "\n",
    "    p = []\n",
    "    for col in t.columns:\n",
    "        if t[col].nunique() < 20 and t[col].nunique() > 1:\n",
    "            #print(col)\n",
    "            #print(t[col].value_counts())\n",
    "            p.append(col)\n",
    "  \n",
    "    #get last dump of data\n",
    "    pp = \"\"\"\n",
    "\n",
    "    select \"WBC_CLIENT_AGE_D\".\"CLIENT_AGE_WID\" \"Client_Age\", \"WBC_CASE_D\".\"CASE_NUM\" \"Case_Number\", count(distinct \"coguda20\".\"CONTACT_WID\") \"C___Clients\", \"WBC_CLIENT_TYPE_D_Max_SOF\".\"MAX_SOF_RANKING\" \"Max_SOF_Ranking\", \"WBC_EMPLOY_MENT_AT_INTAKE_D\".\"EMPLOYMENT_AT_INTAKE_NAME\" \"Employment_Situation_at_Intake\", \"WBC_DISABILITY_D\".\"DISABILITY_NAME\" \"Disability_Confirmation\", \"WBC_CLIENT_TYPE_D\".\"CLIENT_SUB_CATEGORY_CD\" \"Client_Sub_Category_Code\", \"WBC_CLIENT_TYPE_D\".\"CLIENT_CATEGORY_CD\" \"Client_Category_Code\", \"WBC_CLIENT_INCLUSION_GROUP_D\".\"DISABILITY_FLG\" \"Disability_Client\", \"WBC_CLIENT_INCLUSION_GROUP_D\".\"FRANCOPHONE_FLG\" \"Francophone_Client\", \"WBC_CLIENT_INCLUSION_GROUP_D\".\"IMMIGRANT_FLG\" \"Immigrant_Client\", \"WBC_CLIENT_INCLUSION_GROUP_D\".\"INDIGENOUS_FLG\" \"Indigenous_Client\", \"WBC_CLIENT_INCLUSION_GROUP_D\".\"MULTI_BARRIERED_FLG\" \"Multi_Barriered_Client\", \"WBC_CLIENT_INCLUSION_GROUP_D\".\"SURVIVOR_FLG\" \"c14\", \"WBC_CLIENT_INCLUSION_GROUP_D\".\"YOUTH_FLG\" \"Youth_Client\", \"WBC_CLIENT_INCLUSION_GROUP_D\".\"YOUTH_AT_RISK_FLG\" \"Youth_at_Risk_Client\"\n",
    "     from \"CDW\".\"WBC_CLIENT_AGE_D\" \"WBC_CLIENT_AGE_D\", \"CDW\".\"WBC_CASE_D\" \"WBC_CASE_D\", \"CDW\".\"WBC_CASE_F\" \"coguda20\", \"CDW\".\"WBC_OFFICE_D\" \"coguda21\", \"CDW\".\"WBC_CLIENT_INCLUSION_GROUP_D\" \"WBC_CLIENT_INCLUSION_GROUP_D\", \"CDW\".\"WBC_CLIENT_TYPE_D\" \"WBC_CLIENT_TYPE_D\", \"CDW\".\"WBC_DISABILITY_D\" \"WBC_DISABILITY_D\", \"CDW\".\"WBC_EMPLOYMENT_AT_INTAKE_D\" \"WBC_EMPLOY_MENT_AT_INTAKE_D\", \"CDW\".\"WBC_CLIENT_TYPE_D\" \"WBC_CLIENT_TYPE_D_Max_SOF\", \"CDW\".\"WBC_SERVICES_SUPPORTS_PLAN_D\" \"WBC_SERVICES_SUPPORTS_PLAN_D\"\n",
    "     where  \"coguda20\".\"OFFICE_ORG_WID\"=\"coguda21\".\"OFFICE_ORG_WID\" and \"coguda20\".\"CASE_TYPE_WID\"=1 and \"coguda20\".\"SNAPSHOT_DT_WID\"=(\n",
    "    select snapshot_dt_wid\n",
    "     from cdw.wbc_run_ctl_d) and \"WBC_CLIENT_AGE_D\".\"CLIENT_AGE_WID\"=\"WBC_SERVICES_SUPPORTS_PLAN_D\".\"AGE_AT_PLAN_START\" and \"coguda20\".\"SRV_PLAN_WID\"=\"WBC_SERVICES_SUPPORTS_PLAN_D\".\"SRV_PLAN_WID\" and \"coguda20\".\"CASE_WID\"=\"WBC_CASE_D\".\"CASE_WID\" and \"coguda20\".\"INCLUSION_GROUP_WID\"=\"WBC_CLIENT_INCLUSION_GROUP_D\".\"INCLUSION_GROUP_WID\" and \"coguda20\".\"CLIENT_TYPE_WID\"=\"WBC_CLIENT_TYPE_D\".\"CLIENT_TYPE_WID\" and \"coguda20\".\"DISABILITY_WID\"=\"WBC_DISABILITY_D\".\"DISABILITY_WID\" and \"coguda20\".\"EMP_SITUATION_AT_INTAKE_WID\"=\"WBC_EMPLOY_MENT_AT_INTAKE_D\".\"EMPLOYMENT_AT_INTAKE_WID\" and \"WBC_CLIENT_TYPE_D_Max_SOF\".\"CLIENT_TYPE_WID\"=\"coguda20\".\"MAX_SOF_CLIENT_TYPE_WID\"\n",
    "     group by \"WBC_CLIENT_AGE_D\".\"CLIENT_AGE_WID\", \"WBC_CLIENT_INCLUSION_GROUP_D\".\"DISABILITY_FLG\", \"WBC_CLIENT_INCLUSION_GROUP_D\".\"FRANCOPHONE_FLG\", \"WBC_CLIENT_INCLUSION_GROUP_D\".\"IMMIGRANT_FLG\", \"WBC_CLIENT_INCLUSION_GROUP_D\".\"INDIGENOUS_FLG\", \"WBC_CLIENT_INCLUSION_GROUP_D\".\"MULTI_BARRIERED_FLG\", \"WBC_CLIENT_INCLUSION_GROUP_D\".\"SURVIVOR_FLG\", \"WBC_CLIENT_INCLUSION_GROUP_D\".\"YOUTH_FLG\", \"WBC_CLIENT_INCLUSION_GROUP_D\".\"YOUTH_AT_RISK_FLG\", \"WBC_CLIENT_TYPE_D\".\"CLIENT_CATEGORY_CD\", \"WBC_CLIENT_TYPE_D\".\"CLIENT_SUB_CATEGORY_CD\", \"WBC_DISABILITY_D\".\"DISABILITY_NAME\", \"WBC_EMPLOY_MENT_AT_INTAKE_D\".\"EMPLOYMENT_AT_INTAKE_NAME\", \"WBC_CLIENT_TYPE_D_Max_SOF\".\"MAX_SOF_RANKING\", \"WBC_CASE_D\".\"CASE_NUM\"\n",
    "\n",
    "\n",
    "    \"\"\"\n",
    "\n",
    "    more_data = pd.read_sql(pp, con=conn)\n",
    "    #merge data with existing data set\n",
    "    tt = t_set.merge(more_data, on = 'Case_Number', how = 'left')\n",
    "    \n",
    "    #call dataframe df\n",
    "    df = tt\n",
    "    keep = [ 'Case_Number','Start_Date', 'Age_at_Plan_Start', 'Service_Delivery_Channel',   'c21', 'A2T_Applicant',  'Client_Gender',  'Client_Deceased_Flag', 'Child_with_a_Disibility_Flag', 'Open_BCEA_Case_Flag', 'Current_SPEI_Eligibility', 'SPEI_Status', 'Client_Transition_Status', 'Immediate_Need_Flag',  'Max_SOF_Ranking', 'Employment_Situation_at_Intake', 'Disability_Confirmation', 'Client_Sub_Category_Code', 'Client_Category_Code', 'Disability_Client', 'Francophone_Client', 'Immigrant_Client', 'Indigenous_Client', 'Multi_Barriered_Client',  'Youth_Client', 'Youth_at_Risk_Client']\n",
    "    \n",
    "    inpt = df[keep]\n",
    "    out = df['out']\n",
    "\n",
    "    #make new column that imputes the season they started from the start date\n",
    "    inpt['sd'] = inpt.Start_Date.dt.month%12 // 3 + 1\n",
    "\n",
    "\n",
    "    #make sure number of unique values in columns is greater than 1, exclude a \n",
    "    #few variables so that normalisation will work properly (they're brought back \n",
    "    #in in a few lines)\n",
    "    c = []\n",
    "    for col in inpt.columns:\n",
    "        if inpt[col].nunique() > 1 and col not in  ['Age_at_Plan_Start', 'Case_Number', 'Start_Date']:\n",
    "            #print(col)\n",
    "            c.append(col)\n",
    "            \n",
    "    #make dummy variables in the dataframe\n",
    "    d = pd.get_dummies(inpt, columns=c)\n",
    "    \n",
    "\n",
    "    print(d)\n",
    "    #process age plan start\n",
    "    import pandas as pd\n",
    "    from sklearn import preprocessing\n",
    "    \n",
    "    #normalise client age properly\n",
    "    x = inpt.Age_at_Plan_Start.values.reshape(-1, 1) #returns a numpy array\n",
    "    min_max_scaler = preprocessing.MinMaxScaler()\n",
    "    x_scaled = min_max_scaler.fit_transform(x)\n",
    "    aps = pd.DataFrame(x_scaled)\n",
    "\n",
    "\n",
    "    #impute Y and N values as 0 or 1\n",
    "    for col in d:\n",
    "        #print(d[col].dtype)\n",
    "        if d[col].dtype == object:\n",
    "            d[col] = d[col].replace({'Y':'1', 'N':'0'})\n",
    "    #bring age back in\n",
    "    d.Age_at_Plan_Start = aps\n",
    "    d.Case_Num = inpt.Case_Number\n",
    "    print(d.shape)\n",
    "    #this is needed for dimension reduction to work properly\n",
    "    if 'Immediate_Need_Flag_PWD Status E' not in d.columns:\n",
    "        d['Immediate_Need_Flag_PWD Status E'] = 0\n",
    "        \n",
    "    #exclude all case numbers not in the input list of case numbers\n",
    "    d = d[~d.Case_Number.isin(var1)]\n",
    "    print(d.shape)\n",
    "    d = d.drop(columns = ['Start_Date'])\n",
    "    \n",
    "    #keep these variables\n",
    "    d = d[['Case_Number', 'Age_at_Plan_Start', 'Service_Delivery_Channel_In-Person',\n",
    "       'Service_Delivery_Channel_Outreach', 'Service_Delivery_Channel_Virtual',\n",
    "       'c21_Between Case Management Services',\n",
    "       'c21_No Self-Serve Services Provided', 'c21_Prior to Case Management',\n",
    "       'A2T_Applicant_N', 'A2T_Applicant_Y', 'Client_Gender_F',\n",
    "       'Client_Gender_M', 'Client_Gender_U', 'Client_Gender_X',\n",
    "       'Client_Deceased_Flag_N', 'Client_Deceased_Flag_Y',\n",
    "       'Child_with_a_Disibility_Flag_N', 'Child_with_a_Disibility_Flag_Y',\n",
    "       'Open_BCEA_Case_Flag_N', 'Open_BCEA_Case_Flag_Y',\n",
    "       'Current_SPEI_Eligibility_Eligible EO',\n",
    "       'Current_SPEI_Eligibility_Eligible NEO/PWD',\n",
    "       'Current_SPEI_Eligibility_Not Referable',\n",
    "       'SPEI_Status_Not Accepted into CM', 'SPEI_Status_Opted Out',\n",
    "       'SPEI_Status_Referred to EPBC', 'SPEI_Status_SPEI Client',\n",
    "       'SPEI_Status_n/a',\n",
    "       'Client_Transition_Status_Case Transitioned In Employment Services',\n",
    "       'Client_Transition_Status_Case Transitioned In Sustainment',\n",
    "       'Client_Transition_Status_Closed EPBC Case with Employment',\n",
    "       'Client_Transition_Status_Closed EPBC Case without Employment',\n",
    "       'Client_Transition_Status_New WorkBC Case',\n",
    "       'Immediate_Need_Flag_Age 65 Or Over',\n",
    "       'Immediate_Need_Flag_Closed In Error',\n",
    "       'Immediate_Need_Flag_Condition Precludes Employment',\n",
    "       'Immediate_Need_Flag_Immediate Need',\n",
    "       'Immediate_Need_Flag_Marital/Spousal Breakdown',\n",
    "       'Immediate_Need_Flag_Open For Reconsideration',\n",
    "       'Immediate_Need_Flag_PWD Status E', 'Max_SOF_Ranking_1',\n",
    "       'Max_SOF_Ranking_2', 'Max_SOF_Ranking_3', 'Max_SOF_Ranking_4',\n",
    "       'Max_SOF_Ranking_5', 'Max_SOF_Ranking_6', 'Max_SOF_Ranking_7',\n",
    "       'Max_SOF_Ranking_8', 'Max_SOF_Ranking_9', 'Max_SOF_Ranking_10',\n",
    "       'Max_SOF_Ranking_11', 'Max_SOF_Ranking_12', 'Max_SOF_Ranking_13',\n",
    "       'Max_SOF_Ranking_14', 'Max_SOF_Ranking_15', 'Max_SOF_Ranking_16',\n",
    "       'Employment_Situation_at_Intake_Employed',\n",
    "       'Employment_Situation_at_Intake_Not Available',\n",
    "       'Employment_Situation_at_Intake_Precariously Employed',\n",
    "       'Employment_Situation_at_Intake_Self-Employed',\n",
    "       'Employment_Situation_at_Intake_Unemployed',\n",
    "       'Disability_Confirmation_BCEA PWD Confirmed Disability',\n",
    "       'Disability_Confirmation_DRENA Confirmed Disability',\n",
    "       'Disability_Confirmation_Disability Confirmed and Supports Provided',\n",
    "       'Disability_Confirmation_No Disability Identified',\n",
    "       'Disability_Confirmation_Self-Identified Disability',\n",
    "       'Client_Sub_Category_Code_BCEA EO',\n",
    "       'Client_Sub_Category_Code_BCEA NEO OTHER',\n",
    "       'Client_Sub_Category_Code_BCEA NEO PPMB',\n",
    "       'Client_Sub_Category_Code_BCEA NEO PWD',\n",
    "       'Client_Sub_Category_Code_EI ACTIVE',\n",
    "       'Client_Sub_Category_Code_EI REACHBACK',\n",
    "       'Client_Sub_Category_Code_EO EI', 'Client_Sub_Category_Code_GENERAL',\n",
    "       'Client_Sub_Category_Code_GENERAL PWD',\n",
    "       'Client_Sub_Category_Code_NEO OTHER EI',\n",
    "       'Client_Sub_Category_Code_NEO PPMB EI',\n",
    "       'Client_Sub_Category_Code_NEO PWD EI', 'Client_Category_Code_BCEA',\n",
    "       'Client_Category_Code_EI', 'Client_Category_Code_GENERAL',\n",
    "       'Client_Category_Code_MUTUAL', 'Disability_Client_N',\n",
    "       'Disability_Client_Y', 'Francophone_Client_N', 'Francophone_Client_Y',\n",
    "       'Immigrant_Client_N', 'Immigrant_Client_Y', 'Indigenous_Client_N',\n",
    "       'Indigenous_Client_Y', 'Multi_Barriered_Client_N',\n",
    "       'Multi_Barriered_Client_Y', 'Youth_Client_N', 'Youth_Client_Y',\n",
    "       'Youth_at_Risk_Client_N', 'Youth_at_Risk_Client_Y', 'sd_1', 'sd_2',\n",
    "       'sd_3', 'sd_4']]\n",
    "    \n",
    "    #impute any missing age variables\n",
    "    d['Age_at_Plan_Start']=  d['Age_at_Plan_Start'].fillna(d['Age_at_Plan_Start'].mean())\n",
    "    return(d)\n",
    "\n",
    "\n",
    "\n"
   ]
  },
  {
   "cell_type": "code",
   "execution_count": null,
   "id": "cc445c01-27c8-447c-9580-0c90751faec7",
   "metadata": {},
   "outputs": [],
   "source": [
    "# def preprocess_cna_data_by_case_num_orig(var1):\n",
    "    \n",
    "#     import pandas as pd\n",
    "\n",
    "#     import cx_Oracle\n",
    "#     import os\n",
    "\n",
    "#     port = os.environ['port']\n",
    "#     pw = os.environ['password']\n",
    "#     host = os.environ['host']\n",
    "#     service = os.environ['service']\n",
    "#     usr= os.environ['username']\n",
    "\n",
    "#     # print(host)\n",
    "#     # print(service)\n",
    "#     path = '/home/jovyan/instantclient_21_5'\n",
    "\n",
    "\n",
    "#     #print(cx_Oracle.clientversion())  \n",
    "\n",
    "#     path = 'C:\\ORACLE\\instantclient_19_11'\n",
    "\n",
    "#     try:\n",
    "#         cx_Oracle.init_oracle_client(lib_dir= path)\n",
    "#     except Exception as err:\n",
    "#         print('client already initialised')\n",
    "#     cx_Oracle.clientversion()  \n",
    "#     dsn_tns = cx_Oracle.makedsn(host, port, service_name=service)\n",
    "\n",
    "#     conn = cx_Oracle.connect(user=usr, password=pw, dsn=dsn_tns)\n",
    "\n",
    "#     c = conn.cursor()\n",
    "\n",
    "#     query = \"\"\"\n",
    "\n",
    "#     select \"WBC_SERVICES_SUPPORTS_PLAN_D\".\"CASE_NUM\" \"Case_Number\", \"WBC_SERVICES_SUPPORTS_PLAN_D\".\"SRV_PLAN_NUM\" \"Service_Plan_Number\", \"WBC_SERVICES_SUPPORTS_PLAN_D\".\"PLAN_NAME\" \"Plan_Name\", \"WBC_SERVICES_SUPPORTS_PLAN_D\".\"SRV_PLAN_STATUS_CD\" \"Plan_Status\", \"WBC_SERVICES_SUPPORTS_PLAN_D\".\"PLAN_START_DT\" \"Plan_Start_Date\", \"WBC_SERVICES_SUPPORTS_PLAN_D\".\"PLAN_CREATED_DT\" \"Plan_Created_Date\", \"WBC_SERVICES_SUPPORTS_PLAN_D\".\"PLAN_CLOSED_DT\" \"Plan_Closed_Date\", \"WBC_SERVICES_SUPPORTS_PLAN_D\".\"AGE_AT_PLAN_START\" \"Age_at_Plan_Start\", \"WBC_SERVICES_SUPPORTS_PLAN_D\".\"COUNTRY_OF_ORIGIN\" \"Country_of_Origin\", \"WBC_SERVICES_SUPPORTS_PLAN_D\".\"COC_REASON\" \"Change_of_Circumstance_Reason\", \"WBC_SERVICES_SUPPORTS_PLAN_D\".\"SD_CHANNEL_CD\" \"Service_Delivery_Channel\", TRUNC(cast(least(nvl(\"WBC_SERVICES_SUPPORTS_PLAN_D\".\"SUSTAINED_EMP_DT\", \"WBC_SERVICES_SUPPORTS_PLAN_D\".\"PLAN_CLOSED_DT\"), nvl(\"WBC_SERVICES_SUPPORTS_PLAN_D\".\"PLAN_CLOSED_DT\", \"WBC_SERVICES_SUPPORTS_PLAN_D\".\"SUSTAINED_EMP_DT\")) as TIMESTAMP(9))) \"In_Case_Management_End_Date\", \"WBC_SERVICES_SUPPORTS_PLAN_D\".\"SUSTAINED_EMP_DT\" \"c13\", case  when not \"WBC_SERVICES_SUPPORTS_PLAN_D\".\"SUSTAINED_EMP_DT\" is null then 'Y' else 'N' end  \"c14\", \"WBC_SERVICES_SUPPORTS_PLAN_D\".\"WEEKS_SUSTAINED\" \"c15\", \"WBC_SERVICES_SUPPORTS_PLAN_D\".\"ACTION_PLAN_FILE_DATE\" \"Action_Plan_File_Date\", sum(\"WBC_SERVICES_SUPPORTS_PLAN_D\".\"ACTION_PLAN_CNT\") \"Action_Plan_Count\", \"WBC_SERVICES_SUPPORTS_PLAN_D\".\"ACTV_IN_WBC_PROGRAM_FLG\" \"Active_In_WorkBC_Program\", \"WBC_SERVICES_SUPPORTS_PLAN_D\".\"CURRENT_SERVICE_ACTIVITY\" \"Current_Service_Activity\", \"WBC_SERVICES_SUPPORTS_PLAN_D\".\"CASE_MNGD_SERVICES_DELIVERED\" \"c20\", \"WBC_SERVICES_SUPPORTS_PLAN_D\".\"SELF_SERVE_SERVICES_DELIVERED\" \"c21\", \"WBC_SERVICES_SUPPORTS_PLAN_D\".\"A2T_CLIENT_FLG\" \"A2T_Applicant\", \"WBC_SERVICES_SUPPORTS_PLAN_D\".\"A2T_START_DT\" \"A2T_Approval_Date\", \"WBC_SERVICES_SUPPORTS_PLAN_D\".\"BCEA_REFERRAL_SR_NUM\" \"BCEA_Service_Request_Number\", \"WBC_SERVICES_SUPPORTS_PLAN_D\".\"WEOG_REFERRAL\" \"WEOG_Referral\"\n",
    "#      from \"CDW\".\"WBC_SERVICES_SUPPORTS_PLAN_D\" \"WBC_SERVICES_SUPPORTS_PLAN_D\"\n",
    "#      group by \"WBC_SERVICES_SUPPORTS_PLAN_D\".\"CASE_NUM\", \"WBC_SERVICES_SUPPORTS_PLAN_D\".\"SRV_PLAN_NUM\", \"WBC_SERVICES_SUPPORTS_PLAN_D\".\"PLAN_NAME\", \"WBC_SERVICES_SUPPORTS_PLAN_D\".\"SRV_PLAN_STATUS_CD\", \"WBC_SERVICES_SUPPORTS_PLAN_D\".\"PLAN_START_DT\", \"WBC_SERVICES_SUPPORTS_PLAN_D\".\"PLAN_CREATED_DT\", \"WBC_SERVICES_SUPPORTS_PLAN_D\".\"PLAN_CLOSED_DT\", \"WBC_SERVICES_SUPPORTS_PLAN_D\".\"AGE_AT_PLAN_START\", \"WBC_SERVICES_SUPPORTS_PLAN_D\".\"COUNTRY_OF_ORIGIN\", \"WBC_SERVICES_SUPPORTS_PLAN_D\".\"COC_REASON\", \"WBC_SERVICES_SUPPORTS_PLAN_D\".\"SD_CHANNEL_CD\", TRUNC(cast(least(nvl(\"WBC_SERVICES_SUPPORTS_PLAN_D\".\"SUSTAINED_EMP_DT\", \"WBC_SERVICES_SUPPORTS_PLAN_D\".\"PLAN_CLOSED_DT\"), nvl(\"WBC_SERVICES_SUPPORTS_PLAN_D\".\"PLAN_CLOSED_DT\", \"WBC_SERVICES_SUPPORTS_PLAN_D\".\"SUSTAINED_EMP_DT\")) as TIMESTAMP(9))), \"WBC_SERVICES_SUPPORTS_PLAN_D\".\"SUSTAINED_EMP_DT\", case  when not \"WBC_SERVICES_SUPPORTS_PLAN_D\".\"SUSTAINED_EMP_DT\" is null then 'Y' else 'N' end , \"WBC_SERVICES_SUPPORTS_PLAN_D\".\"WEEKS_SUSTAINED\", \"WBC_SERVICES_SUPPORTS_PLAN_D\".\"ACTION_PLAN_FILE_DATE\", \"WBC_SERVICES_SUPPORTS_PLAN_D\".\"ACTV_IN_WBC_PROGRAM_FLG\", \"WBC_SERVICES_SUPPORTS_PLAN_D\".\"CURRENT_SERVICE_ACTIVITY\", \"WBC_SERVICES_SUPPORTS_PLAN_D\".\"CASE_MNGD_SERVICES_DELIVERED\", \"WBC_SERVICES_SUPPORTS_PLAN_D\".\"SELF_SERVE_SERVICES_DELIVERED\", \"WBC_SERVICES_SUPPORTS_PLAN_D\".\"A2T_CLIENT_FLG\", \"WBC_SERVICES_SUPPORTS_PLAN_D\".\"A2T_START_DT\", \"WBC_SERVICES_SUPPORTS_PLAN_D\".\"BCEA_REFERRAL_SR_NUM\", \"WBC_SERVICES_SUPPORTS_PLAN_D\".\"WEOG_REFERRAL\"\n",
    "\n",
    "\n",
    "\n",
    "#     \"\"\"\n",
    "\n",
    "#     df = pd.read_sql(query, con=conn)\n",
    "#     print(df.shape)\n",
    "#     #df = df.loc[df.groupby(['Case_Number'], sort=False)['Plan_Start_Date'].idxmax()]\n",
    "#     print(df.shape)\n",
    "#     #df  =df.sort_values(by = ['Plan_Start_Date'], ignore_index = True).drop_duplicates('Case_Number',keep='last') #DELETE THIS IS BEING DODGY\n",
    "#     query = \"\"\"\n",
    "#     select distinct \"WBC_CLIENT_D\".\"CONTACT_NUM\" \"Person_ID_ICM\", case  when \"WBC_CLIENT_D\".\"LAST_NAME\" is null  or \"WBC_CLIENT_D\".\"FST_NAME\" is null  then  null  else \"WBC_CLIENT_D\".\"LAST_NAME\" || ', ' || \"WBC_CLIENT_D\".\"FST_NAME\" end  \"Client_Name\", \"WBC_CLIENT_D\".\"FST_NAME\" \"Client_First_Name\", \"WBC_CLIENT_D\".\"LAST_NAME\" \"Client_Last_Name\", \"WBC_CLIENT_D\".\"MID_NAME\" \"Client_Middle_Name\", \"WBC_CLIENT_D\".\"SEX_MF_CODE\" \"Client_Gender\", case  when \"WBC_CLIENT_D\".\"SEX_MF_CODE\"='F' then 'Female' when \"WBC_CLIENT_D\".\"SEX_MF_CODE\"='M' then 'Male' when \"WBC_CLIENT_D\".\"SEX_MF_CODE\"='U' then 'Unknown' when \"WBC_CLIENT_D\".\"SEX_MF_CODE\"='~' then 'Undefined' else 'Not Set' end  \"Client_Gender_Name\", \"WBC_CLIENT_D\".\"X_SOC_SECURITY_NUM\" \"SIN\", \"WBC_CLIENT_D\".\"BIRTH_DT\" \"Client_Date_of_Birth\", \"WBC_CLIENT_D\".\"DECEASE_FLG\" \"Client_Deceased_Flag\", \"WBC_CLIENT_D\".\"HOME_PH_NUM\" \"Home_Phone_Number\", \"WBC_CLIENT_D\".\"MOBILE_NUM\" \"Cell_Phone_Number\", \"WBC_CLIENT_D\".\"EMAIL_ADDRESS\" \"Primary_Email_Address\", \"WBC_CLIENT_D\".\"X_MIS_INTEGRATION_ID\" \"Person_ID_MIS\", \"WBC_CLIENT_D\".\"CHILD_WITH_DISABILITY_FLG\" \"Child_with_a_Disibility_Flag\", \"WBC_CLIENT_D\".\"OPEN_BCEA_CASE_FLG\" \"Open_BCEA_Case_Flag\", \"WBC_CLIENT_D\".\"D_BCEA_CASE_NUM\" \"BCEA_Case_Number\", \"WBC_CLIENT_D\".\"LATEST_BCEA_CASE_OPEN_DT\" \"BCEA_Case_Open_Date\", \"WBC_CLIENT_D\".\"SPEI_ELIGIBILITY\" \"Current_SPEI_Eligibility\", \"WBC_CLIENT_D\".\"SPEI_STATUS\" \"SPEI_Status\", \"WBC_CASE_D\".\"CASE_TYPE_CD\" \"Case_Type\", \"WBC_CASE_D\".\"CASE_NUM\" \"Case_Number\", \"WBC_CASE_D\".\"CASE_OPEN_DT\" \"Case_Open_Date\", \"WBC_CASE_D\".\"CASE_CLOSED_DT\" \"Case_Closed_Date\", \"WBC_CASE_D\".\"STATUS_CD\" \"Case_Status\", \"WBC_CASE_D\".\"X_CREATED_BY\" \"Created_By\", \"WBC_CASE_D\".\"X_CREATED_BY_OFFICE\" \"Created_by_Office\", \"WBC_CASE_D\".\"CREATED_ON_DT\" \"Created_on_Date\", \"WBC_CASE_D\".\"X_CASELOAD\" \"Caseload\", \"WBC_CASE_D\".\"CLIENT_TRANSITION_STATUS\" \"Client_Transition_Status\", \"WBC_CASE_D\".\"X_CONT_TO_PAY\" \"Apprentice_Continue_to_Pay\", \"WBC_CASE_D\".\"X_CONT_TO_WORK\" \"Apprentice_Continue_to_Work\", \"WBC_CASE_D\".\"X_EMPLOY_SPONSR_CD\" \"c33\", \"WBC_CASE_D\".\"X_ITA_REG_NUM\" \"ITA_Registration__\", \"WBC_CASE_D\".\"X_LEGACY_FILE_NUM\" \"Legacy_File_Number\", \"WBC_CASE_D\".\"X_REOPEN_DT\" \"Case_Re_Open_Date\", \"WBC_CASE_D\".\"X_UPDATED_DT\" \"Duplicate_Case_Updated_Date\", \"WBC_CASE_D\".\"X_EI_PAY_END_DT\" \"EI_Payment_End_Date\", \"WBC_CASE_D\".\"X_EI_REACHBCK_DT\" \"EI_Reachback_Date\", \"WBC_CASE_D\".\"X_CM_ACCPT_DT\" \"CM_Acceptance_Date\", \"WBC_CASE_D\".\"X_EARLY_OPN_RSN_CD\" \"Immediate_Need_Flag\", \"WBC_CASE_D\".\"PREV_OFFICE_NAME\" \"Previous_Office_Name\", \"WBC_CASE_D\".\"PREV_OFFICE_END_DT\" \"Previous_Office_End_Date\", \"WBC_CASE_D\".\"X_RENEW_DT\" \"Renew_Date\", \"WBC_CASE_D\".\"X_RENEW_REASON\" \"Renew_Reason\"\n",
    "#      from \"CDW\".\"WBC_CLIENT_D\" \"WBC_CLIENT_D\", \"CDW\".\"WBC_CASE_D\" \"WBC_CASE_D\", \"CDW\".\"WBC_CASE_F\" \"coguda20\", \"CDW\".\"WBC_OFFICE_D\" \"coguda21\"\n",
    "#      where \"coguda20\".\"OFFICE_ORG_WID\"=\"coguda21\".\"OFFICE_ORG_WID\" and \"coguda20\".\"CONTACT_WID\"=\"WBC_CLIENT_D\".\"CONTACT_WID\" and \"coguda20\".\"CASE_WID\"=\"WBC_CASE_D\".\"CASE_WID\"\n",
    "\n",
    "#     \"\"\"\n",
    "\n",
    "#     df2 = pd.read_sql(query, con=conn)\n",
    "\n",
    "#     t = df.merge(df2, on = 'Case_Number', how = 'inner')\n",
    "\n",
    "#     q3 = \"\"\"\n",
    "\n",
    "#     select \"WBC_CASE_D\".\"CASE_NUM\" \"Case_Number\", \"WBC_ES_STAGE_OF_SERVICE_D\".\"STAGE_OF_SERVICE_NAME\" \"Stage_of_Employment_Service\", \"WBC_ES_STAGE_OF_SERVICE_D\".\"IS_ACTIVE_NAME\" \"Is_Active\", count(distinct \"coguda20\".\"CONTACT_WID\") \"C___Clients\", \"WBC_DATE_D_PlanStart\".\"CALENDAR_DATE\" \"Start_Date\"\n",
    "#      from \"CDW\".\"WBC_CASE_D\" \"WBC_CASE_D\", \"CDW\".\"WBC_ES_STAGE_OF_SERVICE_D\" \"WBC_ES_STAGE_OF_SERVICE_D\", \"CDW\".\"WBC_CASE_F\" \"coguda20\", \"CDW\".\"WBC_OFFICE_D\" \"coguda21\", \"CDW\".\"WBC_DATE_D\" \"WBC_DATE_D_PlanStart\"\n",
    "#      where  \"coguda20\".\"OFFICE_ORG_WID\"=\"coguda21\".\"OFFICE_ORG_WID\" and \"coguda20\".\"CASE_TYPE_WID\"=1 and \"coguda20\".\"SNAPSHOT_DT_WID\"=(\n",
    "#     select snapshot_dt_wid\n",
    "#      from cdw.wbc_run_ctl_d) and \"coguda20\".\"CASE_WID\"=\"WBC_CASE_D\".\"CASE_WID\" and \"coguda20\".\"ES_STAGE_OF_SERVICE_WID\"=\"WBC_ES_STAGE_OF_SERVICE_D\".\"ES_STAGE_OF_SERVICE_WID\" and \"WBC_DATE_D_PlanStart\".\"DATE_WID\"=\"coguda20\".\"PLAN_START_DT_WID\"\n",
    "#      group by \"WBC_DATE_D_PlanStart\".\"CALENDAR_DATE\", \"WBC_CASE_D\".\"CASE_NUM\", \"WBC_ES_STAGE_OF_SERVICE_D\".\"IS_ACTIVE_NAME\", \"WBC_ES_STAGE_OF_SERVICE_D\".\"STAGE_OF_SERVICE_NAME\"\n",
    "\n",
    "\n",
    "#     \"\"\"\n",
    "#     de = pd.read_sql(q3, con=conn)\n",
    "\n",
    "#     d = de.drop(columns=['C___Clients'])\n",
    "\n",
    "\n",
    "#     sus = pd.DataFrame()\n",
    "#     nosus = pd.DataFrame()\n",
    "\n",
    "#     from datetime import datetime\n",
    "#     from dateutil.relativedelta import relativedelta\n",
    "\n",
    "#     yr_ago = datetime.now() - relativedelta(years=1)\n",
    "#     bcn = d[(d.Start_Date < yr_ago) & (d.Stage_of_Employment_Service != 'Not Available')].Case_Number\n",
    "#     t.Case_Number = t.Case_Number.astype('str')\n",
    "#     d.Case_Number = d.Case_Number.astype('str')\n",
    "\n",
    "#     #zt = t[(t['Case_Number'].isin(bcn)) & (t.Plan_Name == 'Employment Services')]\n",
    "\n",
    "#     zzt = pd.merge(d, t, on = 'Case_Number')\n",
    "#     zzt = zzt[(zzt.Plan_Name == 'Employment Services')]\n",
    "\n",
    "#     dupe = zzt[zzt.Case_Number.duplicated()].Case_Number\n",
    "\n",
    "\n",
    "#     yt = zzt[zzt['Case_Number'].isin(dupe)]\n",
    "#     for col in zzt.columns:\n",
    "#         if zzt[col].nunique() < 20 and zzt[col].nunique() > 1:\n",
    "#             #print(col)\n",
    "#             #print(zzt[col].value_counts())\n",
    "#             continue\n",
    "\n",
    "#     zzt = zzt.drop_duplicates()\n",
    "#     tst = zzt[zzt.Stage_of_Employment_Service == 'Before Sustainable Employment Achieved']\n",
    "#     yr_ago = datetime.now() - relativedelta(months=18)\n",
    "\n",
    "#     not_in_sus = tst[tst.Start_Date < yr_ago].Case_Number\n",
    "#     #not_in_sus = not_in_sus.reset_index(inplace=True)\n",
    "#     drop_case_ns = tst[tst.Start_Date > yr_ago].Case_Number\n",
    "#     az = zzt[~zzt['Case_Number'].isin(drop_case_ns)] #THIS IS DELETED, ADD BACK IF IT BREAKS\n",
    "#     #az = zzt\n",
    "#     az.loc[az['Case_Number'].isin(not_in_sus), 'Stage_of_Employment_Service'] = 'More than 2 years since start'\n",
    "\n",
    "#     #az.loc[az.Case_Number==, 'Stage_of_Employment_Service'] = 'More than 2 years since start'\n",
    "\n",
    "\n",
    "#     o = az.Stage_of_Employment_Service.value_counts().rename_axis('unique_values').reset_index(name='counts')\n",
    "#     out_code = {\"Left Before Outcome\":'0', \"Left After Completing Sustainment\": '1', \"In Sustainment\":'1',\"Left Before Completing Sustainment\":'1', \"More than 2 years since start\":'0' }\n",
    "#     o['out'] = o['unique_values'].map(out_code)\n",
    "\n",
    "#     t_set = az.merge(o, left_on='Stage_of_Employment_Service', right_on='unique_values',\n",
    "#               suffixes=('', '_right'), how = 'left')\n",
    "\n",
    "#     l = []\n",
    "#     for col in t_set.columns:\n",
    "#         if t_set[col].nunique() < 20 and t_set[col].nunique() > 1:\n",
    "\n",
    "#             l.append(col)\n",
    "\n",
    "#     p = []\n",
    "#     for col in t.columns:\n",
    "#         if t[col].nunique() < 20 and t[col].nunique() > 1:\n",
    "#             #print(col)\n",
    "#             #print(t[col].value_counts())\n",
    "#             p.append(col)\n",
    "  \n",
    "\n",
    "#     pp = \"\"\"\n",
    "\n",
    "#     select \"WBC_CLIENT_AGE_D\".\"CLIENT_AGE_WID\" \"Client_Age\", \"WBC_CASE_D\".\"CASE_NUM\" \"Case_Number\", count(distinct \"coguda20\".\"CONTACT_WID\") \"C___Clients\", \"WBC_CLIENT_TYPE_D_Max_SOF\".\"MAX_SOF_RANKING\" \"Max_SOF_Ranking\", \"WBC_EMPLOY_MENT_AT_INTAKE_D\".\"EMPLOYMENT_AT_INTAKE_NAME\" \"Employment_Situation_at_Intake\", \"WBC_DISABILITY_D\".\"DISABILITY_NAME\" \"Disability_Confirmation\", \"WBC_CLIENT_TYPE_D\".\"CLIENT_SUB_CATEGORY_CD\" \"Client_Sub_Category_Code\", \"WBC_CLIENT_TYPE_D\".\"CLIENT_CATEGORY_CD\" \"Client_Category_Code\", \"WBC_CLIENT_INCLUSION_GROUP_D\".\"DISABILITY_FLG\" \"Disability_Client\", \"WBC_CLIENT_INCLUSION_GROUP_D\".\"FRANCOPHONE_FLG\" \"Francophone_Client\", \"WBC_CLIENT_INCLUSION_GROUP_D\".\"IMMIGRANT_FLG\" \"Immigrant_Client\", \"WBC_CLIENT_INCLUSION_GROUP_D\".\"INDIGENOUS_FLG\" \"Indigenous_Client\", \"WBC_CLIENT_INCLUSION_GROUP_D\".\"MULTI_BARRIERED_FLG\" \"Multi_Barriered_Client\", \"WBC_CLIENT_INCLUSION_GROUP_D\".\"SURVIVOR_FLG\" \"c14\", \"WBC_CLIENT_INCLUSION_GROUP_D\".\"YOUTH_FLG\" \"Youth_Client\", \"WBC_CLIENT_INCLUSION_GROUP_D\".\"YOUTH_AT_RISK_FLG\" \"Youth_at_Risk_Client\"\n",
    "#      from \"CDW\".\"WBC_CLIENT_AGE_D\" \"WBC_CLIENT_AGE_D\", \"CDW\".\"WBC_CASE_D\" \"WBC_CASE_D\", \"CDW\".\"WBC_CASE_F\" \"coguda20\", \"CDW\".\"WBC_OFFICE_D\" \"coguda21\", \"CDW\".\"WBC_CLIENT_INCLUSION_GROUP_D\" \"WBC_CLIENT_INCLUSION_GROUP_D\", \"CDW\".\"WBC_CLIENT_TYPE_D\" \"WBC_CLIENT_TYPE_D\", \"CDW\".\"WBC_DISABILITY_D\" \"WBC_DISABILITY_D\", \"CDW\".\"WBC_EMPLOYMENT_AT_INTAKE_D\" \"WBC_EMPLOY_MENT_AT_INTAKE_D\", \"CDW\".\"WBC_CLIENT_TYPE_D\" \"WBC_CLIENT_TYPE_D_Max_SOF\", \"CDW\".\"WBC_SERVICES_SUPPORTS_PLAN_D\" \"WBC_SERVICES_SUPPORTS_PLAN_D\"\n",
    "#      where  \"coguda20\".\"OFFICE_ORG_WID\"=\"coguda21\".\"OFFICE_ORG_WID\" and \"coguda20\".\"CASE_TYPE_WID\"=1 and \"coguda20\".\"SNAPSHOT_DT_WID\"=(\n",
    "#     select snapshot_dt_wid\n",
    "#      from cdw.wbc_run_ctl_d) and \"WBC_CLIENT_AGE_D\".\"CLIENT_AGE_WID\"=\"WBC_SERVICES_SUPPORTS_PLAN_D\".\"AGE_AT_PLAN_START\" and \"coguda20\".\"SRV_PLAN_WID\"=\"WBC_SERVICES_SUPPORTS_PLAN_D\".\"SRV_PLAN_WID\" and \"coguda20\".\"CASE_WID\"=\"WBC_CASE_D\".\"CASE_WID\" and \"coguda20\".\"INCLUSION_GROUP_WID\"=\"WBC_CLIENT_INCLUSION_GROUP_D\".\"INCLUSION_GROUP_WID\" and \"coguda20\".\"CLIENT_TYPE_WID\"=\"WBC_CLIENT_TYPE_D\".\"CLIENT_TYPE_WID\" and \"coguda20\".\"DISABILITY_WID\"=\"WBC_DISABILITY_D\".\"DISABILITY_WID\" and \"coguda20\".\"EMP_SITUATION_AT_INTAKE_WID\"=\"WBC_EMPLOY_MENT_AT_INTAKE_D\".\"EMPLOYMENT_AT_INTAKE_WID\" and \"WBC_CLIENT_TYPE_D_Max_SOF\".\"CLIENT_TYPE_WID\"=\"coguda20\".\"MAX_SOF_CLIENT_TYPE_WID\"\n",
    "#      group by \"WBC_CLIENT_AGE_D\".\"CLIENT_AGE_WID\", \"WBC_CLIENT_INCLUSION_GROUP_D\".\"DISABILITY_FLG\", \"WBC_CLIENT_INCLUSION_GROUP_D\".\"FRANCOPHONE_FLG\", \"WBC_CLIENT_INCLUSION_GROUP_D\".\"IMMIGRANT_FLG\", \"WBC_CLIENT_INCLUSION_GROUP_D\".\"INDIGENOUS_FLG\", \"WBC_CLIENT_INCLUSION_GROUP_D\".\"MULTI_BARRIERED_FLG\", \"WBC_CLIENT_INCLUSION_GROUP_D\".\"SURVIVOR_FLG\", \"WBC_CLIENT_INCLUSION_GROUP_D\".\"YOUTH_FLG\", \"WBC_CLIENT_INCLUSION_GROUP_D\".\"YOUTH_AT_RISK_FLG\", \"WBC_CLIENT_TYPE_D\".\"CLIENT_CATEGORY_CD\", \"WBC_CLIENT_TYPE_D\".\"CLIENT_SUB_CATEGORY_CD\", \"WBC_DISABILITY_D\".\"DISABILITY_NAME\", \"WBC_EMPLOY_MENT_AT_INTAKE_D\".\"EMPLOYMENT_AT_INTAKE_NAME\", \"WBC_CLIENT_TYPE_D_Max_SOF\".\"MAX_SOF_RANKING\", \"WBC_CASE_D\".\"CASE_NUM\"\n",
    "\n",
    "\n",
    "#     \"\"\"\n",
    "\n",
    "#     more_data = pd.read_sql(pp, con=conn)\n",
    "\n",
    "#     tt = t_set.merge(more_data, on = 'Case_Number', how = 'left')\n",
    "#     df = tt\n",
    "#     keep = [ 'Case_Number','Start_Date', 'Age_at_Plan_Start', 'Service_Delivery_Channel',   'c21', 'A2T_Applicant',  'Client_Gender',  'Client_Deceased_Flag', 'Child_with_a_Disibility_Flag', 'Open_BCEA_Case_Flag', 'Current_SPEI_Eligibility', 'SPEI_Status', 'Client_Transition_Status', 'Immediate_Need_Flag',  'Max_SOF_Ranking', 'Employment_Situation_at_Intake', 'Disability_Confirmation', 'Client_Sub_Category_Code', 'Client_Category_Code', 'Disability_Client', 'Francophone_Client', 'Immigrant_Client', 'Indigenous_Client', 'Multi_Barriered_Client',  'Youth_Client', 'Youth_at_Risk_Client']\n",
    "\n",
    "#     inpt = df[keep]\n",
    "#     out = df['out']\n",
    "\n",
    "#     inpt['sd'] = inpt.Start_Date.dt.month%12 // 3 + 1\n",
    "#     #print('MAX START DATE')\n",
    "#     #print(max(inpt.Start_Date))\n",
    "\n",
    "\n",
    "#     c = []\n",
    "#     for col in inpt.columns:\n",
    "#         if inpt[col].nunique() > 1 and col not in  ['Age_at_Plan_Start', 'Case_Number', 'Start_Date']:\n",
    "#             #print(col)\n",
    "#             c.append(col)\n",
    "#     d = pd.get_dummies(inpt, columns=c)\n",
    "    \n",
    "\n",
    "#     print(d)\n",
    "#     #process age plan start\n",
    "#     import pandas as pd\n",
    "#     from sklearn import preprocessing\n",
    "\n",
    "#     x = inpt.Age_at_Plan_Start.values.reshape(-1, 1) #returns a numpy array\n",
    "#     min_max_scaler = preprocessing.MinMaxScaler()\n",
    "#     x_scaled = min_max_scaler.fit_transform(x)\n",
    "#     aps = pd.DataFrame(x_scaled)\n",
    "\n",
    "\n",
    "\n",
    "#     for col in d:\n",
    "#         #print(d[col].dtype)\n",
    "#         if d[col].dtype == object:\n",
    "#             d[col] = d[col].replace({'Y':'1', 'N':'0'})\n",
    "\n",
    "#     d.Age_at_Plan_Start = aps\n",
    "#     d.Case_Num = inpt.Case_Number\n",
    "#     print(d.shape)\n",
    "#     d = d[~d.Case_Number.isin(var1)]\n",
    "#     print(d.shape)\n",
    "#     d = d.drop(columns = ['Start_Date'])\n",
    "#     keep2 = ['Case Number', 'Age_at_Plan_Start', 'Service_Delivery_Channel_In-Person',\n",
    "#        'Service_Delivery_Channel_Outreach', 'Service_Delivery_Channel_Virtual',\n",
    "#        'c21_Between Case Management Services',\n",
    "#        'c21_No Self-Serve Services Provided', 'c21_Prior to Case Management',\n",
    "#        'A2T_Applicant_N', 'A2T_Applicant_Y', 'Client_Gender_F',\n",
    "#        'Client_Gender_M', 'Client_Gender_U', 'Client_Gender_X',\n",
    "#        'Client_Deceased_Flag_N', 'Client_Deceased_Flag_Y',\n",
    "#        'Child_with_a_Disibility_Flag_N', 'Child_with_a_Disibility_Flag_Y',\n",
    "#        'Open_BCEA_Case_Flag_N', 'Open_BCEA_Case_Flag_Y',\n",
    "#        'Current_SPEI_Eligibility_Eligible EO',\n",
    "#        'Current_SPEI_Eligibility_Eligible NEO/PWD',\n",
    "#        'Current_SPEI_Eligibility_Not Referable',\n",
    "#        'SPEI_Status_Not Accepted into CM', 'SPEI_Status_Opted Out',\n",
    "#        'SPEI_Status_Referred to EPBC', 'SPEI_Status_SPEI Client',\n",
    "#        'SPEI_Status_n/a',\n",
    "#        'Client_Transition_Status_Case Transitioned In Employment Services',\n",
    "#        'Client_Transition_Status_Case Transitioned In Sustainment',\n",
    "#        'Client_Transition_Status_Closed EPBC Case with Employment',\n",
    "#        'Client_Transition_Status_Closed EPBC Case without Employment',\n",
    "#        'Client_Transition_Status_New WorkBC Case',\n",
    "#        'Immediate_Need_Flag_Age 65 Or Over',\n",
    "#        'Immediate_Need_Flag_Closed In Error',\n",
    "#        'Immediate_Need_Flag_Condition Precludes Employment',\n",
    "#        'Immediate_Need_Flag_Immediate Need',\n",
    "#        'Immediate_Need_Flag_Marital/Spousal Breakdown',\n",
    "#        'Immediate_Need_Flag_Open For Reconsideration',\n",
    "#        'Immediate_Need_Flag_PWD Status E', 'Max_SOF_Ranking_1',\n",
    "#        'Max_SOF_Ranking_2', 'Max_SOF_Ranking_3', 'Max_SOF_Ranking_4',\n",
    "#        'Max_SOF_Ranking_5', 'Max_SOF_Ranking_6', 'Max_SOF_Ranking_7',\n",
    "#        'Max_SOF_Ranking_8', 'Max_SOF_Ranking_9', 'Max_SOF_Ranking_10',\n",
    "#        'Max_SOF_Ranking_11', 'Max_SOF_Ranking_12', 'Max_SOF_Ranking_13',\n",
    "#        'Max_SOF_Ranking_14', 'Max_SOF_Ranking_15', 'Max_SOF_Ranking_16',\n",
    "#        'Employment_Situation_at_Intake_Employed',\n",
    "#        'Employment_Situation_at_Intake_Not Available',\n",
    "#        'Employment_Situation_at_Intake_Precariously Employed',\n",
    "#        'Employment_Situation_at_Intake_Self-Employed',\n",
    "#        'Employment_Situation_at_Intake_Unemployed',\n",
    "#        'Disability_Confirmation_BCEA PWD Confirmed Disability',\n",
    "#        'Disability_Confirmation_DRENA Confirmed Disability',\n",
    "#        'Disability_Confirmation_Disability Confirmed and Supports Provided',\n",
    "#        'Disability_Confirmation_No Disability Identified',\n",
    "#        'Disability_Confirmation_Self-Identified Disability',\n",
    "#        'Client_Sub_Category_Code_BCEA EO',\n",
    "#        'Client_Sub_Category_Code_BCEA NEO OTHER',\n",
    "#        'Client_Sub_Category_Code_BCEA NEO PPMB',\n",
    "#        'Client_Sub_Category_Code_BCEA NEO PWD',\n",
    "#        'Client_Sub_Category_Code_EI ACTIVE',\n",
    "#        'Client_Sub_Category_Code_EI REACHBACK',\n",
    "#        'Client_Sub_Category_Code_EO EI', 'Client_Sub_Category_Code_GENERAL',\n",
    "#        'Client_Sub_Category_Code_GENERAL PWD',\n",
    "#        'Client_Sub_Category_Code_NEO OTHER EI',\n",
    "#        'Client_Sub_Category_Code_NEO PPMB EI',\n",
    "#        'Client_Sub_Category_Code_NEO PWD EI', 'Client_Category_Code_BCEA',\n",
    "#        'Client_Category_Code_EI', 'Client_Category_Code_GENERAL',\n",
    "#        'Client_Category_Code_MUTUAL', 'Disability_Client_N',\n",
    "#        'Disability_Client_Y', 'Francophone_Client_N', 'Francophone_Client_Y',\n",
    "#        'Immigrant_Client_N', 'Immigrant_Client_Y', 'Indigenous_Client_N',\n",
    "#        'Indigenous_Client_Y', 'Multi_Barriered_Client_N',\n",
    "#        'Multi_Barriered_Client_Y', 'Youth_Client_N', 'Youth_Client_Y',\n",
    "#        'Youth_at_Risk_Client_N', 'Youth_at_Risk_Client_Y', 'sd_1', 'sd_2',\n",
    "#        'sd_3', 'sd_4']\n",
    "    \n",
    "#     return(d)\n",
    "\n",
    "\n",
    "\n"
   ]
  },
  {
   "cell_type": "code",
   "execution_count": null,
   "id": "86774e8b-a1c5-410d-85af-56e4527505d9",
   "metadata": {},
   "outputs": [],
   "source": [
    "# import psycopg2\n",
    "# import os\n",
    "# import pandas as pd\n",
    "# import time    \n",
    "# from psycopg2.errorcodes import UNIQUE_VIOLATION\n",
    "# from psycopg2 import errors\n",
    "\n",
    "# import datetime\n",
    "\n",
    "# import psycopg2\n",
    "\n",
    "# conn = psycopg2.connect(database=os.environ['db_name'], user=os.environ['db_username'], password=os.environ['db_password'], host=os.environ['db_host'], port= os.environ['db_port'])\n",
    "# cursor = conn.cursor()\n",
    "# query = 'SELECT case_number FROM sustainment_predictions'\n",
    "# #cursor.execute(\"SELECT * FROM information_schema.tables;\")\n",
    "# df = pd.read_sql(query, con=conn)\n",
    "\n",
    "# inpt = df.case_number.tolist()\n",
    "\n",
    "# p = preprocess_cna_data_by_case_num(inpt)\n",
    "# p1= preprocess_cna_data_by_case_num_orig(inpt)\n",
    "# print(p1.columns.difference(p.columns))\n",
    "# print(p.columns.difference(p1.columns))"
   ]
  },
  {
   "cell_type": "code",
   "execution_count": null,
   "id": "2380a063-8b24-4bc0-8b71-519d787e938e",
   "metadata": {},
   "outputs": [],
   "source": [
    "# def preprocess_cna_data_by_case_num1(var1):\n",
    "    \n",
    "#     import pandas as pd\n",
    "\n",
    "#     import cx_Oracle\n",
    "#     import os\n",
    "\n",
    "#     port = os.environ['port']\n",
    "#     pw = os.environ['password']\n",
    "#     host = os.environ['host']\n",
    "#     service = os.environ['service']\n",
    "#     usr= os.environ['username']\n",
    "\n",
    "#     # print(host)\n",
    "#     # print(service)\n",
    "#     path = '/home/jovyan/instantclient_21_5'\n",
    "\n",
    "\n",
    "#     #print(cx_Oracle.clientversion())  \n",
    "\n",
    "#     path = 'C:\\ORACLE\\instantclient_19_11'\n",
    "\n",
    "#     try:\n",
    "#         cx_Oracle.init_oracle_client(lib_dir= path)\n",
    "#     except Exception as err:\n",
    "#         print('client already initialised')\n",
    "#     cx_Oracle.clientversion()  \n",
    "#     dsn_tns = cx_Oracle.makedsn(host, port, service_name=service)\n",
    "\n",
    "#     conn = cx_Oracle.connect(user=usr, password=pw, dsn=dsn_tns)\n",
    "\n",
    "#     c = conn.cursor()\n",
    "\n",
    "#     query = \"\"\"\n",
    "\n",
    "#     select \"WBC_SERVICES_SUPPORTS_PLAN_D\".\"CASE_NUM\" \"Case_Number\", \"WBC_SERVICES_SUPPORTS_PLAN_D\".\"SRV_PLAN_NUM\" \"Service_Plan_Number\", \"WBC_SERVICES_SUPPORTS_PLAN_D\".\"PLAN_NAME\" \"Plan_Name\", \"WBC_SERVICES_SUPPORTS_PLAN_D\".\"SRV_PLAN_STATUS_CD\" \"Plan_Status\", \"WBC_SERVICES_SUPPORTS_PLAN_D\".\"PLAN_START_DT\" \"Plan_Start_Date\", \"WBC_SERVICES_SUPPORTS_PLAN_D\".\"PLAN_CREATED_DT\" \"Plan_Created_Date\", \"WBC_SERVICES_SUPPORTS_PLAN_D\".\"PLAN_CLOSED_DT\" \"Plan_Closed_Date\", \"WBC_SERVICES_SUPPORTS_PLAN_D\".\"AGE_AT_PLAN_START\" \"Age_at_Plan_Start\", \"WBC_SERVICES_SUPPORTS_PLAN_D\".\"COUNTRY_OF_ORIGIN\" \"Country_of_Origin\", \"WBC_SERVICES_SUPPORTS_PLAN_D\".\"COC_REASON\" \"Change_of_Circumstance_Reason\", \"WBC_SERVICES_SUPPORTS_PLAN_D\".\"SD_CHANNEL_CD\" \"Service_Delivery_Channel\", TRUNC(cast(least(nvl(\"WBC_SERVICES_SUPPORTS_PLAN_D\".\"SUSTAINED_EMP_DT\", \"WBC_SERVICES_SUPPORTS_PLAN_D\".\"PLAN_CLOSED_DT\"), nvl(\"WBC_SERVICES_SUPPORTS_PLAN_D\".\"PLAN_CLOSED_DT\", \"WBC_SERVICES_SUPPORTS_PLAN_D\".\"SUSTAINED_EMP_DT\")) as TIMESTAMP(9))) \"In_Case_Management_End_Date\", \"WBC_SERVICES_SUPPORTS_PLAN_D\".\"SUSTAINED_EMP_DT\" \"c13\", case  when not \"WBC_SERVICES_SUPPORTS_PLAN_D\".\"SUSTAINED_EMP_DT\" is null then 'Y' else 'N' end  \"c14\", \"WBC_SERVICES_SUPPORTS_PLAN_D\".\"WEEKS_SUSTAINED\" \"c15\", \"WBC_SERVICES_SUPPORTS_PLAN_D\".\"ACTION_PLAN_FILE_DATE\" \"Action_Plan_File_Date\", sum(\"WBC_SERVICES_SUPPORTS_PLAN_D\".\"ACTION_PLAN_CNT\") \"Action_Plan_Count\", \"WBC_SERVICES_SUPPORTS_PLAN_D\".\"ACTV_IN_WBC_PROGRAM_FLG\" \"Active_In_WorkBC_Program\", \"WBC_SERVICES_SUPPORTS_PLAN_D\".\"CURRENT_SERVICE_ACTIVITY\" \"Current_Service_Activity\", \"WBC_SERVICES_SUPPORTS_PLAN_D\".\"CASE_MNGD_SERVICES_DELIVERED\" \"c20\", \"WBC_SERVICES_SUPPORTS_PLAN_D\".\"SELF_SERVE_SERVICES_DELIVERED\" \"c21\", \"WBC_SERVICES_SUPPORTS_PLAN_D\".\"A2T_CLIENT_FLG\" \"A2T_Applicant\", \"WBC_SERVICES_SUPPORTS_PLAN_D\".\"A2T_START_DT\" \"A2T_Approval_Date\", \"WBC_SERVICES_SUPPORTS_PLAN_D\".\"BCEA_REFERRAL_SR_NUM\" \"BCEA_Service_Request_Number\", \"WBC_SERVICES_SUPPORTS_PLAN_D\".\"WEOG_REFERRAL\" \"WEOG_Referral\"\n",
    "#      from \"CDW\".\"WBC_SERVICES_SUPPORTS_PLAN_D\" \"WBC_SERVICES_SUPPORTS_PLAN_D\"\n",
    "#      group by \"WBC_SERVICES_SUPPORTS_PLAN_D\".\"CASE_NUM\", \"WBC_SERVICES_SUPPORTS_PLAN_D\".\"SRV_PLAN_NUM\", \"WBC_SERVICES_SUPPORTS_PLAN_D\".\"PLAN_NAME\", \"WBC_SERVICES_SUPPORTS_PLAN_D\".\"SRV_PLAN_STATUS_CD\", \"WBC_SERVICES_SUPPORTS_PLAN_D\".\"PLAN_START_DT\", \"WBC_SERVICES_SUPPORTS_PLAN_D\".\"PLAN_CREATED_DT\", \"WBC_SERVICES_SUPPORTS_PLAN_D\".\"PLAN_CLOSED_DT\", \"WBC_SERVICES_SUPPORTS_PLAN_D\".\"AGE_AT_PLAN_START\", \"WBC_SERVICES_SUPPORTS_PLAN_D\".\"COUNTRY_OF_ORIGIN\", \"WBC_SERVICES_SUPPORTS_PLAN_D\".\"COC_REASON\", \"WBC_SERVICES_SUPPORTS_PLAN_D\".\"SD_CHANNEL_CD\", TRUNC(cast(least(nvl(\"WBC_SERVICES_SUPPORTS_PLAN_D\".\"SUSTAINED_EMP_DT\", \"WBC_SERVICES_SUPPORTS_PLAN_D\".\"PLAN_CLOSED_DT\"), nvl(\"WBC_SERVICES_SUPPORTS_PLAN_D\".\"PLAN_CLOSED_DT\", \"WBC_SERVICES_SUPPORTS_PLAN_D\".\"SUSTAINED_EMP_DT\")) as TIMESTAMP(9))), \"WBC_SERVICES_SUPPORTS_PLAN_D\".\"SUSTAINED_EMP_DT\", case  when not \"WBC_SERVICES_SUPPORTS_PLAN_D\".\"SUSTAINED_EMP_DT\" is null then 'Y' else 'N' end , \"WBC_SERVICES_SUPPORTS_PLAN_D\".\"WEEKS_SUSTAINED\", \"WBC_SERVICES_SUPPORTS_PLAN_D\".\"ACTION_PLAN_FILE_DATE\", \"WBC_SERVICES_SUPPORTS_PLAN_D\".\"ACTV_IN_WBC_PROGRAM_FLG\", \"WBC_SERVICES_SUPPORTS_PLAN_D\".\"CURRENT_SERVICE_ACTIVITY\", \"WBC_SERVICES_SUPPORTS_PLAN_D\".\"CASE_MNGD_SERVICES_DELIVERED\", \"WBC_SERVICES_SUPPORTS_PLAN_D\".\"SELF_SERVE_SERVICES_DELIVERED\", \"WBC_SERVICES_SUPPORTS_PLAN_D\".\"A2T_CLIENT_FLG\", \"WBC_SERVICES_SUPPORTS_PLAN_D\".\"A2T_START_DT\", \"WBC_SERVICES_SUPPORTS_PLAN_D\".\"BCEA_REFERRAL_SR_NUM\", \"WBC_SERVICES_SUPPORTS_PLAN_D\".\"WEOG_REFERRAL\"\n",
    "\n",
    "\n",
    "\n",
    "#     \"\"\"\n",
    "\n",
    "#     df = pd.read_sql(query, con=conn)\n",
    "#     print(df.shape)\n",
    "#     df = df.loc[df.groupby(['Case_Number'], sort=False)['Plan_Start_Date'].idxmax()]\n",
    "#     print(df.shape)\n",
    "#     #df  =df.sort_values(by = ['Plan_Start_Date'], ignore_index = True).drop_duplicates('Case_Number',keep='last') #DELETE THIS IS BEING DODGY\n",
    "#     query = \"\"\"\n",
    "#     select distinct \"WBC_CLIENT_D\".\"CONTACT_NUM\" \"Person_ID_ICM\", case  when \"WBC_CLIENT_D\".\"LAST_NAME\" is null  or \"WBC_CLIENT_D\".\"FST_NAME\" is null  then  null  else \"WBC_CLIENT_D\".\"LAST_NAME\" || ', ' || \"WBC_CLIENT_D\".\"FST_NAME\" end  \"Client_Name\", \"WBC_CLIENT_D\".\"FST_NAME\" \"Client_First_Name\", \"WBC_CLIENT_D\".\"LAST_NAME\" \"Client_Last_Name\", \"WBC_CLIENT_D\".\"MID_NAME\" \"Client_Middle_Name\", \"WBC_CLIENT_D\".\"SEX_MF_CODE\" \"Client_Gender\", case  when \"WBC_CLIENT_D\".\"SEX_MF_CODE\"='F' then 'Female' when \"WBC_CLIENT_D\".\"SEX_MF_CODE\"='M' then 'Male' when \"WBC_CLIENT_D\".\"SEX_MF_CODE\"='U' then 'Unknown' when \"WBC_CLIENT_D\".\"SEX_MF_CODE\"='~' then 'Undefined' else 'Not Set' end  \"Client_Gender_Name\", \"WBC_CLIENT_D\".\"X_SOC_SECURITY_NUM\" \"SIN\", \"WBC_CLIENT_D\".\"BIRTH_DT\" \"Client_Date_of_Birth\", \"WBC_CLIENT_D\".\"DECEASE_FLG\" \"Client_Deceased_Flag\", \"WBC_CLIENT_D\".\"HOME_PH_NUM\" \"Home_Phone_Number\", \"WBC_CLIENT_D\".\"MOBILE_NUM\" \"Cell_Phone_Number\", \"WBC_CLIENT_D\".\"EMAIL_ADDRESS\" \"Primary_Email_Address\", \"WBC_CLIENT_D\".\"X_MIS_INTEGRATION_ID\" \"Person_ID_MIS\", \"WBC_CLIENT_D\".\"CHILD_WITH_DISABILITY_FLG\" \"Child_with_a_Disibility_Flag\", \"WBC_CLIENT_D\".\"OPEN_BCEA_CASE_FLG\" \"Open_BCEA_Case_Flag\", \"WBC_CLIENT_D\".\"D_BCEA_CASE_NUM\" \"BCEA_Case_Number\", \"WBC_CLIENT_D\".\"LATEST_BCEA_CASE_OPEN_DT\" \"BCEA_Case_Open_Date\", \"WBC_CLIENT_D\".\"SPEI_ELIGIBILITY\" \"Current_SPEI_Eligibility\", \"WBC_CLIENT_D\".\"SPEI_STATUS\" \"SPEI_Status\", \"WBC_CASE_D\".\"CASE_TYPE_CD\" \"Case_Type\", \"WBC_CASE_D\".\"CASE_NUM\" \"Case_Number\", \"WBC_CASE_D\".\"CASE_OPEN_DT\" \"Case_Open_Date\", \"WBC_CASE_D\".\"CASE_CLOSED_DT\" \"Case_Closed_Date\", \"WBC_CASE_D\".\"STATUS_CD\" \"Case_Status\", \"WBC_CASE_D\".\"X_CREATED_BY\" \"Created_By\", \"WBC_CASE_D\".\"X_CREATED_BY_OFFICE\" \"Created_by_Office\", \"WBC_CASE_D\".\"CREATED_ON_DT\" \"Created_on_Date\", \"WBC_CASE_D\".\"X_CASELOAD\" \"Caseload\", \"WBC_CASE_D\".\"CLIENT_TRANSITION_STATUS\" \"Client_Transition_Status\", \"WBC_CASE_D\".\"X_CONT_TO_PAY\" \"Apprentice_Continue_to_Pay\", \"WBC_CASE_D\".\"X_CONT_TO_WORK\" \"Apprentice_Continue_to_Work\", \"WBC_CASE_D\".\"X_EMPLOY_SPONSR_CD\" \"c33\", \"WBC_CASE_D\".\"X_ITA_REG_NUM\" \"ITA_Registration__\", \"WBC_CASE_D\".\"X_LEGACY_FILE_NUM\" \"Legacy_File_Number\", \"WBC_CASE_D\".\"X_REOPEN_DT\" \"Case_Re_Open_Date\", \"WBC_CASE_D\".\"X_UPDATED_DT\" \"Duplicate_Case_Updated_Date\", \"WBC_CASE_D\".\"X_EI_PAY_END_DT\" \"EI_Payment_End_Date\", \"WBC_CASE_D\".\"X_EI_REACHBCK_DT\" \"EI_Reachback_Date\", \"WBC_CASE_D\".\"X_CM_ACCPT_DT\" \"CM_Acceptance_Date\", \"WBC_CASE_D\".\"X_EARLY_OPN_RSN_CD\" \"Immediate_Need_Flag\", \"WBC_CASE_D\".\"PREV_OFFICE_NAME\" \"Previous_Office_Name\", \"WBC_CASE_D\".\"PREV_OFFICE_END_DT\" \"Previous_Office_End_Date\", \"WBC_CASE_D\".\"X_RENEW_DT\" \"Renew_Date\", \"WBC_CASE_D\".\"X_RENEW_REASON\" \"Renew_Reason\"\n",
    "#      from \"CDW\".\"WBC_CLIENT_D\" \"WBC_CLIENT_D\", \"CDW\".\"WBC_CASE_D\" \"WBC_CASE_D\", \"CDW\".\"WBC_CASE_F\" \"coguda20\", \"CDW\".\"WBC_OFFICE_D\" \"coguda21\"\n",
    "#      where \"coguda20\".\"OFFICE_ORG_WID\"=\"coguda21\".\"OFFICE_ORG_WID\" and \"coguda20\".\"CONTACT_WID\"=\"WBC_CLIENT_D\".\"CONTACT_WID\" and \"coguda20\".\"CASE_WID\"=\"WBC_CASE_D\".\"CASE_WID\"\n",
    "\n",
    "#     \"\"\"\n",
    "\n",
    "#     df2 = pd.read_sql(query, con=conn)\n",
    "\n",
    "#     t = df.merge(df2, on = 'Case_Number', how = 'inner')\n",
    "\n",
    "#     q3 = \"\"\"\n",
    "\n",
    "#     select \"WBC_CASE_D\".\"CASE_NUM\" \"Case_Number\", \"WBC_ES_STAGE_OF_SERVICE_D\".\"STAGE_OF_SERVICE_NAME\" \"Stage_of_Employment_Service\", \"WBC_ES_STAGE_OF_SERVICE_D\".\"IS_ACTIVE_NAME\" \"Is_Active\", count(distinct \"coguda20\".\"CONTACT_WID\") \"C___Clients\", \"WBC_DATE_D_PlanStart\".\"CALENDAR_DATE\" \"Start_Date\"\n",
    "#      from \"CDW\".\"WBC_CASE_D\" \"WBC_CASE_D\", \"CDW\".\"WBC_ES_STAGE_OF_SERVICE_D\" \"WBC_ES_STAGE_OF_SERVICE_D\", \"CDW\".\"WBC_CASE_F\" \"coguda20\", \"CDW\".\"WBC_OFFICE_D\" \"coguda21\", \"CDW\".\"WBC_DATE_D\" \"WBC_DATE_D_PlanStart\"\n",
    "#      where  \"coguda20\".\"OFFICE_ORG_WID\"=\"coguda21\".\"OFFICE_ORG_WID\" and \"coguda20\".\"CASE_TYPE_WID\"=1 and \"coguda20\".\"SNAPSHOT_DT_WID\"=(\n",
    "#     select snapshot_dt_wid\n",
    "#      from cdw.wbc_run_ctl_d) and \"coguda20\".\"CASE_WID\"=\"WBC_CASE_D\".\"CASE_WID\" and \"coguda20\".\"ES_STAGE_OF_SERVICE_WID\"=\"WBC_ES_STAGE_OF_SERVICE_D\".\"ES_STAGE_OF_SERVICE_WID\" and \"WBC_DATE_D_PlanStart\".\"DATE_WID\"=\"coguda20\".\"PLAN_START_DT_WID\"\n",
    "#      group by \"WBC_DATE_D_PlanStart\".\"CALENDAR_DATE\", \"WBC_CASE_D\".\"CASE_NUM\", \"WBC_ES_STAGE_OF_SERVICE_D\".\"IS_ACTIVE_NAME\", \"WBC_ES_STAGE_OF_SERVICE_D\".\"STAGE_OF_SERVICE_NAME\"\n",
    "\n",
    "\n",
    "#     \"\"\"\n",
    "#     de = pd.read_sql(q3, con=conn)\n",
    "\n",
    "#     d = de.drop(columns=['C___Clients'])\n",
    "\n",
    "\n",
    "#     sus = pd.DataFrame()\n",
    "#     nosus = pd.DataFrame()\n",
    "\n",
    "#     from datetime import datetime\n",
    "#     from dateutil.relativedelta import relativedelta\n",
    "\n",
    "#     yr_ago = datetime.now() - relativedelta(years=1)\n",
    "#     bcn = d[(d.Start_Date < yr_ago) & (d.Stage_of_Employment_Service != 'Not Available')].Case_Number\n",
    "#     t.Case_Number = t.Case_Number.astype('str')\n",
    "#     d.Case_Number = d.Case_Number.astype('str')\n",
    "\n",
    "#     #zt = t[(t['Case_Number'].isin(bcn)) & (t.Plan_Name == 'Employment Services')]\n",
    "\n",
    "#     zzt = pd.merge(d, t, on = 'Case_Number')\n",
    "#     zzt = zzt[(zzt.Plan_Name == 'Employment Services')]\n",
    "\n",
    "#     dupe = zzt[zzt.Case_Number.duplicated()].Case_Number\n",
    "\n",
    "\n",
    "#     yt = zzt[zzt['Case_Number'].isin(dupe)]\n",
    "#     for col in zzt.columns:\n",
    "#         if zzt[col].nunique() < 20 and zzt[col].nunique() > 1:\n",
    "#             #print(col)\n",
    "#             #print(zzt[col].value_counts())\n",
    "#             continue\n",
    "\n",
    "#     zzt = zzt.drop_duplicates()\n",
    "#     tst = zzt[zzt.Stage_of_Employment_Service == 'Before Sustainable Employment Achieved']\n",
    "#     yr_ago = datetime.now() - relativedelta(months=18)\n",
    "\n",
    "#     not_in_sus = tst[tst.Start_Date < yr_ago].Case_Number\n",
    "#     #not_in_sus = not_in_sus.reset_index(inplace=True)\n",
    "#     drop_case_ns = tst[tst.Start_Date > yr_ago].Case_Number\n",
    "#     #az = zzt[~zzt['Case_Number'].isin(drop_case_ns)] #THIS IS DELETED, ADD BACK IF IT BREAKS\n",
    "#     az = zzt #THIS IS DELETED, ADD BACK IF IT BREAKS\n",
    "#     az.loc[az['Case_Number'].isin(not_in_sus), 'Stage_of_Employment_Service'] = 'More than 2 years since start'\n",
    "\n",
    "#     #az.loc[az.Case_Number==, 'Stage_of_Employment_Service'] = 'More than 2 years since start'\n",
    "\n",
    "\n",
    "#     o = az.Stage_of_Employment_Service.value_counts().rename_axis('unique_values').reset_index(name='counts')\n",
    "#     out_code = {\"Left Before Outcome\":'0', \"Left After Completing Sustainment\": '1', \"In Sustainment\":'1',\"Left Before Completing Sustainment\":'1', \"More than 2 years since start\":'0' }\n",
    "#     o['out'] = o['unique_values'].map(out_code)\n",
    "\n",
    "#     t_set = az.merge(o, left_on='Stage_of_Employment_Service', right_on='unique_values',\n",
    "#               suffixes=('', '_right'), how = 'left')\n",
    "\n",
    "#     l = []\n",
    "#     for col in t_set.columns:\n",
    "#         if t_set[col].nunique() < 20 and t_set[col].nunique() > 1:\n",
    "\n",
    "#             l.append(col)\n",
    "\n",
    "#     p = []\n",
    "#     for col in t.columns:\n",
    "#         if t[col].nunique() < 20 and t[col].nunique() > 1:\n",
    "#             #print(col)\n",
    "#             #print(t[col].value_counts())\n",
    "#             p.append(col)\n",
    "  \n",
    "\n",
    "#     pp = \"\"\"\n",
    "\n",
    "#     select \"WBC_CLIENT_AGE_D\".\"CLIENT_AGE_WID\" \"Client_Age\", \"WBC_CASE_D\".\"CASE_NUM\" \"Case_Number\", count(distinct \"coguda20\".\"CONTACT_WID\") \"C___Clients\", \"WBC_CLIENT_TYPE_D_Max_SOF\".\"MAX_SOF_RANKING\" \"Max_SOF_Ranking\", \"WBC_EMPLOY_MENT_AT_INTAKE_D\".\"EMPLOYMENT_AT_INTAKE_NAME\" \"Employment_Situation_at_Intake\", \"WBC_DISABILITY_D\".\"DISABILITY_NAME\" \"Disability_Confirmation\", \"WBC_CLIENT_TYPE_D\".\"CLIENT_SUB_CATEGORY_CD\" \"Client_Sub_Category_Code\", \"WBC_CLIENT_TYPE_D\".\"CLIENT_CATEGORY_CD\" \"Client_Category_Code\", \"WBC_CLIENT_INCLUSION_GROUP_D\".\"DISABILITY_FLG\" \"Disability_Client\", \"WBC_CLIENT_INCLUSION_GROUP_D\".\"FRANCOPHONE_FLG\" \"Francophone_Client\", \"WBC_CLIENT_INCLUSION_GROUP_D\".\"IMMIGRANT_FLG\" \"Immigrant_Client\", \"WBC_CLIENT_INCLUSION_GROUP_D\".\"INDIGENOUS_FLG\" \"Indigenous_Client\", \"WBC_CLIENT_INCLUSION_GROUP_D\".\"MULTI_BARRIERED_FLG\" \"Multi_Barriered_Client\", \"WBC_CLIENT_INCLUSION_GROUP_D\".\"SURVIVOR_FLG\" \"c14\", \"WBC_CLIENT_INCLUSION_GROUP_D\".\"YOUTH_FLG\" \"Youth_Client\", \"WBC_CLIENT_INCLUSION_GROUP_D\".\"YOUTH_AT_RISK_FLG\" \"Youth_at_Risk_Client\"\n",
    "#      from \"CDW\".\"WBC_CLIENT_AGE_D\" \"WBC_CLIENT_AGE_D\", \"CDW\".\"WBC_CASE_D\" \"WBC_CASE_D\", \"CDW\".\"WBC_CASE_F\" \"coguda20\", \"CDW\".\"WBC_OFFICE_D\" \"coguda21\", \"CDW\".\"WBC_CLIENT_INCLUSION_GROUP_D\" \"WBC_CLIENT_INCLUSION_GROUP_D\", \"CDW\".\"WBC_CLIENT_TYPE_D\" \"WBC_CLIENT_TYPE_D\", \"CDW\".\"WBC_DISABILITY_D\" \"WBC_DISABILITY_D\", \"CDW\".\"WBC_EMPLOYMENT_AT_INTAKE_D\" \"WBC_EMPLOY_MENT_AT_INTAKE_D\", \"CDW\".\"WBC_CLIENT_TYPE_D\" \"WBC_CLIENT_TYPE_D_Max_SOF\", \"CDW\".\"WBC_SERVICES_SUPPORTS_PLAN_D\" \"WBC_SERVICES_SUPPORTS_PLAN_D\"\n",
    "#      where  \"coguda20\".\"OFFICE_ORG_WID\"=\"coguda21\".\"OFFICE_ORG_WID\" and \"coguda20\".\"CASE_TYPE_WID\"=1 and \"coguda20\".\"SNAPSHOT_DT_WID\"=(\n",
    "#     select snapshot_dt_wid\n",
    "#      from cdw.wbc_run_ctl_d) and \"WBC_CLIENT_AGE_D\".\"CLIENT_AGE_WID\"=\"WBC_SERVICES_SUPPORTS_PLAN_D\".\"AGE_AT_PLAN_START\" and \"coguda20\".\"SRV_PLAN_WID\"=\"WBC_SERVICES_SUPPORTS_PLAN_D\".\"SRV_PLAN_WID\" and \"coguda20\".\"CASE_WID\"=\"WBC_CASE_D\".\"CASE_WID\" and \"coguda20\".\"INCLUSION_GROUP_WID\"=\"WBC_CLIENT_INCLUSION_GROUP_D\".\"INCLUSION_GROUP_WID\" and \"coguda20\".\"CLIENT_TYPE_WID\"=\"WBC_CLIENT_TYPE_D\".\"CLIENT_TYPE_WID\" and \"coguda20\".\"DISABILITY_WID\"=\"WBC_DISABILITY_D\".\"DISABILITY_WID\" and \"coguda20\".\"EMP_SITUATION_AT_INTAKE_WID\"=\"WBC_EMPLOY_MENT_AT_INTAKE_D\".\"EMPLOYMENT_AT_INTAKE_WID\" and \"WBC_CLIENT_TYPE_D_Max_SOF\".\"CLIENT_TYPE_WID\"=\"coguda20\".\"MAX_SOF_CLIENT_TYPE_WID\"\n",
    "#      group by \"WBC_CLIENT_AGE_D\".\"CLIENT_AGE_WID\", \"WBC_CLIENT_INCLUSION_GROUP_D\".\"DISABILITY_FLG\", \"WBC_CLIENT_INCLUSION_GROUP_D\".\"FRANCOPHONE_FLG\", \"WBC_CLIENT_INCLUSION_GROUP_D\".\"IMMIGRANT_FLG\", \"WBC_CLIENT_INCLUSION_GROUP_D\".\"INDIGENOUS_FLG\", \"WBC_CLIENT_INCLUSION_GROUP_D\".\"MULTI_BARRIERED_FLG\", \"WBC_CLIENT_INCLUSION_GROUP_D\".\"SURVIVOR_FLG\", \"WBC_CLIENT_INCLUSION_GROUP_D\".\"YOUTH_FLG\", \"WBC_CLIENT_INCLUSION_GROUP_D\".\"YOUTH_AT_RISK_FLG\", \"WBC_CLIENT_TYPE_D\".\"CLIENT_CATEGORY_CD\", \"WBC_CLIENT_TYPE_D\".\"CLIENT_SUB_CATEGORY_CD\", \"WBC_DISABILITY_D\".\"DISABILITY_NAME\", \"WBC_EMPLOY_MENT_AT_INTAKE_D\".\"EMPLOYMENT_AT_INTAKE_NAME\", \"WBC_CLIENT_TYPE_D_Max_SOF\".\"MAX_SOF_RANKING\", \"WBC_CASE_D\".\"CASE_NUM\"\n",
    "\n",
    "\n",
    "#     \"\"\"\n",
    "\n",
    "#     more_data = pd.read_sql(pp, con=conn)\n",
    "\n",
    "#     tt = t_set.merge(more_data, on = 'Case_Number', how = 'left')\n",
    "#     df = tt\n",
    "#     keep = [ 'Case_Number','Start_Date', 'Age_at_Plan_Start', 'Service_Delivery_Channel',   'c21', 'A2T_Applicant',  'Client_Gender',  'Client_Deceased_Flag', 'Child_with_a_Disibility_Flag', 'Open_BCEA_Case_Flag', 'Current_SPEI_Eligibility', 'SPEI_Status', 'Client_Transition_Status', 'Immediate_Need_Flag',  'Max_SOF_Ranking', 'Employment_Situation_at_Intake', 'Disability_Confirmation', 'Client_Sub_Category_Code', 'Client_Category_Code', 'Disability_Client', 'Francophone_Client', 'Immigrant_Client', 'Indigenous_Client', 'Multi_Barriered_Client',  'Youth_Client', 'Youth_at_Risk_Client']\n",
    "#     df = df[df.Case_Number.isin(var1)]\n",
    "#     df = df.head(30000)\n",
    "#     inpt = df[keep]\n",
    "#     out = df['out']\n",
    "\n",
    "#     inpt['sd'] = inpt.Start_Date.dt.month%12 // 3 + 1\n",
    "#     #print('MAX START DATE')\n",
    "#     #print(max(inpt.Start_Date))\n",
    "\n",
    "\n",
    "#     c = []\n",
    "#     for col in inpt.columns:\n",
    "#         if inpt[col].nunique() > 1 and col not in  ['Age_at_Plan_Start', 'Case_Number', 'Start_Date']:\n",
    "#             #print(col)\n",
    "#             c.append(col)\n",
    "#     d = pd.get_dummies(inpt, columns=c)\n",
    "    \n",
    "\n",
    "#     print(d)\n",
    "#     #process age plan start\n",
    "#     import pandas as pd\n",
    "#     from sklearn import preprocessing\n",
    "\n",
    "#     x = inpt.Age_at_Plan_Start.values.reshape(-1, 1) #returns a numpy array\n",
    "#     min_max_scaler = preprocessing.MinMaxScaler()\n",
    "#     x_scaled = min_max_scaler.fit_transform(x)\n",
    "#     aps = pd.DataFrame(x_scaled)\n",
    "\n",
    "\n",
    "\n",
    "#     for col in d:\n",
    "#         #print(d[col].dtype)\n",
    "#         if d[col].dtype == object:\n",
    "#             d[col] = d[col].replace({'Y':'1', 'N':'0'})\n",
    "\n",
    "#     d.Age_at_Plan_Start = aps\n",
    "#     d.Case_Num = inpt.Case_Number\n",
    "#     #print(d.shape)\n",
    "#     if 'Immediate_Need_Flag_PWD Status E' not in d.columns:\n",
    "#         d['Immediate_Need_Flag_PWD Status E'] = 0\n",
    "#     d = d[d.Case_Number.isin(var1)]\n",
    "#     print(d.shape)\n",
    "#     d = d.drop(columns = ['Start_Date'])\n",
    "#     print(d.columns.tolist())\n",
    "#     print(len(d.columns.tolist()))\n",
    "#     d = d[['Case_Number', 'Age_at_Plan_Start', 'Service_Delivery_Channel_In-Person',\n",
    "#        'Service_Delivery_Channel_Outreach', 'Service_Delivery_Channel_Virtual',\n",
    "#        'c21_Between Case Management Services',\n",
    "#        'c21_No Self-Serve Services Provided', 'c21_Prior to Case Management',\n",
    "#        'A2T_Applicant_N', 'A2T_Applicant_Y', 'Client_Gender_F',\n",
    "#        'Client_Gender_M', 'Client_Gender_U', 'Client_Gender_X',\n",
    "#        'Client_Deceased_Flag_N', 'Client_Deceased_Flag_Y',\n",
    "#        'Child_with_a_Disibility_Flag_N', 'Child_with_a_Disibility_Flag_Y',\n",
    "#        'Open_BCEA_Case_Flag_N', 'Open_BCEA_Case_Flag_Y',\n",
    "#        'Current_SPEI_Eligibility_Eligible EO',\n",
    "#        'Current_SPEI_Eligibility_Eligible NEO/PWD',\n",
    "#        'Current_SPEI_Eligibility_Not Referable',\n",
    "#        'SPEI_Status_Not Accepted into CM', 'SPEI_Status_Opted Out',\n",
    "#        'SPEI_Status_Referred to EPBC', 'SPEI_Status_SPEI Client',\n",
    "#        'SPEI_Status_n/a',\n",
    "#        'Client_Transition_Status_Case Transitioned In Employment Services',\n",
    "#        'Client_Transition_Status_Case Transitioned In Sustainment',\n",
    "#        'Client_Transition_Status_Closed EPBC Case with Employment',\n",
    "#        'Client_Transition_Status_Closed EPBC Case without Employment',\n",
    "#        'Client_Transition_Status_New WorkBC Case',\n",
    "#        'Immediate_Need_Flag_Age 65 Or Over',\n",
    "#        'Immediate_Need_Flag_Closed In Error',\n",
    "#        'Immediate_Need_Flag_Condition Precludes Employment',\n",
    "#        'Immediate_Need_Flag_Immediate Need',\n",
    "#        'Immediate_Need_Flag_Marital/Spousal Breakdown',\n",
    "#        'Immediate_Need_Flag_Open For Reconsideration',\n",
    "#        'Immediate_Need_Flag_PWD Status E', 'Max_SOF_Ranking_1',\n",
    "#        'Max_SOF_Ranking_2', 'Max_SOF_Ranking_3', 'Max_SOF_Ranking_4',\n",
    "#        'Max_SOF_Ranking_5', 'Max_SOF_Ranking_6', 'Max_SOF_Ranking_7',\n",
    "#        'Max_SOF_Ranking_8', 'Max_SOF_Ranking_9', 'Max_SOF_Ranking_10',\n",
    "#        'Max_SOF_Ranking_11', 'Max_SOF_Ranking_12', 'Max_SOF_Ranking_13',\n",
    "#        'Max_SOF_Ranking_14', 'Max_SOF_Ranking_15', 'Max_SOF_Ranking_16',\n",
    "#        'Employment_Situation_at_Intake_Employed',\n",
    "#        'Employment_Situation_at_Intake_Not Available',\n",
    "#        'Employment_Situation_at_Intake_Precariously Employed',\n",
    "#        'Employment_Situation_at_Intake_Self-Employed',\n",
    "#        'Employment_Situation_at_Intake_Unemployed',\n",
    "#        'Disability_Confirmation_BCEA PWD Confirmed Disability',\n",
    "#        'Disability_Confirmation_DRENA Confirmed Disability',\n",
    "#        'Disability_Confirmation_Disability Confirmed and Supports Provided',\n",
    "#        'Disability_Confirmation_No Disability Identified',\n",
    "#        'Disability_Confirmation_Self-Identified Disability',\n",
    "#        'Client_Sub_Category_Code_BCEA EO',\n",
    "#        'Client_Sub_Category_Code_BCEA NEO OTHER',\n",
    "#        'Client_Sub_Category_Code_BCEA NEO PPMB',\n",
    "#        'Client_Sub_Category_Code_BCEA NEO PWD',\n",
    "#        'Client_Sub_Category_Code_EI ACTIVE',\n",
    "#        'Client_Sub_Category_Code_EI REACHBACK',\n",
    "#        'Client_Sub_Category_Code_EO EI', 'Client_Sub_Category_Code_GENERAL',\n",
    "#        'Client_Sub_Category_Code_GENERAL PWD',\n",
    "#        'Client_Sub_Category_Code_NEO OTHER EI',\n",
    "#        'Client_Sub_Category_Code_NEO PPMB EI',\n",
    "#        'Client_Sub_Category_Code_NEO PWD EI', 'Client_Category_Code_BCEA',\n",
    "#        'Client_Category_Code_EI', 'Client_Category_Code_GENERAL',\n",
    "#        'Client_Category_Code_MUTUAL', 'Disability_Client_N',\n",
    "#        'Disability_Client_Y', 'Francophone_Client_N', 'Francophone_Client_Y',\n",
    "#        'Immigrant_Client_N', 'Immigrant_Client_Y', 'Indigenous_Client_N',\n",
    "#        'Indigenous_Client_Y', 'Multi_Barriered_Client_N',\n",
    "#        'Multi_Barriered_Client_Y', 'Youth_Client_N', 'Youth_Client_Y',\n",
    "#        'Youth_at_Risk_Client_N', 'Youth_at_Risk_Client_Y', 'sd_1', 'sd_2',\n",
    "#        'sd_3', 'sd_4']]\n",
    "#     d['Age_at_Plan_Start']=  d['Age_at_Plan_Start'].fillna(d['Age_at_Plan_Start'].mean())\n",
    "#     return(d)\n",
    "\n",
    "# import psycopg2\n",
    "# import os\n",
    "# import pandas as pd\n",
    "# import time    \n",
    "# from psycopg2.errorcodes import UNIQUE_VIOLATION\n",
    "# from psycopg2 import errors\n",
    "\n",
    "# import pickle\n",
    "# import datetime\n",
    "\n",
    "# conn = psycopg2.connect(database=os.environ['db_name'], user=os.environ['db_username'], password=os.environ['db_password'], host=os.environ['db_host'], port= os.environ['db_port'])\n",
    "# cursor = conn.cursor()\n",
    "# query = 'SELECT case_number FROM sustainment_predictions'\n",
    "# #cursor.execute(\"SELECT * FROM information_schema.tables;\")\n",
    "# df = pd.read_sql(query, con=conn)\n",
    "\n",
    "# inpt = df.case_number.tolist()\n",
    "\n",
    "# p = preprocess_cna_data_by_case_num1(inpt)\n",
    "# print(p.columns[p.isnull().any()])\n",
    "# g=p\n",
    "# pca = pickle.load(open('/home/jovyan/work/pca_2.pkl', 'rb'))\n",
    "# g = g.head(10)\n",
    "# case_nums = list(g.Case_Number)\n",
    "\n",
    "# x_pred  = pca.transform(g.drop(columns = ['Case_Number']))\n",
    "# model = pickle.load(open('/home/jovyan/work/finalized_model_2.sav', 'rb'))\n",
    "# result = model.predict(x_pred)\n",
    "# print(case_nums)\n",
    "# print(result)"
   ]
  },
  {
   "cell_type": "code",
   "execution_count": null,
   "id": "e2acc51e-9f65-4dc0-b6e3-187f160ae13f",
   "metadata": {},
   "outputs": [],
   "source": [
    "#     import pickle\n",
    "\n",
    "#     pca = pickle.load(open('/home/jovyan/work/pca.pkl', 'rb'))\n",
    "#     print(len(pca.components_))"
   ]
  },
  {
   "cell_type": "code",
   "execution_count": 11,
   "id": "1a0ecf5d-bd9e-4962-943e-582a8ae60783",
   "metadata": {},
   "outputs": [
    {
     "name": "stderr",
     "output_type": "stream",
     "text": [
      "/opt/conda/lib/python3.9/site-packages/pandas/io/sql.py:761: UserWarning: pandas only support SQLAlchemy connectable(engine/connection) ordatabase string URI or sqlite3 DBAPI2 connectionother DBAPI2 objects are not tested, please consider using SQLAlchemy\n",
      "  warnings.warn(\n"
     ]
    },
    {
     "name": "stdout",
     "output_type": "stream",
     "text": [
      "client already initialised\n"
     ]
    },
    {
     "name": "stderr",
     "output_type": "stream",
     "text": [
      "/opt/conda/lib/python3.9/site-packages/pandas/io/sql.py:761: UserWarning: pandas only support SQLAlchemy connectable(engine/connection) ordatabase string URI or sqlite3 DBAPI2 connectionother DBAPI2 objects are not tested, please consider using SQLAlchemy\n",
      "  warnings.warn(\n"
     ]
    },
    {
     "name": "stdout",
     "output_type": "stream",
     "text": [
      "(190788, 25)\n",
      "(179893, 25)\n"
     ]
    },
    {
     "name": "stderr",
     "output_type": "stream",
     "text": [
      "/opt/conda/lib/python3.9/site-packages/pandas/io/sql.py:761: UserWarning: pandas only support SQLAlchemy connectable(engine/connection) ordatabase string URI or sqlite3 DBAPI2 connectionother DBAPI2 objects are not tested, please consider using SQLAlchemy\n",
      "  warnings.warn(\n",
      "/opt/conda/lib/python3.9/site-packages/pandas/io/sql.py:761: UserWarning: pandas only support SQLAlchemy connectable(engine/connection) ordatabase string URI or sqlite3 DBAPI2 connectionother DBAPI2 objects are not tested, please consider using SQLAlchemy\n",
      "  warnings.warn(\n",
      "/opt/conda/lib/python3.9/site-packages/pandas/io/sql.py:761: UserWarning: pandas only support SQLAlchemy connectable(engine/connection) ordatabase string URI or sqlite3 DBAPI2 connectionother DBAPI2 objects are not tested, please consider using SQLAlchemy\n",
      "  warnings.warn(\n",
      "/tmp/ipykernel_2278/2931599110.py:158: SettingWithCopyWarning: \n",
      "A value is trying to be set on a copy of a slice from a DataFrame.\n",
      "Try using .loc[row_indexer,col_indexer] = value instead\n",
      "\n",
      "See the caveats in the documentation: https://pandas.pydata.org/pandas-docs/stable/user_guide/indexing.html#returning-a-view-versus-a-copy\n",
      "  inpt['sd'] = inpt.Start_Date.dt.month%12 // 3 + 1\n"
     ]
    },
    {
     "name": "stdout",
     "output_type": "stream",
     "text": [
      "            Case_Number Start_Date  Age_at_Plan_Start  \\\n",
      "0       1-421153-104009 2021-06-15                 27   \n",
      "1       1-421153-144182 2018-11-29                 40   \n",
      "2       1-421153-145266 2017-03-02                 47   \n",
      "3       1-421153-145476 2018-04-17                 33   \n",
      "4       1-421153-147745 2013-12-03                 54   \n",
      "...                 ...        ...                ...   \n",
      "122149    1-69609796877 2022-10-06                 32   \n",
      "122150    1-69653516925 2022-10-12                 45   \n",
      "122151    1-69657719914 2022-10-12                 40   \n",
      "122152    1-69521514599 2022-09-27                 37   \n",
      "122153    1-69760064270 2022-10-19                 35   \n",
      "\n",
      "        Service_Delivery_Channel_In-Person  Service_Delivery_Channel_Outreach  \\\n",
      "0                                        1                                  0   \n",
      "1                                        1                                  0   \n",
      "2                                        1                                  0   \n",
      "3                                        1                                  0   \n",
      "4                                        1                                  0   \n",
      "...                                    ...                                ...   \n",
      "122149                                   1                                  0   \n",
      "122150                                   1                                  0   \n",
      "122151                                   1                                  0   \n",
      "122152                                   1                                  0   \n",
      "122153                                   1                                  0   \n",
      "\n",
      "        Service_Delivery_Channel_Virtual  \\\n",
      "0                                      0   \n",
      "1                                      0   \n",
      "2                                      0   \n",
      "3                                      0   \n",
      "4                                      0   \n",
      "...                                  ...   \n",
      "122149                                 0   \n",
      "122150                                 0   \n",
      "122151                                 0   \n",
      "122152                                 0   \n",
      "122153                                 0   \n",
      "\n",
      "        c21_Between Case Management Services  \\\n",
      "0                                          0   \n",
      "1                                          0   \n",
      "2                                          0   \n",
      "3                                          0   \n",
      "4                                          0   \n",
      "...                                      ...   \n",
      "122149                                     0   \n",
      "122150                                     0   \n",
      "122151                                     0   \n",
      "122152                                     0   \n",
      "122153                                     0   \n",
      "\n",
      "        c21_No Self-Serve Services Provided  c21_Prior to Case Management  \\\n",
      "0                                         1                             0   \n",
      "1                                         1                             0   \n",
      "2                                         1                             0   \n",
      "3                                         1                             0   \n",
      "4                                         1                             0   \n",
      "...                                     ...                           ...   \n",
      "122149                                    1                             0   \n",
      "122150                                    1                             0   \n",
      "122151                                    1                             0   \n",
      "122152                                    1                             0   \n",
      "122153                                    1                             0   \n",
      "\n",
      "        A2T_Applicant_N  ...  Multi_Barriered_Client_N  \\\n",
      "0                     1  ...                         1   \n",
      "1                     1  ...                         0   \n",
      "2                     1  ...                         1   \n",
      "3                     1  ...                         1   \n",
      "4                     1  ...                         1   \n",
      "...                 ...  ...                       ...   \n",
      "122149                1  ...                         1   \n",
      "122150                1  ...                         1   \n",
      "122151                1  ...                         1   \n",
      "122152                1  ...                         1   \n",
      "122153                1  ...                         1   \n",
      "\n",
      "        Multi_Barriered_Client_Y  Youth_Client_N  Youth_Client_Y  \\\n",
      "0                              0               0               1   \n",
      "1                              1               1               0   \n",
      "2                              0               1               0   \n",
      "3                              0               1               0   \n",
      "4                              0               1               0   \n",
      "...                          ...             ...             ...   \n",
      "122149                         0               1               0   \n",
      "122150                         0               1               0   \n",
      "122151                         0               1               0   \n",
      "122152                         0               1               0   \n",
      "122153                         0               1               0   \n",
      "\n",
      "        Youth_at_Risk_Client_N  Youth_at_Risk_Client_Y  sd_1  sd_2  sd_3  sd_4  \n",
      "0                            0                       1     0     0     1     0  \n",
      "1                            1                       0     0     0     0     1  \n",
      "2                            1                       0     0     1     0     0  \n",
      "3                            1                       0     0     1     0     0  \n",
      "4                            1                       0     1     0     0     0  \n",
      "...                        ...                     ...   ...   ...   ...   ...  \n",
      "122149                       1                       0     0     0     0     1  \n",
      "122150                       1                       0     0     0     0     1  \n",
      "122151                       1                       0     0     0     0     1  \n",
      "122152                       1                       0     0     0     0     1  \n",
      "122153                       1                       0     0     0     0     1  \n",
      "\n",
      "[122154 rows x 100 columns]\n",
      "(122154, 100)\n",
      "(4991, 101)\n",
      "(4991, 100)\n"
     ]
    },
    {
     "name": "stderr",
     "output_type": "stream",
     "text": [
      "/tmp/ipykernel_2278/2931599110.py:189: UserWarning: Pandas doesn't allow columns to be created via a new attribute name - see https://pandas.pydata.org/pandas-docs/stable/indexing.html#attribute-access\n",
      "  d.Case_Num = inpt.Case_Number\n",
      "/opt/conda/lib/python3.9/site-packages/sklearn/base.py:443: UserWarning: X has feature names, but PCA was fitted without feature names\n",
      "  warnings.warn(\n",
      "/opt/conda/lib/python3.9/site-packages/pandas/io/sql.py:761: UserWarning: pandas only support SQLAlchemy connectable(engine/connection) ordatabase string URI or sqlite3 DBAPI2 connectionother DBAPI2 objects are not tested, please consider using SQLAlchemy\n",
      "  warnings.warn(\n"
     ]
    },
    {
     "name": "stdout",
     "output_type": "stream",
     "text": [
      "            case_number  prediction prediction_time    prediction_type  \\\n",
      "0       1-421153-425089           1      2022-06-22  normal_prediction   \n",
      "1       1-421161-426493           1      2022-06-22  normal_prediction   \n",
      "2       1-421161-378615           1      2022-06-22  normal_prediction   \n",
      "3        1-421165-10622           1      2022-06-22  normal_prediction   \n",
      "4       1-421173-140156           1      2022-06-22  normal_prediction   \n",
      "...                 ...         ...             ...                ...   \n",
      "118974    1-68732935020           1      2022-09-09  normal_prediction   \n",
      "118975    1-68843208241           0      2022-09-09  normal_prediction   \n",
      "118976    1-68788233705           1      2022-09-09  normal_prediction   \n",
      "118977    1-68850518935           1      2022-09-09  normal_prediction   \n",
      "118978    1-68850582884           0      2022-09-09  normal_prediction   \n",
      "\n",
      "                                     closest_case_numbers  \n",
      "0       (1-62468361796,1-421165-50876,1-421153-191881,...  \n",
      "1       (1-421181-147853,1-421169-377424,1-421177-3850...  \n",
      "2                                                    None  \n",
      "3                                                    None  \n",
      "4                                                    None  \n",
      "...                                                   ...  \n",
      "118974  (1-68617656157,1-57584196933,1-68363746041,1-6...  \n",
      "118975  (1-57081506577,1-57841607220,1-64955948776,1-5...  \n",
      "118976  (1-61128737790,1-60896372284,1-68552179008,1-6...  \n",
      "118977  (1-61245203138,1-68291076155,1-68316147363,1-6...  \n",
      "118978  (1-61209587731,1-60904095280,1-57105366563,1-6...  \n",
      "\n",
      "[118979 rows x 5 columns]\n",
      "updating4991resultsINSERT INTO sustainment_predictions (case_number, prediction, prediction_time, prediction_type, closest_case_numbers) \n",
      "            VALUES ('1-421153-421281','0', '2022-10-24 20:51:14', 'normal_prediction',('1-421153-285162', '1-421177-101341', '1-421169-194514', '1-421161-9258', '1-421153-243940')) ON CONFLICT(case_number) DO UPDATE SET prediction = '0',prediction_time='2022-10-24 20:51:14', prediction_type = 'normal_prediction';INSERT INTO sustainment_predictions (case_number, prediction, prediction_time, prediction_type, closest_case_numbers) \n",
      "            VALUES ('1-421169-431573','0', '2022-10-24 20:51:14', 'normal_prediction',('1-421157-286674', '1-421157-426392', '1-421157-286568', '1-421173-141519', '1-62131369786')) ON CONFLICT(case_number) DO UPDATE SET prediction = '0',prediction_time='2022-10-24 20:51:14', prediction_type = 'normal_prediction';"
     ]
    },
    {
     "name": "stderr",
     "output_type": "stream",
     "text": [
      "/opt/conda/lib/python3.9/site-packages/sklearn/base.py:450: UserWarning: X does not have valid feature names, but NearestNeighbors was fitted with feature names\n",
      "  warnings.warn(\n",
      "/opt/conda/lib/python3.9/site-packages/sklearn/base.py:450: UserWarning: X does not have valid feature names, but NearestNeighbors was fitted with feature names\n",
      "  warnings.warn(\n",
      "/opt/conda/lib/python3.9/site-packages/sklearn/base.py:450: UserWarning: X does not have valid feature names, but NearestNeighbors was fitted with feature names\n",
      "  warnings.warn(\n"
     ]
    },
    {
     "name": "stdout",
     "output_type": "stream",
     "text": [
      "INSERT INTO sustainment_predictions (case_number, prediction, prediction_time, prediction_type, closest_case_numbers) \n",
      "            VALUES ('1-421169-285126','1', '2022-10-24 20:51:14', 'normal_prediction',('1-61447847407', '1-64731854394', '1-421165-430419', '1-57291655168', '1-57064737412')) ON CONFLICT(case_number) DO UPDATE SET prediction = '1',prediction_time='2022-10-24 20:51:14', prediction_type = 'normal_prediction';INSERT INTO sustainment_predictions (case_number, prediction, prediction_time, prediction_type, closest_case_numbers) \n",
      "            VALUES ('1-68660494229','1', '2022-10-24 20:51:14', 'normal_prediction',('1-68660494229', '1-69164966258', '1-68993278484', '1-57900467898', '1-57438977922')) ON CONFLICT(case_number) DO UPDATE SET prediction = '1',prediction_time='2022-10-24 20:51:14', prediction_type = 'normal_prediction';INSERT INTO sustainment_predictions (case_number, prediction, prediction_time, prediction_type, closest_case_numbers) \n",
      "            VALUES ('1-69054684417','1', '2022-10-24 20:51:14', 'normal_prediction',('1-57542755924', '1-57871113222', '1-64928113885', '1-68786000831', '1-57336340348')) ON CONFLICT(case_number) DO UPDATE SET prediction = '1',prediction_time='2022-10-24 20:51:14', prediction_type = 'normal_prediction';"
     ]
    },
    {
     "name": "stderr",
     "output_type": "stream",
     "text": [
      "/opt/conda/lib/python3.9/site-packages/sklearn/base.py:450: UserWarning: X does not have valid feature names, but NearestNeighbors was fitted with feature names\n",
      "  warnings.warn(\n",
      "/opt/conda/lib/python3.9/site-packages/sklearn/base.py:450: UserWarning: X does not have valid feature names, but NearestNeighbors was fitted with feature names\n",
      "  warnings.warn(\n",
      "/opt/conda/lib/python3.9/site-packages/sklearn/base.py:450: UserWarning: X does not have valid feature names, but NearestNeighbors was fitted with feature names\n",
      "  warnings.warn(\n",
      "/opt/conda/lib/python3.9/site-packages/sklearn/base.py:450: UserWarning: X does not have valid feature names, but NearestNeighbors was fitted with feature names\n",
      "  warnings.warn(\n"
     ]
    },
    {
     "name": "stdout",
     "output_type": "stream",
     "text": [
      "INSERT INTO sustainment_predictions (case_number, prediction, prediction_time, prediction_type, closest_case_numbers) \n",
      "            VALUES ('1-69279509520','0', '2022-10-24 20:51:14', 'normal_prediction',('1-58469002718', '1-62002982113', '1-58271539432', '1-58703411535', '1-58124223498')) ON CONFLICT(case_number) DO UPDATE SET prediction = '0',prediction_time='2022-10-24 20:51:14', prediction_type = 'normal_prediction';INSERT INTO sustainment_predictions (case_number, prediction, prediction_time, prediction_type, closest_case_numbers) \n",
      "            VALUES ('1-69213979410','0', '2022-10-24 20:51:14', 'normal_prediction',('1-64502596874', '1-68356562390', '1-57893263686', '1-57347591131', '1-57094134827')) ON CONFLICT(case_number) DO UPDATE SET prediction = '0',prediction_time='2022-10-24 20:51:14', prediction_type = 'normal_prediction';"
     ]
    },
    {
     "name": "stderr",
     "output_type": "stream",
     "text": [
      "/opt/conda/lib/python3.9/site-packages/sklearn/base.py:450: UserWarning: X does not have valid feature names, but NearestNeighbors was fitted with feature names\n",
      "  warnings.warn(\n",
      "/opt/conda/lib/python3.9/site-packages/sklearn/base.py:450: UserWarning: X does not have valid feature names, but NearestNeighbors was fitted with feature names\n",
      "  warnings.warn(\n",
      "/opt/conda/lib/python3.9/site-packages/sklearn/base.py:450: UserWarning: X does not have valid feature names, but NearestNeighbors was fitted with feature names\n",
      "  warnings.warn(\n"
     ]
    },
    {
     "name": "stdout",
     "output_type": "stream",
     "text": [
      "INSERT INTO sustainment_predictions (case_number, prediction, prediction_time, prediction_type, closest_case_numbers) \n",
      "            VALUES ('1-69101098729','1', '2022-10-24 20:51:14', 'normal_prediction',('1-64300635900', '1-68552824940', '1-68523231553', '1-64827068506', '1-69101098729')) ON CONFLICT(case_number) DO UPDATE SET prediction = '1',prediction_time='2022-10-24 20:51:14', prediction_type = 'normal_prediction';INSERT INTO sustainment_predictions (case_number, prediction, prediction_time, prediction_type, closest_case_numbers) \n",
      "            VALUES ('1-69102063782','1', '2022-10-24 20:51:14', 'normal_prediction',('1-69102063782', '1-69153333654', '1-68828296226', '1-64749587435', '1-68891938887')) ON CONFLICT(case_number) DO UPDATE SET prediction = '1',prediction_time='2022-10-24 20:51:14', prediction_type = 'normal_prediction';INSERT INTO sustainment_predictions (case_number, prediction, prediction_time, prediction_type, closest_case_numbers) \n",
      "            VALUES ('1-69102801839','1', '2022-10-24 20:51:14', 'normal_prediction',('1-68394892780', '1-69102801839', '1-57471938237', '1-57375728236', '1-68359626390')) ON CONFLICT(case_number) DO UPDATE SET prediction = '1',prediction_time='2022-10-24 20:51:14', prediction_type = 'normal_prediction';"
     ]
    },
    {
     "name": "stderr",
     "output_type": "stream",
     "text": [
      "/opt/conda/lib/python3.9/site-packages/sklearn/base.py:450: UserWarning: X does not have valid feature names, but NearestNeighbors was fitted with feature names\n",
      "  warnings.warn(\n",
      "/opt/conda/lib/python3.9/site-packages/sklearn/base.py:450: UserWarning: X does not have valid feature names, but NearestNeighbors was fitted with feature names\n",
      "  warnings.warn(\n"
     ]
    },
    {
     "name": "stdout",
     "output_type": "stream",
     "text": [
      "INSERT INTO sustainment_predictions (case_number, prediction, prediction_time, prediction_type, closest_case_numbers) \n",
      "            VALUES ('1-69452777850','1', '2022-10-24 20:51:14', 'normal_prediction',('1-69452777850', '1-62460363926', '1-62038579594', '1-61767286949', '1-58470399769')) ON CONFLICT(case_number) DO UPDATE SET prediction = '1',prediction_time='2022-10-24 20:51:14', prediction_type = 'normal_prediction';INSERT INTO sustainment_predictions (case_number, prediction, prediction_time, prediction_type, closest_case_numbers) \n",
      "            VALUES ('1-69349257482','1', '2022-10-24 20:51:14', 'normal_prediction',('1-69241176612', '1-58537101649', '1-58423303920', '1-58556741487', '1-69349257482')) ON CONFLICT(case_number) DO UPDATE SET prediction = '1',prediction_time='2022-10-24 20:51:14', prediction_type = 'normal_prediction';"
     ]
    },
    {
     "name": "stderr",
     "output_type": "stream",
     "text": [
      "/opt/conda/lib/python3.9/site-packages/sklearn/base.py:450: UserWarning: X does not have valid feature names, but NearestNeighbors was fitted with feature names\n",
      "  warnings.warn(\n",
      "/opt/conda/lib/python3.9/site-packages/sklearn/base.py:450: UserWarning: X does not have valid feature names, but NearestNeighbors was fitted with feature names\n",
      "  warnings.warn(\n",
      "/opt/conda/lib/python3.9/site-packages/sklearn/base.py:450: UserWarning: X does not have valid feature names, but NearestNeighbors was fitted with feature names\n",
      "  warnings.warn(\n",
      "/opt/conda/lib/python3.9/site-packages/sklearn/base.py:450: UserWarning: X does not have valid feature names, but NearestNeighbors was fitted with feature names\n",
      "  warnings.warn(\n"
     ]
    },
    {
     "name": "stdout",
     "output_type": "stream",
     "text": [
      "INSERT INTO sustainment_predictions (case_number, prediction, prediction_time, prediction_type, closest_case_numbers) \n",
      "            VALUES ('1-69478271850','1', '2022-10-24 20:51:14', 'normal_prediction',('1-58899636035', '1-58287337265', '1-58521598462', '1-69369704032', '1-58725027602')) ON CONFLICT(case_number) DO UPDATE SET prediction = '1',prediction_time='2022-10-24 20:51:14', prediction_type = 'normal_prediction';INSERT INTO sustainment_predictions (case_number, prediction, prediction_time, prediction_type, closest_case_numbers) \n",
      "            VALUES ('1-69365630733','1', '2022-10-24 20:51:14', 'normal_prediction',('1-61617683842', '1-69365630733', '1-69290967299', '1-58913498807', '1-69729878660')) ON CONFLICT(case_number) DO UPDATE SET prediction = '1',prediction_time='2022-10-24 20:51:14', prediction_type = 'normal_prediction';INSERT INTO sustainment_predictions (case_number, prediction, prediction_time, prediction_type, closest_case_numbers) \n",
      "            VALUES ('1-69178840732','1', '2022-10-24 20:51:14', 'normal_prediction',('1-61032838320', '1-61047581873', '1-64754876946', '1-64190394869', '1-65029081786')) ON CONFLICT(case_number) DO UPDATE SET prediction = '1',prediction_time='2022-10-24 20:51:14', prediction_type = 'normal_prediction';INSERT INTO sustainment_predictions (case_number, prediction, prediction_time, prediction_type, closest_case_numbers) \n",
      "            VALUES ('1-69726813862','1', '2022-10-24 20:51:14', 'normal_prediction',('1-58115622637', '1-69726813862', '1-69745053418', '1-58873307753', '1-69446595020')) ON CONFLICT(case_number) DO UPDATE SET prediction = '1',prediction_time='2022-10-24 20:51:14', prediction_type = 'normal_prediction';"
     ]
    },
    {
     "name": "stderr",
     "output_type": "stream",
     "text": [
      "/opt/conda/lib/python3.9/site-packages/sklearn/base.py:450: UserWarning: X does not have valid feature names, but NearestNeighbors was fitted with feature names\n",
      "  warnings.warn(\n",
      "/opt/conda/lib/python3.9/site-packages/sklearn/base.py:450: UserWarning: X does not have valid feature names, but NearestNeighbors was fitted with feature names\n",
      "  warnings.warn(\n",
      "/opt/conda/lib/python3.9/site-packages/sklearn/base.py:450: UserWarning: X does not have valid feature names, but NearestNeighbors was fitted with feature names\n",
      "  warnings.warn(\n"
     ]
    },
    {
     "name": "stdout",
     "output_type": "stream",
     "text": [
      "INSERT INTO sustainment_predictions (case_number, prediction, prediction_time, prediction_type, closest_case_numbers) \n",
      "            VALUES ('1-69727913145','1', '2022-10-24 20:51:14', 'normal_prediction',('1-65526281858', '1-69681547591', '1-57814568272', '1-69505888798', '1-69463582863')) ON CONFLICT(case_number) DO UPDATE SET prediction = '1',prediction_time='2022-10-24 20:51:14', prediction_type = 'normal_prediction';INSERT INTO sustainment_predictions (case_number, prediction, prediction_time, prediction_type, closest_case_numbers) \n",
      "            VALUES ('1-69622832025','0', '2022-10-24 20:51:14', 'normal_prediction',('1-62324612956', '1-65620129734', '1-421181-242537', '1-69224566959', '1-421181-151961')) ON CONFLICT(case_number) DO UPDATE SET prediction = '0',prediction_time='2022-10-24 20:51:14', prediction_type = 'normal_prediction';INSERT INTO sustainment_predictions (case_number, prediction, prediction_time, prediction_type, closest_case_numbers) \n",
      "            VALUES ('1-69530306670','1', '2022-10-24 20:51:14', 'normal_prediction',('1-58578132533', '1-69314597114', '1-69679124505', '1-62233646293', '1-69530306670')) ON CONFLICT(case_number) DO UPDATE SET prediction = '1',prediction_time='2022-10-24 20:51:14', prediction_type = 'normal_prediction';"
     ]
    },
    {
     "name": "stderr",
     "output_type": "stream",
     "text": [
      "/opt/conda/lib/python3.9/site-packages/sklearn/base.py:450: UserWarning: X does not have valid feature names, but NearestNeighbors was fitted with feature names\n",
      "  warnings.warn(\n",
      "/opt/conda/lib/python3.9/site-packages/sklearn/base.py:450: UserWarning: X does not have valid feature names, but NearestNeighbors was fitted with feature names\n",
      "  warnings.warn(\n",
      "/opt/conda/lib/python3.9/site-packages/sklearn/base.py:450: UserWarning: X does not have valid feature names, but NearestNeighbors was fitted with feature names\n",
      "  warnings.warn(\n",
      "/opt/conda/lib/python3.9/site-packages/sklearn/base.py:450: UserWarning: X does not have valid feature names, but NearestNeighbors was fitted with feature names\n",
      "  warnings.warn(\n"
     ]
    },
    {
     "name": "stdout",
     "output_type": "stream",
     "text": [
      "INSERT INTO sustainment_predictions (case_number, prediction, prediction_time, prediction_type, closest_case_numbers) \n",
      "            VALUES ('1-69487093950','1', '2022-10-24 20:51:14', 'normal_prediction',('1-58289043728', '1-69487093950', '1-58505341711', '1-66042130300', '1-69655935795')) ON CONFLICT(case_number) DO UPDATE SET prediction = '1',prediction_time='2022-10-24 20:51:14', prediction_type = 'normal_prediction';INSERT INTO sustainment_predictions (case_number, prediction, prediction_time, prediction_type, closest_case_numbers) \n",
      "            VALUES ('1-69597868512','0', '2022-10-24 20:51:14', 'normal_prediction',('1-61132985684', '1-65526581707', '1-62186526709', '1-58051660747', '1-61849632882')) ON CONFLICT(case_number) DO UPDATE SET prediction = '0',prediction_time='2022-10-24 20:51:14', prediction_type = 'normal_prediction';INSERT INTO sustainment_predictions (case_number, prediction, prediction_time, prediction_type, closest_case_numbers) \n",
      "            VALUES ('1-69579017944','0', '2022-10-24 20:51:14', 'normal_prediction',('1-69249922359', '1-69473359686', '1-62470410638', '1-69728572262', '1-58449456678')) ON CONFLICT(case_number) DO UPDATE SET prediction = '0',prediction_time='2022-10-24 20:51:14', prediction_type = 'normal_prediction';INSERT INTO sustainment_predictions (case_number, prediction, prediction_time, prediction_type, closest_case_numbers) \n",
      "            VALUES ('1-69538776265','0', '2022-10-24 20:51:14', 'normal_prediction',('1-69541762013', '1-58534840980', '1-58079637996', '1-58547268355', '1-69167492237')) ON CONFLICT(case_number) DO UPDATE SET prediction = '0',prediction_time='2022-10-24 20:51:14', prediction_type = 'normal_prediction';"
     ]
    },
    {
     "name": "stderr",
     "output_type": "stream",
     "text": [
      "/opt/conda/lib/python3.9/site-packages/sklearn/base.py:450: UserWarning: X does not have valid feature names, but NearestNeighbors was fitted with feature names\n",
      "  warnings.warn(\n",
      "/opt/conda/lib/python3.9/site-packages/sklearn/base.py:450: UserWarning: X does not have valid feature names, but NearestNeighbors was fitted with feature names\n",
      "  warnings.warn(\n",
      "/opt/conda/lib/python3.9/site-packages/sklearn/base.py:450: UserWarning: X does not have valid feature names, but NearestNeighbors was fitted with feature names\n",
      "  warnings.warn(\n",
      "/opt/conda/lib/python3.9/site-packages/sklearn/base.py:450: UserWarning: X does not have valid feature names, but NearestNeighbors was fitted with feature names\n",
      "  warnings.warn(\n"
     ]
    },
    {
     "name": "stdout",
     "output_type": "stream",
     "text": [
      "INSERT INTO sustainment_predictions (case_number, prediction, prediction_time, prediction_type, closest_case_numbers) \n",
      "            VALUES ('1-69755516268','0', '2022-10-24 20:51:14', 'normal_prediction',('1-69379116144', '1-65312580012', '1-69291841932', '1-58103383339', '1-62113681275')) ON CONFLICT(case_number) DO UPDATE SET prediction = '0',prediction_time='2022-10-24 20:51:14', prediction_type = 'normal_prediction';INSERT INTO sustainment_predictions (case_number, prediction, prediction_time, prediction_type, closest_case_numbers) \n",
      "            VALUES ('1-69742050950','1', '2022-10-24 20:51:14', 'normal_prediction',('1-62206677814', '1-65150038570', '1-61877408760', '1-58253279005', '1-58871883307')) ON CONFLICT(case_number) DO UPDATE SET prediction = '1',prediction_time='2022-10-24 20:51:14', prediction_type = 'normal_prediction';INSERT INTO sustainment_predictions (case_number, prediction, prediction_time, prediction_type, closest_case_numbers) \n",
      "            VALUES ('1-69056336259','1', '2022-10-24 20:51:14', 'normal_prediction',('1-64683757904', '1-65031593646', '1-69056336259', '1-61149169889', '1-57213329597')) ON CONFLICT(case_number) DO UPDATE SET prediction = '1',prediction_time='2022-10-24 20:51:14', prediction_type = 'normal_prediction';INSERT INTO sustainment_predictions (case_number, prediction, prediction_time, prediction_type, closest_case_numbers) \n",
      "            VALUES ('1-69075967052','1', '2022-10-24 20:51:14', 'normal_prediction',('1-57284393692', '1-57422060918', '1-57312621446', '1-64871712421', '1-57707340827')) ON CONFLICT(case_number) DO UPDATE SET prediction = '1',prediction_time='2022-10-24 20:51:14', prediction_type = 'normal_prediction';"
     ]
    },
    {
     "name": "stderr",
     "output_type": "stream",
     "text": [
      "/opt/conda/lib/python3.9/site-packages/sklearn/base.py:450: UserWarning: X does not have valid feature names, but NearestNeighbors was fitted with feature names\n",
      "  warnings.warn(\n",
      "/opt/conda/lib/python3.9/site-packages/sklearn/base.py:450: UserWarning: X does not have valid feature names, but NearestNeighbors was fitted with feature names\n",
      "  warnings.warn(\n",
      "/opt/conda/lib/python3.9/site-packages/sklearn/base.py:450: UserWarning: X does not have valid feature names, but NearestNeighbors was fitted with feature names\n",
      "  warnings.warn(\n",
      "/opt/conda/lib/python3.9/site-packages/sklearn/base.py:450: UserWarning: X does not have valid feature names, but NearestNeighbors was fitted with feature names\n",
      "  warnings.warn(\n"
     ]
    },
    {
     "name": "stdout",
     "output_type": "stream",
     "text": [
      "INSERT INTO sustainment_predictions (case_number, prediction, prediction_time, prediction_type, closest_case_numbers) \n",
      "            VALUES ('1-69295105682','0', '2022-10-24 20:51:14', 'normal_prediction',('1-69371676343', '1-69533690258', '1-65683100158', '1-62144050849', '1-58655175273')) ON CONFLICT(case_number) DO UPDATE SET prediction = '0',prediction_time='2022-10-24 20:51:14', prediction_type = 'normal_prediction';INSERT INTO sustainment_predictions (case_number, prediction, prediction_time, prediction_type, closest_case_numbers) \n",
      "            VALUES ('1-69144310194','1', '2022-10-24 20:51:14', 'normal_prediction',('1-64342963334', '1-57926762610', '1-69205275199', '1-64207042622', '1-68719910961')) ON CONFLICT(case_number) DO UPDATE SET prediction = '1',prediction_time='2022-10-24 20:51:14', prediction_type = 'normal_prediction';INSERT INTO sustainment_predictions (case_number, prediction, prediction_time, prediction_type, closest_case_numbers) \n",
      "            VALUES ('1-69319465749','1', '2022-10-24 20:51:14', 'normal_prediction',('1-62193008971', '1-69631047900', '1-69563105945', '1-65503112169', '1-69595246477')) ON CONFLICT(case_number) DO UPDATE SET prediction = '1',prediction_time='2022-10-24 20:51:14', prediction_type = 'normal_prediction';INSERT INTO sustainment_predictions (case_number, prediction, prediction_time, prediction_type, closest_case_numbers) \n",
      "            VALUES ('1-69049667052','0', '2022-10-24 20:51:14', 'normal_prediction',('1-61327721378', '1-68358914891', '1-61540336374', '1-61434684724', '1-61167601407')) ON CONFLICT(case_number) DO UPDATE SET prediction = '0',prediction_time='2022-10-24 20:51:14', prediction_type = 'normal_prediction';"
     ]
    },
    {
     "name": "stderr",
     "output_type": "stream",
     "text": [
      "/opt/conda/lib/python3.9/site-packages/sklearn/base.py:450: UserWarning: X does not have valid feature names, but NearestNeighbors was fitted with feature names\n",
      "  warnings.warn(\n",
      "/opt/conda/lib/python3.9/site-packages/sklearn/base.py:450: UserWarning: X does not have valid feature names, but NearestNeighbors was fitted with feature names\n",
      "  warnings.warn(\n",
      "/opt/conda/lib/python3.9/site-packages/sklearn/base.py:450: UserWarning: X does not have valid feature names, but NearestNeighbors was fitted with feature names\n",
      "  warnings.warn(\n",
      "/opt/conda/lib/python3.9/site-packages/sklearn/base.py:450: UserWarning: X does not have valid feature names, but NearestNeighbors was fitted with feature names\n",
      "  warnings.warn(\n"
     ]
    },
    {
     "name": "stdout",
     "output_type": "stream",
     "text": [
      "INSERT INTO sustainment_predictions (case_number, prediction, prediction_time, prediction_type, closest_case_numbers) \n",
      "            VALUES ('1-69050236638','0', '2022-10-24 20:51:14', 'normal_prediction',('1-61123936433', '1-68867332199', '1-60905749367', '1-60946641102', '1-61240298318')) ON CONFLICT(case_number) DO UPDATE SET prediction = '0',prediction_time='2022-10-24 20:51:14', prediction_type = 'normal_prediction';INSERT INTO sustainment_predictions (case_number, prediction, prediction_time, prediction_type, closest_case_numbers) \n",
      "            VALUES ('1-69051449292','1', '2022-10-24 20:51:14', 'normal_prediction',('1-64813576871', '1-64745940744', '1-64278448070', '1-68944252689', '1-57926941703')) ON CONFLICT(case_number) DO UPDATE SET prediction = '1',prediction_time='2022-10-24 20:51:14', prediction_type = 'normal_prediction';INSERT INTO sustainment_predictions (case_number, prediction, prediction_time, prediction_type, closest_case_numbers) \n",
      "            VALUES ('1-69407723858','1', '2022-10-24 20:51:14', 'normal_prediction',('1-69443588831', '1-58754758493', '1-62388611928', '1-65444669804', '1-69407723858')) ON CONFLICT(case_number) DO UPDATE SET prediction = '1',prediction_time='2022-10-24 20:51:14', prediction_type = 'normal_prediction';INSERT INTO sustainment_predictions (case_number, prediction, prediction_time, prediction_type, closest_case_numbers) \n",
      "            VALUES ('1-69060004107','1', '2022-10-24 20:51:14', 'normal_prediction',('1-69083637439', '1-68258742890', '1-68573447918', '1-60904158641', '1-67420514961')) ON CONFLICT(case_number) DO UPDATE SET prediction = '1',prediction_time='2022-10-24 20:51:14', prediction_type = 'normal_prediction';"
     ]
    },
    {
     "name": "stderr",
     "output_type": "stream",
     "text": [
      "/opt/conda/lib/python3.9/site-packages/sklearn/base.py:450: UserWarning: X does not have valid feature names, but NearestNeighbors was fitted with feature names\n",
      "  warnings.warn(\n",
      "/opt/conda/lib/python3.9/site-packages/sklearn/base.py:450: UserWarning: X does not have valid feature names, but NearestNeighbors was fitted with feature names\n",
      "  warnings.warn(\n",
      "/opt/conda/lib/python3.9/site-packages/sklearn/base.py:450: UserWarning: X does not have valid feature names, but NearestNeighbors was fitted with feature names\n",
      "  warnings.warn(\n",
      "/opt/conda/lib/python3.9/site-packages/sklearn/base.py:450: UserWarning: X does not have valid feature names, but NearestNeighbors was fitted with feature names\n",
      "  warnings.warn(\n"
     ]
    },
    {
     "name": "stdout",
     "output_type": "stream",
     "text": [
      "INSERT INTO sustainment_predictions (case_number, prediction, prediction_time, prediction_type, closest_case_numbers) \n",
      "            VALUES ('1-69065589181','1', '2022-10-24 20:51:14', 'normal_prediction',('1-68315090250', '1-57927702002', '1-64863231374', '1-68319599155', '1-64446398680')) ON CONFLICT(case_number) DO UPDATE SET prediction = '1',prediction_time='2022-10-24 20:51:14', prediction_type = 'normal_prediction';INSERT INTO sustainment_predictions (case_number, prediction, prediction_time, prediction_type, closest_case_numbers) \n",
      "            VALUES ('1-69625050474','0', '2022-10-24 20:51:14', 'normal_prediction',('1-63590276089', '1-56726030972', '1-61699286057', '1-69651505790', '1-69318045571')) ON CONFLICT(case_number) DO UPDATE SET prediction = '0',prediction_time='2022-10-24 20:51:14', prediction_type = 'normal_prediction';INSERT INTO sustainment_predictions (case_number, prediction, prediction_time, prediction_type, closest_case_numbers) \n",
      "            VALUES ('1-69483815737','1', '2022-10-24 20:51:14', 'normal_prediction',('1-69483815737', '1-57994782433', '1-61907509014', '1-62213684913', '1-66053759868')) ON CONFLICT(case_number) DO UPDATE SET prediction = '1',prediction_time='2022-10-24 20:51:14', prediction_type = 'normal_prediction';INSERT INTO sustainment_predictions (case_number, prediction, prediction_time, prediction_type, closest_case_numbers) \n",
      "            VALUES ('1-69666219104','1', '2022-10-24 20:51:14', 'normal_prediction',('1-69407016666', '1-61811438804', '1-65907114677', '1-69760816717', '1-61920188044')) ON CONFLICT(case_number) DO UPDATE SET prediction = '1',prediction_time='2022-10-24 20:51:14', prediction_type = 'normal_prediction';"
     ]
    },
    {
     "name": "stderr",
     "output_type": "stream",
     "text": [
      "/opt/conda/lib/python3.9/site-packages/sklearn/base.py:450: UserWarning: X does not have valid feature names, but NearestNeighbors was fitted with feature names\n",
      "  warnings.warn(\n",
      "/opt/conda/lib/python3.9/site-packages/sklearn/base.py:450: UserWarning: X does not have valid feature names, but NearestNeighbors was fitted with feature names\n",
      "  warnings.warn(\n",
      "/opt/conda/lib/python3.9/site-packages/sklearn/base.py:450: UserWarning: X does not have valid feature names, but NearestNeighbors was fitted with feature names\n",
      "  warnings.warn(\n",
      "/opt/conda/lib/python3.9/site-packages/sklearn/base.py:450: UserWarning: X does not have valid feature names, but NearestNeighbors was fitted with feature names\n",
      "  warnings.warn(\n"
     ]
    },
    {
     "name": "stdout",
     "output_type": "stream",
     "text": [
      "INSERT INTO sustainment_predictions (case_number, prediction, prediction_time, prediction_type, closest_case_numbers) \n",
      "            VALUES ('1-69614226329','0', '2022-10-24 20:51:14', 'normal_prediction',('1-69614226329', '1-58067328314', '1-61924009529', '1-65441646696', '1-62440401373')) ON CONFLICT(case_number) DO UPDATE SET prediction = '0',prediction_time='2022-10-24 20:51:14', prediction_type = 'normal_prediction';INSERT INTO sustainment_predictions (case_number, prediction, prediction_time, prediction_type, closest_case_numbers) \n",
      "            VALUES ('1-69677827375','1', '2022-10-24 20:51:14', 'normal_prediction',('1-69251774312', '1-65134870669', '1-69657175725', '1-62188758948', '1-69445613633')) ON CONFLICT(case_number) DO UPDATE SET prediction = '1',prediction_time='2022-10-24 20:51:14', prediction_type = 'normal_prediction';INSERT INTO sustainment_predictions (case_number, prediction, prediction_time, prediction_type, closest_case_numbers) \n",
      "            VALUES ('1-69567183836','1', '2022-10-24 20:51:14', 'normal_prediction',('1-69568075902', '1-65889436964', '1-69483971774', '1-421157-5364', '1-421173-189329')) ON CONFLICT(case_number) DO UPDATE SET prediction = '1',prediction_time='2022-10-24 20:51:14', prediction_type = 'normal_prediction';INSERT INTO sustainment_predictions (case_number, prediction, prediction_time, prediction_type, closest_case_numbers) \n",
      "            VALUES ('1-69510181809','1', '2022-10-24 20:51:14', 'normal_prediction',('1-69510181809', '1-58615183136', '1-66086852009', '1-62290897960', '1-69580612912')) ON CONFLICT(case_number) DO UPDATE SET prediction = '1',prediction_time='2022-10-24 20:51:14', prediction_type = 'normal_prediction';"
     ]
    },
    {
     "name": "stderr",
     "output_type": "stream",
     "text": [
      "/opt/conda/lib/python3.9/site-packages/sklearn/base.py:450: UserWarning: X does not have valid feature names, but NearestNeighbors was fitted with feature names\n",
      "  warnings.warn(\n",
      "/opt/conda/lib/python3.9/site-packages/sklearn/base.py:450: UserWarning: X does not have valid feature names, but NearestNeighbors was fitted with feature names\n",
      "  warnings.warn(\n",
      "/opt/conda/lib/python3.9/site-packages/sklearn/base.py:450: UserWarning: X does not have valid feature names, but NearestNeighbors was fitted with feature names\n",
      "  warnings.warn(\n",
      "/opt/conda/lib/python3.9/site-packages/sklearn/base.py:450: UserWarning: X does not have valid feature names, but NearestNeighbors was fitted with feature names\n",
      "  warnings.warn(\n"
     ]
    },
    {
     "name": "stdout",
     "output_type": "stream",
     "text": [
      "INSERT INTO sustainment_predictions (case_number, prediction, prediction_time, prediction_type, closest_case_numbers) \n",
      "            VALUES ('1-69746782531','1', '2022-10-24 20:51:14', 'normal_prediction',('1-61769536734', '1-58116175358', '1-62379371496', '1-58895558577', '1-69476959448')) ON CONFLICT(case_number) DO UPDATE SET prediction = '1',prediction_time='2022-10-24 20:51:14', prediction_type = 'normal_prediction';INSERT INTO sustainment_predictions (case_number, prediction, prediction_time, prediction_type, closest_case_numbers) \n",
      "            VALUES ('1-421157-423937','0', '2022-10-24 20:51:14', 'normal_prediction',('1-62003750219', '1-421157-96230', '1-421157-150340', '1-421161-46731', '1-421157-55915')) ON CONFLICT(case_number) DO UPDATE SET prediction = '0',prediction_time='2022-10-24 20:51:14', prediction_type = 'normal_prediction';INSERT INTO sustainment_predictions (case_number, prediction, prediction_time, prediction_type, closest_case_numbers) \n",
      "            VALUES ('1-69238441507','1', '2022-10-24 20:51:14', 'normal_prediction',('1-69238441507', '1-65224239489', '1-65797890291', '1-58788646188', '1-69370134542')) ON CONFLICT(case_number) DO UPDATE SET prediction = '1',prediction_time='2022-10-24 20:51:14', prediction_type = 'normal_prediction';INSERT INTO sustainment_predictions (case_number, prediction, prediction_time, prediction_type, closest_case_numbers) \n",
      "            VALUES ('1-69075784720','1', '2022-10-24 20:51:14', 'normal_prediction',('1-69075784720', '1-60962128231', '1-68573592664', '1-57561110328', '1-64863071854')) ON CONFLICT(case_number) DO UPDATE SET prediction = '1',prediction_time='2022-10-24 20:51:14', prediction_type = 'normal_prediction';"
     ]
    },
    {
     "name": "stderr",
     "output_type": "stream",
     "text": [
      "/opt/conda/lib/python3.9/site-packages/sklearn/base.py:450: UserWarning: X does not have valid feature names, but NearestNeighbors was fitted with feature names\n",
      "  warnings.warn(\n",
      "/opt/conda/lib/python3.9/site-packages/sklearn/base.py:450: UserWarning: X does not have valid feature names, but NearestNeighbors was fitted with feature names\n",
      "  warnings.warn(\n",
      "/opt/conda/lib/python3.9/site-packages/sklearn/base.py:450: UserWarning: X does not have valid feature names, but NearestNeighbors was fitted with feature names\n",
      "  warnings.warn(\n",
      "/opt/conda/lib/python3.9/site-packages/sklearn/base.py:450: UserWarning: X does not have valid feature names, but NearestNeighbors was fitted with feature names\n",
      "  warnings.warn(\n"
     ]
    },
    {
     "name": "stdout",
     "output_type": "stream",
     "text": [
      "INSERT INTO sustainment_predictions (case_number, prediction, prediction_time, prediction_type, closest_case_numbers) \n",
      "            VALUES ('1-69302331720','0', '2022-10-24 20:51:14', 'normal_prediction',('1-62027868219', '1-69318660123', '1-64125257610', '1-58760359443', '1-62165417478')) ON CONFLICT(case_number) DO UPDATE SET prediction = '0',prediction_time='2022-10-24 20:51:14', prediction_type = 'normal_prediction';INSERT INTO sustainment_predictions (case_number, prediction, prediction_time, prediction_type, closest_case_numbers) \n",
      "            VALUES ('1-69146245536','1', '2022-10-24 20:51:14', 'normal_prediction',('1-65952605044', '1-58786010850', '1-58872297735', '1-62380077023', '1-69448429130')) ON CONFLICT(case_number) DO UPDATE SET prediction = '1',prediction_time='2022-10-24 20:51:14', prediction_type = 'normal_prediction';INSERT INTO sustainment_predictions (case_number, prediction, prediction_time, prediction_type, closest_case_numbers) \n",
      "            VALUES ('1-69316678542','0', '2022-10-24 20:51:14', 'normal_prediction',('1-69463538523', '1-58669098271', '1-58832795705', '1-65178000217', '1-69520679054')) ON CONFLICT(case_number) DO UPDATE SET prediction = '0',prediction_time='2022-10-24 20:51:14', prediction_type = 'normal_prediction';INSERT INTO sustainment_predictions (case_number, prediction, prediction_time, prediction_type, closest_case_numbers) \n",
      "            VALUES ('1-69182002001','0', '2022-10-24 20:51:14', 'normal_prediction',('1-64862388660', '1-69028429983', '1-60984531916', '1-68509224390', '1-57603316937')) ON CONFLICT(case_number) DO UPDATE SET prediction = '0',prediction_time='2022-10-24 20:51:14', prediction_type = 'normal_prediction';"
     ]
    },
    {
     "name": "stderr",
     "output_type": "stream",
     "text": [
      "/opt/conda/lib/python3.9/site-packages/sklearn/base.py:450: UserWarning: X does not have valid feature names, but NearestNeighbors was fitted with feature names\n",
      "  warnings.warn(\n",
      "/opt/conda/lib/python3.9/site-packages/sklearn/base.py:450: UserWarning: X does not have valid feature names, but NearestNeighbors was fitted with feature names\n",
      "  warnings.warn(\n",
      "/opt/conda/lib/python3.9/site-packages/sklearn/base.py:450: UserWarning: X does not have valid feature names, but NearestNeighbors was fitted with feature names\n",
      "  warnings.warn(\n",
      "/opt/conda/lib/python3.9/site-packages/sklearn/base.py:450: UserWarning: X does not have valid feature names, but NearestNeighbors was fitted with feature names\n",
      "  warnings.warn(\n"
     ]
    },
    {
     "name": "stdout",
     "output_type": "stream",
     "text": [
      "INSERT INTO sustainment_predictions (case_number, prediction, prediction_time, prediction_type, closest_case_numbers) \n",
      "            VALUES ('1-69100254517','0', '2022-10-24 20:51:14', 'normal_prediction',('1-64693675372', '1-57927748592', '1-69101788702', '1-64905061814', '1-61400964998')) ON CONFLICT(case_number) DO UPDATE SET prediction = '0',prediction_time='2022-10-24 20:51:14', prediction_type = 'normal_prediction';INSERT INTO sustainment_predictions (case_number, prediction, prediction_time, prediction_type, closest_case_numbers) \n",
      "            VALUES ('1-69106312513','1', '2022-10-24 20:51:14', 'normal_prediction',('1-64277145012', '1-68488528648', '1-64841047878', '1-68933295189', '1-64904264782')) ON CONFLICT(case_number) DO UPDATE SET prediction = '1',prediction_time='2022-10-24 20:51:14', prediction_type = 'normal_prediction';INSERT INTO sustainment_predictions (case_number, prediction, prediction_time, prediction_type, closest_case_numbers) \n",
      "            VALUES ('1-69351441645','0', '2022-10-24 20:51:14', 'normal_prediction',('1-56706075791', '1-56955638102', '1-58110771238', '1-63747853534', '1-64714938643')) ON CONFLICT(case_number) DO UPDATE SET prediction = '0',prediction_time='2022-10-24 20:51:14', prediction_type = 'normal_prediction';INSERT INTO sustainment_predictions (case_number, prediction, prediction_time, prediction_type, closest_case_numbers) \n",
      "            VALUES ('1-69444954181','1', '2022-10-24 20:51:14', 'normal_prediction',('1-58603685621', '1-58508077998', '1-69543155839', '1-69670496329', '1-69444954181')) ON CONFLICT(case_number) DO UPDATE SET prediction = '1',prediction_time='2022-10-24 20:51:14', prediction_type = 'normal_prediction';"
     ]
    },
    {
     "name": "stderr",
     "output_type": "stream",
     "text": [
      "/opt/conda/lib/python3.9/site-packages/sklearn/base.py:450: UserWarning: X does not have valid feature names, but NearestNeighbors was fitted with feature names\n",
      "  warnings.warn(\n",
      "/opt/conda/lib/python3.9/site-packages/sklearn/base.py:450: UserWarning: X does not have valid feature names, but NearestNeighbors was fitted with feature names\n",
      "  warnings.warn(\n",
      "/opt/conda/lib/python3.9/site-packages/sklearn/base.py:450: UserWarning: X does not have valid feature names, but NearestNeighbors was fitted with feature names\n",
      "  warnings.warn(\n",
      "/opt/conda/lib/python3.9/site-packages/sklearn/base.py:450: UserWarning: X does not have valid feature names, but NearestNeighbors was fitted with feature names\n",
      "  warnings.warn(\n"
     ]
    },
    {
     "name": "stdout",
     "output_type": "stream",
     "text": [
      "INSERT INTO sustainment_predictions (case_number, prediction, prediction_time, prediction_type, closest_case_numbers) \n",
      "            VALUES ('1-69223707668','1', '2022-10-24 20:51:14', 'normal_prediction',('1-61144825146', '1-68592098726', '1-57550490652', '1-57743476375', '1-57788183366')) ON CONFLICT(case_number) DO UPDATE SET prediction = '1',prediction_time='2022-10-24 20:51:14', prediction_type = 'normal_prediction';INSERT INTO sustainment_predictions (case_number, prediction, prediction_time, prediction_type, closest_case_numbers) \n",
      "            VALUES ('1-69467989018','1', '2022-10-24 20:51:14', 'normal_prediction',('1-69381687938', '1-58378535286', '1-58114460161', '1-58808267681', '1-69467989018')) ON CONFLICT(case_number) DO UPDATE SET prediction = '1',prediction_time='2022-10-24 20:51:14', prediction_type = 'normal_prediction';INSERT INTO sustainment_predictions (case_number, prediction, prediction_time, prediction_type, closest_case_numbers) \n",
      "            VALUES ('1-69473200771','1', '2022-10-24 20:51:14', 'normal_prediction',('1-69473200771', '1-61983780404', '1-58402621945', '1-65478948280', '1-69668632296')) ON CONFLICT(case_number) DO UPDATE SET prediction = '1',prediction_time='2022-10-24 20:51:14', prediction_type = 'normal_prediction';INSERT INTO sustainment_predictions (case_number, prediction, prediction_time, prediction_type, closest_case_numbers) \n",
      "            VALUES ('1-69207503824','1', '2022-10-24 20:51:14', 'normal_prediction',('1-69071789833', '1-68640675015', '1-68500351620', '1-57438900473', '1-68959072103')) ON CONFLICT(case_number) DO UPDATE SET prediction = '1',prediction_time='2022-10-24 20:51:14', prediction_type = 'normal_prediction';"
     ]
    },
    {
     "name": "stderr",
     "output_type": "stream",
     "text": [
      "/opt/conda/lib/python3.9/site-packages/sklearn/base.py:450: UserWarning: X does not have valid feature names, but NearestNeighbors was fitted with feature names\n",
      "  warnings.warn(\n",
      "/opt/conda/lib/python3.9/site-packages/sklearn/base.py:450: UserWarning: X does not have valid feature names, but NearestNeighbors was fitted with feature names\n",
      "  warnings.warn(\n",
      "/opt/conda/lib/python3.9/site-packages/sklearn/base.py:450: UserWarning: X does not have valid feature names, but NearestNeighbors was fitted with feature names\n",
      "  warnings.warn(\n",
      "/opt/conda/lib/python3.9/site-packages/sklearn/base.py:450: UserWarning: X does not have valid feature names, but NearestNeighbors was fitted with feature names\n",
      "  warnings.warn(\n"
     ]
    },
    {
     "name": "stdout",
     "output_type": "stream",
     "text": [
      "INSERT INTO sustainment_predictions (case_number, prediction, prediction_time, prediction_type, closest_case_numbers) \n",
      "            VALUES ('1-69366413355','1', '2022-10-24 20:51:14', 'normal_prediction',('1-58530194096', '1-69520836193', '1-58269451816', '1-58787233501', '1-69366413355')) ON CONFLICT(case_number) DO UPDATE SET prediction = '1',prediction_time='2022-10-24 20:51:14', prediction_type = 'normal_prediction';INSERT INTO sustainment_predictions (case_number, prediction, prediction_time, prediction_type, closest_case_numbers) \n",
      "            VALUES ('1-69175793238','1', '2022-10-24 20:51:14', 'normal_prediction',('1-57327013244', '1-61213144788', '1-57743387571', '1-69021980874', '1-68460641117')) ON CONFLICT(case_number) DO UPDATE SET prediction = '1',prediction_time='2022-10-24 20:51:14', prediction_type = 'normal_prediction';INSERT INTO sustainment_predictions (case_number, prediction, prediction_time, prediction_type, closest_case_numbers) \n",
      "            VALUES ('1-69659595064','1', '2022-10-24 20:51:14', 'normal_prediction',('1-58037133488', '1-69396328701', '1-58836543209', '1-58006039058', '1-69659595064')) ON CONFLICT(case_number) DO UPDATE SET prediction = '1',prediction_time='2022-10-24 20:51:14', prediction_type = 'normal_prediction';INSERT INTO sustainment_predictions (case_number, prediction, prediction_time, prediction_type, closest_case_numbers) \n",
      "            VALUES ('1-69727880670','1', '2022-10-24 20:51:14', 'normal_prediction',('1-62448486479', '1-57152661839', '1-65637636499', '1-60824241856', '1-61659294494')) ON CONFLICT(case_number) DO UPDATE SET prediction = '1',prediction_time='2022-10-24 20:51:14', prediction_type = 'normal_prediction';"
     ]
    },
    {
     "name": "stderr",
     "output_type": "stream",
     "text": [
      "/opt/conda/lib/python3.9/site-packages/sklearn/base.py:450: UserWarning: X does not have valid feature names, but NearestNeighbors was fitted with feature names\n",
      "  warnings.warn(\n",
      "/opt/conda/lib/python3.9/site-packages/sklearn/base.py:450: UserWarning: X does not have valid feature names, but NearestNeighbors was fitted with feature names\n",
      "  warnings.warn(\n",
      "/opt/conda/lib/python3.9/site-packages/sklearn/base.py:450: UserWarning: X does not have valid feature names, but NearestNeighbors was fitted with feature names\n",
      "  warnings.warn(\n",
      "/opt/conda/lib/python3.9/site-packages/sklearn/base.py:450: UserWarning: X does not have valid feature names, but NearestNeighbors was fitted with feature names\n",
      "  warnings.warn(\n"
     ]
    },
    {
     "name": "stdout",
     "output_type": "stream",
     "text": [
      "INSERT INTO sustainment_predictions (case_number, prediction, prediction_time, prediction_type, closest_case_numbers) \n",
      "            VALUES ('1-69655935795','1', '2022-10-24 20:51:14', 'normal_prediction',('1-58289043728', '1-69487093950', '1-58505341711', '1-66042130300', '1-69655935795')) ON CONFLICT(case_number) DO UPDATE SET prediction = '1',prediction_time='2022-10-24 20:51:14', prediction_type = 'normal_prediction';INSERT INTO sustainment_predictions (case_number, prediction, prediction_time, prediction_type, closest_case_numbers) \n",
      "            VALUES ('1-69656866174','0', '2022-10-24 20:51:14', 'normal_prediction',('1-69656866174', '1-69244868965', '1-65677930837', '1-65173913189', '1-58123150723')) ON CONFLICT(case_number) DO UPDATE SET prediction = '0',prediction_time='2022-10-24 20:51:14', prediction_type = 'normal_prediction';INSERT INTO sustainment_predictions (case_number, prediction, prediction_time, prediction_type, closest_case_numbers) \n",
      "            VALUES ('1-69656969825','1', '2022-10-24 20:51:14', 'normal_prediction',('1-69656969825', '1-69342284918', '1-61779452791', '1-65493768658', '1-58135824556')) ON CONFLICT(case_number) DO UPDATE SET prediction = '1',prediction_time='2022-10-24 20:51:14', prediction_type = 'normal_prediction';INSERT INTO sustainment_predictions (case_number, prediction, prediction_time, prediction_type, closest_case_numbers) \n",
      "            VALUES ('1-69683701496','0', '2022-10-24 20:51:14', 'normal_prediction',('1-69580821885', '1-59145758986', '1-69295979010', '1-69533566148', '1-58593512172')) ON CONFLICT(case_number) DO UPDATE SET prediction = '0',prediction_time='2022-10-24 20:51:14', prediction_type = 'normal_prediction';"
     ]
    },
    {
     "name": "stderr",
     "output_type": "stream",
     "text": [
      "/opt/conda/lib/python3.9/site-packages/sklearn/base.py:450: UserWarning: X does not have valid feature names, but NearestNeighbors was fitted with feature names\n",
      "  warnings.warn(\n",
      "/opt/conda/lib/python3.9/site-packages/sklearn/base.py:450: UserWarning: X does not have valid feature names, but NearestNeighbors was fitted with feature names\n",
      "  warnings.warn(\n",
      "/opt/conda/lib/python3.9/site-packages/sklearn/base.py:450: UserWarning: X does not have valid feature names, but NearestNeighbors was fitted with feature names\n",
      "  warnings.warn(\n",
      "/opt/conda/lib/python3.9/site-packages/sklearn/base.py:450: UserWarning: X does not have valid feature names, but NearestNeighbors was fitted with feature names\n",
      "  warnings.warn(\n"
     ]
    },
    {
     "name": "stdout",
     "output_type": "stream",
     "text": [
      "INSERT INTO sustainment_predictions (case_number, prediction, prediction_time, prediction_type, closest_case_numbers) \n",
      "            VALUES ('1-69753527400','1', '2022-10-24 20:51:14', 'normal_prediction',('1-58882297108', '1-61605934125', '1-58529507864', '1-69291151461', '1-69753527400')) ON CONFLICT(case_number) DO UPDATE SET prediction = '1',prediction_time='2022-10-24 20:51:14', prediction_type = 'normal_prediction';INSERT INTO sustainment_predictions (case_number, prediction, prediction_time, prediction_type, closest_case_numbers) \n",
      "            VALUES ('1-69760816717','1', '2022-10-24 20:51:14', 'normal_prediction',('1-69760816717', '1-61811438804', '1-69666219104', '1-69407016666', '1-66130133179')) ON CONFLICT(case_number) DO UPDATE SET prediction = '1',prediction_time='2022-10-24 20:51:14', prediction_type = 'normal_prediction';INSERT INTO sustainment_predictions (case_number, prediction, prediction_time, prediction_type, closest_case_numbers) \n",
      "            VALUES ('1-69638965264','0', '2022-10-24 20:51:14', 'normal_prediction',('1-62240091421', '1-57423063247', '1-58401711083', '1-65323885353', '1-61716910028')) ON CONFLICT(case_number) DO UPDATE SET prediction = '0',prediction_time='2022-10-24 20:51:14', prediction_type = 'normal_prediction';INSERT INTO sustainment_predictions (case_number, prediction, prediction_time, prediction_type, closest_case_numbers) \n",
      "            VALUES ('1-63705871267','1', '2022-10-24 20:51:14', 'normal_prediction',('1-63705871267', '1-68804595199', '1-65218875039', '1-61980872351', '1-58620821874')) ON CONFLICT(case_number) DO UPDATE SET prediction = '1',prediction_time='2022-10-24 20:51:14', prediction_type = 'normal_prediction';"
     ]
    },
    {
     "name": "stderr",
     "output_type": "stream",
     "text": [
      "/opt/conda/lib/python3.9/site-packages/sklearn/base.py:450: UserWarning: X does not have valid feature names, but NearestNeighbors was fitted with feature names\n",
      "  warnings.warn(\n",
      "/opt/conda/lib/python3.9/site-packages/sklearn/base.py:450: UserWarning: X does not have valid feature names, but NearestNeighbors was fitted with feature names\n",
      "  warnings.warn(\n",
      "/opt/conda/lib/python3.9/site-packages/sklearn/base.py:450: UserWarning: X does not have valid feature names, but NearestNeighbors was fitted with feature names\n",
      "  warnings.warn(\n",
      "/opt/conda/lib/python3.9/site-packages/sklearn/base.py:450: UserWarning: X does not have valid feature names, but NearestNeighbors was fitted with feature names\n",
      "  warnings.warn(\n"
     ]
    },
    {
     "name": "stdout",
     "output_type": "stream",
     "text": [
      "INSERT INTO sustainment_predictions (case_number, prediction, prediction_time, prediction_type, closest_case_numbers) \n",
      "            VALUES ('1-69073062488','1', '2022-10-24 20:51:14', 'normal_prediction',('1-57628899425', '1-64553904002', '1-69036803438', '1-64743777474', '1-68376074238')) ON CONFLICT(case_number) DO UPDATE SET prediction = '1',prediction_time='2022-10-24 20:51:14', prediction_type = 'normal_prediction';INSERT INTO sustainment_predictions (case_number, prediction, prediction_time, prediction_type, closest_case_numbers) \n",
      "            VALUES ('1-69089112964','0', '2022-10-24 20:51:14', 'normal_prediction',('1-68405074596', '1-68426186891', '1-63400974062', '1-57777402060', '1-68335109023')) ON CONFLICT(case_number) DO UPDATE SET prediction = '0',prediction_time='2022-10-24 20:51:14', prediction_type = 'normal_prediction';INSERT INTO sustainment_predictions (case_number, prediction, prediction_time, prediction_type, closest_case_numbers) \n",
      "            VALUES ('1-69052318705','1', '2022-10-24 20:51:14', 'normal_prediction',('1-61576374008', '1-68787526382', '1-68974474685', '1-68926068090', '1-69084913124')) ON CONFLICT(case_number) DO UPDATE SET prediction = '1',prediction_time='2022-10-24 20:51:14', prediction_type = 'normal_prediction';INSERT INTO sustainment_predictions (case_number, prediction, prediction_time, prediction_type, closest_case_numbers) \n",
      "            VALUES ('1-69225979796','0', '2022-10-24 20:51:14', 'normal_prediction',('1-58004141712', '1-58703323140', '1-69474098373', '1-58702231658', '1-69622681003')) ON CONFLICT(case_number) DO UPDATE SET prediction = '0',prediction_time='2022-10-24 20:51:14', prediction_type = 'normal_prediction';"
     ]
    },
    {
     "name": "stderr",
     "output_type": "stream",
     "text": [
      "/opt/conda/lib/python3.9/site-packages/sklearn/base.py:450: UserWarning: X does not have valid feature names, but NearestNeighbors was fitted with feature names\n",
      "  warnings.warn(\n",
      "/opt/conda/lib/python3.9/site-packages/sklearn/base.py:450: UserWarning: X does not have valid feature names, but NearestNeighbors was fitted with feature names\n",
      "  warnings.warn(\n",
      "/opt/conda/lib/python3.9/site-packages/sklearn/base.py:450: UserWarning: X does not have valid feature names, but NearestNeighbors was fitted with feature names\n",
      "  warnings.warn(\n",
      "/opt/conda/lib/python3.9/site-packages/sklearn/base.py:450: UserWarning: X does not have valid feature names, but NearestNeighbors was fitted with feature names\n",
      "  warnings.warn(\n"
     ]
    },
    {
     "name": "stdout",
     "output_type": "stream",
     "text": [
      "INSERT INTO sustainment_predictions (case_number, prediction, prediction_time, prediction_type, closest_case_numbers) \n",
      "            VALUES ('1-69365384281','0', '2022-10-24 20:51:14', 'normal_prediction',('1-69391927548', '1-57860526046', '1-62311306272', '1-61827092105', '1-65169415986')) ON CONFLICT(case_number) DO UPDATE SET prediction = '0',prediction_time='2022-10-24 20:51:14', prediction_type = 'normal_prediction';INSERT INTO sustainment_predictions (case_number, prediction, prediction_time, prediction_type, closest_case_numbers) \n",
      "            VALUES ('1-69176360719','0', '2022-10-24 20:51:14', 'normal_prediction',('1-68714977276', '1-62242379678', '1-57900667756', '1-68491803527', '1-69745932551')) ON CONFLICT(case_number) DO UPDATE SET prediction = '0',prediction_time='2022-10-24 20:51:14', prediction_type = 'normal_prediction';INSERT INTO sustainment_predictions (case_number, prediction, prediction_time, prediction_type, closest_case_numbers) \n",
      "            VALUES ('1-69755240195','1', '2022-10-24 20:51:14', 'normal_prediction',('1-58835484602', '1-69621375054', '1-69725101723', '1-69758146172', '1-58096968320')) ON CONFLICT(case_number) DO UPDATE SET prediction = '1',prediction_time='2022-10-24 20:51:14', prediction_type = 'normal_prediction';INSERT INTO sustainment_predictions (case_number, prediction, prediction_time, prediction_type, closest_case_numbers) \n",
      "            VALUES ('1-69643536293','1', '2022-10-24 20:51:14', 'normal_prediction',('1-61887011964', '1-58225445731', '1-58099184288', '1-65970171463', '1-65139850320')) ON CONFLICT(case_number) DO UPDATE SET prediction = '1',prediction_time='2022-10-24 20:51:14', prediction_type = 'normal_prediction';"
     ]
    },
    {
     "name": "stderr",
     "output_type": "stream",
     "text": [
      "/opt/conda/lib/python3.9/site-packages/sklearn/base.py:450: UserWarning: X does not have valid feature names, but NearestNeighbors was fitted with feature names\n",
      "  warnings.warn(\n",
      "/opt/conda/lib/python3.9/site-packages/sklearn/base.py:450: UserWarning: X does not have valid feature names, but NearestNeighbors was fitted with feature names\n",
      "  warnings.warn(\n",
      "/opt/conda/lib/python3.9/site-packages/sklearn/base.py:450: UserWarning: X does not have valid feature names, but NearestNeighbors was fitted with feature names\n",
      "  warnings.warn(\n",
      "/opt/conda/lib/python3.9/site-packages/sklearn/base.py:450: UserWarning: X does not have valid feature names, but NearestNeighbors was fitted with feature names\n",
      "  warnings.warn(\n"
     ]
    },
    {
     "name": "stdout",
     "output_type": "stream",
     "text": [
      "INSERT INTO sustainment_predictions (case_number, prediction, prediction_time, prediction_type, closest_case_numbers) \n",
      "            VALUES ('1-69514678520','0', '2022-10-24 20:51:14', 'normal_prediction',('1-65554502737', '1-65412857192', '1-62378458151', '1-58697684596', '1-69539770148')) ON CONFLICT(case_number) DO UPDATE SET prediction = '0',prediction_time='2022-10-24 20:51:14', prediction_type = 'normal_prediction';INSERT INTO sustainment_predictions (case_number, prediction, prediction_time, prediction_type, closest_case_numbers) \n",
      "            VALUES ('1-69307890865','1', '2022-10-24 20:51:14', 'normal_prediction',('1-61771610165', '1-58761272158', '1-69474489743', '1-69369065093', '1-58725605280')) ON CONFLICT(case_number) DO UPDATE SET prediction = '1',prediction_time='2022-10-24 20:51:14', prediction_type = 'normal_prediction';INSERT INTO sustainment_predictions (case_number, prediction, prediction_time, prediction_type, closest_case_numbers) \n",
      "            VALUES ('1-69290567841','0', '2022-10-24 20:51:14', 'normal_prediction',('1-65474111875', '1-58211458583', '1-69671152439', '1-58883965265', '1-58661017613')) ON CONFLICT(case_number) DO UPDATE SET prediction = '0',prediction_time='2022-10-24 20:51:14', prediction_type = 'normal_prediction';INSERT INTO sustainment_predictions (case_number, prediction, prediction_time, prediction_type, closest_case_numbers) \n",
      "            VALUES ('1-69251552243','1', '2022-10-24 20:51:14', 'normal_prediction',('1-65974016589', '1-69242140446', '1-58075571961', '1-58662760583', '1-58557656845')) ON CONFLICT(case_number) DO UPDATE SET prediction = '1',prediction_time='2022-10-24 20:51:14', prediction_type = 'normal_prediction';"
     ]
    },
    {
     "name": "stderr",
     "output_type": "stream",
     "text": [
      "/opt/conda/lib/python3.9/site-packages/sklearn/base.py:450: UserWarning: X does not have valid feature names, but NearestNeighbors was fitted with feature names\n",
      "  warnings.warn(\n",
      "/opt/conda/lib/python3.9/site-packages/sklearn/base.py:450: UserWarning: X does not have valid feature names, but NearestNeighbors was fitted with feature names\n",
      "  warnings.warn(\n",
      "/opt/conda/lib/python3.9/site-packages/sklearn/base.py:450: UserWarning: X does not have valid feature names, but NearestNeighbors was fitted with feature names\n",
      "  warnings.warn(\n",
      "/opt/conda/lib/python3.9/site-packages/sklearn/base.py:450: UserWarning: X does not have valid feature names, but NearestNeighbors was fitted with feature names\n",
      "  warnings.warn(\n"
     ]
    },
    {
     "name": "stdout",
     "output_type": "stream",
     "text": [
      "INSERT INTO sustainment_predictions (case_number, prediction, prediction_time, prediction_type, closest_case_numbers) \n",
      "            VALUES ('1-69344642837','1', '2022-10-24 20:51:14', 'normal_prediction',('1-69344642837', '1-69396542966', '1-65149367341', '1-61771700006', '1-65337816211')) ON CONFLICT(case_number) DO UPDATE SET prediction = '1',prediction_time='2022-10-24 20:51:14', prediction_type = 'normal_prediction';INSERT INTO sustainment_predictions (case_number, prediction, prediction_time, prediction_type, closest_case_numbers) \n",
      "            VALUES ('1-69039416183','1', '2022-10-24 20:51:14', 'normal_prediction',('1-69039416183', '1-68518532558', '1-57602666006', '1-68728703162', '1-57539939063')) ON CONFLICT(case_number) DO UPDATE SET prediction = '1',prediction_time='2022-10-24 20:51:14', prediction_type = 'normal_prediction';INSERT INTO sustainment_predictions (case_number, prediction, prediction_time, prediction_type, closest_case_numbers) \n",
      "            VALUES ('1-69211636948','0', '2022-10-24 20:51:14', 'normal_prediction',('1-69211636948', '1-57781751390', '1-59500515128', '1-64997290882', '1-57646515051')) ON CONFLICT(case_number) DO UPDATE SET prediction = '0',prediction_time='2022-10-24 20:51:14', prediction_type = 'normal_prediction';INSERT INTO sustainment_predictions (case_number, prediction, prediction_time, prediction_type, closest_case_numbers) \n",
      "            VALUES ('1-69461038840','1', '2022-10-24 20:51:14', 'normal_prediction',('1-69383469510', '1-58810514680', '1-57967584666', '1-58684867143', '1-69303592029')) ON CONFLICT(case_number) DO UPDATE SET prediction = '1',prediction_time='2022-10-24 20:51:14', prediction_type = 'normal_prediction';"
     ]
    },
    {
     "name": "stderr",
     "output_type": "stream",
     "text": [
      "/opt/conda/lib/python3.9/site-packages/sklearn/base.py:450: UserWarning: X does not have valid feature names, but NearestNeighbors was fitted with feature names\n",
      "  warnings.warn(\n",
      "/opt/conda/lib/python3.9/site-packages/sklearn/base.py:450: UserWarning: X does not have valid feature names, but NearestNeighbors was fitted with feature names\n",
      "  warnings.warn(\n",
      "/opt/conda/lib/python3.9/site-packages/sklearn/base.py:450: UserWarning: X does not have valid feature names, but NearestNeighbors was fitted with feature names\n",
      "  warnings.warn(\n",
      "/opt/conda/lib/python3.9/site-packages/sklearn/base.py:450: UserWarning: X does not have valid feature names, but NearestNeighbors was fitted with feature names\n",
      "  warnings.warn(\n"
     ]
    },
    {
     "name": "stdout",
     "output_type": "stream",
     "text": [
      "INSERT INTO sustainment_predictions (case_number, prediction, prediction_time, prediction_type, closest_case_numbers) \n",
      "            VALUES ('1-69186365500','1', '2022-10-24 20:51:14', 'normal_prediction',('1-64594382605', '1-57131677187', '1-68818784649', '1-57118075444', '1-57035629744')) ON CONFLICT(case_number) DO UPDATE SET prediction = '1',prediction_time='2022-10-24 20:51:14', prediction_type = 'normal_prediction';INSERT INTO sustainment_predictions (case_number, prediction, prediction_time, prediction_type, closest_case_numbers) \n",
      "            VALUES ('1-69463771558','1', '2022-10-24 20:51:14', 'normal_prediction',('1-58329129078', '1-65290058806', '1-65332180909', '1-58822086040', '1-65778284685')) ON CONFLICT(case_number) DO UPDATE SET prediction = '1',prediction_time='2022-10-24 20:51:14', prediction_type = 'normal_prediction';INSERT INTO sustainment_predictions (case_number, prediction, prediction_time, prediction_type, closest_case_numbers) \n",
      "            VALUES ('1-69224619346','1', '2022-10-24 20:51:14', 'normal_prediction',('1-61383684249', '1-68489499523', '1-69168058135', '1-68941923461', '1-64520117821')) ON CONFLICT(case_number) DO UPDATE SET prediction = '1',prediction_time='2022-10-24 20:51:14', prediction_type = 'normal_prediction';INSERT INTO sustainment_predictions (case_number, prediction, prediction_time, prediction_type, closest_case_numbers) \n",
      "            VALUES ('1-69157555946','1', '2022-10-24 20:51:14', 'normal_prediction',('1-68259480353', '1-68670607500', '1-421177-280156', '1-57656138983', '1-57475761191')) ON CONFLICT(case_number) DO UPDATE SET prediction = '1',prediction_time='2022-10-24 20:51:14', prediction_type = 'normal_prediction';"
     ]
    },
    {
     "name": "stderr",
     "output_type": "stream",
     "text": [
      "/opt/conda/lib/python3.9/site-packages/sklearn/base.py:450: UserWarning: X does not have valid feature names, but NearestNeighbors was fitted with feature names\n",
      "  warnings.warn(\n",
      "/opt/conda/lib/python3.9/site-packages/sklearn/base.py:450: UserWarning: X does not have valid feature names, but NearestNeighbors was fitted with feature names\n",
      "  warnings.warn(\n",
      "/opt/conda/lib/python3.9/site-packages/sklearn/base.py:450: UserWarning: X does not have valid feature names, but NearestNeighbors was fitted with feature names\n",
      "  warnings.warn(\n",
      "/opt/conda/lib/python3.9/site-packages/sklearn/base.py:450: UserWarning: X does not have valid feature names, but NearestNeighbors was fitted with feature names\n",
      "  warnings.warn(\n"
     ]
    },
    {
     "name": "stdout",
     "output_type": "stream",
     "text": [
      "INSERT INTO sustainment_predictions (case_number, prediction, prediction_time, prediction_type, closest_case_numbers) \n",
      "            VALUES ('1-69065483844','1', '2022-10-24 20:51:14', 'normal_prediction',('1-57585321882', '1-64783178904', '1-57297288246', '1-68846991695', '1-57339228848')) ON CONFLICT(case_number) DO UPDATE SET prediction = '1',prediction_time='2022-10-24 20:51:14', prediction_type = 'normal_prediction';INSERT INTO sustainment_predictions (case_number, prediction, prediction_time, prediction_type, closest_case_numbers) \n",
      "            VALUES ('1-69728773587','0', '2022-10-24 20:51:14', 'normal_prediction',('1-57994466148', '1-69656432186', '1-66065900181', '1-61769264654', '1-69723556841')) ON CONFLICT(case_number) DO UPDATE SET prediction = '0',prediction_time='2022-10-24 20:51:14', prediction_type = 'normal_prediction';INSERT INTO sustainment_predictions (case_number, prediction, prediction_time, prediction_type, closest_case_numbers) \n",
      "            VALUES ('1-69731559496','0', '2022-10-24 20:51:14', 'normal_prediction',('1-61880115513', '1-62250929070', '1-69517472900', '1-62402804367', '1-69731559496')) ON CONFLICT(case_number) DO UPDATE SET prediction = '0',prediction_time='2022-10-24 20:51:14', prediction_type = 'normal_prediction';INSERT INTO sustainment_predictions (case_number, prediction, prediction_time, prediction_type, closest_case_numbers) \n",
      "            VALUES ('1-69625544091','1', '2022-10-24 20:51:14', 'normal_prediction',('1-69680540640', '1-69625544091', '1-69344290241', '1-58218826915', '1-62041332279')) ON CONFLICT(case_number) DO UPDATE SET prediction = '1',prediction_time='2022-10-24 20:51:14', prediction_type = 'normal_prediction';"
     ]
    },
    {
     "name": "stderr",
     "output_type": "stream",
     "text": [
      "/opt/conda/lib/python3.9/site-packages/sklearn/base.py:450: UserWarning: X does not have valid feature names, but NearestNeighbors was fitted with feature names\n",
      "  warnings.warn(\n",
      "/opt/conda/lib/python3.9/site-packages/sklearn/base.py:450: UserWarning: X does not have valid feature names, but NearestNeighbors was fitted with feature names\n",
      "  warnings.warn(\n",
      "/opt/conda/lib/python3.9/site-packages/sklearn/base.py:450: UserWarning: X does not have valid feature names, but NearestNeighbors was fitted with feature names\n",
      "  warnings.warn(\n",
      "/opt/conda/lib/python3.9/site-packages/sklearn/base.py:450: UserWarning: X does not have valid feature names, but NearestNeighbors was fitted with feature names\n",
      "  warnings.warn(\n"
     ]
    },
    {
     "name": "stdout",
     "output_type": "stream",
     "text": [
      "INSERT INTO sustainment_predictions (case_number, prediction, prediction_time, prediction_type, closest_case_numbers) \n",
      "            VALUES ('1-69530943860','1', '2022-10-24 20:51:14', 'normal_prediction',('1-58253009873', '1-58378181805', '1-69483856334', '1-61822107500', '1-69626156092')) ON CONFLICT(case_number) DO UPDATE SET prediction = '1',prediction_time='2022-10-24 20:51:14', prediction_type = 'normal_prediction';INSERT INTO sustainment_predictions (case_number, prediction, prediction_time, prediction_type, closest_case_numbers) \n",
      "            VALUES ('1-69650654878','1', '2022-10-24 20:51:14', 'normal_prediction',('1-58466412956', '1-58574471204', '1-58577386157', '1-58693267606', '1-58874484421')) ON CONFLICT(case_number) DO UPDATE SET prediction = '1',prediction_time='2022-10-24 20:51:14', prediction_type = 'normal_prediction';INSERT INTO sustainment_predictions (case_number, prediction, prediction_time, prediction_type, closest_case_numbers) \n",
      "            VALUES ('1-69680367118','1', '2022-10-24 20:51:14', 'normal_prediction',('1-58679880539', '1-69460417797', '1-69280164711', '1-58782800661', '1-61941934866')) ON CONFLICT(case_number) DO UPDATE SET prediction = '1',prediction_time='2022-10-24 20:51:14', prediction_type = 'normal_prediction';INSERT INTO sustainment_predictions (case_number, prediction, prediction_time, prediction_type, closest_case_numbers) \n",
      "            VALUES ('1-69575780774','0', '2022-10-24 20:51:14', 'normal_prediction',('1-69575780774', '1-65261982510', '1-69443310784', '1-61865809756', '1-61705521228')) ON CONFLICT(case_number) DO UPDATE SET prediction = '0',prediction_time='2022-10-24 20:51:14', prediction_type = 'normal_prediction';"
     ]
    },
    {
     "name": "stderr",
     "output_type": "stream",
     "text": [
      "/opt/conda/lib/python3.9/site-packages/sklearn/base.py:450: UserWarning: X does not have valid feature names, but NearestNeighbors was fitted with feature names\n",
      "  warnings.warn(\n",
      "/opt/conda/lib/python3.9/site-packages/sklearn/base.py:450: UserWarning: X does not have valid feature names, but NearestNeighbors was fitted with feature names\n",
      "  warnings.warn(\n",
      "/opt/conda/lib/python3.9/site-packages/sklearn/base.py:450: UserWarning: X does not have valid feature names, but NearestNeighbors was fitted with feature names\n",
      "  warnings.warn(\n",
      "/opt/conda/lib/python3.9/site-packages/sklearn/base.py:450: UserWarning: X does not have valid feature names, but NearestNeighbors was fitted with feature names\n",
      "  warnings.warn(\n"
     ]
    },
    {
     "name": "stdout",
     "output_type": "stream",
     "text": [
      "INSERT INTO sustainment_predictions (case_number, prediction, prediction_time, prediction_type, closest_case_numbers) \n",
      "            VALUES ('1-69538945154','1', '2022-10-24 20:51:14', 'normal_prediction',('1-69275873244', '1-58649823255', '1-69560635522', '1-69650629006', '1-69538945154')) ON CONFLICT(case_number) DO UPDATE SET prediction = '1',prediction_time='2022-10-24 20:51:14', prediction_type = 'normal_prediction';INSERT INTO sustainment_predictions (case_number, prediction, prediction_time, prediction_type, closest_case_numbers) \n",
      "            VALUES ('1-69491581958','0', '2022-10-24 20:51:14', 'normal_prediction',('1-65965963862', '1-61953223655', '1-69527597901', '1-69516605146', '1-69624157077')) ON CONFLICT(case_number) DO UPDATE SET prediction = '0',prediction_time='2022-10-24 20:51:14', prediction_type = 'normal_prediction';INSERT INTO sustainment_predictions (case_number, prediction, prediction_time, prediction_type, closest_case_numbers) \n",
      "            VALUES ('1-69756741298','1', '2022-10-24 20:51:14', 'normal_prediction',('1-58351788675', '1-69756741298', '1-58241152060', '1-69762270317', '1-58375307844')) ON CONFLICT(case_number) DO UPDATE SET prediction = '1',prediction_time='2022-10-24 20:51:14', prediction_type = 'normal_prediction';INSERT INTO sustainment_predictions (case_number, prediction, prediction_time, prediction_type, closest_case_numbers) \n",
      "            VALUES ('1-56144001775','1', '2022-10-24 20:51:14', 'normal_prediction',('1-56701098912', '1-67673350542', '1-67694945398', '1-59895353610', '1-56028252106')) ON CONFLICT(case_number) DO UPDATE SET prediction = '1',prediction_time='2022-10-24 20:51:14', prediction_type = 'normal_prediction';"
     ]
    },
    {
     "name": "stderr",
     "output_type": "stream",
     "text": [
      "/opt/conda/lib/python3.9/site-packages/sklearn/base.py:450: UserWarning: X does not have valid feature names, but NearestNeighbors was fitted with feature names\n",
      "  warnings.warn(\n",
      "/opt/conda/lib/python3.9/site-packages/sklearn/base.py:450: UserWarning: X does not have valid feature names, but NearestNeighbors was fitted with feature names\n",
      "  warnings.warn(\n",
      "/opt/conda/lib/python3.9/site-packages/sklearn/base.py:450: UserWarning: X does not have valid feature names, but NearestNeighbors was fitted with feature names\n",
      "  warnings.warn(\n",
      "/opt/conda/lib/python3.9/site-packages/sklearn/base.py:450: UserWarning: X does not have valid feature names, but NearestNeighbors was fitted with feature names\n",
      "  warnings.warn(\n"
     ]
    },
    {
     "name": "stdout",
     "output_type": "stream",
     "text": [
      "INSERT INTO sustainment_predictions (case_number, prediction, prediction_time, prediction_type, closest_case_numbers) \n",
      "            VALUES ('1-63561084201','1', '2022-10-24 20:51:14', 'normal_prediction',('1-68848557899', '1-68471356399', '1-57130217294', '1-68572683854', '1-68423644336')) ON CONFLICT(case_number) DO UPDATE SET prediction = '1',prediction_time='2022-10-24 20:51:14', prediction_type = 'normal_prediction';INSERT INTO sustainment_predictions (case_number, prediction, prediction_time, prediction_type, closest_case_numbers) \n",
      "            VALUES ('1-66890999381','1', '2022-10-24 20:51:14', 'normal_prediction',('1-57812691516', '1-57128611482', '1-56901544764', '1-67399792232', '1-68565785985')) ON CONFLICT(case_number) DO UPDATE SET prediction = '1',prediction_time='2022-10-24 20:51:14', prediction_type = 'normal_prediction';INSERT INTO sustainment_predictions (case_number, prediction, prediction_time, prediction_type, closest_case_numbers) \n",
      "            VALUES ('1-69073920395','1', '2022-10-24 20:51:14', 'normal_prediction',('1-64517498927', '1-69073920395', '1-61411564193', '1-61286261536', '1-61566696233')) ON CONFLICT(case_number) DO UPDATE SET prediction = '1',prediction_time='2022-10-24 20:51:14', prediction_type = 'normal_prediction';INSERT INTO sustainment_predictions (case_number, prediction, prediction_time, prediction_type, closest_case_numbers) \n",
      "            VALUES ('1-69302683542','0', '2022-10-24 20:51:14', 'normal_prediction',('1-69510757103', '1-61725573478', '1-65594968950', '1-58375988228', '1-62215954799')) ON CONFLICT(case_number) DO UPDATE SET prediction = '0',prediction_time='2022-10-24 20:51:14', prediction_type = 'normal_prediction';"
     ]
    },
    {
     "name": "stderr",
     "output_type": "stream",
     "text": [
      "/opt/conda/lib/python3.9/site-packages/sklearn/base.py:450: UserWarning: X does not have valid feature names, but NearestNeighbors was fitted with feature names\n",
      "  warnings.warn(\n",
      "/opt/conda/lib/python3.9/site-packages/sklearn/base.py:450: UserWarning: X does not have valid feature names, but NearestNeighbors was fitted with feature names\n",
      "  warnings.warn(\n",
      "/opt/conda/lib/python3.9/site-packages/sklearn/base.py:450: UserWarning: X does not have valid feature names, but NearestNeighbors was fitted with feature names\n",
      "  warnings.warn(\n",
      "/opt/conda/lib/python3.9/site-packages/sklearn/base.py:450: UserWarning: X does not have valid feature names, but NearestNeighbors was fitted with feature names\n",
      "  warnings.warn(\n"
     ]
    },
    {
     "name": "stdout",
     "output_type": "stream",
     "text": [
      "INSERT INTO sustainment_predictions (case_number, prediction, prediction_time, prediction_type, closest_case_numbers) \n",
      "            VALUES ('1-69051057929','0', '2022-10-24 20:51:14', 'normal_prediction',('1-68434454043', '1-69228221286', '1-57931991372', '1-65028504307', '1-57685570992')) ON CONFLICT(case_number) DO UPDATE SET prediction = '0',prediction_time='2022-10-24 20:51:14', prediction_type = 'normal_prediction';INSERT INTO sustainment_predictions (case_number, prediction, prediction_time, prediction_type, closest_case_numbers) \n",
      "            VALUES ('1-69187724017','1', '2022-10-24 20:51:14', 'normal_prediction',('1-69187724017', '1-69164611584', '1-57252636726', '1-57744678984', '1-57128162201')) ON CONFLICT(case_number) DO UPDATE SET prediction = '1',prediction_time='2022-10-24 20:51:14', prediction_type = 'normal_prediction';INSERT INTO sustainment_predictions (case_number, prediction, prediction_time, prediction_type, closest_case_numbers) \n",
      "            VALUES ('1-69445439182','1', '2022-10-24 20:51:14', 'normal_prediction',('1-61725915524', '1-69445439182', '1-58736712646', '1-61848726102', '1-58109337203')) ON CONFLICT(case_number) DO UPDATE SET prediction = '1',prediction_time='2022-10-24 20:51:14', prediction_type = 'normal_prediction';INSERT INTO sustainment_predictions (case_number, prediction, prediction_time, prediction_type, closest_case_numbers) \n",
      "            VALUES ('1-69227483587','1', '2022-10-24 20:51:14', 'normal_prediction',('1-69227483587', '1-57926372634', '1-57186205446', '1-68622607623', '1-68491753829')) ON CONFLICT(case_number) DO UPDATE SET prediction = '1',prediction_time='2022-10-24 20:51:14', prediction_type = 'normal_prediction';"
     ]
    },
    {
     "name": "stderr",
     "output_type": "stream",
     "text": [
      "/opt/conda/lib/python3.9/site-packages/sklearn/base.py:450: UserWarning: X does not have valid feature names, but NearestNeighbors was fitted with feature names\n",
      "  warnings.warn(\n",
      "/opt/conda/lib/python3.9/site-packages/sklearn/base.py:450: UserWarning: X does not have valid feature names, but NearestNeighbors was fitted with feature names\n",
      "  warnings.warn(\n",
      "/opt/conda/lib/python3.9/site-packages/sklearn/base.py:450: UserWarning: X does not have valid feature names, but NearestNeighbors was fitted with feature names\n",
      "  warnings.warn(\n",
      "/opt/conda/lib/python3.9/site-packages/sklearn/base.py:450: UserWarning: X does not have valid feature names, but NearestNeighbors was fitted with feature names\n",
      "  warnings.warn(\n"
     ]
    },
    {
     "name": "stdout",
     "output_type": "stream",
     "text": [
      "INSERT INTO sustainment_predictions (case_number, prediction, prediction_time, prediction_type, closest_case_numbers) \n",
      "            VALUES ('1-69381090107','0', '2022-10-24 20:51:14', 'normal_prediction',('1-58870971225', '1-65605164756', '1-62006334948', '1-65396024706', '1-69645907715')) ON CONFLICT(case_number) DO UPDATE SET prediction = '0',prediction_time='2022-10-24 20:51:14', prediction_type = 'normal_prediction';INSERT INTO sustainment_predictions (case_number, prediction, prediction_time, prediction_type, closest_case_numbers) \n",
      "            VALUES ('1-69176009802','1', '2022-10-24 20:51:14', 'normal_prediction',('1-57040291775', '1-64585731427', '1-68935441083', '1-69190092232', '1-61181570435')) ON CONFLICT(case_number) DO UPDATE SET prediction = '1',prediction_time='2022-10-24 20:51:14', prediction_type = 'normal_prediction';INSERT INTO sustainment_predictions (case_number, prediction, prediction_time, prediction_type, closest_case_numbers) \n",
      "            VALUES ('1-69665752686','0', '2022-10-24 20:51:14', 'normal_prediction',('1-61726639245', '1-69665752686', '1-61678659168', '1-69745481752', '1-62325942102')) ON CONFLICT(case_number) DO UPDATE SET prediction = '0',prediction_time='2022-10-24 20:51:14', prediction_type = 'normal_prediction';INSERT INTO sustainment_predictions (case_number, prediction, prediction_time, prediction_type, closest_case_numbers) \n",
      "            VALUES ('1-69486882552','1', '2022-10-24 20:51:14', 'normal_prediction',('1-58204855310', '1-61934745248', '1-69371159947', '1-58844039175', '1-69486882552')) ON CONFLICT(case_number) DO UPDATE SET prediction = '1',prediction_time='2022-10-24 20:51:14', prediction_type = 'normal_prediction';"
     ]
    },
    {
     "name": "stderr",
     "output_type": "stream",
     "text": [
      "/opt/conda/lib/python3.9/site-packages/sklearn/base.py:450: UserWarning: X does not have valid feature names, but NearestNeighbors was fitted with feature names\n",
      "  warnings.warn(\n",
      "/opt/conda/lib/python3.9/site-packages/sklearn/base.py:450: UserWarning: X does not have valid feature names, but NearestNeighbors was fitted with feature names\n",
      "  warnings.warn(\n",
      "/opt/conda/lib/python3.9/site-packages/sklearn/base.py:450: UserWarning: X does not have valid feature names, but NearestNeighbors was fitted with feature names\n",
      "  warnings.warn(\n",
      "/opt/conda/lib/python3.9/site-packages/sklearn/base.py:450: UserWarning: X does not have valid feature names, but NearestNeighbors was fitted with feature names\n",
      "  warnings.warn(\n"
     ]
    },
    {
     "name": "stdout",
     "output_type": "stream",
     "text": [
      "INSERT INTO sustainment_predictions (case_number, prediction, prediction_time, prediction_type, closest_case_numbers) \n",
      "            VALUES ('1-69595246477','1', '2022-10-24 20:51:14', 'normal_prediction',('1-62193008971', '1-69631047900', '1-69563105945', '1-65503112169', '1-69595246477')) ON CONFLICT(case_number) DO UPDATE SET prediction = '1',prediction_time='2022-10-24 20:51:14', prediction_type = 'normal_prediction';INSERT INTO sustainment_predictions (case_number, prediction, prediction_time, prediction_type, closest_case_numbers) \n",
      "            VALUES ('1-69646046342','1', '2022-10-24 20:51:14', 'normal_prediction',('1-69646046342', '1-69713189396', '1-69391402598', '1-69291049962', '1-65371806863')) ON CONFLICT(case_number) DO UPDATE SET prediction = '1',prediction_time='2022-10-24 20:51:14', prediction_type = 'normal_prediction';INSERT INTO sustainment_predictions (case_number, prediction, prediction_time, prediction_type, closest_case_numbers) \n",
      "            VALUES ('1-69518991810','0', '2022-10-24 20:51:14', 'normal_prediction',('1-69726728054', '1-65951445778', '1-61907330526', '1-65179191045', '1-69577684010')) ON CONFLICT(case_number) DO UPDATE SET prediction = '0',prediction_time='2022-10-24 20:51:14', prediction_type = 'normal_prediction';INSERT INTO sustainment_predictions (case_number, prediction, prediction_time, prediction_type, closest_case_numbers) \n",
      "            VALUES ('1-67617034945','0', '2022-10-24 20:51:14', 'normal_prediction',('1-58560023454', '1-57575413446', '1-58736886146', '1-58378913123', '1-57537702211')) ON CONFLICT(case_number) DO UPDATE SET prediction = '0',prediction_time='2022-10-24 20:51:14', prediction_type = 'normal_prediction';"
     ]
    },
    {
     "name": "stderr",
     "output_type": "stream",
     "text": [
      "/opt/conda/lib/python3.9/site-packages/sklearn/base.py:450: UserWarning: X does not have valid feature names, but NearestNeighbors was fitted with feature names\n",
      "  warnings.warn(\n",
      "/opt/conda/lib/python3.9/site-packages/sklearn/base.py:450: UserWarning: X does not have valid feature names, but NearestNeighbors was fitted with feature names\n",
      "  warnings.warn(\n",
      "/opt/conda/lib/python3.9/site-packages/sklearn/base.py:450: UserWarning: X does not have valid feature names, but NearestNeighbors was fitted with feature names\n",
      "  warnings.warn(\n",
      "/opt/conda/lib/python3.9/site-packages/sklearn/base.py:450: UserWarning: X does not have valid feature names, but NearestNeighbors was fitted with feature names\n",
      "  warnings.warn(\n"
     ]
    },
    {
     "name": "stdout",
     "output_type": "stream",
     "text": [
      "INSERT INTO sustainment_predictions (case_number, prediction, prediction_time, prediction_type, closest_case_numbers) \n",
      "            VALUES ('1-69243860344','1', '2022-10-24 20:51:14', 'normal_prediction',('1-65705655970', '1-58237927639', '1-58896142240', '1-58605404870', '1-66133278373')) ON CONFLICT(case_number) DO UPDATE SET prediction = '1',prediction_time='2022-10-24 20:51:14', prediction_type = 'normal_prediction';INSERT INTO sustainment_predictions (case_number, prediction, prediction_time, prediction_type, closest_case_numbers) \n",
      "            VALUES ('1-69293762478','1', '2022-10-24 20:51:14', 'normal_prediction',('1-69293762478', '1-69581441397', '1-69370847815', '1-69511606335', '1-65611722573')) ON CONFLICT(case_number) DO UPDATE SET prediction = '1',prediction_time='2022-10-24 20:51:14', prediction_type = 'normal_prediction';INSERT INTO sustainment_predictions (case_number, prediction, prediction_time, prediction_type, closest_case_numbers) \n",
      "            VALUES ('1-69182185359','1', '2022-10-24 20:51:14', 'normal_prediction',('1-69182185359', '1-68729836775', '1-58258016247', '1-57482394933', '1-57460268091')) ON CONFLICT(case_number) DO UPDATE SET prediction = '1',prediction_time='2022-10-24 20:51:14', prediction_type = 'normal_prediction';INSERT INTO sustainment_predictions (case_number, prediction, prediction_time, prediction_type, closest_case_numbers) \n",
      "            VALUES ('1-69347912701','1', '2022-10-24 20:51:14', 'normal_prediction',('1-58195394866', '1-69622208680', '1-58665959262', '1-61813717190', '1-69347912701')) ON CONFLICT(case_number) DO UPDATE SET prediction = '1',prediction_time='2022-10-24 20:51:14', prediction_type = 'normal_prediction';"
     ]
    },
    {
     "name": "stderr",
     "output_type": "stream",
     "text": [
      "/opt/conda/lib/python3.9/site-packages/sklearn/base.py:450: UserWarning: X does not have valid feature names, but NearestNeighbors was fitted with feature names\n",
      "  warnings.warn(\n",
      "/opt/conda/lib/python3.9/site-packages/sklearn/base.py:450: UserWarning: X does not have valid feature names, but NearestNeighbors was fitted with feature names\n",
      "  warnings.warn(\n",
      "/opt/conda/lib/python3.9/site-packages/sklearn/base.py:450: UserWarning: X does not have valid feature names, but NearestNeighbors was fitted with feature names\n",
      "  warnings.warn(\n",
      "/opt/conda/lib/python3.9/site-packages/sklearn/base.py:450: UserWarning: X does not have valid feature names, but NearestNeighbors was fitted with feature names\n",
      "  warnings.warn(\n"
     ]
    },
    {
     "name": "stdout",
     "output_type": "stream",
     "text": [
      "INSERT INTO sustainment_predictions (case_number, prediction, prediction_time, prediction_type, closest_case_numbers) \n",
      "            VALUES ('1-69460052399','1', '2022-10-24 20:51:14', 'normal_prediction',('1-69460052399', '1-69656569916', '1-69726931874', '1-65332180909', '1-69463771558')) ON CONFLICT(case_number) DO UPDATE SET prediction = '1',prediction_time='2022-10-24 20:51:14', prediction_type = 'normal_prediction';INSERT INTO sustainment_predictions (case_number, prediction, prediction_time, prediction_type, closest_case_numbers) \n",
      "            VALUES ('1-69447183199','1', '2022-10-24 20:51:14', 'normal_prediction',('1-69756836809', '1-65168380757', '1-58439606808', '1-69371070530', '1-69447183199')) ON CONFLICT(case_number) DO UPDATE SET prediction = '1',prediction_time='2022-10-24 20:51:14', prediction_type = 'normal_prediction';INSERT INTO sustainment_predictions (case_number, prediction, prediction_time, prediction_type, closest_case_numbers) \n",
      "            VALUES ('1-69447741638','1', '2022-10-24 20:51:14', 'normal_prediction',('1-69447741638', '1-58401723663', '1-58625598555', '1-58319481355', '1-69306732833')) ON CONFLICT(case_number) DO UPDATE SET prediction = '1',prediction_time='2022-10-24 20:51:14', prediction_type = 'normal_prediction';INSERT INTO sustainment_predictions (case_number, prediction, prediction_time, prediction_type, closest_case_numbers) \n",
      "            VALUES ('1-69227949032','1', '2022-10-24 20:51:14', 'normal_prediction',('1-69227949032', '1-68659441417', '1-68493285974', '1-69076214642', '1-68657100366')) ON CONFLICT(case_number) DO UPDATE SET prediction = '1',prediction_time='2022-10-24 20:51:14', prediction_type = 'normal_prediction';"
     ]
    },
    {
     "name": "stderr",
     "output_type": "stream",
     "text": [
      "/opt/conda/lib/python3.9/site-packages/sklearn/base.py:450: UserWarning: X does not have valid feature names, but NearestNeighbors was fitted with feature names\n",
      "  warnings.warn(\n",
      "/opt/conda/lib/python3.9/site-packages/sklearn/base.py:450: UserWarning: X does not have valid feature names, but NearestNeighbors was fitted with feature names\n",
      "  warnings.warn(\n",
      "/opt/conda/lib/python3.9/site-packages/sklearn/base.py:450: UserWarning: X does not have valid feature names, but NearestNeighbors was fitted with feature names\n",
      "  warnings.warn(\n",
      "/opt/conda/lib/python3.9/site-packages/sklearn/base.py:450: UserWarning: X does not have valid feature names, but NearestNeighbors was fitted with feature names\n",
      "  warnings.warn(\n"
     ]
    },
    {
     "name": "stdout",
     "output_type": "stream",
     "text": [
      "INSERT INTO sustainment_predictions (case_number, prediction, prediction_time, prediction_type, closest_case_numbers) \n",
      "            VALUES ('1-69065262273','1', '2022-10-24 20:51:14', 'normal_prediction',('1-68525080493', '1-68358968682', '1-68441375047', '1-57863214297', '1-68741812637')) ON CONFLICT(case_number) DO UPDATE SET prediction = '1',prediction_time='2022-10-24 20:51:14', prediction_type = 'normal_prediction';INSERT INTO sustainment_predictions (case_number, prediction, prediction_time, prediction_type, closest_case_numbers) \n",
      "            VALUES ('1-69600704830','1', '2022-10-24 20:51:14', 'normal_prediction',('1-68259480353', '1-421153-291824', '1-421181-144', '1-421177-375848', '1-58006606857')) ON CONFLICT(case_number) DO UPDATE SET prediction = '1',prediction_time='2022-10-24 20:51:14', prediction_type = 'normal_prediction';INSERT INTO sustainment_predictions (case_number, prediction, prediction_time, prediction_type, closest_case_numbers) \n",
      "            VALUES ('1-69665937831','0', '2022-10-24 20:51:14', 'normal_prediction',('1-58520980509', '1-58405961536', '1-62063570426', '1-58382172854', '1-69539072266')) ON CONFLICT(case_number) DO UPDATE SET prediction = '0',prediction_time='2022-10-24 20:51:14', prediction_type = 'normal_prediction';INSERT INTO sustainment_predictions (case_number, prediction, prediction_time, prediction_type, closest_case_numbers) \n",
      "            VALUES ('1-69651937367','1', '2022-10-24 20:51:14', 'normal_prediction',('1-65697969594', '1-58039293264', '1-65437332427', '1-69584125416', '1-69654495945')) ON CONFLICT(case_number) DO UPDATE SET prediction = '1',prediction_time='2022-10-24 20:51:14', prediction_type = 'normal_prediction';"
     ]
    },
    {
     "name": "stderr",
     "output_type": "stream",
     "text": [
      "/opt/conda/lib/python3.9/site-packages/sklearn/base.py:450: UserWarning: X does not have valid feature names, but NearestNeighbors was fitted with feature names\n",
      "  warnings.warn(\n",
      "/opt/conda/lib/python3.9/site-packages/sklearn/base.py:450: UserWarning: X does not have valid feature names, but NearestNeighbors was fitted with feature names\n",
      "  warnings.warn(\n",
      "/opt/conda/lib/python3.9/site-packages/sklearn/base.py:450: UserWarning: X does not have valid feature names, but NearestNeighbors was fitted with feature names\n",
      "  warnings.warn(\n"
     ]
    },
    {
     "name": "stdout",
     "output_type": "stream",
     "text": [
      "INSERT INTO sustainment_predictions (case_number, prediction, prediction_time, prediction_type, closest_case_numbers) \n",
      "            VALUES ('1-69537933439','0', '2022-10-24 20:51:14', 'normal_prediction',('1-69522494421', '1-58353166575', '1-65891282319', '1-65329515130', '1-58301020812')) ON CONFLICT(case_number) DO UPDATE SET prediction = '0',prediction_time='2022-10-24 20:51:14', prediction_type = 'normal_prediction';INSERT INTO sustainment_predictions (case_number, prediction, prediction_time, prediction_type, closest_case_numbers) \n",
      "            VALUES ('1-69237346799','0', '2022-10-24 20:51:14', 'normal_prediction',('1-57926900845', '1-58200244960', '1-57990198538', '1-58359048666', '1-61625568880')) ON CONFLICT(case_number) DO UPDATE SET prediction = '0',prediction_time='2022-10-24 20:51:14', prediction_type = 'normal_prediction';INSERT INTO sustainment_predictions (case_number, prediction, prediction_time, prediction_type, closest_case_numbers) \n",
      "            VALUES ('1-69289752606','1', '2022-10-24 20:51:14', 'normal_prediction',('1-69373726011', '1-65661610767', '1-69760413207', '1-69350253723', '1-65100318698')) ON CONFLICT(case_number) DO UPDATE SET prediction = '1',prediction_time='2022-10-24 20:51:14', prediction_type = 'normal_prediction';"
     ]
    },
    {
     "name": "stderr",
     "output_type": "stream",
     "text": [
      "/opt/conda/lib/python3.9/site-packages/sklearn/base.py:450: UserWarning: X does not have valid feature names, but NearestNeighbors was fitted with feature names\n",
      "  warnings.warn(\n",
      "/opt/conda/lib/python3.9/site-packages/sklearn/base.py:450: UserWarning: X does not have valid feature names, but NearestNeighbors was fitted with feature names\n",
      "  warnings.warn(\n",
      "/opt/conda/lib/python3.9/site-packages/sklearn/base.py:450: UserWarning: X does not have valid feature names, but NearestNeighbors was fitted with feature names\n",
      "  warnings.warn(\n"
     ]
    },
    {
     "name": "stdout",
     "output_type": "stream",
     "text": [
      "INSERT INTO sustainment_predictions (case_number, prediction, prediction_time, prediction_type, closest_case_numbers) \n",
      "            VALUES ('1-69077941130','1', '2022-10-24 20:51:14', 'normal_prediction',('1-68444580328', '1-69087289774', '1-64898193159', '1-57711828612', '1-69077941130')) ON CONFLICT(case_number) DO UPDATE SET prediction = '1',prediction_time='2022-10-24 20:51:14', prediction_type = 'normal_prediction';INSERT INTO sustainment_predictions (case_number, prediction, prediction_time, prediction_type, closest_case_numbers) \n",
      "            VALUES ('1-69293711445','1', '2022-10-24 20:51:14', 'normal_prediction',('1-58533327474', '1-62186312612', '1-65859143998', '1-61890314261', '1-58690863671')) ON CONFLICT(case_number) DO UPDATE SET prediction = '1',prediction_time='2022-10-24 20:51:14', prediction_type = 'normal_prediction';INSERT INTO sustainment_predictions (case_number, prediction, prediction_time, prediction_type, closest_case_numbers) \n",
      "            VALUES ('1-69148029879','0', '2022-10-24 20:51:14', 'normal_prediction',('1-69148029879', '1-57606261819', '1-68510685849', '1-69211972420', '1-57791122857')) ON CONFLICT(case_number) DO UPDATE SET prediction = '0',prediction_time='2022-10-24 20:51:14', prediction_type = 'normal_prediction';"
     ]
    },
    {
     "name": "stderr",
     "output_type": "stream",
     "text": [
      "/opt/conda/lib/python3.9/site-packages/sklearn/base.py:450: UserWarning: X does not have valid feature names, but NearestNeighbors was fitted with feature names\n",
      "  warnings.warn(\n",
      "/opt/conda/lib/python3.9/site-packages/sklearn/base.py:450: UserWarning: X does not have valid feature names, but NearestNeighbors was fitted with feature names\n",
      "  warnings.warn(\n",
      "/opt/conda/lib/python3.9/site-packages/sklearn/base.py:450: UserWarning: X does not have valid feature names, but NearestNeighbors was fitted with feature names\n",
      "  warnings.warn(\n"
     ]
    },
    {
     "name": "stdout",
     "output_type": "stream",
     "text": [
      "INSERT INTO sustainment_predictions (case_number, prediction, prediction_time, prediction_type, closest_case_numbers) \n",
      "            VALUES ('1-69343054660','0', '2022-10-24 20:51:14', 'normal_prediction',('1-62377887889', '1-69669160460', '1-65166387997', '1-61768498510', '1-61854250862')) ON CONFLICT(case_number) DO UPDATE SET prediction = '0',prediction_time='2022-10-24 20:51:14', prediction_type = 'normal_prediction';INSERT INTO sustainment_predictions (case_number, prediction, prediction_time, prediction_type, closest_case_numbers) \n",
      "            VALUES ('1-69275873244','1', '2022-10-24 20:51:14', 'normal_prediction',('1-69275873244', '1-58649823255', '1-69560635522', '1-69650629006', '1-69538945154')) ON CONFLICT(case_number) DO UPDATE SET prediction = '1',prediction_time='2022-10-24 20:51:14', prediction_type = 'normal_prediction';INSERT INTO sustainment_predictions (case_number, prediction, prediction_time, prediction_type, closest_case_numbers) \n",
      "            VALUES ('1-69182544133','1', '2022-10-24 20:51:14', 'normal_prediction',('1-61473169388', '1-68530711203', '1-57108144426', '1-69190469076', '1-68524688453')) ON CONFLICT(case_number) DO UPDATE SET prediction = '1',prediction_time='2022-10-24 20:51:14', prediction_type = 'normal_prediction';"
     ]
    },
    {
     "name": "stderr",
     "output_type": "stream",
     "text": [
      "/opt/conda/lib/python3.9/site-packages/sklearn/base.py:450: UserWarning: X does not have valid feature names, but NearestNeighbors was fitted with feature names\n",
      "  warnings.warn(\n",
      "/opt/conda/lib/python3.9/site-packages/sklearn/base.py:450: UserWarning: X does not have valid feature names, but NearestNeighbors was fitted with feature names\n",
      "  warnings.warn(\n",
      "/opt/conda/lib/python3.9/site-packages/sklearn/base.py:450: UserWarning: X does not have valid feature names, but NearestNeighbors was fitted with feature names\n",
      "  warnings.warn(\n",
      "/opt/conda/lib/python3.9/site-packages/sklearn/base.py:450: UserWarning: X does not have valid feature names, but NearestNeighbors was fitted with feature names\n",
      "  warnings.warn(\n"
     ]
    },
    {
     "name": "stdout",
     "output_type": "stream",
     "text": [
      "INSERT INTO sustainment_predictions (case_number, prediction, prediction_time, prediction_type, closest_case_numbers) \n",
      "            VALUES ('1-69348363232','0', '2022-10-24 20:51:14', 'normal_prediction',('1-69681996149', '1-62113681275', '1-58439503663', '1-58324810504', '1-69507255842')) ON CONFLICT(case_number) DO UPDATE SET prediction = '0',prediction_time='2022-10-24 20:51:14', prediction_type = 'normal_prediction';INSERT INTO sustainment_predictions (case_number, prediction, prediction_time, prediction_type, closest_case_numbers) \n",
      "            VALUES ('1-69442264081','1', '2022-10-24 20:51:14', 'normal_prediction',('1-58533648926', '1-69442264081', '1-58434510781', '1-69373250382', '1-58901056860')) ON CONFLICT(case_number) DO UPDATE SET prediction = '1',prediction_time='2022-10-24 20:51:14', prediction_type = 'normal_prediction';INSERT INTO sustainment_predictions (case_number, prediction, prediction_time, prediction_type, closest_case_numbers) \n",
      "            VALUES ('1-69191754126','1', '2022-10-24 20:51:14', 'normal_prediction',('1-62882906180', '1-56698836981', '1-61814542562', '1-65311931064', '1-65736872520')) ON CONFLICT(case_number) DO UPDATE SET prediction = '1',prediction_time='2022-10-24 20:51:14', prediction_type = 'normal_prediction';INSERT INTO sustainment_predictions (case_number, prediction, prediction_time, prediction_type, closest_case_numbers) \n",
      "            VALUES ('1-69204511869','0', '2022-10-24 20:51:14', 'normal_prediction',('1-64575178490', '1-57684962503', '1-57665581405', '1-57547585638', '1-68491478076')) ON CONFLICT(case_number) DO UPDATE SET prediction = '0',prediction_time='2022-10-24 20:51:14', prediction_type = 'normal_prediction';"
     ]
    },
    {
     "name": "stderr",
     "output_type": "stream",
     "text": [
      "/opt/conda/lib/python3.9/site-packages/sklearn/base.py:450: UserWarning: X does not have valid feature names, but NearestNeighbors was fitted with feature names\n",
      "  warnings.warn(\n",
      "/opt/conda/lib/python3.9/site-packages/sklearn/base.py:450: UserWarning: X does not have valid feature names, but NearestNeighbors was fitted with feature names\n",
      "  warnings.warn(\n",
      "/opt/conda/lib/python3.9/site-packages/sklearn/base.py:450: UserWarning: X does not have valid feature names, but NearestNeighbors was fitted with feature names\n",
      "  warnings.warn(\n",
      "/opt/conda/lib/python3.9/site-packages/sklearn/base.py:450: UserWarning: X does not have valid feature names, but NearestNeighbors was fitted with feature names\n",
      "  warnings.warn(\n"
     ]
    },
    {
     "name": "stdout",
     "output_type": "stream",
     "text": [
      "INSERT INTO sustainment_predictions (case_number, prediction, prediction_time, prediction_type, closest_case_numbers) \n",
      "            VALUES ('1-69178527417','0', '2022-10-24 20:51:14', 'normal_prediction',('1-68896500457', '1-68416298272', '1-57874216555', '1-69182492650', '1-68274917224')) ON CONFLICT(case_number) DO UPDATE SET prediction = '0',prediction_time='2022-10-24 20:51:14', prediction_type = 'normal_prediction';INSERT INTO sustainment_predictions (case_number, prediction, prediction_time, prediction_type, closest_case_numbers) \n",
      "            VALUES ('1-69668761539','1', '2022-10-24 20:51:14', 'normal_prediction',('1-58422902192', '1-62086495967', '1-65165039892', '1-69407615809', '1-61630849668')) ON CONFLICT(case_number) DO UPDATE SET prediction = '1',prediction_time='2022-10-24 20:51:14', prediction_type = 'normal_prediction';INSERT INTO sustainment_predictions (case_number, prediction, prediction_time, prediction_type, closest_case_numbers) \n",
      "            VALUES ('1-69657594432','1', '2022-10-24 20:51:14', 'normal_prediction',('1-58075340455', '1-58074993906', '1-58080568428', '1-69657134842', '1-69657594432')) ON CONFLICT(case_number) DO UPDATE SET prediction = '1',prediction_time='2022-10-24 20:51:14', prediction_type = 'normal_prediction';INSERT INTO sustainment_predictions (case_number, prediction, prediction_time, prediction_type, closest_case_numbers) \n",
      "            VALUES ('1-69678343781','0', '2022-10-24 20:51:14', 'normal_prediction',('1-58113802272', '1-62214262660', '1-58081059869', '1-58423738652', '1-62299693307')) ON CONFLICT(case_number) DO UPDATE SET prediction = '0',prediction_time='2022-10-24 20:51:14', prediction_type = 'normal_prediction';"
     ]
    },
    {
     "name": "stderr",
     "output_type": "stream",
     "text": [
      "/opt/conda/lib/python3.9/site-packages/sklearn/base.py:450: UserWarning: X does not have valid feature names, but NearestNeighbors was fitted with feature names\n",
      "  warnings.warn(\n",
      "/opt/conda/lib/python3.9/site-packages/sklearn/base.py:450: UserWarning: X does not have valid feature names, but NearestNeighbors was fitted with feature names\n",
      "  warnings.warn(\n",
      "/opt/conda/lib/python3.9/site-packages/sklearn/base.py:450: UserWarning: X does not have valid feature names, but NearestNeighbors was fitted with feature names\n",
      "  warnings.warn(\n",
      "/opt/conda/lib/python3.9/site-packages/sklearn/base.py:450: UserWarning: X does not have valid feature names, but NearestNeighbors was fitted with feature names\n",
      "  warnings.warn(\n"
     ]
    },
    {
     "name": "stdout",
     "output_type": "stream",
     "text": [
      "INSERT INTO sustainment_predictions (case_number, prediction, prediction_time, prediction_type, closest_case_numbers) \n",
      "            VALUES ('1-69575780558','1', '2022-10-24 20:51:14', 'normal_prediction',('1-58678429061', '1-69760595604', '1-69394768228', '1-58740086254', '1-69531114373')) ON CONFLICT(case_number) DO UPDATE SET prediction = '1',prediction_time='2022-10-24 20:51:14', prediction_type = 'normal_prediction';INSERT INTO sustainment_predictions (case_number, prediction, prediction_time, prediction_type, closest_case_numbers) \n",
      "            VALUES ('1-69722477429','0', '2022-10-24 20:51:14', 'normal_prediction',('1-65224230933', '1-65086066296', '1-58241134145', '1-62008399202', '1-58557723651')) ON CONFLICT(case_number) DO UPDATE SET prediction = '0',prediction_time='2022-10-24 20:51:14', prediction_type = 'normal_prediction';INSERT INTO sustainment_predictions (case_number, prediction, prediction_time, prediction_type, closest_case_numbers) \n",
      "            VALUES ('1-69538722891','0', '2022-10-24 20:51:14', 'normal_prediction',('1-69538722891', '1-58554815641', '1-61885589685', '1-65392879717', '1-62172255762')) ON CONFLICT(case_number) DO UPDATE SET prediction = '0',prediction_time='2022-10-24 20:51:14', prediction_type = 'normal_prediction';INSERT INTO sustainment_predictions (case_number, prediction, prediction_time, prediction_type, closest_case_numbers) \n",
      "            VALUES ('1-69753020541','1', '2022-10-24 20:51:14', 'normal_prediction',('1-58121165760', '1-69281213805', '1-421181-241275', '1-421153-383656', '1-58024010971')) ON CONFLICT(case_number) DO UPDATE SET prediction = '1',prediction_time='2022-10-24 20:51:14', prediction_type = 'normal_prediction';"
     ]
    },
    {
     "name": "stderr",
     "output_type": "stream",
     "text": [
      "/opt/conda/lib/python3.9/site-packages/sklearn/base.py:450: UserWarning: X does not have valid feature names, but NearestNeighbors was fitted with feature names\n",
      "  warnings.warn(\n",
      "/opt/conda/lib/python3.9/site-packages/sklearn/base.py:450: UserWarning: X does not have valid feature names, but NearestNeighbors was fitted with feature names\n",
      "  warnings.warn(\n",
      "/opt/conda/lib/python3.9/site-packages/sklearn/base.py:450: UserWarning: X does not have valid feature names, but NearestNeighbors was fitted with feature names\n",
      "  warnings.warn(\n"
     ]
    },
    {
     "name": "stdout",
     "output_type": "stream",
     "text": [
      "INSERT INTO sustainment_predictions (case_number, prediction, prediction_time, prediction_type, closest_case_numbers) \n",
      "            VALUES ('1-69743089674','1', '2022-10-24 20:51:14', 'normal_prediction',('1-69743089674', '1-69366432687', '1-58155373535', '1-65971521953', '1-69473624609')) ON CONFLICT(case_number) DO UPDATE SET prediction = '1',prediction_time='2022-10-24 20:51:14', prediction_type = 'normal_prediction';INSERT INTO sustainment_predictions (case_number, prediction, prediction_time, prediction_type, closest_case_numbers) \n",
      "            VALUES ('1-69515121361','0', '2022-10-24 20:51:14', 'normal_prediction',('1-69543923199', '1-58155648699', '1-61781663159', '1-69407141008', '1-65765513189')) ON CONFLICT(case_number) DO UPDATE SET prediction = '0',prediction_time='2022-10-24 20:51:14', prediction_type = 'normal_prediction';INSERT INTO sustainment_predictions (case_number, prediction, prediction_time, prediction_type, closest_case_numbers) \n",
      "            VALUES ('1-69746235182','1', '2022-10-24 20:51:14', 'normal_prediction',('1-69575385836', '1-69447943741', '1-69241193580', '1-69306463507', '1-64193823147')) ON CONFLICT(case_number) DO UPDATE SET prediction = '1',prediction_time='2022-10-24 20:51:14', prediction_type = 'normal_prediction';"
     ]
    },
    {
     "name": "stderr",
     "output_type": "stream",
     "text": [
      "/opt/conda/lib/python3.9/site-packages/sklearn/base.py:450: UserWarning: X does not have valid feature names, but NearestNeighbors was fitted with feature names\n",
      "  warnings.warn(\n",
      "/opt/conda/lib/python3.9/site-packages/sklearn/base.py:450: UserWarning: X does not have valid feature names, but NearestNeighbors was fitted with feature names\n",
      "  warnings.warn(\n",
      "/opt/conda/lib/python3.9/site-packages/sklearn/base.py:450: UserWarning: X does not have valid feature names, but NearestNeighbors was fitted with feature names\n",
      "  warnings.warn(\n",
      "/opt/conda/lib/python3.9/site-packages/sklearn/base.py:450: UserWarning: X does not have valid feature names, but NearestNeighbors was fitted with feature names\n",
      "  warnings.warn(\n"
     ]
    },
    {
     "name": "stdout",
     "output_type": "stream",
     "text": [
      "INSERT INTO sustainment_predictions (case_number, prediction, prediction_time, prediction_type, closest_case_numbers) \n",
      "            VALUES ('1-67190706816','0', '2022-10-24 20:51:14', 'normal_prediction',('1-57813653207', '1-57508477441', '1-58391530246', '1-56991319693', '1-56892774131')) ON CONFLICT(case_number) DO UPDATE SET prediction = '0',prediction_time='2022-10-24 20:51:14', prediction_type = 'normal_prediction';INSERT INTO sustainment_predictions (case_number, prediction, prediction_time, prediction_type, closest_case_numbers) \n",
      "            VALUES ('1-69081669674','0', '2022-10-24 20:51:14', 'normal_prediction',('1-69229176710', '1-57216066623', '1-68637964250', '1-68358682762', '1-68348153209')) ON CONFLICT(case_number) DO UPDATE SET prediction = '0',prediction_time='2022-10-24 20:51:14', prediction_type = 'normal_prediction';INSERT INTO sustainment_predictions (case_number, prediction, prediction_time, prediction_type, closest_case_numbers) \n",
      "            VALUES ('1-69072106575','1', '2022-10-24 20:51:14', 'normal_prediction',('1-68991967568', '1-69072106575', '1-68799443300', '1-68431043918', '1-69087203120')) ON CONFLICT(case_number) DO UPDATE SET prediction = '1',prediction_time='2022-10-24 20:51:14', prediction_type = 'normal_prediction';INSERT INTO sustainment_predictions (case_number, prediction, prediction_time, prediction_type, closest_case_numbers) \n",
      "            VALUES ('1-69072853580','0', '2022-10-24 20:51:14', 'normal_prediction',('1-57186356209', '1-64423041127', '1-68273826328', '1-57071331947', '1-64520352965')) ON CONFLICT(case_number) DO UPDATE SET prediction = '0',prediction_time='2022-10-24 20:51:14', prediction_type = 'normal_prediction';"
     ]
    },
    {
     "name": "stderr",
     "output_type": "stream",
     "text": [
      "/opt/conda/lib/python3.9/site-packages/sklearn/base.py:450: UserWarning: X does not have valid feature names, but NearestNeighbors was fitted with feature names\n",
      "  warnings.warn(\n",
      "/opt/conda/lib/python3.9/site-packages/sklearn/base.py:450: UserWarning: X does not have valid feature names, but NearestNeighbors was fitted with feature names\n",
      "  warnings.warn(\n",
      "/opt/conda/lib/python3.9/site-packages/sklearn/base.py:450: UserWarning: X does not have valid feature names, but NearestNeighbors was fitted with feature names\n",
      "  warnings.warn(\n"
     ]
    },
    {
     "name": "stdout",
     "output_type": "stream",
     "text": [
      "INSERT INTO sustainment_predictions (case_number, prediction, prediction_time, prediction_type, closest_case_numbers) \n",
      "            VALUES ('1-69369257479','1', '2022-10-24 20:51:14', 'normal_prediction',('1-69369257479', '1-58233412216', '1-69580913225', '1-58101589773', '1-58808538886')) ON CONFLICT(case_number) DO UPDATE SET prediction = '1',prediction_time='2022-10-24 20:51:14', prediction_type = 'normal_prediction';INSERT INTO sustainment_predictions (case_number, prediction, prediction_time, prediction_type, closest_case_numbers) \n",
      "            VALUES ('1-69190469076','1', '2022-10-24 20:51:14', 'normal_prediction',('1-61473169388', '1-68530711203', '1-57108144426', '1-69190469076', '1-68524688453')) ON CONFLICT(case_number) DO UPDATE SET prediction = '1',prediction_time='2022-10-24 20:51:14', prediction_type = 'normal_prediction';INSERT INTO sustainment_predictions (case_number, prediction, prediction_time, prediction_type, closest_case_numbers) \n",
      "            VALUES ('1-69449333975','1', '2022-10-24 20:51:14', 'normal_prediction',('1-69483815737', '1-57994782433', '1-61907509014', '1-62213684913', '1-66053759868')) ON CONFLICT(case_number) DO UPDATE SET prediction = '1',prediction_time='2022-10-24 20:51:14', prediction_type = 'normal_prediction';"
     ]
    },
    {
     "name": "stderr",
     "output_type": "stream",
     "text": [
      "/opt/conda/lib/python3.9/site-packages/sklearn/base.py:450: UserWarning: X does not have valid feature names, but NearestNeighbors was fitted with feature names\n",
      "  warnings.warn(\n",
      "/opt/conda/lib/python3.9/site-packages/sklearn/base.py:450: UserWarning: X does not have valid feature names, but NearestNeighbors was fitted with feature names\n",
      "  warnings.warn(\n",
      "/opt/conda/lib/python3.9/site-packages/sklearn/base.py:450: UserWarning: X does not have valid feature names, but NearestNeighbors was fitted with feature names\n",
      "  warnings.warn(\n",
      "/opt/conda/lib/python3.9/site-packages/sklearn/base.py:450: UserWarning: X does not have valid feature names, but NearestNeighbors was fitted with feature names\n",
      "  warnings.warn(\n"
     ]
    },
    {
     "name": "stdout",
     "output_type": "stream",
     "text": [
      "INSERT INTO sustainment_predictions (case_number, prediction, prediction_time, prediction_type, closest_case_numbers) \n",
      "            VALUES ('1-69393263485','1', '2022-10-24 20:51:14', 'normal_prediction',('1-69447741638', '1-58401723663', '1-58625598555', '1-58319481355', '1-69306732833')) ON CONFLICT(case_number) DO UPDATE SET prediction = '1',prediction_time='2022-10-24 20:51:14', prediction_type = 'normal_prediction';INSERT INTO sustainment_predictions (case_number, prediction, prediction_time, prediction_type, closest_case_numbers) \n",
      "            VALUES ('1-68967467781','1', '2022-10-24 20:51:14', 'normal_prediction',('1-68274274085', '1-68635399561', '1-57547260533', '1-68876742249', '1-56700523448')) ON CONFLICT(case_number) DO UPDATE SET prediction = '1',prediction_time='2022-10-24 20:51:14', prediction_type = 'normal_prediction';INSERT INTO sustainment_predictions (case_number, prediction, prediction_time, prediction_type, closest_case_numbers) \n",
      "            VALUES ('1-69607645180','1', '2022-10-24 20:51:14', 'normal_prediction',('1-65162255799', '1-65910664290', '1-65382842468', '1-69365747424', '1-58894780997')) ON CONFLICT(case_number) DO UPDATE SET prediction = '1',prediction_time='2022-10-24 20:51:14', prediction_type = 'normal_prediction';INSERT INTO sustainment_predictions (case_number, prediction, prediction_time, prediction_type, closest_case_numbers) \n",
      "            VALUES ('1-69528505020','1', '2022-10-24 20:51:14', 'normal_prediction',('1-65593294271', '1-58360832485', '1-65795917451', '1-58387803364', '1-62324162685')) ON CONFLICT(case_number) DO UPDATE SET prediction = '1',prediction_time='2022-10-24 20:51:14', prediction_type = 'normal_prediction';"
     ]
    },
    {
     "name": "stderr",
     "output_type": "stream",
     "text": [
      "/opt/conda/lib/python3.9/site-packages/sklearn/base.py:450: UserWarning: X does not have valid feature names, but NearestNeighbors was fitted with feature names\n",
      "  warnings.warn(\n",
      "/opt/conda/lib/python3.9/site-packages/sklearn/base.py:450: UserWarning: X does not have valid feature names, but NearestNeighbors was fitted with feature names\n",
      "  warnings.warn(\n",
      "/opt/conda/lib/python3.9/site-packages/sklearn/base.py:450: UserWarning: X does not have valid feature names, but NearestNeighbors was fitted with feature names\n",
      "  warnings.warn(\n",
      "/opt/conda/lib/python3.9/site-packages/sklearn/base.py:450: UserWarning: X does not have valid feature names, but NearestNeighbors was fitted with feature names\n",
      "  warnings.warn(\n"
     ]
    },
    {
     "name": "stdout",
     "output_type": "stream",
     "text": [
      "INSERT INTO sustainment_predictions (case_number, prediction, prediction_time, prediction_type, closest_case_numbers) \n",
      "            VALUES ('1-69665779538','1', '2022-10-24 20:51:14', 'normal_prediction',('1-69665779538', '1-58206882260', '1-69662217054', '1-58800238262', '1-69508974908')) ON CONFLICT(case_number) DO UPDATE SET prediction = '1',prediction_time='2022-10-24 20:51:14', prediction_type = 'normal_prediction';INSERT INTO sustainment_predictions (case_number, prediction, prediction_time, prediction_type, closest_case_numbers) \n",
      "            VALUES ('1-69595984591','1', '2022-10-24 20:51:14', 'normal_prediction',('1-58729552570', '1-61984693886', '1-65714743587', '1-65820249988', '1-58196632172')) ON CONFLICT(case_number) DO UPDATE SET prediction = '1',prediction_time='2022-10-24 20:51:14', prediction_type = 'normal_prediction';INSERT INTO sustainment_predictions (case_number, prediction, prediction_time, prediction_type, closest_case_numbers) \n",
      "            VALUES ('1-69611854390','0', '2022-10-24 20:51:14', 'normal_prediction',('1-58436765521', '1-69449837488', '1-69255037294', '1-58509725746', '1-58238700175')) ON CONFLICT(case_number) DO UPDATE SET prediction = '0',prediction_time='2022-10-24 20:51:14', prediction_type = 'normal_prediction';INSERT INTO sustainment_predictions (case_number, prediction, prediction_time, prediction_type, closest_case_numbers) \n",
      "            VALUES ('1-69656866735','0', '2022-10-24 20:51:14', 'normal_prediction',('1-58373218465', '1-62122342192', '1-65817831674', '1-61974495999', '1-61919060078')) ON CONFLICT(case_number) DO UPDATE SET prediction = '0',prediction_time='2022-10-24 20:51:14', prediction_type = 'normal_prediction';"
     ]
    },
    {
     "name": "stderr",
     "output_type": "stream",
     "text": [
      "/opt/conda/lib/python3.9/site-packages/sklearn/base.py:450: UserWarning: X does not have valid feature names, but NearestNeighbors was fitted with feature names\n",
      "  warnings.warn(\n",
      "/opt/conda/lib/python3.9/site-packages/sklearn/base.py:450: UserWarning: X does not have valid feature names, but NearestNeighbors was fitted with feature names\n",
      "  warnings.warn(\n",
      "/opt/conda/lib/python3.9/site-packages/sklearn/base.py:450: UserWarning: X does not have valid feature names, but NearestNeighbors was fitted with feature names\n",
      "  warnings.warn(\n"
     ]
    },
    {
     "name": "stdout",
     "output_type": "stream",
     "text": [
      "INSERT INTO sustainment_predictions (case_number, prediction, prediction_time, prediction_type, closest_case_numbers) \n",
      "            VALUES ('1-69724975385','1', '2022-10-24 20:51:14', 'normal_prediction',('1-69590709976', '1-65097846901', '1-58198293435', '1-61707617239', '1-58138916922')) ON CONFLICT(case_number) DO UPDATE SET prediction = '1',prediction_time='2022-10-24 20:51:14', prediction_type = 'normal_prediction';INSERT INTO sustainment_predictions (case_number, prediction, prediction_time, prediction_type, closest_case_numbers) \n",
      "            VALUES ('1-69645322044','1', '2022-10-24 20:51:14', 'normal_prediction',('1-65224446176', '1-62305177518', '1-65450724443', '1-65138686241', '1-57967584666')) ON CONFLICT(case_number) DO UPDATE SET prediction = '1',prediction_time='2022-10-24 20:51:14', prediction_type = 'normal_prediction';INSERT INTO sustainment_predictions (case_number, prediction, prediction_time, prediction_type, closest_case_numbers) \n",
      "            VALUES ('1-421165-58465','0', '2022-10-24 20:51:14', 'normal_prediction',('1-421169-190592', '1-64783740705', '1-69575700036', '1-59505094390', '1-67035966305')) ON CONFLICT(case_number) DO UPDATE SET prediction = '0',prediction_time='2022-10-24 20:51:14', prediction_type = 'normal_prediction';"
     ]
    },
    {
     "name": "stderr",
     "output_type": "stream",
     "text": [
      "/opt/conda/lib/python3.9/site-packages/sklearn/base.py:450: UserWarning: X does not have valid feature names, but NearestNeighbors was fitted with feature names\n",
      "  warnings.warn(\n",
      "/opt/conda/lib/python3.9/site-packages/sklearn/base.py:450: UserWarning: X does not have valid feature names, but NearestNeighbors was fitted with feature names\n",
      "  warnings.warn(\n",
      "/opt/conda/lib/python3.9/site-packages/sklearn/base.py:450: UserWarning: X does not have valid feature names, but NearestNeighbors was fitted with feature names\n",
      "  warnings.warn(\n"
     ]
    },
    {
     "name": "stdout",
     "output_type": "stream",
     "text": [
      "INSERT INTO sustainment_predictions (case_number, prediction, prediction_time, prediction_type, closest_case_numbers) \n",
      "            VALUES ('1-421157-336965','0', '2022-10-24 20:51:14', 'normal_prediction',('1-421157-36', '1-421157-142885', '1-68591883405', '1-68866697810', '1-68332019196')) ON CONFLICT(case_number) DO UPDATE SET prediction = '0',prediction_time='2022-10-24 20:51:14', prediction_type = 'normal_prediction';INSERT INTO sustainment_predictions (case_number, prediction, prediction_time, prediction_type, closest_case_numbers) \n",
      "            VALUES ('1-69279437998','0', '2022-10-24 20:51:14', 'normal_prediction',('1-61858613361', '1-69475942334', '1-69241803117', '1-58870830125', '1-65721208414')) ON CONFLICT(case_number) DO UPDATE SET prediction = '0',prediction_time='2022-10-24 20:51:14', prediction_type = 'normal_prediction';INSERT INTO sustainment_predictions (case_number, prediction, prediction_time, prediction_type, closest_case_numbers) \n",
      "            VALUES ('1-69401414684','1', '2022-10-24 20:51:14', 'normal_prediction',('1-61811092852', '1-65351902257', '1-69474203717', '1-58579201574', '1-69401414684')) ON CONFLICT(case_number) DO UPDATE SET prediction = '1',prediction_time='2022-10-24 20:51:14', prediction_type = 'normal_prediction';INSERT INTO sustainment_predictions (case_number, prediction, prediction_time, prediction_type, closest_case_numbers) \n",
      "            VALUES ('1-69442472151','1', '2022-10-24 20:51:14', 'normal_prediction',('1-58751556979', '1-69478527171', '1-61679389100', '1-69458302080', '1-62231578225')) ON CONFLICT(case_number) DO UPDATE SET prediction = '1',prediction_time='2022-10-24 20:51:14', prediction_type = 'normal_prediction';INSERT INTO sustainment_predictions (case_number, prediction, prediction_time, prediction_type, closest_case_numbers) \n",
      "            VALUES ('1-69442749985','0', '2022-10-24 20:51:14', 'normal_prediction',('1-58108028642', '1-69762221565', '1-69760080891', '1-69507255842', '1-62113681275')) ON CONFLICT(case_number) DO UPDATE SET prediction = '0',prediction_time='2022-10-24 20:51:14', prediction_type = 'normal_prediction';INSERT INTO sustainment_predictions (case_number, prediction, prediction_time, prediction_type, closest_case_numbers) \n",
      "            VALUES ('1-69408468243','0', '2022-10-24 20:51:14', 'normal_prediction',('1-69372269522', '1-69366887598', '1-69395924409', '1-61687208764', '1-61920406002')) ON CONFLICT(case_number) DO UPDATE SET prediction = '0',prediction_time='2022-10-24 20:51:14', prediction_type = 'normal_prediction';"
     ]
    },
    {
     "name": "stderr",
     "output_type": "stream",
     "text": [
      "/opt/conda/lib/python3.9/site-packages/sklearn/base.py:450: UserWarning: X does not have valid feature names, but NearestNeighbors was fitted with feature names\n",
      "  warnings.warn(\n",
      "/opt/conda/lib/python3.9/site-packages/sklearn/base.py:450: UserWarning: X does not have valid feature names, but NearestNeighbors was fitted with feature names\n",
      "  warnings.warn(\n",
      "/opt/conda/lib/python3.9/site-packages/sklearn/base.py:450: UserWarning: X does not have valid feature names, but NearestNeighbors was fitted with feature names\n",
      "  warnings.warn(\n",
      "/opt/conda/lib/python3.9/site-packages/sklearn/base.py:450: UserWarning: X does not have valid feature names, but NearestNeighbors was fitted with feature names\n",
      "  warnings.warn(\n"
     ]
    },
    {
     "name": "stdout",
     "output_type": "stream",
     "text": [
      "INSERT INTO sustainment_predictions (case_number, prediction, prediction_time, prediction_type, closest_case_numbers) \n",
      "            VALUES ('1-69443588831','1', '2022-10-24 20:51:14', 'normal_prediction',('1-69443588831', '1-58754758493', '1-62388611928', '1-65444669804', '1-69407723858')) ON CONFLICT(case_number) DO UPDATE SET prediction = '1',prediction_time='2022-10-24 20:51:14', prediction_type = 'normal_prediction';INSERT INTO sustainment_predictions (case_number, prediction, prediction_time, prediction_type, closest_case_numbers) \n",
      "            VALUES ('1-69168358005','1', '2022-10-24 20:51:14', 'normal_prediction',('1-64840216742', '1-65048475487', '1-57330565194', '1-57055378627', '1-68948832402')) ON CONFLICT(case_number) DO UPDATE SET prediction = '1',prediction_time='2022-10-24 20:51:14', prediction_type = 'normal_prediction';INSERT INTO sustainment_predictions (case_number, prediction, prediction_time, prediction_type, closest_case_numbers) \n",
      "            VALUES ('1-69527753382','0', '2022-10-24 20:51:14', 'normal_prediction',('1-58593512172', '1-69730798215', '1-69244274557', '1-58550213712', '1-69611476433')) ON CONFLICT(case_number) DO UPDATE SET prediction = '0',prediction_time='2022-10-24 20:51:14', prediction_type = 'normal_prediction';INSERT INTO sustainment_predictions (case_number, prediction, prediction_time, prediction_type, closest_case_numbers) \n",
      "            VALUES ('1-69666076362','1', '2022-10-24 20:51:14', 'normal_prediction',('1-69305796170', '1-58695462935', '1-58646421467', '1-65135350945', '1-62322092036')) ON CONFLICT(case_number) DO UPDATE SET prediction = '1',prediction_time='2022-10-24 20:51:14', prediction_type = 'normal_prediction';"
     ]
    },
    {
     "name": "stderr",
     "output_type": "stream",
     "text": [
      "/opt/conda/lib/python3.9/site-packages/sklearn/base.py:450: UserWarning: X does not have valid feature names, but NearestNeighbors was fitted with feature names\n",
      "  warnings.warn(\n",
      "/opt/conda/lib/python3.9/site-packages/sklearn/base.py:450: UserWarning: X does not have valid feature names, but NearestNeighbors was fitted with feature names\n",
      "  warnings.warn(\n",
      "/opt/conda/lib/python3.9/site-packages/sklearn/base.py:450: UserWarning: X does not have valid feature names, but NearestNeighbors was fitted with feature names\n",
      "  warnings.warn(\n",
      "/opt/conda/lib/python3.9/site-packages/sklearn/base.py:450: UserWarning: X does not have valid feature names, but NearestNeighbors was fitted with feature names\n",
      "  warnings.warn(\n"
     ]
    },
    {
     "name": "stdout",
     "output_type": "stream",
     "text": [
      "INSERT INTO sustainment_predictions (case_number, prediction, prediction_time, prediction_type, closest_case_numbers) \n",
      "            VALUES ('1-69597667827','0', '2022-10-24 20:51:14', 'normal_prediction',('1-69597667827', '1-61844149179', '1-62392170793', '1-62007058713', '1-61684196398')) ON CONFLICT(case_number) DO UPDATE SET prediction = '0',prediction_time='2022-10-24 20:51:14', prediction_type = 'normal_prediction';INSERT INTO sustainment_predictions (case_number, prediction, prediction_time, prediction_type, closest_case_numbers) \n",
      "            VALUES ('1-69601256108','1', '2022-10-24 20:51:14', 'normal_prediction',('1-58527831358', '1-58645055587', '1-66067279515', '1-69574854267', '1-58453248395')) ON CONFLICT(case_number) DO UPDATE SET prediction = '1',prediction_time='2022-10-24 20:51:14', prediction_type = 'normal_prediction';INSERT INTO sustainment_predictions (case_number, prediction, prediction_time, prediction_type, closest_case_numbers) \n",
      "            VALUES ('1-69723556841','0', '2022-10-24 20:51:14', 'normal_prediction',('1-69723556841', '1-61985832575', '1-65610163992', '1-62175218555', '1-61769264654')) ON CONFLICT(case_number) DO UPDATE SET prediction = '0',prediction_time='2022-10-24 20:51:14', prediction_type = 'normal_prediction';INSERT INTO sustainment_predictions (case_number, prediction, prediction_time, prediction_type, closest_case_numbers) \n",
      "            VALUES ('1-69566684931','1', '2022-10-24 20:51:14', 'normal_prediction',('1-62435658380', '1-69566684931', '1-65720865313', '1-58374762453', '1-58573989410')) ON CONFLICT(case_number) DO UPDATE SET prediction = '1',prediction_time='2022-10-24 20:51:14', prediction_type = 'normal_prediction';"
     ]
    },
    {
     "name": "stderr",
     "output_type": "stream",
     "text": [
      "/opt/conda/lib/python3.9/site-packages/sklearn/base.py:450: UserWarning: X does not have valid feature names, but NearestNeighbors was fitted with feature names\n",
      "  warnings.warn(\n",
      "/opt/conda/lib/python3.9/site-packages/sklearn/base.py:450: UserWarning: X does not have valid feature names, but NearestNeighbors was fitted with feature names\n",
      "  warnings.warn(\n",
      "/opt/conda/lib/python3.9/site-packages/sklearn/base.py:450: UserWarning: X does not have valid feature names, but NearestNeighbors was fitted with feature names\n",
      "  warnings.warn(\n",
      "/opt/conda/lib/python3.9/site-packages/sklearn/base.py:450: UserWarning: X does not have valid feature names, but NearestNeighbors was fitted with feature names\n",
      "  warnings.warn(\n"
     ]
    },
    {
     "name": "stdout",
     "output_type": "stream",
     "text": [
      "INSERT INTO sustainment_predictions (case_number, prediction, prediction_time, prediction_type, closest_case_numbers) \n",
      "            VALUES ('1-69538736713','1', '2022-10-24 20:51:14', 'normal_prediction',('1-69505506858', '1-61593685742', '1-65096259379', '1-61599750367', '1-62131268964')) ON CONFLICT(case_number) DO UPDATE SET prediction = '1',prediction_time='2022-10-24 20:51:14', prediction_type = 'normal_prediction';INSERT INTO sustainment_predictions (case_number, prediction, prediction_time, prediction_type, closest_case_numbers) \n",
      "            VALUES ('1-69508974908','1', '2022-10-24 20:51:14', 'normal_prediction',('1-69665779538', '1-58206882260', '1-69662217054', '1-58800238262', '1-69508974908')) ON CONFLICT(case_number) DO UPDATE SET prediction = '1',prediction_time='2022-10-24 20:51:14', prediction_type = 'normal_prediction';INSERT INTO sustainment_predictions (case_number, prediction, prediction_time, prediction_type, closest_case_numbers) \n",
      "            VALUES ('1-68866175889','1', '2022-10-24 20:51:14', 'normal_prediction',('1-64750981112', '1-68866175889', '1-57789058172', '1-61355338689', '1-57774531494')) ON CONFLICT(case_number) DO UPDATE SET prediction = '1',prediction_time='2022-10-24 20:51:14', prediction_type = 'normal_prediction';INSERT INTO sustainment_predictions (case_number, prediction, prediction_time, prediction_type, closest_case_numbers) \n",
      "            VALUES ('1-69084114011','1', '2022-10-24 20:51:14', 'normal_prediction',('1-69084114011', '1-69226565620', '1-56981160950', '1-57491069894', '1-68441860885')) ON CONFLICT(case_number) DO UPDATE SET prediction = '1',prediction_time='2022-10-24 20:51:14', prediction_type = 'normal_prediction';"
     ]
    },
    {
     "name": "stderr",
     "output_type": "stream",
     "text": [
      "/opt/conda/lib/python3.9/site-packages/sklearn/base.py:450: UserWarning: X does not have valid feature names, but NearestNeighbors was fitted with feature names\n",
      "  warnings.warn(\n",
      "/opt/conda/lib/python3.9/site-packages/sklearn/base.py:450: UserWarning: X does not have valid feature names, but NearestNeighbors was fitted with feature names\n",
      "  warnings.warn(\n",
      "/opt/conda/lib/python3.9/site-packages/sklearn/base.py:450: UserWarning: X does not have valid feature names, but NearestNeighbors was fitted with feature names\n",
      "  warnings.warn(\n",
      "/opt/conda/lib/python3.9/site-packages/sklearn/base.py:450: UserWarning: X does not have valid feature names, but NearestNeighbors was fitted with feature names\n",
      "  warnings.warn(\n"
     ]
    },
    {
     "name": "stdout",
     "output_type": "stream",
     "text": [
      "INSERT INTO sustainment_predictions (case_number, prediction, prediction_time, prediction_type, closest_case_numbers) \n",
      "            VALUES ('1-69293103347','1', '2022-10-24 20:51:14', 'normal_prediction',('1-69293103347', '1-58881955946', '1-69656703905', '1-69652382154', '1-61837290312')) ON CONFLICT(case_number) DO UPDATE SET prediction = '1',prediction_time='2022-10-24 20:51:14', prediction_type = 'normal_prediction';INSERT INTO sustainment_predictions (case_number, prediction, prediction_time, prediction_type, closest_case_numbers) \n",
      "            VALUES ('1-69087572412','1', '2022-10-24 20:51:14', 'normal_prediction',('1-69087572412', '1-61047838261', '1-57776472644', '1-57559648223', '1-60930662382')) ON CONFLICT(case_number) DO UPDATE SET prediction = '1',prediction_time='2022-10-24 20:51:14', prediction_type = 'normal_prediction';INSERT INTO sustainment_predictions (case_number, prediction, prediction_time, prediction_type, closest_case_numbers) \n",
      "            VALUES ('1-69035344963','1', '2022-10-24 20:51:14', 'normal_prediction',('1-61180391044', '1-57132924355', '1-57329038796', '1-57942938488', '1-64711790833')) ON CONFLICT(case_number) DO UPDATE SET prediction = '1',prediction_time='2022-10-24 20:51:14', prediction_type = 'normal_prediction';INSERT INTO sustainment_predictions (case_number, prediction, prediction_time, prediction_type, closest_case_numbers) \n",
      "            VALUES ('1-69289080910','0', '2022-10-24 20:51:14', 'normal_prediction',('1-69747564919', '1-58393834975', '1-65350812937', '1-69606590962', '1-61974495999')) ON CONFLICT(case_number) DO UPDATE SET prediction = '0',prediction_time='2022-10-24 20:51:14', prediction_type = 'normal_prediction';"
     ]
    },
    {
     "name": "stderr",
     "output_type": "stream",
     "text": [
      "/opt/conda/lib/python3.9/site-packages/sklearn/base.py:450: UserWarning: X does not have valid feature names, but NearestNeighbors was fitted with feature names\n",
      "  warnings.warn(\n",
      "/opt/conda/lib/python3.9/site-packages/sklearn/base.py:450: UserWarning: X does not have valid feature names, but NearestNeighbors was fitted with feature names\n",
      "  warnings.warn(\n",
      "/opt/conda/lib/python3.9/site-packages/sklearn/base.py:450: UserWarning: X does not have valid feature names, but NearestNeighbors was fitted with feature names\n",
      "  warnings.warn(\n",
      "/opt/conda/lib/python3.9/site-packages/sklearn/base.py:450: UserWarning: X does not have valid feature names, but NearestNeighbors was fitted with feature names\n",
      "  warnings.warn(\n"
     ]
    },
    {
     "name": "stdout",
     "output_type": "stream",
     "text": [
      "INSERT INTO sustainment_predictions (case_number, prediction, prediction_time, prediction_type, closest_case_numbers) \n",
      "            VALUES ('1-69211492576','1', '2022-10-24 20:51:14', 'normal_prediction',('1-57282513133', '1-68337156250', '1-64569703004', '1-61242937082', '1-69211492576')) ON CONFLICT(case_number) DO UPDATE SET prediction = '1',prediction_time='2022-10-24 20:51:14', prediction_type = 'normal_prediction';INSERT INTO sustainment_predictions (case_number, prediction, prediction_time, prediction_type, closest_case_numbers) \n",
      "            VALUES ('1-69188942968','1', '2022-10-24 20:51:14', 'normal_prediction',('1-68548395201', '1-57858906053', '1-57737692166', '1-64528416929', '1-68635845187')) ON CONFLICT(case_number) DO UPDATE SET prediction = '1',prediction_time='2022-10-24 20:51:14', prediction_type = 'normal_prediction';INSERT INTO sustainment_predictions (case_number, prediction, prediction_time, prediction_type, closest_case_numbers) \n",
      "            VALUES ('1-69190005409','1', '2022-10-24 20:51:14', 'normal_prediction',('1-69190005409', '1-57419073894', '1-68814939371', '1-57709259421', '1-61211427249')) ON CONFLICT(case_number) DO UPDATE SET prediction = '1',prediction_time='2022-10-24 20:51:14', prediction_type = 'normal_prediction';INSERT INTO sustainment_predictions (case_number, prediction, prediction_time, prediction_type, closest_case_numbers) \n",
      "            VALUES ('1-69446595020','1', '2022-10-24 20:51:14', 'normal_prediction',('1-58115622637', '1-69726813862', '1-69745053418', '1-58873307753', '1-69446595020')) ON CONFLICT(case_number) DO UPDATE SET prediction = '1',prediction_time='2022-10-24 20:51:14', prediction_type = 'normal_prediction';"
     ]
    },
    {
     "name": "stderr",
     "output_type": "stream",
     "text": [
      "/opt/conda/lib/python3.9/site-packages/sklearn/base.py:450: UserWarning: X does not have valid feature names, but NearestNeighbors was fitted with feature names\n",
      "  warnings.warn(\n",
      "/opt/conda/lib/python3.9/site-packages/sklearn/base.py:450: UserWarning: X does not have valid feature names, but NearestNeighbors was fitted with feature names\n",
      "  warnings.warn(\n",
      "/opt/conda/lib/python3.9/site-packages/sklearn/base.py:450: UserWarning: X does not have valid feature names, but NearestNeighbors was fitted with feature names\n",
      "  warnings.warn(\n",
      "/opt/conda/lib/python3.9/site-packages/sklearn/base.py:450: UserWarning: X does not have valid feature names, but NearestNeighbors was fitted with feature names\n",
      "  warnings.warn(\n"
     ]
    },
    {
     "name": "stdout",
     "output_type": "stream",
     "text": [
      "INSERT INTO sustainment_predictions (case_number, prediction, prediction_time, prediction_type, closest_case_numbers) \n",
      "            VALUES ('1-69446929556','0', '2022-10-24 20:51:14', 'normal_prediction',('1-69446929556', '1-58587142389', '1-69253242091', '1-65312560416', '1-58785189244')) ON CONFLICT(case_number) DO UPDATE SET prediction = '0',prediction_time='2022-10-24 20:51:14', prediction_type = 'normal_prediction';INSERT INTO sustainment_predictions (case_number, prediction, prediction_time, prediction_type, closest_case_numbers) \n",
      "            VALUES ('1-69224425485','1', '2022-10-24 20:51:14', 'normal_prediction',('1-61436525289', '1-68350439317', '1-58631090469', '1-57918149495', '1-69076683557')) ON CONFLICT(case_number) DO UPDATE SET prediction = '1',prediction_time='2022-10-24 20:51:14', prediction_type = 'normal_prediction';INSERT INTO sustainment_predictions (case_number, prediction, prediction_time, prediction_type, closest_case_numbers) \n",
      "            VALUES ('1-69472389735','1', '2022-10-24 20:51:14', 'normal_prediction',('1-69760691556', '1-69402808118', '1-69722862838', '1-65440900100', '1-69576488529')) ON CONFLICT(case_number) DO UPDATE SET prediction = '1',prediction_time='2022-10-24 20:51:14', prediction_type = 'normal_prediction';INSERT INTO sustainment_predictions (case_number, prediction, prediction_time, prediction_type, closest_case_numbers) \n",
      "            VALUES ('1-69202703844','1', '2022-10-24 20:51:14', 'normal_prediction',('1-69202703844', '1-61430488338', '1-57641389831', '1-68343361029', '1-68866029106')) ON CONFLICT(case_number) DO UPDATE SET prediction = '1',prediction_time='2022-10-24 20:51:14', prediction_type = 'normal_prediction';"
     ]
    },
    {
     "name": "stderr",
     "output_type": "stream",
     "text": [
      "/opt/conda/lib/python3.9/site-packages/sklearn/base.py:450: UserWarning: X does not have valid feature names, but NearestNeighbors was fitted with feature names\n",
      "  warnings.warn(\n",
      "/opt/conda/lib/python3.9/site-packages/sklearn/base.py:450: UserWarning: X does not have valid feature names, but NearestNeighbors was fitted with feature names\n",
      "  warnings.warn(\n",
      "/opt/conda/lib/python3.9/site-packages/sklearn/base.py:450: UserWarning: X does not have valid feature names, but NearestNeighbors was fitted with feature names\n",
      "  warnings.warn(\n",
      "/opt/conda/lib/python3.9/site-packages/sklearn/base.py:450: UserWarning: X does not have valid feature names, but NearestNeighbors was fitted with feature names\n",
      "  warnings.warn(\n"
     ]
    },
    {
     "name": "stdout",
     "output_type": "stream",
     "text": [
      "INSERT INTO sustainment_predictions (case_number, prediction, prediction_time, prediction_type, closest_case_numbers) \n",
      "            VALUES ('1-69375308660','1', '2022-10-24 20:51:14', 'normal_prediction',('1-69568075902', '1-58708525714', '1-421181-145373', '1-69486816784', '1-69391159022')) ON CONFLICT(case_number) DO UPDATE SET prediction = '1',prediction_time='2022-10-24 20:51:14', prediction_type = 'normal_prediction';INSERT INTO sustainment_predictions (case_number, prediction, prediction_time, prediction_type, closest_case_numbers) \n",
      "            VALUES ('1-69383684585','0', '2022-10-24 20:51:14', 'normal_prediction',('1-69383684585', '1-69677631223', '1-69749843186', '1-58680635733', '1-62230543883')) ON CONFLICT(case_number) DO UPDATE SET prediction = '0',prediction_time='2022-10-24 20:51:14', prediction_type = 'normal_prediction';INSERT INTO sustainment_predictions (case_number, prediction, prediction_time, prediction_type, closest_case_numbers) \n",
      "            VALUES ('1-69227661242','0', '2022-10-24 20:51:14', 'normal_prediction',('1-57578700329', '1-68350128188', '1-68634295900', '1-69039918247', '1-64992175148')) ON CONFLICT(case_number) DO UPDATE SET prediction = '0',prediction_time='2022-10-24 20:51:14', prediction_type = 'normal_prediction';INSERT INTO sustainment_predictions (case_number, prediction, prediction_time, prediction_type, closest_case_numbers) \n",
      "            VALUES ('1-69730798215','0', '2022-10-24 20:51:14', 'normal_prediction',('1-69527753382', '1-58593512172', '1-69244274557', '1-58550213712', '1-69611476433')) ON CONFLICT(case_number) DO UPDATE SET prediction = '0',prediction_time='2022-10-24 20:51:14', prediction_type = 'normal_prediction';"
     ]
    },
    {
     "name": "stderr",
     "output_type": "stream",
     "text": [
      "/opt/conda/lib/python3.9/site-packages/sklearn/base.py:450: UserWarning: X does not have valid feature names, but NearestNeighbors was fitted with feature names\n",
      "  warnings.warn(\n",
      "/opt/conda/lib/python3.9/site-packages/sklearn/base.py:450: UserWarning: X does not have valid feature names, but NearestNeighbors was fitted with feature names\n",
      "  warnings.warn(\n",
      "/opt/conda/lib/python3.9/site-packages/sklearn/base.py:450: UserWarning: X does not have valid feature names, but NearestNeighbors was fitted with feature names\n",
      "  warnings.warn(\n",
      "/opt/conda/lib/python3.9/site-packages/sklearn/base.py:450: UserWarning: X does not have valid feature names, but NearestNeighbors was fitted with feature names\n",
      "  warnings.warn(\n"
     ]
    },
    {
     "name": "stdout",
     "output_type": "stream",
     "text": [
      "INSERT INTO sustainment_predictions (case_number, prediction, prediction_time, prediction_type, closest_case_numbers) \n",
      "            VALUES ('1-69668265638','1', '2022-10-24 20:51:14', 'normal_prediction',('1-69668265638', '1-69650186604', '1-68977078965', '1-58628290354', '1-69743089572')) ON CONFLICT(case_number) DO UPDATE SET prediction = '1',prediction_time='2022-10-24 20:51:14', prediction_type = 'normal_prediction';INSERT INTO sustainment_predictions (case_number, prediction, prediction_time, prediction_type, closest_case_numbers) \n",
      "            VALUES ('1-69488667214','1', '2022-10-24 20:51:14', 'normal_prediction',('1-65693235481', '1-69678347479', '1-58123636964', '1-65970053950', '1-58626618998')) ON CONFLICT(case_number) DO UPDATE SET prediction = '1',prediction_time='2022-10-24 20:51:14', prediction_type = 'normal_prediction';INSERT INTO sustainment_predictions (case_number, prediction, prediction_time, prediction_type, closest_case_numbers) \n",
      "            VALUES ('1-69678049266','0', '2022-10-24 20:51:14', 'normal_prediction',('1-62077395898', '1-69658505316', '1-62290988088', '1-62130211005', '1-65099474248')) ON CONFLICT(case_number) DO UPDATE SET prediction = '0',prediction_time='2022-10-24 20:51:14', prediction_type = 'normal_prediction';INSERT INTO sustainment_predictions (case_number, prediction, prediction_time, prediction_type, closest_case_numbers) \n",
      "            VALUES ('1-69721216093','1', '2022-10-24 20:51:14', 'normal_prediction',('1-59574442290', '1-69539949216', '1-65970249807', '1-62007573191', '1-62373995816')) ON CONFLICT(case_number) DO UPDATE SET prediction = '1',prediction_time='2022-10-24 20:51:14', prediction_type = 'normal_prediction';"
     ]
    },
    {
     "name": "stderr",
     "output_type": "stream",
     "text": [
      "/opt/conda/lib/python3.9/site-packages/sklearn/base.py:450: UserWarning: X does not have valid feature names, but NearestNeighbors was fitted with feature names\n",
      "  warnings.warn(\n",
      "/opt/conda/lib/python3.9/site-packages/sklearn/base.py:450: UserWarning: X does not have valid feature names, but NearestNeighbors was fitted with feature names\n",
      "  warnings.warn(\n",
      "/opt/conda/lib/python3.9/site-packages/sklearn/base.py:450: UserWarning: X does not have valid feature names, but NearestNeighbors was fitted with feature names\n",
      "  warnings.warn(\n",
      "/opt/conda/lib/python3.9/site-packages/sklearn/base.py:450: UserWarning: X does not have valid feature names, but NearestNeighbors was fitted with feature names\n",
      "  warnings.warn(\n"
     ]
    },
    {
     "name": "stdout",
     "output_type": "stream",
     "text": [
      "INSERT INTO sustainment_predictions (case_number, prediction, prediction_time, prediction_type, closest_case_numbers) \n",
      "            VALUES ('1-69723431631','0', '2022-10-24 20:51:14', 'normal_prediction',('1-58510186096', '1-65556062287', '1-57968079149', '1-62373220418', '1-58446412243')) ON CONFLICT(case_number) DO UPDATE SET prediction = '0',prediction_time='2022-10-24 20:51:14', prediction_type = 'normal_prediction';INSERT INTO sustainment_predictions (case_number, prediction, prediction_time, prediction_type, closest_case_numbers) \n",
      "            VALUES ('1-69521410953','0', '2022-10-24 20:51:14', 'normal_prediction',('1-69521410953', '1-69613493669', '1-69468928530', '1-58895748970', '1-61601739845')) ON CONFLICT(case_number) DO UPDATE SET prediction = '0',prediction_time='2022-10-24 20:51:14', prediction_type = 'normal_prediction';INSERT INTO sustainment_predictions (case_number, prediction, prediction_time, prediction_type, closest_case_numbers) \n",
      "            VALUES ('1-63187202112','1', '2022-10-24 20:51:14', 'normal_prediction',('1-58915183941', '1-57259426542', '1-68528837640', '1-68492361183', '1-57571536891')) ON CONFLICT(case_number) DO UPDATE SET prediction = '1',prediction_time='2022-10-24 20:51:14', prediction_type = 'normal_prediction';INSERT INTO sustainment_predictions (case_number, prediction, prediction_time, prediction_type, closest_case_numbers) \n",
      "            VALUES ('1-69291152206','1', '2022-10-24 20:51:14', 'normal_prediction',('1-62324895470', '1-69444187114', '1-65310061811', '1-67924822383', '1-68098059471')) ON CONFLICT(case_number) DO UPDATE SET prediction = '1',prediction_time='2022-10-24 20:51:14', prediction_type = 'normal_prediction';"
     ]
    },
    {
     "name": "stderr",
     "output_type": "stream",
     "text": [
      "/opt/conda/lib/python3.9/site-packages/sklearn/base.py:450: UserWarning: X does not have valid feature names, but NearestNeighbors was fitted with feature names\n",
      "  warnings.warn(\n",
      "/opt/conda/lib/python3.9/site-packages/sklearn/base.py:450: UserWarning: X does not have valid feature names, but NearestNeighbors was fitted with feature names\n",
      "  warnings.warn(\n",
      "/opt/conda/lib/python3.9/site-packages/sklearn/base.py:450: UserWarning: X does not have valid feature names, but NearestNeighbors was fitted with feature names\n",
      "  warnings.warn(\n",
      "/opt/conda/lib/python3.9/site-packages/sklearn/base.py:450: UserWarning: X does not have valid feature names, but NearestNeighbors was fitted with feature names\n",
      "  warnings.warn(\n"
     ]
    },
    {
     "name": "stdout",
     "output_type": "stream",
     "text": [
      "INSERT INTO sustainment_predictions (case_number, prediction, prediction_time, prediction_type, closest_case_numbers) \n",
      "            VALUES ('1-69077248204','1', '2022-10-24 20:51:14', 'normal_prediction',('1-60947112942', '1-69089564683', '1-57141045347', '1-68393304834', '1-61154574225')) ON CONFLICT(case_number) DO UPDATE SET prediction = '1',prediction_time='2022-10-24 20:51:14', prediction_type = 'normal_prediction';INSERT INTO sustainment_predictions (case_number, prediction, prediction_time, prediction_type, closest_case_numbers) \n",
      "            VALUES ('1-69294692081','0', '2022-10-24 20:51:14', 'normal_prediction',('1-69314540219', '1-65217751044', '1-69580274694', '1-58040113478', '1-58068504451')) ON CONFLICT(case_number) DO UPDATE SET prediction = '0',prediction_time='2022-10-24 20:51:14', prediction_type = 'normal_prediction';INSERT INTO sustainment_predictions (case_number, prediction, prediction_time, prediction_type, closest_case_numbers) \n",
      "            VALUES ('1-69278572060','1', '2022-10-24 20:51:14', 'normal_prediction',('1-69278572060', '1-69462746920', '1-65212066769', '1-69236377086', '1-61669505501')) ON CONFLICT(case_number) DO UPDATE SET prediction = '1',prediction_time='2022-10-24 20:51:14', prediction_type = 'normal_prediction';INSERT INTO sustainment_predictions (case_number, prediction, prediction_time, prediction_type, closest_case_numbers) \n",
      "            VALUES ('1-69281213805','1', '2022-10-24 20:51:14', 'normal_prediction',('1-69281213805', '1-58024010971', '1-65691552856', '1-61890004410', '1-58810719348')) ON CONFLICT(case_number) DO UPDATE SET prediction = '1',prediction_time='2022-10-24 20:51:14', prediction_type = 'normal_prediction';"
     ]
    },
    {
     "name": "stderr",
     "output_type": "stream",
     "text": [
      "/opt/conda/lib/python3.9/site-packages/sklearn/base.py:450: UserWarning: X does not have valid feature names, but NearestNeighbors was fitted with feature names\n",
      "  warnings.warn(\n",
      "/opt/conda/lib/python3.9/site-packages/sklearn/base.py:450: UserWarning: X does not have valid feature names, but NearestNeighbors was fitted with feature names\n",
      "  warnings.warn(\n",
      "/opt/conda/lib/python3.9/site-packages/sklearn/base.py:450: UserWarning: X does not have valid feature names, but NearestNeighbors was fitted with feature names\n",
      "  warnings.warn(\n",
      "/opt/conda/lib/python3.9/site-packages/sklearn/base.py:450: UserWarning: X does not have valid feature names, but NearestNeighbors was fitted with feature names\n",
      "  warnings.warn(\n"
     ]
    },
    {
     "name": "stdout",
     "output_type": "stream",
     "text": [
      "INSERT INTO sustainment_predictions (case_number, prediction, prediction_time, prediction_type, closest_case_numbers) \n",
      "            VALUES ('1-69215333251','1', '2022-10-24 20:51:14', 'normal_prediction',('1-57121749785', '1-69215333251', '1-64446473209', '1-57900841704', '1-57841864415')) ON CONFLICT(case_number) DO UPDATE SET prediction = '1',prediction_time='2022-10-24 20:51:14', prediction_type = 'normal_prediction';INSERT INTO sustainment_predictions (case_number, prediction, prediction_time, prediction_type, closest_case_numbers) \n",
      "            VALUES ('1-69051850134','1', '2022-10-24 20:51:14', 'normal_prediction',('1-57577631384', '1-64501250337', '1-68522946204', '1-61150824484', '1-69051850134')) ON CONFLICT(case_number) DO UPDATE SET prediction = '1',prediction_time='2022-10-24 20:51:14', prediction_type = 'normal_prediction';INSERT INTO sustainment_predictions (case_number, prediction, prediction_time, prediction_type, closest_case_numbers) \n",
      "            VALUES ('1-69369704032','1', '2022-10-24 20:51:14', 'normal_prediction',('1-58899636035', '1-58287337265', '1-58521598462', '1-69369704032', '1-58725027602')) ON CONFLICT(case_number) DO UPDATE SET prediction = '1',prediction_time='2022-10-24 20:51:14', prediction_type = 'normal_prediction';INSERT INTO sustainment_predictions (case_number, prediction, prediction_time, prediction_type, closest_case_numbers) \n",
      "            VALUES ('1-69448429130','1', '2022-10-24 20:51:14', 'normal_prediction',('1-65952605044', '1-58786010850', '1-58872297735', '1-62380077023', '1-69448429130')) ON CONFLICT(case_number) DO UPDATE SET prediction = '1',prediction_time='2022-10-24 20:51:14', prediction_type = 'normal_prediction';"
     ]
    },
    {
     "name": "stderr",
     "output_type": "stream",
     "text": [
      "/opt/conda/lib/python3.9/site-packages/sklearn/base.py:450: UserWarning: X does not have valid feature names, but NearestNeighbors was fitted with feature names\n",
      "  warnings.warn(\n",
      "/opt/conda/lib/python3.9/site-packages/sklearn/base.py:450: UserWarning: X does not have valid feature names, but NearestNeighbors was fitted with feature names\n",
      "  warnings.warn(\n",
      "/opt/conda/lib/python3.9/site-packages/sklearn/base.py:450: UserWarning: X does not have valid feature names, but NearestNeighbors was fitted with feature names\n",
      "  warnings.warn(\n",
      "/opt/conda/lib/python3.9/site-packages/sklearn/base.py:450: UserWarning: X does not have valid feature names, but NearestNeighbors was fitted with feature names\n",
      "  warnings.warn(\n"
     ]
    },
    {
     "name": "stdout",
     "output_type": "stream",
     "text": [
      "INSERT INTO sustainment_predictions (case_number, prediction, prediction_time, prediction_type, closest_case_numbers) \n",
      "            VALUES ('1-69206417307','0', '2022-10-24 20:51:14', 'normal_prediction',('1-57406641188', '1-57465443143', '1-57628354558', '1-57195839809', '1-57493293492')) ON CONFLICT(case_number) DO UPDATE SET prediction = '0',prediction_time='2022-10-24 20:51:14', prediction_type = 'normal_prediction';INSERT INTO sustainment_predictions (case_number, prediction, prediction_time, prediction_type, closest_case_numbers) \n",
      "            VALUES ('1-69728846528','1', '2022-10-24 20:51:14', 'normal_prediction',('1-62179201984', '1-65721463977', '1-69487018658', '1-58331551939', '1-65736872520')) ON CONFLICT(case_number) DO UPDATE SET prediction = '1',prediction_time='2022-10-24 20:51:14', prediction_type = 'normal_prediction';INSERT INTO sustainment_predictions (case_number, prediction, prediction_time, prediction_type, closest_case_numbers) \n",
      "            VALUES ('1-69531114373','1', '2022-10-24 20:51:14', 'normal_prediction',('1-69531114373', '1-69575780558', '1-58678429061', '1-69594564674', '1-69394768228')) ON CONFLICT(case_number) DO UPDATE SET prediction = '1',prediction_time='2022-10-24 20:51:14', prediction_type = 'normal_prediction';INSERT INTO sustainment_predictions (case_number, prediction, prediction_time, prediction_type, closest_case_numbers) \n",
      "            VALUES ('1-69532348373','1', '2022-10-24 20:51:14', 'normal_prediction',('1-69532348373', '1-58789070965', '1-65096791359', '1-69318611573', '1-58908123463')) ON CONFLICT(case_number) DO UPDATE SET prediction = '1',prediction_time='2022-10-24 20:51:14', prediction_type = 'normal_prediction';"
     ]
    },
    {
     "name": "stderr",
     "output_type": "stream",
     "text": [
      "/opt/conda/lib/python3.9/site-packages/sklearn/base.py:450: UserWarning: X does not have valid feature names, but NearestNeighbors was fitted with feature names\n",
      "  warnings.warn(\n",
      "/opt/conda/lib/python3.9/site-packages/sklearn/base.py:450: UserWarning: X does not have valid feature names, but NearestNeighbors was fitted with feature names\n",
      "  warnings.warn(\n",
      "/opt/conda/lib/python3.9/site-packages/sklearn/base.py:450: UserWarning: X does not have valid feature names, but NearestNeighbors was fitted with feature names\n",
      "  warnings.warn(\n",
      "/opt/conda/lib/python3.9/site-packages/sklearn/base.py:450: UserWarning: X does not have valid feature names, but NearestNeighbors was fitted with feature names\n",
      "  warnings.warn(\n"
     ]
    },
    {
     "name": "stdout",
     "output_type": "stream",
     "text": [
      "INSERT INTO sustainment_predictions (case_number, prediction, prediction_time, prediction_type, closest_case_numbers) \n",
      "            VALUES ('1-69669257206','0', '2022-10-24 20:51:14', 'normal_prediction',('1-69669257206', '1-69283331682', '1-61821945732', '1-69742084486', '1-65238708382')) ON CONFLICT(case_number) DO UPDATE SET prediction = '0',prediction_time='2022-10-24 20:51:14', prediction_type = 'normal_prediction';INSERT INTO sustainment_predictions (case_number, prediction, prediction_time, prediction_type, closest_case_numbers) \n",
      "            VALUES ('1-69681430619','1', '2022-10-24 20:51:14', 'normal_prediction',('1-69488007890', '1-69479414338', '1-69282430332', '1-58873367365', '1-69761095430')) ON CONFLICT(case_number) DO UPDATE SET prediction = '1',prediction_time='2022-10-24 20:51:14', prediction_type = 'normal_prediction';INSERT INTO sustainment_predictions (case_number, prediction, prediction_time, prediction_type, closest_case_numbers) \n",
      "            VALUES ('1-69760595977','0', '2022-10-24 20:51:14', 'normal_prediction',('1-69516688046', '1-69760595977', '1-62292794598', '1-65474083982', '1-58629535383')) ON CONFLICT(case_number) DO UPDATE SET prediction = '0',prediction_time='2022-10-24 20:51:14', prediction_type = 'normal_prediction';INSERT INTO sustainment_predictions (case_number, prediction, prediction_time, prediction_type, closest_case_numbers) \n",
      "            VALUES ('1-69745053418','1', '2022-10-24 20:51:14', 'normal_prediction',('1-58115622637', '1-69726813862', '1-69745053418', '1-58873307753', '1-69446595020')) ON CONFLICT(case_number) DO UPDATE SET prediction = '1',prediction_time='2022-10-24 20:51:14', prediction_type = 'normal_prediction';"
     ]
    },
    {
     "name": "stderr",
     "output_type": "stream",
     "text": [
      "/opt/conda/lib/python3.9/site-packages/sklearn/base.py:450: UserWarning: X does not have valid feature names, but NearestNeighbors was fitted with feature names\n",
      "  warnings.warn(\n",
      "/opt/conda/lib/python3.9/site-packages/sklearn/base.py:450: UserWarning: X does not have valid feature names, but NearestNeighbors was fitted with feature names\n",
      "  warnings.warn(\n",
      "/opt/conda/lib/python3.9/site-packages/sklearn/base.py:450: UserWarning: X does not have valid feature names, but NearestNeighbors was fitted with feature names\n",
      "  warnings.warn(\n",
      "/opt/conda/lib/python3.9/site-packages/sklearn/base.py:450: UserWarning: X does not have valid feature names, but NearestNeighbors was fitted with feature names\n",
      "  warnings.warn(\n"
     ]
    },
    {
     "name": "stdout",
     "output_type": "stream",
     "text": [
      "INSERT INTO sustainment_predictions (case_number, prediction, prediction_time, prediction_type, closest_case_numbers) \n",
      "            VALUES ('1-69306784774','1', '2022-10-24 20:51:14', 'normal_prediction',('1-69306784774', '1-65643206575', '1-66065795391', '1-62201201799', '1-58127250322')) ON CONFLICT(case_number) DO UPDATE SET prediction = '1',prediction_time='2022-10-24 20:51:14', prediction_type = 'normal_prediction';INSERT INTO sustainment_predictions (case_number, prediction, prediction_time, prediction_type, closest_case_numbers) \n",
      "            VALUES ('1-69238025917','1', '2022-10-24 20:51:14', 'normal_prediction',('1-69581856649', '1-69469031739', '1-65876970316', '1-58003931024', '1-69238025917')) ON CONFLICT(case_number) DO UPDATE SET prediction = '1',prediction_time='2022-10-24 20:51:14', prediction_type = 'normal_prediction';INSERT INTO sustainment_predictions (case_number, prediction, prediction_time, prediction_type, closest_case_numbers) \n",
      "            VALUES ('1-69290213451','1', '2022-10-24 20:51:14', 'normal_prediction',('1-62293617117', '1-58648683192', '1-58804066039', '1-69320476420', '1-58366459155')) ON CONFLICT(case_number) DO UPDATE SET prediction = '1',prediction_time='2022-10-24 20:51:14', prediction_type = 'normal_prediction';INSERT INTO sustainment_predictions (case_number, prediction, prediction_time, prediction_type, closest_case_numbers) \n",
      "            VALUES ('1-69343253821','1', '2022-10-24 20:51:14', 'normal_prediction',('1-69397093955', '1-62103465340', '1-69755547357', '1-58394035091', '1-62344167030')) ON CONFLICT(case_number) DO UPDATE SET prediction = '1',prediction_time='2022-10-24 20:51:14', prediction_type = 'normal_prediction';"
     ]
    },
    {
     "name": "stderr",
     "output_type": "stream",
     "text": [
      "/opt/conda/lib/python3.9/site-packages/sklearn/base.py:450: UserWarning: X does not have valid feature names, but NearestNeighbors was fitted with feature names\n",
      "  warnings.warn(\n",
      "/opt/conda/lib/python3.9/site-packages/sklearn/base.py:450: UserWarning: X does not have valid feature names, but NearestNeighbors was fitted with feature names\n",
      "  warnings.warn(\n",
      "/opt/conda/lib/python3.9/site-packages/sklearn/base.py:450: UserWarning: X does not have valid feature names, but NearestNeighbors was fitted with feature names\n",
      "  warnings.warn(\n",
      "/opt/conda/lib/python3.9/site-packages/sklearn/base.py:450: UserWarning: X does not have valid feature names, but NearestNeighbors was fitted with feature names\n",
      "  warnings.warn(\n"
     ]
    },
    {
     "name": "stdout",
     "output_type": "stream",
     "text": [
      "INSERT INTO sustainment_predictions (case_number, prediction, prediction_time, prediction_type, closest_case_numbers) \n",
      "            VALUES ('1-69035205120','1', '2022-10-24 20:51:14', 'normal_prediction',('1-68683709450', '1-57089855531', '1-60838225618', '1-57683020247', '1-60946122173')) ON CONFLICT(case_number) DO UPDATE SET prediction = '1',prediction_time='2022-10-24 20:51:14', prediction_type = 'normal_prediction';INSERT INTO sustainment_predictions (case_number, prediction, prediction_time, prediction_type, closest_case_numbers) \n",
      "            VALUES ('1-69050015000','1', '2022-10-24 20:51:14', 'normal_prediction',('1-64846893119', '1-57720201641', '1-68337476643', '1-68361430883', '1-68375245547')) ON CONFLICT(case_number) DO UPDATE SET prediction = '1',prediction_time='2022-10-24 20:51:14', prediction_type = 'normal_prediction';INSERT INTO sustainment_predictions (case_number, prediction, prediction_time, prediction_type, closest_case_numbers) \n",
      "            VALUES ('1-69066447795','1', '2022-10-24 20:51:14', 'normal_prediction',('1-57768503432', '1-61164776213', '1-65008503063', '1-68818927979', '1-64576612487')) ON CONFLICT(case_number) DO UPDATE SET prediction = '1',prediction_time='2022-10-24 20:51:14', prediction_type = 'normal_prediction';INSERT INTO sustainment_predictions (case_number, prediction, prediction_time, prediction_type, closest_case_numbers) \n",
      "            VALUES ('1-69185278675','0', '2022-10-24 20:51:14', 'normal_prediction',('1-57139860514', '1-57325398432', '1-57547788440', '1-68371295093', '1-68910998629')) ON CONFLICT(case_number) DO UPDATE SET prediction = '0',prediction_time='2022-10-24 20:51:14', prediction_type = 'normal_prediction';"
     ]
    },
    {
     "name": "stderr",
     "output_type": "stream",
     "text": [
      "/opt/conda/lib/python3.9/site-packages/sklearn/base.py:450: UserWarning: X does not have valid feature names, but NearestNeighbors was fitted with feature names\n",
      "  warnings.warn(\n",
      "/opt/conda/lib/python3.9/site-packages/sklearn/base.py:450: UserWarning: X does not have valid feature names, but NearestNeighbors was fitted with feature names\n",
      "  warnings.warn(\n",
      "/opt/conda/lib/python3.9/site-packages/sklearn/base.py:450: UserWarning: X does not have valid feature names, but NearestNeighbors was fitted with feature names\n",
      "  warnings.warn(\n",
      "/opt/conda/lib/python3.9/site-packages/sklearn/base.py:450: UserWarning: X does not have valid feature names, but NearestNeighbors was fitted with feature names\n",
      "  warnings.warn(\n"
     ]
    },
    {
     "name": "stdout",
     "output_type": "stream",
     "text": [
      "INSERT INTO sustainment_predictions (case_number, prediction, prediction_time, prediction_type, closest_case_numbers) \n",
      "            VALUES ('1-69369777512','1', '2022-10-24 20:51:14', 'normal_prediction',('1-57994309933', '1-69728916367', '1-69473362554', '1-65648546926', '1-58679914880')) ON CONFLICT(case_number) DO UPDATE SET prediction = '1',prediction_time='2022-10-24 20:51:14', prediction_type = 'normal_prediction';INSERT INTO sustainment_predictions (case_number, prediction, prediction_time, prediction_type, closest_case_numbers) \n",
      "            VALUES ('1-69187686986','1', '2022-10-24 20:51:14', 'normal_prediction',('1-69187686986', '1-64504575351', '1-61058658519', '1-57042778049', '1-57660479923')) ON CONFLICT(case_number) DO UPDATE SET prediction = '1',prediction_time='2022-10-24 20:51:14', prediction_type = 'normal_prediction';INSERT INTO sustainment_predictions (case_number, prediction, prediction_time, prediction_type, closest_case_numbers) \n",
      "            VALUES ('1-69393455758','1', '2022-10-24 20:51:14', 'normal_prediction',('1-65822625036', '1-58529238659', '1-58832890032', '1-58872277372', '1-69744560646')) ON CONFLICT(case_number) DO UPDATE SET prediction = '1',prediction_time='2022-10-24 20:51:14', prediction_type = 'normal_prediction';INSERT INTO sustainment_predictions (case_number, prediction, prediction_time, prediction_type, closest_case_numbers) \n",
      "            VALUES ('1-69396427115','1', '2022-10-24 20:51:14', 'normal_prediction',('1-69396427115', '1-58536281691', '1-58197829298', '1-69625288394', '1-58024228174')) ON CONFLICT(case_number) DO UPDATE SET prediction = '1',prediction_time='2022-10-24 20:51:14', prediction_type = 'normal_prediction';"
     ]
    },
    {
     "name": "stderr",
     "output_type": "stream",
     "text": [
      "/opt/conda/lib/python3.9/site-packages/sklearn/base.py:450: UserWarning: X does not have valid feature names, but NearestNeighbors was fitted with feature names\n",
      "  warnings.warn(\n",
      "/opt/conda/lib/python3.9/site-packages/sklearn/base.py:450: UserWarning: X does not have valid feature names, but NearestNeighbors was fitted with feature names\n",
      "  warnings.warn(\n",
      "/opt/conda/lib/python3.9/site-packages/sklearn/base.py:450: UserWarning: X does not have valid feature names, but NearestNeighbors was fitted with feature names\n",
      "  warnings.warn(\n",
      "/opt/conda/lib/python3.9/site-packages/sklearn/base.py:450: UserWarning: X does not have valid feature names, but NearestNeighbors was fitted with feature names\n",
      "  warnings.warn(\n"
     ]
    },
    {
     "name": "stdout",
     "output_type": "stream",
     "text": [
      "INSERT INTO sustainment_predictions (case_number, prediction, prediction_time, prediction_type, closest_case_numbers) \n",
      "            VALUES ('1-69166960719','1', '2022-10-24 20:51:14', 'normal_prediction',('1-69153333162', '1-57421128511', '1-57408945934', '1-64236688768', '1-68868369828')) ON CONFLICT(case_number) DO UPDATE SET prediction = '1',prediction_time='2022-10-24 20:51:14', prediction_type = 'normal_prediction';INSERT INTO sustainment_predictions (case_number, prediction, prediction_time, prediction_type, closest_case_numbers) \n",
      "            VALUES ('1-69366772980','0', '2022-10-24 20:51:14', 'normal_prediction',('1-69366772980', '1-65908296699', '1-65292378591', '1-62227849040', '1-58741390690')) ON CONFLICT(case_number) DO UPDATE SET prediction = '0',prediction_time='2022-10-24 20:51:14', prediction_type = 'normal_prediction';INSERT INTO sustainment_predictions (case_number, prediction, prediction_time, prediction_type, closest_case_numbers) \n",
      "            VALUES ('1-69177731830','1', '2022-10-24 20:51:14', 'normal_prediction',('1-57720291094', '1-68533935673', '1-64287180226', '1-57180354047', '1-61355552138')) ON CONFLICT(case_number) DO UPDATE SET prediction = '1',prediction_time='2022-10-24 20:51:14', prediction_type = 'normal_prediction';INSERT INTO sustainment_predictions (case_number, prediction, prediction_time, prediction_type, closest_case_numbers) \n",
      "            VALUES ('1-69178330840','0', '2022-10-24 20:51:14', 'normal_prediction',('1-69190415008', '1-69073091463', '1-68428286063', '1-69225301167', '1-57812348821')) ON CONFLICT(case_number) DO UPDATE SET prediction = '0',prediction_time='2022-10-24 20:51:14', prediction_type = 'normal_prediction';"
     ]
    },
    {
     "name": "stderr",
     "output_type": "stream",
     "text": [
      "/opt/conda/lib/python3.9/site-packages/sklearn/base.py:450: UserWarning: X does not have valid feature names, but NearestNeighbors was fitted with feature names\n",
      "  warnings.warn(\n",
      "/opt/conda/lib/python3.9/site-packages/sklearn/base.py:450: UserWarning: X does not have valid feature names, but NearestNeighbors was fitted with feature names\n",
      "  warnings.warn(\n",
      "/opt/conda/lib/python3.9/site-packages/sklearn/base.py:450: UserWarning: X does not have valid feature names, but NearestNeighbors was fitted with feature names\n",
      "  warnings.warn(\n",
      "/opt/conda/lib/python3.9/site-packages/sklearn/base.py:450: UserWarning: X does not have valid feature names, but NearestNeighbors was fitted with feature names\n",
      "  warnings.warn(\n"
     ]
    },
    {
     "name": "stdout",
     "output_type": "stream",
     "text": [
      "INSERT INTO sustainment_predictions (case_number, prediction, prediction_time, prediction_type, closest_case_numbers) \n",
      "            VALUES ('1-69731174231','1', '2022-10-24 20:51:14', 'normal_prediction',('1-65113584448', '1-69640615844', '1-58703805582', '1-61657917668', '1-69731174231')) ON CONFLICT(case_number) DO UPDATE SET prediction = '1',prediction_time='2022-10-24 20:51:14', prediction_type = 'normal_prediction';INSERT INTO sustainment_predictions (case_number, prediction, prediction_time, prediction_type, closest_case_numbers) \n",
      "            VALUES ('1-69651340636','1', '2022-10-24 20:51:14', 'normal_prediction',('1-58237451387', '1-69518471159', '1-69575578107', '1-65558059779', '1-69651340636')) ON CONFLICT(case_number) DO UPDATE SET prediction = '1',prediction_time='2022-10-24 20:51:14', prediction_type = 'normal_prediction';INSERT INTO sustainment_predictions (case_number, prediction, prediction_time, prediction_type, closest_case_numbers) \n",
      "            VALUES ('1-69612203447','0', '2022-10-24 20:51:14', 'normal_prediction',('1-58587215746', '1-62302460659', '1-61668487195', '1-69749739219', '1-58509188980')) ON CONFLICT(case_number) DO UPDATE SET prediction = '0',prediction_time='2022-10-24 20:51:14', prediction_type = 'normal_prediction';INSERT INTO sustainment_predictions (case_number, prediction, prediction_time, prediction_type, closest_case_numbers) \n",
      "            VALUES ('1-69678627130','0', '2022-10-24 20:51:14', 'normal_prediction',('1-69575700036', '1-65220726910', '1-65312580012', '1-67938938148', '1-68372140787')) ON CONFLICT(case_number) DO UPDATE SET prediction = '0',prediction_time='2022-10-24 20:51:14', prediction_type = 'normal_prediction';"
     ]
    },
    {
     "name": "stderr",
     "output_type": "stream",
     "text": [
      "/opt/conda/lib/python3.9/site-packages/sklearn/base.py:450: UserWarning: X does not have valid feature names, but NearestNeighbors was fitted with feature names\n",
      "  warnings.warn(\n",
      "/opt/conda/lib/python3.9/site-packages/sklearn/base.py:450: UserWarning: X does not have valid feature names, but NearestNeighbors was fitted with feature names\n",
      "  warnings.warn(\n",
      "/opt/conda/lib/python3.9/site-packages/sklearn/base.py:450: UserWarning: X does not have valid feature names, but NearestNeighbors was fitted with feature names\n",
      "  warnings.warn(\n",
      "/opt/conda/lib/python3.9/site-packages/sklearn/base.py:450: UserWarning: X does not have valid feature names, but NearestNeighbors was fitted with feature names\n",
      "  warnings.warn(\n"
     ]
    },
    {
     "name": "stdout",
     "output_type": "stream",
     "text": [
      "INSERT INTO sustainment_predictions (case_number, prediction, prediction_time, prediction_type, closest_case_numbers) \n",
      "            VALUES ('1-69521721744','1', '2022-10-24 20:51:14', 'normal_prediction',('1-58136122090', '1-58452349315', '1-58830513167', '1-65814480794', '1-58725318601')) ON CONFLICT(case_number) DO UPDATE SET prediction = '1',prediction_time='2022-10-24 20:51:14', prediction_type = 'normal_prediction';INSERT INTO sustainment_predictions (case_number, prediction, prediction_time, prediction_type, closest_case_numbers) \n",
      "            VALUES ('1-69756352816','1', '2022-10-24 20:51:14', 'normal_prediction',('1-58206450419', '1-58417588291', '1-66001857683', '1-65641546651', '1-69636686876')) ON CONFLICT(case_number) DO UPDATE SET prediction = '1',prediction_time='2022-10-24 20:51:14', prediction_type = 'normal_prediction';INSERT INTO sustainment_predictions (case_number, prediction, prediction_time, prediction_type, closest_case_numbers) \n",
      "            VALUES ('1-69760636119','1', '2022-10-24 20:51:14', 'normal_prediction',('1-57965663106', '1-58400877999', '1-58465086376', '1-58404827309', '1-69760636119')) ON CONFLICT(case_number) DO UPDATE SET prediction = '1',prediction_time='2022-10-24 20:51:14', prediction_type = 'normal_prediction';INSERT INTO sustainment_predictions (case_number, prediction, prediction_time, prediction_type, closest_case_numbers) \n",
      "            VALUES ('1-421177-5192','1', '2022-10-24 20:51:14', 'normal_prediction',('1-421157-329479', '1-68472786209', '1-68683489963', '1-69004077786', '1-69039204224')) ON CONFLICT(case_number) DO UPDATE SET prediction = '1',prediction_time='2022-10-24 20:51:14', prediction_type = 'normal_prediction';"
     ]
    },
    {
     "name": "stderr",
     "output_type": "stream",
     "text": [
      "/opt/conda/lib/python3.9/site-packages/sklearn/base.py:450: UserWarning: X does not have valid feature names, but NearestNeighbors was fitted with feature names\n",
      "  warnings.warn(\n",
      "/opt/conda/lib/python3.9/site-packages/sklearn/base.py:450: UserWarning: X does not have valid feature names, but NearestNeighbors was fitted with feature names\n",
      "  warnings.warn(\n",
      "/opt/conda/lib/python3.9/site-packages/sklearn/base.py:450: UserWarning: X does not have valid feature names, but NearestNeighbors was fitted with feature names\n",
      "  warnings.warn(\n",
      "/opt/conda/lib/python3.9/site-packages/sklearn/base.py:450: UserWarning: X does not have valid feature names, but NearestNeighbors was fitted with feature names\n",
      "  warnings.warn(\n"
     ]
    },
    {
     "name": "stdout",
     "output_type": "stream",
     "text": [
      "INSERT INTO sustainment_predictions (case_number, prediction, prediction_time, prediction_type, closest_case_numbers) \n",
      "            VALUES ('1-69084480138','0', '2022-10-24 20:51:14', 'normal_prediction',('1-68558794692', '1-57391752717', '1-68563265928', '1-57117133198', '1-57312018484')) ON CONFLICT(case_number) DO UPDATE SET prediction = '0',prediction_time='2022-10-24 20:51:14', prediction_type = 'normal_prediction';INSERT INTO sustainment_predictions (case_number, prediction, prediction_time, prediction_type, closest_case_numbers) \n",
      "            VALUES ('1-69084913124','1', '2022-10-24 20:51:14', 'normal_prediction',('1-61576374008', '1-68787526382', '1-68974474685', '1-68926068090', '1-69084913124')) ON CONFLICT(case_number) DO UPDATE SET prediction = '1',prediction_time='2022-10-24 20:51:14', prediction_type = 'normal_prediction';INSERT INTO sustainment_predictions (case_number, prediction, prediction_time, prediction_type, closest_case_numbers) \n",
      "            VALUES ('1-69237239535','1', '2022-10-24 20:51:14', 'normal_prediction',('1-61984705896', '1-69237239535', '1-62229308465', '1-65526136167', '1-57978793487')) ON CONFLICT(case_number) DO UPDATE SET prediction = '1',prediction_time='2022-10-24 20:51:14', prediction_type = 'normal_prediction';INSERT INTO sustainment_predictions (case_number, prediction, prediction_time, prediction_type, closest_case_numbers) \n",
      "            VALUES ('1-69249431758','0', '2022-10-24 20:51:14', 'normal_prediction',('1-69249431758', '1-58754296598', '1-69505217419', '1-58233176649', '1-69306697339')) ON CONFLICT(case_number) DO UPDATE SET prediction = '0',prediction_time='2022-10-24 20:51:14', prediction_type = 'normal_prediction';"
     ]
    },
    {
     "name": "stderr",
     "output_type": "stream",
     "text": [
      "/opt/conda/lib/python3.9/site-packages/sklearn/base.py:450: UserWarning: X does not have valid feature names, but NearestNeighbors was fitted with feature names\n",
      "  warnings.warn(\n",
      "/opt/conda/lib/python3.9/site-packages/sklearn/base.py:450: UserWarning: X does not have valid feature names, but NearestNeighbors was fitted with feature names\n",
      "  warnings.warn(\n",
      "/opt/conda/lib/python3.9/site-packages/sklearn/base.py:450: UserWarning: X does not have valid feature names, but NearestNeighbors was fitted with feature names\n",
      "  warnings.warn(\n",
      "/opt/conda/lib/python3.9/site-packages/sklearn/base.py:450: UserWarning: X does not have valid feature names, but NearestNeighbors was fitted with feature names\n",
      "  warnings.warn(\n"
     ]
    },
    {
     "name": "stdout",
     "output_type": "stream",
     "text": [
      "INSERT INTO sustainment_predictions (case_number, prediction, prediction_time, prediction_type, closest_case_numbers) \n",
      "            VALUES ('1-69304096237','1', '2022-10-24 20:51:14', 'normal_prediction',('1-69253464135', '1-69306088929', '1-58359953902', '1-56859143547', '1-69302710801')) ON CONFLICT(case_number) DO UPDATE SET prediction = '1',prediction_time='2022-10-24 20:51:14', prediction_type = 'normal_prediction';INSERT INTO sustainment_predictions (case_number, prediction, prediction_time, prediction_type, closest_case_numbers) \n",
      "            VALUES ('1-69033760529','1', '2022-10-24 20:51:14', 'normal_prediction',('1-69033760529', '1-68815449690', '1-68701702406', '1-65068487397', '1-57348174855')) ON CONFLICT(case_number) DO UPDATE SET prediction = '1',prediction_time='2022-10-24 20:51:14', prediction_type = 'normal_prediction';INSERT INTO sustainment_predictions (case_number, prediction, prediction_time, prediction_type, closest_case_numbers) \n",
      "            VALUES ('1-69048404087','1', '2022-10-24 20:51:14', 'normal_prediction',('1-56001634549', '1-57261253230', '1-57608225348', '1-68956623227', '1-69078053371')) ON CONFLICT(case_number) DO UPDATE SET prediction = '1',prediction_time='2022-10-24 20:51:14', prediction_type = 'normal_prediction';INSERT INTO sustainment_predictions (case_number, prediction, prediction_time, prediction_type, closest_case_numbers) \n",
      "            VALUES ('1-69095741759','1', '2022-10-24 20:51:14', 'normal_prediction',('1-69095741759', '1-68549996122', '1-57928905528', '1-65056926514', '1-57408945934')) ON CONFLICT(case_number) DO UPDATE SET prediction = '1',prediction_time='2022-10-24 20:51:14', prediction_type = 'normal_prediction';"
     ]
    },
    {
     "name": "stderr",
     "output_type": "stream",
     "text": [
      "/opt/conda/lib/python3.9/site-packages/sklearn/base.py:450: UserWarning: X does not have valid feature names, but NearestNeighbors was fitted with feature names\n",
      "  warnings.warn(\n",
      "/opt/conda/lib/python3.9/site-packages/sklearn/base.py:450: UserWarning: X does not have valid feature names, but NearestNeighbors was fitted with feature names\n",
      "  warnings.warn(\n",
      "/opt/conda/lib/python3.9/site-packages/sklearn/base.py:450: UserWarning: X does not have valid feature names, but NearestNeighbors was fitted with feature names\n",
      "  warnings.warn(\n",
      "/opt/conda/lib/python3.9/site-packages/sklearn/base.py:450: UserWarning: X does not have valid feature names, but NearestNeighbors was fitted with feature names\n",
      "  warnings.warn(\n"
     ]
    },
    {
     "name": "stdout",
     "output_type": "stream",
     "text": [
      "INSERT INTO sustainment_predictions (case_number, prediction, prediction_time, prediction_type, closest_case_numbers) \n",
      "            VALUES ('1-69462804345','1', '2022-10-24 20:51:14', 'normal_prediction',('1-69462804345', '1-69609831576', '1-58749518790', '1-65538178142', '1-65714630578')) ON CONFLICT(case_number) DO UPDATE SET prediction = '1',prediction_time='2022-10-24 20:51:14', prediction_type = 'normal_prediction';INSERT INTO sustainment_predictions (case_number, prediction, prediction_time, prediction_type, closest_case_numbers) \n",
      "            VALUES ('1-69373250382','1', '2022-10-24 20:51:14', 'normal_prediction',('1-58533648926', '1-69442264081', '1-58434510781', '1-69373250382', '1-58901056860')) ON CONFLICT(case_number) DO UPDATE SET prediction = '1',prediction_time='2022-10-24 20:51:14', prediction_type = 'normal_prediction';INSERT INTO sustainment_predictions (case_number, prediction, prediction_time, prediction_type, closest_case_numbers) \n",
      "            VALUES ('1-69389931936','1', '2022-10-24 20:51:14', 'normal_prediction',('1-69389931936', '1-58765248090', '1-58039376288', '1-69742024005', '1-58296746640')) ON CONFLICT(case_number) DO UPDATE SET prediction = '1',prediction_time='2022-10-24 20:51:14', prediction_type = 'normal_prediction';INSERT INTO sustainment_predictions (case_number, prediction, prediction_time, prediction_type, closest_case_numbers) \n",
      "            VALUES ('1-69395314679','1', '2022-10-24 20:51:14', 'normal_prediction',('1-69515960021', '1-65313008923', '1-58606117421', '1-58911059049', '1-62288751764')) ON CONFLICT(case_number) DO UPDATE SET prediction = '1',prediction_time='2022-10-24 20:51:14', prediction_type = 'normal_prediction';"
     ]
    },
    {
     "name": "stderr",
     "output_type": "stream",
     "text": [
      "/opt/conda/lib/python3.9/site-packages/sklearn/base.py:450: UserWarning: X does not have valid feature names, but NearestNeighbors was fitted with feature names\n",
      "  warnings.warn(\n",
      "/opt/conda/lib/python3.9/site-packages/sklearn/base.py:450: UserWarning: X does not have valid feature names, but NearestNeighbors was fitted with feature names\n",
      "  warnings.warn(\n",
      "/opt/conda/lib/python3.9/site-packages/sklearn/base.py:450: UserWarning: X does not have valid feature names, but NearestNeighbors was fitted with feature names\n",
      "  warnings.warn(\n",
      "/opt/conda/lib/python3.9/site-packages/sklearn/base.py:450: UserWarning: X does not have valid feature names, but NearestNeighbors was fitted with feature names\n",
      "  warnings.warn(\n"
     ]
    },
    {
     "name": "stdout",
     "output_type": "stream",
     "text": [
      "INSERT INTO sustainment_predictions (case_number, prediction, prediction_time, prediction_type, closest_case_numbers) \n",
      "            VALUES ('1-69621210246','1', '2022-10-24 20:51:14', 'normal_prediction',('1-58882297108', '1-61605934125', '1-58529507864', '1-69291151461', '1-69753527400')) ON CONFLICT(case_number) DO UPDATE SET prediction = '1',prediction_time='2022-10-24 20:51:14', prediction_type = 'normal_prediction';INSERT INTO sustainment_predictions (case_number, prediction, prediction_time, prediction_type, closest_case_numbers) \n",
      "            VALUES ('1-69625506382','0', '2022-10-24 20:51:14', 'normal_prediction',('1-65529382971', '1-65395170851', '1-58175766701', '1-58217237056', '1-65721443418')) ON CONFLICT(case_number) DO UPDATE SET prediction = '0',prediction_time='2022-10-24 20:51:14', prediction_type = 'normal_prediction';INSERT INTO sustainment_predictions (case_number, prediction, prediction_time, prediction_type, closest_case_numbers) \n",
      "            VALUES ('1-69485761245','1', '2022-10-24 20:51:14', 'normal_prediction',('1-65210940577', '1-58741590233', '1-69666620333', '1-65100482872', '1-69251218952')) ON CONFLICT(case_number) DO UPDATE SET prediction = '1',prediction_time='2022-10-24 20:51:14', prediction_type = 'normal_prediction';INSERT INTO sustainment_predictions (case_number, prediction, prediction_time, prediction_type, closest_case_numbers) \n",
      "            VALUES ('1-69488007890','1', '2022-10-24 20:51:14', 'normal_prediction',('1-69488007890', '1-69479414338', '1-69282430332', '1-58873367365', '1-69761095430')) ON CONFLICT(case_number) DO UPDATE SET prediction = '1',prediction_time='2022-10-24 20:51:14', prediction_type = 'normal_prediction';"
     ]
    },
    {
     "name": "stderr",
     "output_type": "stream",
     "text": [
      "/opt/conda/lib/python3.9/site-packages/sklearn/base.py:450: UserWarning: X does not have valid feature names, but NearestNeighbors was fitted with feature names\n",
      "  warnings.warn(\n",
      "/opt/conda/lib/python3.9/site-packages/sklearn/base.py:450: UserWarning: X does not have valid feature names, but NearestNeighbors was fitted with feature names\n",
      "  warnings.warn(\n",
      "/opt/conda/lib/python3.9/site-packages/sklearn/base.py:450: UserWarning: X does not have valid feature names, but NearestNeighbors was fitted with feature names\n",
      "  warnings.warn(\n",
      "/opt/conda/lib/python3.9/site-packages/sklearn/base.py:450: UserWarning: X does not have valid feature names, but NearestNeighbors was fitted with feature names\n",
      "  warnings.warn(\n"
     ]
    },
    {
     "name": "stdout",
     "output_type": "stream",
     "text": [
      "INSERT INTO sustainment_predictions (case_number, prediction, prediction_time, prediction_type, closest_case_numbers) \n",
      "            VALUES ('1-69654104396','0', '2022-10-24 20:51:14', 'normal_prediction',('1-57960906945', '1-65726707318', '1-69675642330', '1-67906470095', '1-69507360580')) ON CONFLICT(case_number) DO UPDATE SET prediction = '0',prediction_time='2022-10-24 20:51:14', prediction_type = 'normal_prediction';INSERT INTO sustainment_predictions (case_number, prediction, prediction_time, prediction_type, closest_case_numbers) \n",
      "            VALUES ('1-69681613111','1', '2022-10-24 20:51:14', 'normal_prediction',('1-65556955579', '1-61920435082', '1-65785480419', '1-61840122199', '1-69681613111')) ON CONFLICT(case_number) DO UPDATE SET prediction = '1',prediction_time='2022-10-24 20:51:14', prediction_type = 'normal_prediction';INSERT INTO sustainment_predictions (case_number, prediction, prediction_time, prediction_type, closest_case_numbers) \n",
      "            VALUES ('1-69723250755','1', '2022-10-24 20:51:14', 'normal_prediction',('1-65707156143', '1-69723250755', '1-58126108808', '1-62058046234', '1-58661231427')) ON CONFLICT(case_number) DO UPDATE SET prediction = '1',prediction_time='2022-10-24 20:51:14', prediction_type = 'normal_prediction';INSERT INTO sustainment_predictions (case_number, prediction, prediction_time, prediction_type, closest_case_numbers) \n",
      "            VALUES ('1-69581169044','1', '2022-10-24 20:51:14', 'normal_prediction',('1-66100333759', '1-58302369839', '1-65789945593', '1-61799582291', '1-58731165085')) ON CONFLICT(case_number) DO UPDATE SET prediction = '1',prediction_time='2022-10-24 20:51:14', prediction_type = 'normal_prediction';"
     ]
    },
    {
     "name": "stderr",
     "output_type": "stream",
     "text": [
      "/opt/conda/lib/python3.9/site-packages/sklearn/base.py:450: UserWarning: X does not have valid feature names, but NearestNeighbors was fitted with feature names\n",
      "  warnings.warn(\n",
      "/opt/conda/lib/python3.9/site-packages/sklearn/base.py:450: UserWarning: X does not have valid feature names, but NearestNeighbors was fitted with feature names\n",
      "  warnings.warn(\n",
      "/opt/conda/lib/python3.9/site-packages/sklearn/base.py:450: UserWarning: X does not have valid feature names, but NearestNeighbors was fitted with feature names\n",
      "  warnings.warn(\n",
      "/opt/conda/lib/python3.9/site-packages/sklearn/base.py:450: UserWarning: X does not have valid feature names, but NearestNeighbors was fitted with feature names\n",
      "  warnings.warn(\n"
     ]
    },
    {
     "name": "stdout",
     "output_type": "stream",
     "text": [
      "INSERT INTO sustainment_predictions (case_number, prediction, prediction_time, prediction_type, closest_case_numbers) \n",
      "            VALUES ('1-69515960021','1', '2022-10-24 20:51:14', 'normal_prediction',('1-69515960021', '1-65313008923', '1-58606117421', '1-58911059049', '1-62288751764')) ON CONFLICT(case_number) DO UPDATE SET prediction = '1',prediction_time='2022-10-24 20:51:14', prediction_type = 'normal_prediction';INSERT INTO sustainment_predictions (case_number, prediction, prediction_time, prediction_type, closest_case_numbers) \n",
      "            VALUES ('1-69646418976','1', '2022-10-24 20:51:14', 'normal_prediction',('1-58725991311', '1-58379132302', '1-58365240255', '1-61744691560', '1-58845031975')) ON CONFLICT(case_number) DO UPDATE SET prediction = '1',prediction_time='2022-10-24 20:51:14', prediction_type = 'normal_prediction';INSERT INTO sustainment_predictions (case_number, prediction, prediction_time, prediction_type, closest_case_numbers) \n",
      "            VALUES ('1-57018904433','1', '2022-10-24 20:51:14', 'normal_prediction',('1-68229568076', '1-69405683816', '1-69308447400', '1-58426123996', '1-69491711930')) ON CONFLICT(case_number) DO UPDATE SET prediction = '1',prediction_time='2022-10-24 20:51:14', prediction_type = 'normal_prediction';INSERT INTO sustainment_predictions (case_number, prediction, prediction_time, prediction_type, closest_case_numbers) \n",
      "            VALUES ('1-68442931198','1', '2022-10-24 20:51:14', 'normal_prediction',('1-68442931198', '1-58505340807', '1-61920408495', '1-65570542352', '1-65354599045')) ON CONFLICT(case_number) DO UPDATE SET prediction = '1',prediction_time='2022-10-24 20:51:14', prediction_type = 'normal_prediction';"
     ]
    },
    {
     "name": "stderr",
     "output_type": "stream",
     "text": [
      "/opt/conda/lib/python3.9/site-packages/sklearn/base.py:450: UserWarning: X does not have valid feature names, but NearestNeighbors was fitted with feature names\n",
      "  warnings.warn(\n",
      "/opt/conda/lib/python3.9/site-packages/sklearn/base.py:450: UserWarning: X does not have valid feature names, but NearestNeighbors was fitted with feature names\n",
      "  warnings.warn(\n",
      "/opt/conda/lib/python3.9/site-packages/sklearn/base.py:450: UserWarning: X does not have valid feature names, but NearestNeighbors was fitted with feature names\n",
      "  warnings.warn(\n",
      "/opt/conda/lib/python3.9/site-packages/sklearn/base.py:450: UserWarning: X does not have valid feature names, but NearestNeighbors was fitted with feature names\n",
      "  warnings.warn(\n"
     ]
    },
    {
     "name": "stdout",
     "output_type": "stream",
     "text": [
      "INSERT INTO sustainment_predictions (case_number, prediction, prediction_time, prediction_type, closest_case_numbers) \n",
      "            VALUES ('1-69072086497','0', '2022-10-24 20:51:14', 'normal_prediction',('1-64334222219', '1-57076421613', '1-68316505977', '1-69053299328', '1-68743307832')) ON CONFLICT(case_number) DO UPDATE SET prediction = '0',prediction_time='2022-10-24 20:51:14', prediction_type = 'normal_prediction';INSERT INTO sustainment_predictions (case_number, prediction, prediction_time, prediction_type, closest_case_numbers) \n",
      "            VALUES ('1-69290058169','1', '2022-10-24 20:51:14', 'normal_prediction',('1-69290058169', '1-57350136830', '1-60994356930', '1-68490752479', '1-68656872759')) ON CONFLICT(case_number) DO UPDATE SET prediction = '1',prediction_time='2022-10-24 20:51:14', prediction_type = 'normal_prediction';INSERT INTO sustainment_predictions (case_number, prediction, prediction_time, prediction_type, closest_case_numbers) \n",
      "            VALUES ('1-69144430654','1', '2022-10-24 20:51:14', 'normal_prediction',('1-69144430654', '1-69216676583', '1-68509848043', '1-68996265443', '1-60931769441')) ON CONFLICT(case_number) DO UPDATE SET prediction = '1',prediction_time='2022-10-24 20:51:14', prediction_type = 'normal_prediction';INSERT INTO sustainment_predictions (case_number, prediction, prediction_time, prediction_type, closest_case_numbers) \n",
      "            VALUES ('1-69320476420','1', '2022-10-24 20:51:14', 'normal_prediction',('1-62293617117', '1-58648683192', '1-58804066039', '1-69320476420', '1-58366459155')) ON CONFLICT(case_number) DO UPDATE SET prediction = '1',prediction_time='2022-10-24 20:51:14', prediction_type = 'normal_prediction';"
     ]
    },
    {
     "name": "stderr",
     "output_type": "stream",
     "text": [
      "/opt/conda/lib/python3.9/site-packages/sklearn/base.py:450: UserWarning: X does not have valid feature names, but NearestNeighbors was fitted with feature names\n",
      "  warnings.warn(\n",
      "/opt/conda/lib/python3.9/site-packages/sklearn/base.py:450: UserWarning: X does not have valid feature names, but NearestNeighbors was fitted with feature names\n",
      "  warnings.warn(\n",
      "/opt/conda/lib/python3.9/site-packages/sklearn/base.py:450: UserWarning: X does not have valid feature names, but NearestNeighbors was fitted with feature names\n",
      "  warnings.warn(\n",
      "/opt/conda/lib/python3.9/site-packages/sklearn/base.py:450: UserWarning: X does not have valid feature names, but NearestNeighbors was fitted with feature names\n",
      "  warnings.warn(\n"
     ]
    },
    {
     "name": "stdout",
     "output_type": "stream",
     "text": [
      "INSERT INTO sustainment_predictions (case_number, prediction, prediction_time, prediction_type, closest_case_numbers) \n",
      "            VALUES ('1-69284096169','0', '2022-10-24 20:51:14', 'normal_prediction',('1-58704365514', '1-62038218473', '1-61782678979', '1-69576325910', '1-69284096169')) ON CONFLICT(case_number) DO UPDATE SET prediction = '0',prediction_time='2022-10-24 20:51:14', prediction_type = 'normal_prediction';INSERT INTO sustainment_predictions (case_number, prediction, prediction_time, prediction_type, closest_case_numbers) \n",
      "            VALUES ('1-69215790332','1', '2022-10-24 20:51:14', 'normal_prediction',('1-69215790332', '1-60915504817', '1-61327905143', '1-64397906098', '1-64550642125')) ON CONFLICT(case_number) DO UPDATE SET prediction = '1',prediction_time='2022-10-24 20:51:14', prediction_type = 'normal_prediction';INSERT INTO sustainment_predictions (case_number, prediction, prediction_time, prediction_type, closest_case_numbers) \n",
      "            VALUES ('1-69423865917','1', '2022-10-24 20:51:14', 'normal_prediction',('1-58520245392', '1-61569450116', '1-66318340235', '1-58136552703', '1-69423865917')) ON CONFLICT(case_number) DO UPDATE SET prediction = '1',prediction_time='2022-10-24 20:51:14', prediction_type = 'normal_prediction';INSERT INTO sustainment_predictions (case_number, prediction, prediction_time, prediction_type, closest_case_numbers) \n",
      "            VALUES ('1-69474061752','0', '2022-10-24 20:51:14', 'normal_prediction',('1-58025282135', '1-69474061752', '1-65783916510', '1-61679938548', '1-58280958573')) ON CONFLICT(case_number) DO UPDATE SET prediction = '0',prediction_time='2022-10-24 20:51:14', prediction_type = 'normal_prediction';"
     ]
    },
    {
     "name": "stderr",
     "output_type": "stream",
     "text": [
      "/opt/conda/lib/python3.9/site-packages/sklearn/base.py:450: UserWarning: X does not have valid feature names, but NearestNeighbors was fitted with feature names\n",
      "  warnings.warn(\n",
      "/opt/conda/lib/python3.9/site-packages/sklearn/base.py:450: UserWarning: X does not have valid feature names, but NearestNeighbors was fitted with feature names\n",
      "  warnings.warn(\n",
      "/opt/conda/lib/python3.9/site-packages/sklearn/base.py:450: UserWarning: X does not have valid feature names, but NearestNeighbors was fitted with feature names\n",
      "  warnings.warn(\n",
      "/opt/conda/lib/python3.9/site-packages/sklearn/base.py:450: UserWarning: X does not have valid feature names, but NearestNeighbors was fitted with feature names\n",
      "  warnings.warn(\n"
     ]
    },
    {
     "name": "stdout",
     "output_type": "stream",
     "text": [
      "INSERT INTO sustainment_predictions (case_number, prediction, prediction_time, prediction_type, closest_case_numbers) \n",
      "            VALUES ('1-69477395591','0', '2022-10-24 20:51:14', 'normal_prediction',('1-61632976675', '1-58843313434', '1-65596441036', '1-66050130391', '1-69538739382')) ON CONFLICT(case_number) DO UPDATE SET prediction = '0',prediction_time='2022-10-24 20:51:14', prediction_type = 'normal_prediction';INSERT INTO sustainment_predictions (case_number, prediction, prediction_time, prediction_type, closest_case_numbers) \n",
      "            VALUES ('1-69064225677','0', '2022-10-24 20:51:14', 'normal_prediction',('1-68420277337', '1-69049542390', '1-57378429830', '1-68587193827', '1-68403043621')) ON CONFLICT(case_number) DO UPDATE SET prediction = '0',prediction_time='2022-10-24 20:51:14', prediction_type = 'normal_prediction';INSERT INTO sustainment_predictions (case_number, prediction, prediction_time, prediction_type, closest_case_numbers) \n",
      "            VALUES ('1-69623159277','1', '2022-10-24 20:51:14', 'normal_prediction',('1-58139367515', '1-69404140353', '1-68757086736', '1-64387371092', '1-65703939604')) ON CONFLICT(case_number) DO UPDATE SET prediction = '1',prediction_time='2022-10-24 20:51:14', prediction_type = 'normal_prediction';INSERT INTO sustainment_predictions (case_number, prediction, prediction_time, prediction_type, closest_case_numbers) \n",
      "            VALUES ('1-69605844074','1', '2022-10-24 20:51:14', 'normal_prediction',('1-69605844074', '1-58929633644', '1-58378845732', '1-58810055944', '1-62527914429')) ON CONFLICT(case_number) DO UPDATE SET prediction = '1',prediction_time='2022-10-24 20:51:14', prediction_type = 'normal_prediction';"
     ]
    },
    {
     "name": "stderr",
     "output_type": "stream",
     "text": [
      "/opt/conda/lib/python3.9/site-packages/sklearn/base.py:450: UserWarning: X does not have valid feature names, but NearestNeighbors was fitted with feature names\n",
      "  warnings.warn(\n",
      "/opt/conda/lib/python3.9/site-packages/sklearn/base.py:450: UserWarning: X does not have valid feature names, but NearestNeighbors was fitted with feature names\n",
      "  warnings.warn(\n",
      "/opt/conda/lib/python3.9/site-packages/sklearn/base.py:450: UserWarning: X does not have valid feature names, but NearestNeighbors was fitted with feature names\n",
      "  warnings.warn(\n",
      "/opt/conda/lib/python3.9/site-packages/sklearn/base.py:450: UserWarning: X does not have valid feature names, but NearestNeighbors was fitted with feature names\n",
      "  warnings.warn(\n"
     ]
    },
    {
     "name": "stdout",
     "output_type": "stream",
     "text": [
      "INSERT INTO sustainment_predictions (case_number, prediction, prediction_time, prediction_type, closest_case_numbers) \n",
      "            VALUES ('1-69483971774','0', '2022-10-24 20:51:14', 'normal_prediction',('1-69483971774', '1-65226045423', '1-58664060342', '1-69756510556', '1-58588365041')) ON CONFLICT(case_number) DO UPDATE SET prediction = '0',prediction_time='2022-10-24 20:51:14', prediction_type = 'normal_prediction';INSERT INTO sustainment_predictions (case_number, prediction, prediction_time, prediction_type, closest_case_numbers) \n",
      "            VALUES ('1-69666200299','0', '2022-10-24 20:51:14', 'normal_prediction',('1-69666200299', '1-58870126444', '1-69395414274', '1-65612565776', '1-57960341443')) ON CONFLICT(case_number) DO UPDATE SET prediction = '0',prediction_time='2022-10-24 20:51:14', prediction_type = 'normal_prediction';INSERT INTO sustainment_predictions (case_number, prediction, prediction_time, prediction_type, closest_case_numbers) \n",
      "            VALUES ('1-69578303923','1', '2022-10-24 20:51:14', 'normal_prediction',('1-69578303923', '1-69515232411', '1-65257018174', '1-69448865013', '1-69542466264')) ON CONFLICT(case_number) DO UPDATE SET prediction = '1',prediction_time='2022-10-24 20:51:14', prediction_type = 'normal_prediction';INSERT INTO sustainment_predictions (case_number, prediction, prediction_time, prediction_type, closest_case_numbers) \n",
      "            VALUES ('1-69561495431','1', '2022-10-24 20:51:14', 'normal_prediction',('1-65958749642', '1-58547018296', '1-65153998137', '1-65350386752', '1-61674074134')) ON CONFLICT(case_number) DO UPDATE SET prediction = '1',prediction_time='2022-10-24 20:51:14', prediction_type = 'normal_prediction';"
     ]
    },
    {
     "name": "stderr",
     "output_type": "stream",
     "text": [
      "/opt/conda/lib/python3.9/site-packages/sklearn/base.py:450: UserWarning: X does not have valid feature names, but NearestNeighbors was fitted with feature names\n",
      "  warnings.warn(\n",
      "/opt/conda/lib/python3.9/site-packages/sklearn/base.py:450: UserWarning: X does not have valid feature names, but NearestNeighbors was fitted with feature names\n",
      "  warnings.warn(\n",
      "/opt/conda/lib/python3.9/site-packages/sklearn/base.py:450: UserWarning: X does not have valid feature names, but NearestNeighbors was fitted with feature names\n",
      "  warnings.warn(\n",
      "/opt/conda/lib/python3.9/site-packages/sklearn/base.py:450: UserWarning: X does not have valid feature names, but NearestNeighbors was fitted with feature names\n",
      "  warnings.warn(\n"
     ]
    },
    {
     "name": "stdout",
     "output_type": "stream",
     "text": [
      "INSERT INTO sustainment_predictions (case_number, prediction, prediction_time, prediction_type, closest_case_numbers) \n",
      "            VALUES ('1-69580317514','0', '2022-10-24 20:51:14', 'normal_prediction',('1-65062184025', '1-58125214252', '1-58066582828', '1-58273108454', '1-69243075190')) ON CONFLICT(case_number) DO UPDATE SET prediction = '0',prediction_time='2022-10-24 20:51:14', prediction_type = 'normal_prediction';INSERT INTO sustainment_predictions (case_number, prediction, prediction_time, prediction_type, closest_case_numbers) \n",
      "            VALUES ('1-69759382820','1', '2022-10-24 20:51:14', 'normal_prediction',('1-69759382820', '1-69671152439', '1-69370515299', '1-58606305595', '1-58682497085')) ON CONFLICT(case_number) DO UPDATE SET prediction = '1',prediction_time='2022-10-24 20:51:14', prediction_type = 'normal_prediction';INSERT INTO sustainment_predictions (case_number, prediction, prediction_time, prediction_type, closest_case_numbers) \n",
      "            VALUES ('1-69519347431','1', '2022-10-24 20:51:14', 'normal_prediction',('1-69519347431', '1-61634729933', '1-69250073026', '1-69644612333', '1-69393263848')) ON CONFLICT(case_number) DO UPDATE SET prediction = '1',prediction_time='2022-10-24 20:51:14', prediction_type = 'normal_prediction';INSERT INTO sustainment_predictions (case_number, prediction, prediction_time, prediction_type, closest_case_numbers) \n",
      "            VALUES ('1-421169-243723','1', '2022-10-24 20:51:14', 'normal_prediction',('1-421169-243723', '1-421181-105309', '1-421181-96198', '1-69071229577', '1-421157-281310')) ON CONFLICT(case_number) DO UPDATE SET prediction = '1',prediction_time='2022-10-24 20:51:14', prediction_type = 'normal_prediction';"
     ]
    },
    {
     "name": "stderr",
     "output_type": "stream",
     "text": [
      "/opt/conda/lib/python3.9/site-packages/sklearn/base.py:450: UserWarning: X does not have valid feature names, but NearestNeighbors was fitted with feature names\n",
      "  warnings.warn(\n",
      "/opt/conda/lib/python3.9/site-packages/sklearn/base.py:450: UserWarning: X does not have valid feature names, but NearestNeighbors was fitted with feature names\n",
      "  warnings.warn(\n",
      "/opt/conda/lib/python3.9/site-packages/sklearn/base.py:450: UserWarning: X does not have valid feature names, but NearestNeighbors was fitted with feature names\n",
      "  warnings.warn(\n",
      "/opt/conda/lib/python3.9/site-packages/sklearn/base.py:450: UserWarning: X does not have valid feature names, but NearestNeighbors was fitted with feature names\n",
      "  warnings.warn(\n"
     ]
    },
    {
     "name": "stdout",
     "output_type": "stream",
     "text": [
      "INSERT INTO sustainment_predictions (case_number, prediction, prediction_time, prediction_type, closest_case_numbers) \n",
      "            VALUES ('1-421181-102533','0', '2022-10-24 20:51:14', 'normal_prediction',('1-66132915002', '1-421165-7924', '1-69468928530', '1-58895748970', '1-69521410953')) ON CONFLICT(case_number) DO UPDATE SET prediction = '0',prediction_time='2022-10-24 20:51:14', prediction_type = 'normal_prediction';INSERT INTO sustainment_predictions (case_number, prediction, prediction_time, prediction_type, closest_case_numbers) \n",
      "            VALUES ('1-421157-291751','0', '2022-10-24 20:51:14', 'normal_prediction',('1-421165-141378', '1-421173-95941', '1-421169-51840', '1-58438287087', '1-421181-279942')) ON CONFLICT(case_number) DO UPDATE SET prediction = '0',prediction_time='2022-10-24 20:51:14', prediction_type = 'normal_prediction';INSERT INTO sustainment_predictions (case_number, prediction, prediction_time, prediction_type, closest_case_numbers) \n",
      "            VALUES ('1-60612753574','0', '2022-10-24 20:51:14', 'normal_prediction',('1-68685225753', '1-68371120729', '1-68418713187', '1-65982405525', '1-57152661644')) ON CONFLICT(case_number) DO UPDATE SET prediction = '0',prediction_time='2022-10-24 20:51:14', prediction_type = 'normal_prediction';INSERT INTO sustainment_predictions (case_number, prediction, prediction_time, prediction_type, closest_case_numbers) \n",
      "            VALUES ('1-67249230193','1', '2022-10-24 20:51:14', 'normal_prediction',('1-62119716330', '1-66005298092', '1-58613538545', '1-69539514263', '1-58900627431')) ON CONFLICT(case_number) DO UPDATE SET prediction = '1',prediction_time='2022-10-24 20:51:14', prediction_type = 'normal_prediction';"
     ]
    },
    {
     "name": "stderr",
     "output_type": "stream",
     "text": [
      "/opt/conda/lib/python3.9/site-packages/sklearn/base.py:450: UserWarning: X does not have valid feature names, but NearestNeighbors was fitted with feature names\n",
      "  warnings.warn(\n",
      "/opt/conda/lib/python3.9/site-packages/sklearn/base.py:450: UserWarning: X does not have valid feature names, but NearestNeighbors was fitted with feature names\n",
      "  warnings.warn(\n",
      "/opt/conda/lib/python3.9/site-packages/sklearn/base.py:450: UserWarning: X does not have valid feature names, but NearestNeighbors was fitted with feature names\n",
      "  warnings.warn(\n",
      "/opt/conda/lib/python3.9/site-packages/sklearn/base.py:450: UserWarning: X does not have valid feature names, but NearestNeighbors was fitted with feature names\n",
      "  warnings.warn(\n"
     ]
    },
    {
     "name": "stdout",
     "output_type": "stream",
     "text": [
      "INSERT INTO sustainment_predictions (case_number, prediction, prediction_time, prediction_type, closest_case_numbers) \n",
      "            VALUES ('1-69086630175','1', '2022-10-24 20:51:14', 'normal_prediction',('1-64219454197', '1-68531911402', '1-68885552709', '1-68419166900', '1-68554791522')) ON CONFLICT(case_number) DO UPDATE SET prediction = '1',prediction_time='2022-10-24 20:51:14', prediction_type = 'normal_prediction';INSERT INTO sustainment_predictions (case_number, prediction, prediction_time, prediction_type, closest_case_numbers) \n",
      "            VALUES ('1-69291151461','1', '2022-10-24 20:51:14', 'normal_prediction',('1-58882297108', '1-61605934125', '1-58529507864', '1-69291151461', '1-69753527400')) ON CONFLICT(case_number) DO UPDATE SET prediction = '1',prediction_time='2022-10-24 20:51:14', prediction_type = 'normal_prediction';INSERT INTO sustainment_predictions (case_number, prediction, prediction_time, prediction_type, closest_case_numbers) \n",
      "            VALUES ('1-69074916217','1', '2022-10-24 20:51:14', 'normal_prediction',('1-57296328449', '1-69074916217', '1-68959408309', '1-60911206465', '1-61326683990')) ON CONFLICT(case_number) DO UPDATE SET prediction = '1',prediction_time='2022-10-24 20:51:14', prediction_type = 'normal_prediction';INSERT INTO sustainment_predictions (case_number, prediction, prediction_time, prediction_type, closest_case_numbers) \n",
      "            VALUES ('1-69292311174','1', '2022-10-24 20:51:14', 'normal_prediction',('1-58192774453', '1-58258634941', '1-58915537737', '1-58439287538', '1-56844214292')) ON CONFLICT(case_number) DO UPDATE SET prediction = '1',prediction_time='2022-10-24 20:51:14', prediction_type = 'normal_prediction';"
     ]
    },
    {
     "name": "stderr",
     "output_type": "stream",
     "text": [
      "/opt/conda/lib/python3.9/site-packages/sklearn/base.py:450: UserWarning: X does not have valid feature names, but NearestNeighbors was fitted with feature names\n",
      "  warnings.warn(\n",
      "/opt/conda/lib/python3.9/site-packages/sklearn/base.py:450: UserWarning: X does not have valid feature names, but NearestNeighbors was fitted with feature names\n",
      "  warnings.warn(\n",
      "/opt/conda/lib/python3.9/site-packages/sklearn/base.py:450: UserWarning: X does not have valid feature names, but NearestNeighbors was fitted with feature names\n",
      "  warnings.warn(\n",
      "/opt/conda/lib/python3.9/site-packages/sklearn/base.py:450: UserWarning: X does not have valid feature names, but NearestNeighbors was fitted with feature names\n",
      "  warnings.warn(\n",
      "/opt/conda/lib/python3.9/site-packages/sklearn/base.py:450: UserWarning: X does not have valid feature names, but NearestNeighbors was fitted with feature names\n",
      "  warnings.warn(\n",
      "/opt/conda/lib/python3.9/site-packages/sklearn/base.py:450: UserWarning: X does not have valid feature names, but NearestNeighbors was fitted with feature names\n",
      "  warnings.warn(\n"
     ]
    },
    {
     "name": "stdout",
     "output_type": "stream",
     "text": [
      "INSERT INTO sustainment_predictions (case_number, prediction, prediction_time, prediction_type, closest_case_numbers) \n",
      "            VALUES ('1-69351239003','1', '2022-10-24 20:51:14', 'normal_prediction',('1-69665477438', '1-69391677624', '1-69342067445', '1-65489887438', '1-58024228174')) ON CONFLICT(case_number) DO UPDATE SET prediction = '1',prediction_time='2022-10-24 20:51:14', prediction_type = 'normal_prediction';INSERT INTO sustainment_predictions (case_number, prediction, prediction_time, prediction_type, closest_case_numbers) \n",
      "            VALUES ('1-69445997988','1', '2022-10-24 20:51:14', 'normal_prediction',('1-65475060777', '1-62112039028', '1-65459616771', '1-61781419222', '1-58901736810')) ON CONFLICT(case_number) DO UPDATE SET prediction = '1',prediction_time='2022-10-24 20:51:14', prediction_type = 'normal_prediction';INSERT INTO sustainment_predictions (case_number, prediction, prediction_time, prediction_type, closest_case_numbers) \n",
      "            VALUES ('1-69190785141','1', '2022-10-24 20:51:14', 'normal_prediction',('1-68641085120', '1-68892608150', '1-57316507378', '1-64466484142', '1-57562129320')) ON CONFLICT(case_number) DO UPDATE SET prediction = '1',prediction_time='2022-10-24 20:51:14', prediction_type = 'normal_prediction';"
     ]
    },
    {
     "name": "stderr",
     "output_type": "stream",
     "text": [
      "/opt/conda/lib/python3.9/site-packages/sklearn/base.py:450: UserWarning: X does not have valid feature names, but NearestNeighbors was fitted with feature names\n",
      "  warnings.warn(\n",
      "/opt/conda/lib/python3.9/site-packages/sklearn/base.py:450: UserWarning: X does not have valid feature names, but NearestNeighbors was fitted with feature names\n",
      "  warnings.warn(\n",
      "/opt/conda/lib/python3.9/site-packages/sklearn/base.py:450: UserWarning: X does not have valid feature names, but NearestNeighbors was fitted with feature names\n",
      "  warnings.warn(\n",
      "/opt/conda/lib/python3.9/site-packages/sklearn/base.py:450: UserWarning: X does not have valid feature names, but NearestNeighbors was fitted with feature names\n",
      "  warnings.warn(\n"
     ]
    },
    {
     "name": "stdout",
     "output_type": "stream",
     "text": [
      "INSERT INTO sustainment_predictions (case_number, prediction, prediction_time, prediction_type, closest_case_numbers) \n",
      "            VALUES ('1-69205275199','1', '2022-10-24 20:51:14', 'normal_prediction',('1-64342963334', '1-57926762610', '1-69205275199', '1-64207042622', '1-68719910961')) ON CONFLICT(case_number) DO UPDATE SET prediction = '1',prediction_time='2022-10-24 20:51:14', prediction_type = 'normal_prediction';INSERT INTO sustainment_predictions (case_number, prediction, prediction_time, prediction_type, closest_case_numbers) \n",
      "            VALUES ('1-69205930290','1', '2022-10-24 20:51:14', 'normal_prediction',('1-64744587115', '1-64413564730', '1-69146856162', '1-64520117821', '1-68989942894')) ON CONFLICT(case_number) DO UPDATE SET prediction = '1',prediction_time='2022-10-24 20:51:14', prediction_type = 'normal_prediction';INSERT INTO sustainment_predictions (case_number, prediction, prediction_time, prediction_type, closest_case_numbers) \n",
      "            VALUES ('1-69207281760','1', '2022-10-24 20:51:14', 'normal_prediction',('1-68845932623', '1-61011230328', '1-61202908581', '1-64609853213', '1-68654189009')) ON CONFLICT(case_number) DO UPDATE SET prediction = '1',prediction_time='2022-10-24 20:51:14', prediction_type = 'normal_prediction';INSERT INTO sustainment_predictions (case_number, prediction, prediction_time, prediction_type, closest_case_numbers) \n",
      "            VALUES ('1-69398366100','1', '2022-10-24 20:51:14', 'normal_prediction',('1-69398366100', '1-62134949702', '1-58754081961', '1-58926449490', '1-65368229223')) ON CONFLICT(case_number) DO UPDATE SET prediction = '1',prediction_time='2022-10-24 20:51:14', prediction_type = 'normal_prediction';"
     ]
    },
    {
     "name": "stderr",
     "output_type": "stream",
     "text": [
      "/opt/conda/lib/python3.9/site-packages/sklearn/base.py:450: UserWarning: X does not have valid feature names, but NearestNeighbors was fitted with feature names\n",
      "  warnings.warn(\n",
      "/opt/conda/lib/python3.9/site-packages/sklearn/base.py:450: UserWarning: X does not have valid feature names, but NearestNeighbors was fitted with feature names\n",
      "  warnings.warn(\n",
      "/opt/conda/lib/python3.9/site-packages/sklearn/base.py:450: UserWarning: X does not have valid feature names, but NearestNeighbors was fitted with feature names\n",
      "  warnings.warn(\n"
     ]
    },
    {
     "name": "stdout",
     "output_type": "stream",
     "text": [
      "INSERT INTO sustainment_predictions (case_number, prediction, prediction_time, prediction_type, closest_case_numbers) \n",
      "            VALUES ('1-69365837753','0', '2022-10-24 20:51:14', 'normal_prediction',('1-69448170827', '1-68403601186', '1-58908547858', '1-65301165396', '1-69240125001')) ON CONFLICT(case_number) DO UPDATE SET prediction = '0',prediction_time='2022-10-24 20:51:14', prediction_type = 'normal_prediction';INSERT INTO sustainment_predictions (case_number, prediction, prediction_time, prediction_type, closest_case_numbers) \n",
      "            VALUES ('1-69176955414','1', '2022-10-24 20:51:14', 'normal_prediction',('1-61166764930', '1-68784523950', '1-64518467509', '1-57871640412', '1-69176955414')) ON CONFLICT(case_number) DO UPDATE SET prediction = '1',prediction_time='2022-10-24 20:51:14', prediction_type = 'normal_prediction';INSERT INTO sustainment_predictions (case_number, prediction, prediction_time, prediction_type, closest_case_numbers) \n",
      "            VALUES ('1-69065676102','1', '2022-10-24 20:51:14', 'normal_prediction',('1-69065676102', '1-61433724486', '1-60928940066', '1-64780436452', '1-61286158852')) ON CONFLICT(case_number) DO UPDATE SET prediction = '1',prediction_time='2022-10-24 20:51:14', prediction_type = 'normal_prediction';"
     ]
    },
    {
     "name": "stderr",
     "output_type": "stream",
     "text": [
      "/opt/conda/lib/python3.9/site-packages/sklearn/base.py:450: UserWarning: X does not have valid feature names, but NearestNeighbors was fitted with feature names\n",
      "  warnings.warn(\n",
      "/opt/conda/lib/python3.9/site-packages/sklearn/base.py:450: UserWarning: X does not have valid feature names, but NearestNeighbors was fitted with feature names\n",
      "  warnings.warn(\n",
      "/opt/conda/lib/python3.9/site-packages/sklearn/base.py:450: UserWarning: X does not have valid feature names, but NearestNeighbors was fitted with feature names\n",
      "  warnings.warn(\n",
      "/opt/conda/lib/python3.9/site-packages/sklearn/base.py:450: UserWarning: X does not have valid feature names, but NearestNeighbors was fitted with feature names\n",
      "  warnings.warn(\n"
     ]
    },
    {
     "name": "stdout",
     "output_type": "stream",
     "text": [
      "INSERT INTO sustainment_predictions (case_number, prediction, prediction_time, prediction_type, closest_case_numbers) \n",
      "            VALUES ('1-69726931874','1', '2022-10-24 20:51:14', 'normal_prediction',('1-65332180909', '1-69460052399', '1-65475138098', '1-69463771558', '1-69656569916')) ON CONFLICT(case_number) DO UPDATE SET prediction = '1',prediction_time='2022-10-24 20:51:14', prediction_type = 'normal_prediction';INSERT INTO sustainment_predictions (case_number, prediction, prediction_time, prediction_type, closest_case_numbers) \n",
      "            VALUES ('1-69624646263','1', '2022-10-24 20:51:14', 'normal_prediction',('1-69624646263', '1-58564841965', '1-69388718352', '1-58411831846', '1-65954218986')) ON CONFLICT(case_number) DO UPDATE SET prediction = '1',prediction_time='2022-10-24 20:51:14', prediction_type = 'normal_prediction';INSERT INTO sustainment_predictions (case_number, prediction, prediction_time, prediction_type, closest_case_numbers) \n",
      "            VALUES ('1-69528078551','1', '2022-10-24 20:51:14', 'normal_prediction',('1-69528078551', '1-62087764728', '1-61853450368', '1-58283472985', '1-65344195191')) ON CONFLICT(case_number) DO UPDATE SET prediction = '1',prediction_time='2022-10-24 20:51:14', prediction_type = 'normal_prediction';INSERT INTO sustainment_predictions (case_number, prediction, prediction_time, prediction_type, closest_case_numbers) \n",
      "            VALUES ('1-69543015168','1', '2022-10-24 20:51:14', 'normal_prediction',('1-61955243320', '1-61657495895', '1-58122764248', '1-58691431769', '1-58287819403')) ON CONFLICT(case_number) DO UPDATE SET prediction = '1',prediction_time='2022-10-24 20:51:14', prediction_type = 'normal_prediction';"
     ]
    },
    {
     "name": "stderr",
     "output_type": "stream",
     "text": [
      "/opt/conda/lib/python3.9/site-packages/sklearn/base.py:450: UserWarning: X does not have valid feature names, but NearestNeighbors was fitted with feature names\n",
      "  warnings.warn(\n",
      "/opt/conda/lib/python3.9/site-packages/sklearn/base.py:450: UserWarning: X does not have valid feature names, but NearestNeighbors was fitted with feature names\n",
      "  warnings.warn(\n",
      "/opt/conda/lib/python3.9/site-packages/sklearn/base.py:450: UserWarning: X does not have valid feature names, but NearestNeighbors was fitted with feature names\n",
      "  warnings.warn(\n",
      "/opt/conda/lib/python3.9/site-packages/sklearn/base.py:450: UserWarning: X does not have valid feature names, but NearestNeighbors was fitted with feature names\n",
      "  warnings.warn(\n"
     ]
    },
    {
     "name": "stdout",
     "output_type": "stream",
     "text": [
      "INSERT INTO sustainment_predictions (case_number, prediction, prediction_time, prediction_type, closest_case_numbers) \n",
      "            VALUES ('1-69506494690','1', '2022-10-24 20:51:14', 'normal_prediction',('1-62246390948', '1-58779046091', '1-58028212217', '1-65427297132', '1-63962116175')) ON CONFLICT(case_number) DO UPDATE SET prediction = '1',prediction_time='2022-10-24 20:51:14', prediction_type = 'normal_prediction';INSERT INTO sustainment_predictions (case_number, prediction, prediction_time, prediction_type, closest_case_numbers) \n",
      "            VALUES ('1-69644735399','1', '2022-10-24 20:51:14', 'normal_prediction',('1-69329704792', '1-62194016193', '1-66005298092', '1-58613538545', '1-69624646263')) ON CONFLICT(case_number) DO UPDATE SET prediction = '1',prediction_time='2022-10-24 20:51:14', prediction_type = 'normal_prediction';INSERT INTO sustainment_predictions (case_number, prediction, prediction_time, prediction_type, closest_case_numbers) \n",
      "            VALUES ('1-69746362529','0', '2022-10-24 20:51:14', 'normal_prediction',('1-65728311438', '1-69320003316', '1-69730798215', '1-69527753382', '1-58593512172')) ON CONFLICT(case_number) DO UPDATE SET prediction = '0',prediction_time='2022-10-24 20:51:14', prediction_type = 'normal_prediction';INSERT INTO sustainment_predictions (case_number, prediction, prediction_time, prediction_type, closest_case_numbers) \n",
      "            VALUES ('1-69077569377','1', '2022-10-24 20:51:14', 'normal_prediction',('1-68524664556', '1-69168044165', '1-64336890483', '1-68876064904', '1-57287274941')) ON CONFLICT(case_number) DO UPDATE SET prediction = '1',prediction_time='2022-10-24 20:51:14', prediction_type = 'normal_prediction';"
     ]
    },
    {
     "name": "stderr",
     "output_type": "stream",
     "text": [
      "/opt/conda/lib/python3.9/site-packages/sklearn/base.py:450: UserWarning: X does not have valid feature names, but NearestNeighbors was fitted with feature names\n",
      "  warnings.warn(\n",
      "/opt/conda/lib/python3.9/site-packages/sklearn/base.py:450: UserWarning: X does not have valid feature names, but NearestNeighbors was fitted with feature names\n",
      "  warnings.warn(\n",
      "/opt/conda/lib/python3.9/site-packages/sklearn/base.py:450: UserWarning: X does not have valid feature names, but NearestNeighbors was fitted with feature names\n",
      "  warnings.warn(\n"
     ]
    },
    {
     "name": "stdout",
     "output_type": "stream",
     "text": [
      "INSERT INTO sustainment_predictions (case_number, prediction, prediction_time, prediction_type, closest_case_numbers) \n",
      "            VALUES ('1-69306732833','1', '2022-10-24 20:51:14', 'normal_prediction',('1-69447741638', '1-58401723663', '1-58625598555', '1-58319481355', '1-69306732833')) ON CONFLICT(case_number) DO UPDATE SET prediction = '1',prediction_time='2022-10-24 20:51:14', prediction_type = 'normal_prediction';INSERT INTO sustainment_predictions (case_number, prediction, prediction_time, prediction_type, closest_case_numbers) \n",
      "            VALUES ('1-69087243571','0', '2022-10-24 20:51:14', 'normal_prediction',('1-68967951922', '1-68407915237', '1-69038341635', '1-57117132651', '1-68317106134')) ON CONFLICT(case_number) DO UPDATE SET prediction = '0',prediction_time='2022-10-24 20:51:14', prediction_type = 'normal_prediction';INSERT INTO sustainment_predictions (case_number, prediction, prediction_time, prediction_type, closest_case_numbers) \n",
      "            VALUES ('1-69035229806','0', '2022-10-24 20:51:14', 'normal_prediction',('1-69106534669', '1-64598059681', '1-64300110067', '1-57905813357', '1-57098171184')) ON CONFLICT(case_number) DO UPDATE SET prediction = '0',prediction_time='2022-10-24 20:51:14', prediction_type = 'normal_prediction';"
     ]
    },
    {
     "name": "stderr",
     "output_type": "stream",
     "text": [
      "/opt/conda/lib/python3.9/site-packages/sklearn/base.py:450: UserWarning: X does not have valid feature names, but NearestNeighbors was fitted with feature names\n",
      "  warnings.warn(\n",
      "/opt/conda/lib/python3.9/site-packages/sklearn/base.py:450: UserWarning: X does not have valid feature names, but NearestNeighbors was fitted with feature names\n",
      "  warnings.warn(\n",
      "/opt/conda/lib/python3.9/site-packages/sklearn/base.py:450: UserWarning: X does not have valid feature names, but NearestNeighbors was fitted with feature names\n",
      "  warnings.warn(\n",
      "/opt/conda/lib/python3.9/site-packages/sklearn/base.py:450: UserWarning: X does not have valid feature names, but NearestNeighbors was fitted with feature names\n",
      "  warnings.warn(\n"
     ]
    },
    {
     "name": "stdout",
     "output_type": "stream",
     "text": [
      "INSERT INTO sustainment_predictions (case_number, prediction, prediction_time, prediction_type, closest_case_numbers) \n",
      "            VALUES ('1-69475068549','0', '2022-10-24 20:51:14', 'normal_prediction',('1-61880115513', '1-62250929070', '1-69517472900', '1-62402804367', '1-69731559496')) ON CONFLICT(case_number) DO UPDATE SET prediction = '0',prediction_time='2022-10-24 20:51:14', prediction_type = 'normal_prediction';INSERT INTO sustainment_predictions (case_number, prediction, prediction_time, prediction_type, closest_case_numbers) \n",
      "            VALUES ('1-69447264674','0', '2022-10-24 20:51:14', 'normal_prediction',('1-69447264674', '1-69486816136', '1-66131651018', '1-62267896394', '1-58098729034')) ON CONFLICT(case_number) DO UPDATE SET prediction = '0',prediction_time='2022-10-24 20:51:14', prediction_type = 'normal_prediction';INSERT INTO sustainment_predictions (case_number, prediction, prediction_time, prediction_type, closest_case_numbers) \n",
      "            VALUES ('1-69225346109','1', '2022-10-24 20:51:14', 'normal_prediction',('1-69225346109', '1-68402359464', '1-64824160641', '1-57188314304', '1-57711908711')) ON CONFLICT(case_number) DO UPDATE SET prediction = '1',prediction_time='2022-10-24 20:51:14', prediction_type = 'normal_prediction';INSERT INTO sustainment_predictions (case_number, prediction, prediction_time, prediction_type, closest_case_numbers) \n",
      "            VALUES ('1-69476561052','0', '2022-10-24 20:51:14', 'normal_prediction',('1-58695302247', '1-59122327992', '1-65855141695', '1-62102700204', '1-69670926268')) ON CONFLICT(case_number) DO UPDATE SET prediction = '0',prediction_time='2022-10-24 20:51:14', prediction_type = 'normal_prediction';INSERT INTO sustainment_predictions (case_number, prediction, prediction_time, prediction_type, closest_case_numbers) \n",
      "            VALUES ('1-69667453015','0', '2022-10-24 20:51:14', 'normal_prediction',('1-69667453015', '1-65204456545', '1-65542306861', '1-62031560040', '1-69624363498')) ON CONFLICT(case_number) DO UPDATE SET prediction = '0',prediction_time='2022-10-24 20:51:14', prediction_type = 'normal_prediction';INSERT INTO sustainment_predictions (case_number, prediction, prediction_time, prediction_type, closest_case_numbers) \n",
      "            VALUES ('1-69615154645','0', '2022-10-24 20:51:14', 'normal_prediction',('1-62045545662', '1-62056315060', '1-61884447213', '1-58886612036', '1-58557422976')) ON CONFLICT(case_number) DO UPDATE SET prediction = '0',prediction_time='2022-10-24 20:51:14', prediction_type = 'normal_prediction';INSERT INTO sustainment_predictions (case_number, prediction, prediction_time, prediction_type, closest_case_numbers) \n",
      "            VALUES ('1-69739613412','0', '2022-10-24 20:51:14', 'normal_prediction',('1-69739613412', '1-58619236446', '1-65386540769', '1-69254369171', '1-58761508593')) ON CONFLICT(case_number) DO UPDATE SET prediction = '0',prediction_time='2022-10-24 20:51:14', prediction_type = 'normal_prediction';"
     ]
    },
    {
     "name": "stderr",
     "output_type": "stream",
     "text": [
      "/opt/conda/lib/python3.9/site-packages/sklearn/base.py:450: UserWarning: X does not have valid feature names, but NearestNeighbors was fitted with feature names\n",
      "  warnings.warn(\n",
      "/opt/conda/lib/python3.9/site-packages/sklearn/base.py:450: UserWarning: X does not have valid feature names, but NearestNeighbors was fitted with feature names\n",
      "  warnings.warn(\n",
      "/opt/conda/lib/python3.9/site-packages/sklearn/base.py:450: UserWarning: X does not have valid feature names, but NearestNeighbors was fitted with feature names\n",
      "  warnings.warn(\n",
      "/opt/conda/lib/python3.9/site-packages/sklearn/base.py:450: UserWarning: X does not have valid feature names, but NearestNeighbors was fitted with feature names\n",
      "  warnings.warn(\n"
     ]
    },
    {
     "name": "stdout",
     "output_type": "stream",
     "text": [
      "INSERT INTO sustainment_predictions (case_number, prediction, prediction_time, prediction_type, closest_case_numbers) \n",
      "            VALUES ('1-69761095430','1', '2022-10-24 20:51:14', 'normal_prediction',('1-69488007890', '1-69479414338', '1-69282430332', '1-58873367365', '1-69761095430')) ON CONFLICT(case_number) DO UPDATE SET prediction = '1',prediction_time='2022-10-24 20:51:14', prediction_type = 'normal_prediction';INSERT INTO sustainment_predictions (case_number, prediction, prediction_time, prediction_type, closest_case_numbers) \n",
      "            VALUES ('1-69506625745','1', '2022-10-24 20:51:14', 'normal_prediction',('1-61628804254', '1-58271410516', '1-62240425205', '1-69506625745', '1-58296872961')) ON CONFLICT(case_number) DO UPDATE SET prediction = '1',prediction_time='2022-10-24 20:51:14', prediction_type = 'normal_prediction';INSERT INTO sustainment_predictions (case_number, prediction, prediction_time, prediction_type, closest_case_numbers) \n",
      "            VALUES ('1-421169-286568','0', '2022-10-24 20:51:14', 'normal_prediction',('1-421161-148071', '1-421161-145369', '1-421173-142564', '1-421169-55946', '1-421165-334513')) ON CONFLICT(case_number) DO UPDATE SET prediction = '0',prediction_time='2022-10-24 20:51:14', prediction_type = 'normal_prediction';"
     ]
    },
    {
     "name": "stderr",
     "output_type": "stream",
     "text": [
      "/opt/conda/lib/python3.9/site-packages/sklearn/base.py:450: UserWarning: X does not have valid feature names, but NearestNeighbors was fitted with feature names\n",
      "  warnings.warn(\n",
      "/opt/conda/lib/python3.9/site-packages/sklearn/base.py:450: UserWarning: X does not have valid feature names, but NearestNeighbors was fitted with feature names\n",
      "  warnings.warn(\n",
      "/opt/conda/lib/python3.9/site-packages/sklearn/base.py:450: UserWarning: X does not have valid feature names, but NearestNeighbors was fitted with feature names\n",
      "  warnings.warn(\n"
     ]
    },
    {
     "name": "stdout",
     "output_type": "stream",
     "text": [
      "INSERT INTO sustainment_predictions (case_number, prediction, prediction_time, prediction_type, closest_case_numbers) \n",
      "            VALUES ('1-57197695109','0', '2022-10-24 20:51:14', 'normal_prediction',('1-69658401673', '1-57937528342', '1-58729159606', '1-58741531437', '1-56891276315')) ON CONFLICT(case_number) DO UPDATE SET prediction = '0',prediction_time='2022-10-24 20:51:14', prediction_type = 'normal_prediction';INSERT INTO sustainment_predictions (case_number, prediction, prediction_time, prediction_type, closest_case_numbers) \n",
      "            VALUES ('1-63144079488','1', '2022-10-24 20:51:14', 'normal_prediction',('1-63144079488', '1-57720313493', '1-56792983843', '1-64935043095', '1-58096886379')) ON CONFLICT(case_number) DO UPDATE SET prediction = '1',prediction_time='2022-10-24 20:51:14', prediction_type = 'normal_prediction';INSERT INTO sustainment_predictions (case_number, prediction, prediction_time, prediction_type, closest_case_numbers) \n",
      "            VALUES ('1-65453073361','1', '2022-10-24 20:51:14', 'normal_prediction',('1-58096798395', '1-69382051855', '1-63353718167', '1-65787740203', '1-64480965783')) ON CONFLICT(case_number) DO UPDATE SET prediction = '1',prediction_time='2022-10-24 20:51:14', prediction_type = 'normal_prediction';"
     ]
    },
    {
     "name": "stderr",
     "output_type": "stream",
     "text": [
      "/opt/conda/lib/python3.9/site-packages/sklearn/base.py:450: UserWarning: X does not have valid feature names, but NearestNeighbors was fitted with feature names\n",
      "  warnings.warn(\n",
      "/opt/conda/lib/python3.9/site-packages/sklearn/base.py:450: UserWarning: X does not have valid feature names, but NearestNeighbors was fitted with feature names\n",
      "  warnings.warn(\n",
      "/opt/conda/lib/python3.9/site-packages/sklearn/base.py:450: UserWarning: X does not have valid feature names, but NearestNeighbors was fitted with feature names\n",
      "  warnings.warn(\n"
     ]
    },
    {
     "name": "stdout",
     "output_type": "stream",
     "text": [
      "INSERT INTO sustainment_predictions (case_number, prediction, prediction_time, prediction_type, closest_case_numbers) \n",
      "            VALUES ('1-69082829962','1', '2022-10-24 20:51:14', 'normal_prediction',('1-57292253364', '1-56886473091', '1-57819272192', '1-61133424507', '1-60955801265')) ON CONFLICT(case_number) DO UPDATE SET prediction = '1',prediction_time='2022-10-24 20:51:14', prediction_type = 'normal_prediction';INSERT INTO sustainment_predictions (case_number, prediction, prediction_time, prediction_type, closest_case_numbers) \n",
      "            VALUES ('1-69083796239','1', '2022-10-24 20:51:14', 'normal_prediction',('1-69083796239', '1-68332022567', '1-68317249959', '1-64408792623', '1-57293153170')) ON CONFLICT(case_number) DO UPDATE SET prediction = '1',prediction_time='2022-10-24 20:51:14', prediction_type = 'normal_prediction';INSERT INTO sustainment_predictions (case_number, prediction, prediction_time, prediction_type, closest_case_numbers) \n",
      "            VALUES ('1-69250436019','1', '2022-10-24 20:51:14', 'normal_prediction',('1-58601159012', '1-65720240180', '1-61974884143', '1-69250436019', '1-65218907393')) ON CONFLICT(case_number) DO UPDATE SET prediction = '1',prediction_time='2022-10-24 20:51:14', prediction_type = 'normal_prediction';"
     ]
    },
    {
     "name": "stderr",
     "output_type": "stream",
     "text": [
      "/opt/conda/lib/python3.9/site-packages/sklearn/base.py:450: UserWarning: X does not have valid feature names, but NearestNeighbors was fitted with feature names\n",
      "  warnings.warn(\n",
      "/opt/conda/lib/python3.9/site-packages/sklearn/base.py:450: UserWarning: X does not have valid feature names, but NearestNeighbors was fitted with feature names\n",
      "  warnings.warn(\n",
      "/opt/conda/lib/python3.9/site-packages/sklearn/base.py:450: UserWarning: X does not have valid feature names, but NearestNeighbors was fitted with feature names\n",
      "  warnings.warn(\n",
      "/opt/conda/lib/python3.9/site-packages/sklearn/base.py:450: UserWarning: X does not have valid feature names, but NearestNeighbors was fitted with feature names\n",
      "  warnings.warn(\n"
     ]
    },
    {
     "name": "stdout",
     "output_type": "stream",
     "text": [
      "INSERT INTO sustainment_predictions (case_number, prediction, prediction_time, prediction_type, closest_case_numbers) \n",
      "            VALUES ('1-69304045647','1', '2022-10-24 20:51:14', 'normal_prediction',('1-69289725994', '1-62303700296', '1-58797350231', '1-62433030784', '1-68700782883')) ON CONFLICT(case_number) DO UPDATE SET prediction = '1',prediction_time='2022-10-24 20:51:14', prediction_type = 'normal_prediction';INSERT INTO sustainment_predictions (case_number, prediction, prediction_time, prediction_type, closest_case_numbers) \n",
      "            VALUES ('1-69289725994','1', '2022-10-24 20:51:14', 'normal_prediction',('1-62303700296', '1-69304045647', '1-69580262557', '1-69626493285', '1-68944945753')) ON CONFLICT(case_number) DO UPDATE SET prediction = '1',prediction_time='2022-10-24 20:51:14', prediction_type = 'normal_prediction';INSERT INTO sustainment_predictions (case_number, prediction, prediction_time, prediction_type, closest_case_numbers) \n",
      "            VALUES ('1-69231349569','1', '2022-10-24 20:51:14', 'normal_prediction',('1-57359747675', '1-61057850006', '1-64421456025', '1-57460822679', '1-68490776570')) ON CONFLICT(case_number) DO UPDATE SET prediction = '1',prediction_time='2022-10-24 20:51:14', prediction_type = 'normal_prediction';"
     ]
    },
    {
     "name": "stderr",
     "output_type": "stream",
     "text": [
      "/opt/conda/lib/python3.9/site-packages/sklearn/base.py:450: UserWarning: X does not have valid feature names, but NearestNeighbors was fitted with feature names\n",
      "  warnings.warn(\n",
      "/opt/conda/lib/python3.9/site-packages/sklearn/base.py:450: UserWarning: X does not have valid feature names, but NearestNeighbors was fitted with feature names\n",
      "  warnings.warn(\n",
      "/opt/conda/lib/python3.9/site-packages/sklearn/base.py:450: UserWarning: X does not have valid feature names, but NearestNeighbors was fitted with feature names\n",
      "  warnings.warn(\n",
      "/opt/conda/lib/python3.9/site-packages/sklearn/base.py:450: UserWarning: X does not have valid feature names, but NearestNeighbors was fitted with feature names\n",
      "  warnings.warn(\n"
     ]
    },
    {
     "name": "stdout",
     "output_type": "stream",
     "text": [
      "INSERT INTO sustainment_predictions (case_number, predic