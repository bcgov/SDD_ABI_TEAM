{
 "cells": [
  {
   "cell_type": "code",
   "execution_count": 11,
   "metadata": {},
   "outputs": [
    {
     "data": {
      "text/plain": [
       "<cx_Oracle.Cursor on <cx_Oracle.Connection to GDALLAS@(DESCRIPTION=(ADDRESS=(PROTOCOL=TCP)(HOST=)(PORT=1))(CONNECT_DATA=(SERVICE_NAME=1)))>>"
      ]
     },
     "execution_count": 11,
     "metadata": {},
     "output_type": "execute_result"
    }
   ],
   "source": [
    "import cx_Oracle\n",
    "\n",
    "f=open(\"pwds.txt\",\"r\")\n",
    "lines=f.readlines()\n",
    "usr=lines[0]\n",
    "pw=lines[1]\n",
    "f.close()\n",
    
    "\n",
    "host = ''\n",
    "port = 1\n",
    "service = ''\n",
    "#cx_Oracle.init_oracle_client(lib_dir= path)\n",
    "\n",
    "cx_Oracle.clientversion()  \n",
    "dsn_tns = cx_Oracle.makedsn(host, port, service_name=service)\n",
    "\n",
    "conn = cx_Oracle.connect(user=usr, password=pw, dsn=dsn_tns)\n",
    "\n",
    "c = conn.cursor()\n",
    "\n",
    "query = \"\"\"select distinct \"WBC_OES_APPLICATION_D\".\"EXPLAINING_TO_OTHERS\" \"Explaining_to_Others\", \"WBC_OES_APPLICATION_D\".\"GET_ALONG_WITH_OTHERS\" \"Getting_Along_with_Others\", \"WBC_OES_APPLICATION_D\".\"LEARNING_NEW_THINGS\" \"New_Things\", \"WBC_OES_APPLICATION_D\".\"ORGANIZING_INFORMATION\" \"Organizing\", \"WBC_OES_APPLICATION_D\".\"PROBLEM_SOLVING\" \"Problem_Solving\", \"WBC_OES_APPLICATION_D\".\"READING_INFORMATION\" \"Reading_and_Understanding\", \"WBC_OES_APPLICATION_D\".\"USING_COMPUTERS\" \"Using_Computers\", \"WBC_OES_APPLICATION_D\".\"CREATING_DOCUMENTS\" \"Working_with_Documents\", \"WBC_OES_APPLICATION_D\".\"WORKING_WITH_MATH\" \"Working_with_Math\", \"WBC_OES_APPLICATION_D\".\"WRITING_INFORMATION\" \"Writing\", \"WBC_OES_APPLICATION_D\".\"MOST_RECENT_WORK_EMPLOYER\" \"Employer_Name\", \"WBC_OES_APPLICATION_D\".\"MOST_RECENT_WORK_END_DATE\" \"End_Date\", \"WBC_OES_APPLICATION_D\".\"MOST_RECENT_WORK_INDUSTRY\" \"Industry\", \"WBC_OES_APPLICATION_D\".\"REASON_FOR_LEAVING_EMPLOYMENT\" \"Reason_for_Leaving\", \"WBC_OES_APPLICATION_D\".\"MOST_RECENT_WORK_START_DATE\" \"Start_Date\", \"WBC_OES_APPLICATION_D\".\"MOST_RECENT_WORK_JOB_TITLE\" \"Work_Title\", \"WBC_OES_APPLICATION_D\".\"CURRENTLY_IN_SCHOOL\" \"Currently_In_School\", \"WBC_OES_APPLICATION_D\".\"CURRENTLY_IN_SCHOOL_STATUS\" \"c18\", \"WBC_OES_APPLICATION_D\".\"AREA_OF_STUDY\" \"Education_Area_of_Study\", \"WBC_OES_APPLICATION_D\".\"INDIGENOUS_TYPE\" \"Indigenous_Type\", \"WBC_OES_APPLICATION_D\".\"STATUS_INDIAN\" \"Status_Indian\", \"WBC_OES_APPLICATION_D\".\"IMMIGRATION_DATE\" \"Immigration_Date\", \"WBC_OES_APPLICATION_D\".\"REFUGEE_TYPE\" \"Refugee_Type\", \"WBC_OES_APPLICATION_D\".\"CITIZENSHIP_STATUS\" \"Citizenship_Status\", \"WBC_OES_APPLICATION_D\".\"GENDER\" \"Gender\", \"WBC_OES_APPLICATION_D\".\"CELL_PHONE\" \"Cell_Phone\", \"WBC_OES_APPLICATION_D\".\"WORK_PHONE\" \"Work_Phone\", \"WBC_OES_APPLICATION_D\".\"HOME_PHONE\" \"Home_Phone\", \"WBC_OES_APPLICATION_D\".\"ALTERNATE_NUMBER\" \"Alternate_Phone_Number\", \"WBC_OES_APPLICATION_D\".\"FRANCOPHONE\" \"Francophone\", \"WBC_OES_APPLICATION_D\".\"RECENT_IMMIGRANT\" \"Recent_Immigrant\", \"WBC_OES_APPLICATION_D\".\"INDIGENOUS_PERSON\" \"Indigenous_Person\", \"WBC_OES_APPLICATION_D\".\"PERSON_WITH_DISABILITY\" \"Person_with_a_Disability\", \"WBC_OES_APPLICATION_D\".\"SURVIVOR_OF_VIOLENCE\" \"Survivor_of_Violence_or_Abuse\", \"WBC_OES_APPLICATION_D\".\"LANGUAGE\" \"Language35\", \"WBC_OES_APPLICATION_D\".\"LANGUAGE_OTHER\" \"Other_Language\", \"WBC_OES_APPLICATION_D\".\"DISABILITY_OTHER_DESC\" \"Other_Disability_Discription\", \"WBC_OES_APPLICATION_D\".\"STATUS_IN_CANADA_OTHER_DESC\" \"c38\", \"WBC_OES_APPLICATION_D\".\"ORIGIN_COUNTRY\" \"Country_of_Origin\", \"WBC_OES_APPLICATION_D\".\"RESUME\" \"Resume\", \"WBC_OES_APPLICATION_D\".\"DRENA_REQUIRED\" \"DRENA_Required\", \"WBC_OES_APPLICATION_D\".\"LEGAL_TO_WORK\" \"c42\", \"WBC_OES_APPLICATION_D\".\"CHANGE_OF_CIRCUMSATNCE\" \"Change_of_Circumstance\", \"WBC_OES_APPLICATION_D\".\"CHANGE_OF_CIRCUMSATNCE_REASON\" \"Change_of_Circumstance_Reason\", \"WBC_OES_APPLICATION_D\".\"BCEID_GUID\" \"BCeID_GUID\", \"WBC_OES_APPLICATION_D\".\"CLIENT_BCEID\" \"Client_BCeID\", \"WBC_OES_APPLICATION_D\".\"CLIENT_CONSENT\" \"Client_Consent\", \"WBC_OES_APPLICATION_D\".\"PROGRAM_TYPE\" \"Program_Type\", \"WBC_OES_APPLICATION_D\".\"REVIEWER_BCEID\" \"Reviewer_BCeID\", \"WBC_OES_APPLICATION_D\".\"VERSION_NUMBER\" \"Version_Number\", \"WBC_OES_APPLICATION_D\".\"EMPLOYMENT_FACTOR_AGE\" \"Age\", \"WBC_OES_APPLICATION_D\".\"EMPLOYMENT_FACTOR_LACK_HOUSING\" \"Lack_Housing\", \"WBC_OES_APPLICATION_D\".\"CURRENT_EMPLOYMENT_INSURANCE\" \"c53\", \"WBC_OES_APPLICATION_D\".\"PAST_EMPLOYMENT_INSURANCE\" \"c54\", \"WBC_OES_APPLICATION_D\".\"PAST_FIVE_YEARS_WORK\" \"c55\", \"WBC_OES_APPLICATION_D\".\"BCEA_INCOME_ASSISTANCE\" \"c56\", \"WBC_OES_APPLICATION_D\".\"INCOME_ASSISTANCE_DURATION\" \"c57\", \"WBC_OES_APPLICATION_D\".\"NON_BC_INCOME_ASSISTANCE\" \"c58\", \"WBC_OES_APPLICATION_D\".\"NON_BC_INCOME_ASSISTANCE_CNT\" \"c59\", \"WBC_OES_APPLICATION_D\".\"OTHER_FUNDING\" \"c60\", \"WBC_OES_APPLICATION_D\".\"OTHER_FUNDING_DESCRIPITON\" \"Other_Funding_Description\", \"WBC_OES_APPLICATION_D\".\"EMPLOYMENT_FACTOR_ADDICTION\" \"Addiction\", \"WBC_OES_APPLICATION_D\".\"VISIBLE_MINORITY\" \"Visible_Minority\", \"WBC_OES_APPLICATION_D\".\"CHILDREN_AT_HOME\" \"Child_at_Home\", \"WBC_OES_APPLICATION_D\".\"SINGLE_PARENT\" \"Single_Parent\", \"WBC_OES_APPLICATION_D\".\"DISABILITY_PHYSICAL\" \"Physical_Disability\", \"WBC_OES_APPLICATION_D\".\"DISABILITY_LEARNING\" \"Learning_Disablilit\", \"WBC_OES_APPLICATION_D\".\"DEVELOPMENTAL_DISABILITY\" \"Developmental_Disability\", \"WBC_OES_APPLICATION_D\".\"DISABILITY_VISUAL\" \"Visual_Disability\", \"WBC_OES_APPLICATION_D\".\"DISABILITY_HEARING\" \"Hearing_Disability\", \"WBC_OES_APPLICATION_D\".\"DISABILITY_MENTAL_HEALTH\" \"Mental_Health_Condition\", \"WBC_OES_APPLICATION_D\".\"DISABILITY_CHRONIC_ILLNESS\" \"Chronic_Illness\", \"WBC_OES_APPLICATION_D\".\"DISABILITY_SHORT_TERM_ILLNESS\" \"Short_term_Illness\", \"WBC_OES_APPLICATION_D\".\"DISABILITY_OTHER\" \"Other_Disability\", \"WBC_OES_APPLICATION_D\".\"EMPLOYMENT_FACTOR_LIST\" \"Employment_Factor_List\", \"WBC_OES_APPLICATION_D\".\"EMPLOYED\" \"Client_Employed_Flag\", \"WBC_OES_APPLICATION_D\".\"UNEMP_PERSONAL_SITUATION\" \"c77\", \"WBC_OES_APPLICATION_D\".\"UNEMP_KEEPING_JOBS\" \"Unemployed___Keeping_Jobs\", \"WBC_OES_APPLICATION_D\".\"UNEMP_DISABLTY_SUPPORTS_NEEDED\" \"c79\", \"WBC_OES_APPLICATION_D\".\"UNEMP_KIND_OF_WORK_UNKNOWN\" \"c80\", \"WBC_OES_APPLICATION_D\".\"UNEMP_FNCL_SUPPORTS_NEEDED\" \"c81\", \"WBC_OES_APPLICATION_D\".\"UNEMP_TRAINING_NEEDED\" \"Unemployed___Training_Needed\", \"WBC_OES_APPLICATION_D\".\"UNEMP_JOB_SEARCH_HELP_NEEDED\" \"c83\", \"WBC_OES_APPLICATION_D\".\"UNEMP_JOB_OFFER_LACK_RESOURCES\" \"Unemployed___Lack_Resources\", \"WBC_OES_APPLICATION_D\".\"UNEMP_RETURN_TO_SAME_WORK\" \"c85\", \"WBC_OES_APPLICATION_D\".\"UNEMP_OTHER_FACTOR\" \"Unemployed___Other\", \"WBC_OES_APPLICATION_D\".\"UNEMP_OTHER_FACTOR_DESC\" \"Unemployed___Other_Description\", \"WBC_OES_APPLICATION_D\".\"EMP_SELF_EMPLOYED\" \"Employed___Self_Employed\", \"WBC_OES_APPLICATION_D\".\"EMP_LOSING_JOB\" \"Employed___Losing_Job\", \"WBC_OES_APPLICATION_D\".\"EMP_DISABLTY_SUPPORTS_NEEDED\" \"Employed___Disability_Supports\", \"WBC_OES_APPLICATION_D\".\"EMP_JOB_OFFER_LACK_RESOURCES\" \"Employed___Lack_Resources\", \"WBC_OES_APPLICATION_D\".\"EMP_NEED_MORE_HOURS_OF_WORK\" \"Employed___Need_More_hours\", \"WBC_OES_APPLICATION_D\".\"EMP_TRAINING_NEEDED\" \"Employed___Training\", \"WBC_OES_APPLICATION_D\".\"EMP_NEW_LINE_OF_WORK\" \"Employed___New_Line_of_Work\", \"WBC_OES_APPLICATION_D\".\"EMP_SEEKEING_CHANGE\" \"Employed___Dislike_Current\", \"WBC_OES_APPLICATION_D\".\"EMP_CHALLENGING_JOB\" \"Employed___More_Challenge\", \"WBC_OES_APPLICATION_D\".\"EMPLOYMENT_FACTOR_OTHER\" \"Employed___Other\", \"WBC_OES_APPLICATION_D\".\"EMPLOYMENT_FACTOR_OTHER_DESC\" \"Employed___Other_Description\", \"WBC_OES_APPLICATION_D\".\"EMPLOYMENT_SITUATION_LIST\" \"Employment_Situation_List\", \"WBC_OES_APPLICATION_D\".\"CURRENT_EMPLOYMENT_SITUATION\" \"Current_Employment_Situation\", \"WBC_OES_APPLICATION_F\".\"SUBMISSION_DT\" \"Submission_Date\", \"WBC_OES_APPLICATION_F\".\"ICM_DT\" \"ICM_Date\", \"WBC_OES_APPLICATION_F\".\"DELETION_DATE\" \"Deletion_Date\", \"WBC_OES_APPLICATION_F\".\"DEL_STATUS_SET_BY\" \"Deleted_by_Code\", \"WBC_OES_APPLICATION_F\".\"APPL_ABANDONED_BY\" \"Application_Abandoned_By\", \"WBC_OES_APPLICATION_F\".\"SERVICE_REQ_NUM\" \"Service_Request_Num\", \"WBC_OES_APPLICATION_D\".\"APPLICATION_TYPE\" \"Application_Type\", \"WBC_OES_APPLICATION_D\".\"ACCEPTED_EMPLOYED\" \"Accepted_Reason___Employed\", \"WBC_OES_APPLICATION_D\".\"ACCEPTED_PRECARIOUSLY_EMPLOYED\" \"c109\", \"WBC_OES_APPLICATION_D\".\"ACCEPTED_SELF_EMPLOYED\" \"c110\", \"WBC_OES_APPLICATION_D\".\"ACCEPTED_UNEMPLOYED\" \"Accepted_Reason___Unemployed\", \"WBC_OES_APPLICATION_D\".\"ACCEPTED_NOT_IN_LABOUR_FORCE\" \"c112\", \"WBC_OES_APPLICATION_D\".\"NOTACCEPT_NOT_BC_RESIDENT\" \"c113\", \"WBC_OES_APPLICATION_D\".\"NOTACCEPT_NOT_UNEMPLOYED\" \"c114\", \"WBC_OES_APPLICATION_D\".\"NOTACCEPT_NOT_ELIBIBLE\" \"c115\", \"WBC_OES_APPLICATION_D\".\"NOTACCEPT_900_SIN\" \"c116\", \"WBC_OES_APPLICATION_D\".\"NOTACCEPT_FULL_TIME_STUDENT\" \"c117\", \"WBC_OES_APPLICATION_D\".\"NOTACCEPT_DRUG_ALCOHOL_ABUSE\" \"c118\", \"WBC_OES_APPLICATION_D\".\"NOTACCEPT_HEALTH\" \"c119\", \"WBC_OES_APPLICATION_D\".\"NOTACCEPT_OTHER\" \"Not_Accepted_Reason___Other\", \"WBC_OES_APPLICATION_D\".\"NOT_ACCEPTED_REASONS_LIST\" \"Not_Accepted_Reason_Lsit\", \"WBC_OES_APPLICATION_D\".\"INTERVIEW_METHOD_IN_PERSON\" \"Interview_In_Person\", \"WBC_OES_APPLICATION_D\".\"INTERVIEW_METHOD_PHONE\" \"Interview_By_Telephone\", \"WBC_OES_APPLICATION_D\".\"INTERVIEW_METHOD_VIDEO_CALL\" \"Interview_By_Video_Call\", \"WBC_OES_APPLICATION_D\".\"INTERVIEW_METHOD_WITH_ATTNDENT\" \"Interview_With_Attendant\", \"WBC_OES_APPLICATION_D\".\"INTERVIEW_METHOD_OTHER\" \"Interview_Other\", \"WBC_OES_APPLICATION_D\".\"EMPLOYMENT_GOAL\" \"Employment_Goal\", \"WBC_OES_APPLICATION_D\".\"HOURS_PER_WEEK\" \"Hours_per_Week_Goal\", \"WBC_OES_APPLICATION_D\".\"WAGE_PER_HOUR\" \"Wage_Per_Hour_Goal\", \"WBC_OES_APPLICATION_D\".\"EMPLOYMENT_GOAL_SEASONAL\" \"Goal_is_Seasonal\", \"WBC_OES_APPLICATION_D\".\"EMPLOYMENT_GOAL_CASUAL\" \"Goal_is_Casual\", \"WBC_OES_APPLICATION_D\".\"EMPLOYMENT_GOAL_RELOCATE\" \"Can_Relocate\", \"WBC_OES_APPLICATION_D\".\"EMPLOYMENT_GOAL_TRANSPORT\" \"Has_Transportation\", \"WBC_OES_APPLICATION_D\".\"PORTAL_APPLICATION_NUMBER\" \"OES_Application_Num\", \"WBC_OES_APPLICATION_D\".\"OFFICE\" \"Office\", \"WBC_OES_APPLICATION_D\".\"CATCHMENT\" \"Catchment_Selected\", \"WBC_OES_APPLICATION_D\".\"SERVICE_SELECTED\" \"Service_Selected\", \"WBC_OES_APPLICATION_D\".\"ACCEPTED_INTO_CASE_MGMT\" \"Accepted_into_Case_Management\", \"WBC_OES_APPLICATION_D\".\"NOTACCEPT_CASE_MGMT_OTHER_DESC\" \"c139\", \"WBC_OES_APPLICATION_D\".\"EXPLORE_WITH_CLIENT\" \"Explore_with_Client\"\n",
    " from (\n",
    "select \"WBC_OES_APPLICATION_F\".\"TAAAPA_WID\" \"TAAAPA_WID\", \"WBC_OES_APPLICATION_F\".\"SUBMISSION_DT\" \"SUBMISSION_DT\", \"WBC_OES_APPLICATION_F\".\"ICM_DT\" \"ICM_DT\", \"WBC_OES_APPLICATION_F\".\"APPLICATION_TYPE_WID\" \"APPLICATION_TYPE_WID\", \"WBC_OES_APPLICATION_F\".\"SERVICE_REQ_NUM\" \"SERVICE_REQ_NUM\", \"WBC_OES_APPLICATION_F\".\"DELETION_DATE\" \"DELETION_DATE\", \"WBC_OES_APPLICATION_F\".\"DEL_STATUS_SET_BY\" \"DEL_STATUS_SET_BY\", \"WBC_OES_APPLICATION_F\".\"APPL_ABANDONED_BY\" \"APPL_ABANDONED_BY\"\n",
    " from \"CDW\".\"WBC_OES_APPLICATION_F\" \"WBC_OES_APPLICATION_F\"\n",
    " ) \"WBC_OES_APPLICATION_F\" LEFT OUTER JOIN \"CDW\".\"WBC_OES_APPLICATION_D\" \"WBC_OES_APPLICATION_D\" on \"WBC_OES_APPLICATION_F\".\"TAAAPA_WID\"=\"WBC_OES_APPLICATION_D\".\"TAAAPA_WID\"\n",
    " where \"WBC_OES_APPLICATION_F\".\"APPLICATION_TYPE_WID\" in (5, 6)\n",
    "\n",
    "\n",
    "\"\"\"\n",
    "\n",
    "c.execute(query)\n",
    "\n"
   ]
  },
  {
   "cell_type": "code",
   "execution_count": 12,
   "metadata": {},
   "outputs": [],
   "source": [
    "import pandas as pd\n",
    "query = \"\"\"select distinct \"WBC_OES_APPLICATION_D\".\"EXPLAINING_TO_OTHERS\" \"Explaining_to_Others\", \"WBC_OES_APPLICATION_D\".\"GET_ALONG_WITH_OTHERS\" \"Getting_Along_with_Others\", \"WBC_OES_APPLICATION_D\".\"LEARNING_NEW_THINGS\" \"New_Things\", \"WBC_OES_APPLICATION_D\".\"ORGANIZING_INFORMATION\" \"Organizing\", \"WBC_OES_APPLICATION_D\".\"PROBLEM_SOLVING\" \"Problem_Solving\", \"WBC_OES_APPLICATION_D\".\"READING_INFORMATION\" \"Reading_and_Understanding\", \"WBC_OES_APPLICATION_D\".\"USING_COMPUTERS\" \"Using_Computers\", \"WBC_OES_APPLICATION_D\".\"CREATING_DOCUMENTS\" \"Working_with_Documents\", \"WBC_OES_APPLICATION_D\".\"WORKING_WITH_MATH\" \"Working_with_Math\", \"WBC_OES_APPLICATION_D\".\"WRITING_INFORMATION\" \"Writing\", \"WBC_OES_APPLICATION_D\".\"MOST_RECENT_WORK_EMPLOYER\" \"Employer_Name\", \"WBC_OES_APPLICATION_D\".\"MOST_RECENT_WORK_END_DATE\" \"End_Date\", \"WBC_OES_APPLICATION_D\".\"MOST_RECENT_WORK_INDUSTRY\" \"Industry\", \"WBC_OES_APPLICATION_D\".\"REASON_FOR_LEAVING_EMPLOYMENT\" \"Reason_for_Leaving\", \"WBC_OES_APPLICATION_D\".\"MOST_RECENT_WORK_START_DATE\" \"Start_Date\", \"WBC_OES_APPLICATION_D\".\"MOST_RECENT_WORK_JOB_TITLE\" \"Work_Title\", \"WBC_OES_APPLICATION_D\".\"CURRENTLY_IN_SCHOOL\" \"Currently_In_School\", \"WBC_OES_APPLICATION_D\".\"CURRENTLY_IN_SCHOOL_STATUS\" \"c18\", \"WBC_OES_APPLICATION_D\".\"AREA_OF_STUDY\" \"Education_Area_of_Study\", \"WBC_OES_APPLICATION_D\".\"INDIGENOUS_TYPE\" \"Indigenous_Type\", \"WBC_OES_APPLICATION_D\".\"STATUS_INDIAN\" \"Status_Indian\", \"WBC_OES_APPLICATION_D\".\"IMMIGRATION_DATE\" \"Immigration_Date\", \"WBC_OES_APPLICATION_D\".\"REFUGEE_TYPE\" \"Refugee_Type\", \"WBC_OES_APPLICATION_D\".\"CITIZENSHIP_STATUS\" \"Citizenship_Status\", \"WBC_OES_APPLICATION_D\".\"GENDER\" \"Gender\", \"WBC_OES_APPLICATION_D\".\"CELL_PHONE\" \"Cell_Phone\", \"WBC_OES_APPLICATION_D\".\"WORK_PHONE\" \"Work_Phone\", \"WBC_OES_APPLICATION_D\".\"HOME_PHONE\" \"Home_Phone\", \"WBC_OES_APPLICATION_D\".\"ALTERNATE_NUMBER\" \"Alternate_Phone_Number\", \"WBC_OES_APPLICATION_D\".\"FRANCOPHONE\" \"Francophone\", \"WBC_OES_APPLICATION_D\".\"RECENT_IMMIGRANT\" \"Recent_Immigrant\", \"WBC_OES_APPLICATION_D\".\"INDIGENOUS_PERSON\" \"Indigenous_Person\", \"WBC_OES_APPLICATION_D\".\"PERSON_WITH_DISABILITY\" \"Person_with_a_Disability\", \"WBC_OES_APPLICATION_D\".\"SURVIVOR_OF_VIOLENCE\" \"Survivor_of_Violence_or_Abuse\", \"WBC_OES_APPLICATION_D\".\"LANGUAGE\" \"Language35\", \"WBC_OES_APPLICATION_D\".\"LANGUAGE_OTHER\" \"Other_Language\", \"WBC_OES_APPLICATION_D\".\"DISABILITY_OTHER_DESC\" \"Other_Disability_Discription\", \"WBC_OES_APPLICATION_D\".\"STATUS_IN_CANADA_OTHER_DESC\" \"c38\", \"WBC_OES_APPLICATION_D\".\"ORIGIN_COUNTRY\" \"Country_of_Origin\", \"WBC_OES_APPLICATION_D\".\"RESUME\" \"Resume\", \"WBC_OES_APPLICATION_D\".\"DRENA_REQUIRED\" \"DRENA_Required\", \"WBC_OES_APPLICATION_D\".\"LEGAL_TO_WORK\" \"c42\", \"WBC_OES_APPLICATION_D\".\"CHANGE_OF_CIRCUMSATNCE\" \"Change_of_Circumstance\", \"WBC_OES_APPLICATION_D\".\"CHANGE_OF_CIRCUMSATNCE_REASON\" \"Change_of_Circumstance_Reason\", \"WBC_OES_APPLICATION_D\".\"BCEID_GUID\" \"BCeID_GUID\", \"WBC_OES_APPLICATION_D\".\"CLIENT_BCEID\" \"Client_BCeID\", \"WBC_OES_APPLICATION_D\".\"CLIENT_CONSENT\" \"Client_Consent\", \"WBC_OES_APPLICATION_D\".\"PROGRAM_TYPE\" \"Program_Type\", \"WBC_OES_APPLICATION_D\".\"REVIEWER_BCEID\" \"Reviewer_BCeID\", \"WBC_OES_APPLICATION_D\".\"VERSION_NUMBER\" \"Version_Number\", \"WBC_OES_APPLICATION_D\".\"EMPLOYMENT_FACTOR_AGE\" \"Age\", \"WBC_OES_APPLICATION_D\".\"EMPLOYMENT_FACTOR_LACK_HOUSING\" \"Lack_Housing\", \"WBC_OES_APPLICATION_D\".\"CURRENT_EMPLOYMENT_INSURANCE\" \"c53\", \"WBC_OES_APPLICATION_D\".\"PAST_EMPLOYMENT_INSURANCE\" \"c54\", \"WBC_OES_APPLICATION_D\".\"PAST_FIVE_YEARS_WORK\" \"c55\", \"WBC_OES_APPLICATION_D\".\"BCEA_INCOME_ASSISTANCE\" \"c56\", \"WBC_OES_APPLICATION_D\".\"INCOME_ASSISTANCE_DURATION\" \"c57\", \"WBC_OES_APPLICATION_D\".\"NON_BC_INCOME_ASSISTANCE\" \"c58\", \"WBC_OES_APPLICATION_D\".\"NON_BC_INCOME_ASSISTANCE_CNT\" \"c59\", \"WBC_OES_APPLICATION_D\".\"OTHER_FUNDING\" \"c60\", \"WBC_OES_APPLICATION_D\".\"OTHER_FUNDING_DESCRIPITON\" \"Other_Funding_Description\", \"WBC_OES_APPLICATION_D\".\"EMPLOYMENT_FACTOR_ADDICTION\" \"Addiction\", \"WBC_OES_APPLICATION_D\".\"VISIBLE_MINORITY\" \"Visible_Minority\", \"WBC_OES_APPLICATION_D\".\"CHILDREN_AT_HOME\" \"Child_at_Home\", \"WBC_OES_APPLICATION_D\".\"SINGLE_PARENT\" \"Single_Parent\", \"WBC_OES_APPLICATION_D\".\"DISABILITY_PHYSICAL\" \"Physical_Disability\", \"WBC_OES_APPLICATION_D\".\"DISABILITY_LEARNING\" \"Learning_Disablilit\", \"WBC_OES_APPLICATION_D\".\"DEVELOPMENTAL_DISABILITY\" \"Developmental_Disability\", \"WBC_OES_APPLICATION_D\".\"DISABILITY_VISUAL\" \"Visual_Disability\", \"WBC_OES_APPLICATION_D\".\"DISABILITY_HEARING\" \"Hearing_Disability\", \"WBC_OES_APPLICATION_D\".\"DISABILITY_MENTAL_HEALTH\" \"Mental_Health_Condition\", \"WBC_OES_APPLICATION_D\".\"DISABILITY_CHRONIC_ILLNESS\" \"Chronic_Illness\", \"WBC_OES_APPLICATION_D\".\"DISABILITY_SHORT_TERM_ILLNESS\" \"Short_term_Illness\", \"WBC_OES_APPLICATION_D\".\"DISABILITY_OTHER\" \"Other_Disability\", \"WBC_OES_APPLICATION_D\".\"EMPLOYMENT_FACTOR_LIST\" \"Employment_Factor_List\", \"WBC_OES_APPLICATION_D\".\"EMPLOYED\" \"Client_Employed_Flag\", \"WBC_OES_APPLICATION_D\".\"UNEMP_PERSONAL_SITUATION\" \"c77\", \"WBC_OES_APPLICATION_D\".\"UNEMP_KEEPING_JOBS\" \"Unemployed___Keeping_Jobs\", \"WBC_OES_APPLICATION_D\".\"UNEMP_DISABLTY_SUPPORTS_NEEDED\" \"c79\", \"WBC_OES_APPLICATION_D\".\"UNEMP_KIND_OF_WORK_UNKNOWN\" \"c80\", \"WBC_OES_APPLICATION_D\".\"UNEMP_FNCL_SUPPORTS_NEEDED\" \"c81\", \"WBC_OES_APPLICATION_D\".\"UNEMP_TRAINING_NEEDED\" \"Unemployed___Training_Needed\", \"WBC_OES_APPLICATION_D\".\"UNEMP_JOB_SEARCH_HELP_NEEDED\" \"c83\", \"WBC_OES_APPLICATION_D\".\"UNEMP_JOB_OFFER_LACK_RESOURCES\" \"Unemployed___Lack_Resources\", \"WBC_OES_APPLICATION_D\".\"UNEMP_RETURN_TO_SAME_WORK\" \"c85\", \"WBC_OES_APPLICATION_D\".\"UNEMP_OTHER_FACTOR\" \"Unemployed___Other\", \"WBC_OES_APPLICATION_D\".\"UNEMP_OTHER_FACTOR_DESC\" \"Unemployed___Other_Description\", \"WBC_OES_APPLICATION_D\".\"EMP_SELF_EMPLOYED\" \"Employed___Self_Employed\", \"WBC_OES_APPLICATION_D\".\"EMP_LOSING_JOB\" \"Employed___Losing_Job\", \"WBC_OES_APPLICATION_D\".\"EMP_DISABLTY_SUPPORTS_NEEDED\" \"Employed___Disability_Supports\", \"WBC_OES_APPLICATION_D\".\"EMP_JOB_OFFER_LACK_RESOURCES\" \"Employed___Lack_Resources\", \"WBC_OES_APPLICATION_D\".\"EMP_NEED_MORE_HOURS_OF_WORK\" \"Employed___Need_More_hours\", \"WBC_OES_APPLICATION_D\".\"EMP_TRAINING_NEEDED\" \"Employed___Training\", \"WBC_OES_APPLICATION_D\".\"EMP_NEW_LINE_OF_WORK\" \"Employed___New_Line_of_Work\", \"WBC_OES_APPLICATION_D\".\"EMP_SEEKEING_CHANGE\" \"Employed___Dislike_Current\", \"WBC_OES_APPLICATION_D\".\"EMP_CHALLENGING_JOB\" \"Employed___More_Challenge\", \"WBC_OES_APPLICATION_D\".\"EMPLOYMENT_FACTOR_OTHER\" \"Employed___Other\", \"WBC_OES_APPLICATION_D\".\"EMPLOYMENT_FACTOR_OTHER_DESC\" \"Employed___Other_Description\", \"WBC_OES_APPLICATION_D\".\"EMPLOYMENT_SITUATION_LIST\" \"Employment_Situation_List\", \"WBC_OES_APPLICATION_D\".\"CURRENT_EMPLOYMENT_SITUATION\" \"Current_Employment_Situation\", \"WBC_OES_APPLICATION_F\".\"SUBMISSION_DT\" \"Submission_Date\", \"WBC_OES_APPLICATION_F\".\"ICM_DT\" \"ICM_Date\", \"WBC_OES_APPLICATION_F\".\"DELETION_DATE\" \"Deletion_Date\", \"WBC_OES_APPLICATION_F\".\"DEL_STATUS_SET_BY\" \"Deleted_by_Code\", \"WBC_OES_APPLICATION_F\".\"APPL_ABANDONED_BY\" \"Application_Abandoned_By\", \"WBC_OES_APPLICATION_F\".\"SERVICE_REQ_NUM\" \"Service_Request_Num\", \"WBC_OES_APPLICATION_D\".\"APPLICATION_TYPE\" \"Application_Type\", \"WBC_OES_APPLICATION_D\".\"ACCEPTED_EMPLOYED\" \"Accepted_Reason___Employed\", \"WBC_OES_APPLICATION_D\".\"ACCEPTED_PRECARIOUSLY_EMPLOYED\" \"c109\", \"WBC_OES_APPLICATION_D\".\"ACCEPTED_SELF_EMPLOYED\" \"c110\", \"WBC_OES_APPLICATION_D\".\"ACCEPTED_UNEMPLOYED\" \"Accepted_Reason___Unemployed\", \"WBC_OES_APPLICATION_D\".\"ACCEPTED_NOT_IN_LABOUR_FORCE\" \"c112\", \"WBC_OES_APPLICATION_D\".\"NOTACCEPT_NOT_BC_RESIDENT\" \"c113\", \"WBC_OES_APPLICATION_D\".\"NOTACCEPT_NOT_UNEMPLOYED\" \"c114\", \"WBC_OES_APPLICATION_D\".\"NOTACCEPT_NOT_ELIBIBLE\" \"c115\", \"WBC_OES_APPLICATION_D\".\"NOTACCEPT_900_SIN\" \"c116\", \"WBC_OES_APPLICATION_D\".\"NOTACCEPT_FULL_TIME_STUDENT\" \"c117\", \"WBC_OES_APPLICATION_D\".\"NOTACCEPT_DRUG_ALCOHOL_ABUSE\" \"c118\", \"WBC_OES_APPLICATION_D\".\"NOTACCEPT_HEALTH\" \"c119\", \"WBC_OES_APPLICATION_D\".\"NOTACCEPT_OTHER\" \"Not_Accepted_Reason___Other\", \"WBC_OES_APPLICATION_D\".\"NOT_ACCEPTED_REASONS_LIST\" \"Not_Accepted_Reason_Lsit\", \"WBC_OES_APPLICATION_D\".\"INTERVIEW_METHOD_IN_PERSON\" \"Interview_In_Person\", \"WBC_OES_APPLICATION_D\".\"INTERVIEW_METHOD_PHONE\" \"Interview_By_Telephone\", \"WBC_OES_APPLICATION_D\".\"INTERVIEW_METHOD_VIDEO_CALL\" \"Interview_By_Video_Call\", \"WBC_OES_APPLICATION_D\".\"INTERVIEW_METHOD_WITH_ATTNDENT\" \"Interview_With_Attendant\", \"WBC_OES_APPLICATION_D\".\"INTERVIEW_METHOD_OTHER\" \"Interview_Other\", \"WBC_OES_APPLICATION_D\".\"EMPLOYMENT_GOAL\" \"Employment_Goal\", \"WBC_OES_APPLICATION_D\".\"HOURS_PER_WEEK\" \"Hours_per_Week_Goal\", \"WBC_OES_APPLICATION_D\".\"WAGE_PER_HOUR\" \"Wage_Per_Hour_Goal\", \"WBC_OES_APPLICATION_D\".\"EMPLOYMENT_GOAL_SEASONAL\" \"Goal_is_Seasonal\", \"WBC_OES_APPLICATION_D\".\"EMPLOYMENT_GOAL_CASUAL\" \"Goal_is_Casual\", \"WBC_OES_APPLICATION_D\".\"EMPLOYMENT_GOAL_RELOCATE\" \"Can_Relocate\", \"WBC_OES_APPLICATION_D\".\"EMPLOYMENT_GOAL_TRANSPORT\" \"Has_Transportation\", \"WBC_OES_APPLICATION_D\".\"PORTAL_APPLICATION_NUMBER\" \"OES_Application_Num\", \"WBC_OES_APPLICATION_D\".\"OFFICE\" \"Office\", \"WBC_OES_APPLICATION_D\".\"CATCHMENT\" \"Catchment_Selected\", \"WBC_OES_APPLICATION_D\".\"SERVICE_SELECTED\" \"Service_Selected\", \"WBC_OES_APPLICATION_D\".\"ACCEPTED_INTO_CASE_MGMT\" \"Accepted_into_Case_Management\", \"WBC_OES_APPLICATION_D\".\"NOTACCEPT_CASE_MGMT_OTHER_DESC\" \"c139\", \"WBC_OES_APPLICATION_D\".\"EXPLORE_WITH_CLIENT\" \"Explore_with_Client\"\n",
    " from (\n",
    "select \"WBC_OES_APPLICATION_F\".\"TAAAPA_WID\" \"TAAAPA_WID\", \"WBC_OES_APPLICATION_F\".\"SUBMISSION_DT\" \"SUBMISSION_DT\", \"WBC_OES_APPLICATION_F\".\"ICM_DT\" \"ICM_DT\", \"WBC_OES_APPLICATION_F\".\"APPLICATION_TYPE_WID\" \"APPLICATION_TYPE_WID\", \"WBC_OES_APPLICATION_F\".\"SERVICE_REQ_NUM\" \"SERVICE_REQ_NUM\", \"WBC_OES_APPLICATION_F\".\"DELETION_DATE\" \"DELETION_DATE\", \"WBC_OES_APPLICATION_F\".\"DEL_STATUS_SET_BY\" \"DEL_STATUS_SET_BY\", \"WBC_OES_APPLICATION_F\".\"APPL_ABANDONED_BY\" \"APPL_ABANDONED_BY\"\n",
    " from \"CDW\".\"WBC_OES_APPLICATION_F\" \"WBC_OES_APPLICATION_F\"\n",
    " ) \"WBC_OES_APPLICATION_F\" LEFT OUTER JOIN \"CDW\".\"WBC_OES_APPLICATION_D\" \"WBC_OES_APPLICATION_D\" on \"WBC_OES_APPLICATION_F\".\"TAAAPA_WID\"=\"WBC_OES_APPLICATION_D\".\"TAAAPA_WID\"\n",
    " where \"WBC_OES_APPLICATION_F\".\"APPLICATION_TYPE_WID\" in (5, 6)\n",
    "\n",
    "\n",
    "\"\"\"\n",
    "df = pd.read_sql(query, con=conn)"
   ]
  },
  {
   "cell_type": "code",
   "execution_count": 13,
   "metadata": {},
   "outputs": [
    {
     "name": "stdout",
     "output_type": "stream",
     "text": [
      "(112430, 140)\n"
     ]
    }
   ],
   "source": [
    "# for col in df:\n",
    "#     print(\"--------COLUMN--------\")\n",
    "#     print(col)\n",
    "\n",
    "#     print(len(df[col].unique()))\n",
    "print(df.shape)"
   ]
  },
  {
   "cell_type": "code",
   "execution_count": 9,
   "metadata": {},
   "outputs": [],
   "source": [
    "import cx_Oracle\n",
    "import pandas as pd\n",
    "\n",
    "f=open(\"pwds.txt\",\"r\")\n",
    "lines=f.readlines()\n",
    "usr=lines[0]\n",
    "pw=lines[1]\n",
    "f.close()\n",
    
    "\n",
    "host = ''\n",
    "port = 1\n",
    "service = '1'\n",
    "#cx_Oracle.init_oracle_client(lib_dir= path)\n",
    "\n",
    "cx_Oracle.clientversion()  \n",
    "dsn_tns = cx_Oracle.makedsn(host, port, service_name=service)\n",
    "\n",
    "conn = cx_Oracle.connect(user=usr, password=pw, dsn=dsn_tns)\n",
    "\n",
    "c = conn.cursor()\n",
    "\n",
    "query = \"\"\"\n",
    "\n",
    "select \"WBC_CASE_D\".\"CASE_NUM\" \"Case_Number\", avg(\"coguda10\".\"WEEKS_TO_ACHV_SUST_EMP_ELAPSED\") \"c2\", case  when not \"WBC_SERVICES_SUPPORTS_PLAN_D\".\"SUSTAINED_EMP_DT\" is null then 'Y' else 'N' end  \"c3\"\n",
    " from \"CDW\".\"WBC_CASE_D\" \"WBC_CASE_D\", \"CDW\".\"WBC_CASE_F\" \"coguda10\", \"CDW\".\"WBC_OFFICE_D\" \"coguda11\", \"CDW\".\"WBC_SERVICES_SUPPORTS_PLAN_D\" \"WBC_SERVICES_SUPPORTS_PLAN_D\", \"CDW\".\"WBC_DATE_D\" \"WBC_DATE_D_Start\"\n",
    " where  \"coguda10\".\"OFFICE_ORG_WID\"=\"coguda11\".\"OFFICE_ORG_WID\" and \"WBC_DATE_D_Start\".\"FISCAL_YEAR\">=2019 and \"WBC_CASE_D\".\"CASE_TYPE_CD\" in ('Employment Services') and \"WBC_SERVICES_SUPPORTS_PLAN_D\".\"ACTV_IN_WBC_PROGRAM_FLG\" in ('N') and \"coguda10\".\"CASE_TYPE_WID\"=1 and \"coguda10\".\"CASE_WID\"=\"WBC_CASE_D\".\"CASE_WID\" and \"coguda10\".\"SRV_PLAN_WID\"=\"WBC_SERVICES_SUPPORTS_PLAN_D\".\"SRV_PLAN_WID\" and \"WBC_DATE_D_Start\".\"DATE_WID\"=\"coguda10\".\"PLAN_START_DT_WID\"\n",
    " group by \"WBC_CASE_D\".\"CASE_NUM\", case  when not \"WBC_SERVICES_SUPPORTS_PLAN_D\".\"SUSTAINED_EMP_DT\" is null then 'Y' else 'N' end\n",
    "\n",
    "\n",
    "\n",
    "\"\"\"\n",
    "\n",
    "query2 = \"\"\"\n",
    "\n",
    "select \"WBC_CASE_D\".\"CASE_NUM\" \"Case_Number\", avg(\"coguda10\".\"WEEKS_TO_ACHV_SUST_EMP_ELAPSED\") \"c2\", case  when not \"WBC_SERVICES_SUPPORTS_PLAN_D\".\"SUSTAINED_EMP_DT\" is null then 'Y' else 'N' end  \"c3\"\n",
    " from \"CDW\".\"WBC_CASE_D\" \"WBC_CASE_D\", \"CDW\".\"WBC_CASE_F\" \"coguda10\", \"CDW\".\"WBC_OFFICE_D\" \"coguda11\", \"CDW\".\"WBC_SERVICES_SUPPORTS_PLAN_D\" \"WBC_SERVICES_SUPPORTS_PLAN_D\", \"CDW\".\"WBC_DATE_D\" \"WBC_DATE_D_Start\"\n",
    " where  \"coguda10\".\"OFFICE_ORG_WID\"=\"coguda11\".\"OFFICE_ORG_WID\" and \"WBC_DATE_D_Start\".\"FISCAL_YEAR\">=2019 and \"WBC_CASE_D\".\"CASE_TYPE_CD\" in ('Employment Services')  and \"coguda10\".\"CASE_TYPE_WID\"=1 and \"coguda10\".\"CASE_WID\"=\"WBC_CASE_D\".\"CASE_WID\" and \"coguda10\".\"SRV_PLAN_WID\"=\"WBC_SERVICES_SUPPORTS_PLAN_D\".\"SRV_PLAN_WID\" and \"WBC_DATE_D_Start\".\"DATE_WID\"=\"coguda10\".\"PLAN_START_DT_WID\"\n",
    " group by \"WBC_CASE_D\".\"CASE_NUM\", case  when not \"WBC_SERVICES_SUPPORTS_PLAN_D\".\"SUSTAINED_EMP_DT\" is null then 'Y' else 'N' end\n",
    "\n",
    "\n",
    "\n",
    "\"\"\"\n",
    "\n",
    "query3 = \"\"\"\n",
    "\n",
    "select distinct \"WBC_CASE_D\".\"CASE_NUM\" \"Case_Number\", \"WBC_DATE_D_Start\".\"CALENDAR_DATE\" \"Start_Date\", \"WBC_DATE_D_Outcome_Achieved\".\"DAY_DT\" \"c3\"\n",
    " from \"CDW\".\"WBC_CASE_D\" \"WBC_CASE_D\", \"CDW\".\"WBC_DATE_D\" \"WBC_DATE_D_Start\", \"CDW\".\"WBC_DATE_D\" \"WBC_DATE_D_Outcome_Achieved\", \"CDW\".\"WBC_ES_STAGE_OF_SERVICE_D\" \"WBC_ES_STAGE_OF_SERVICE_D\", \"CDW\".\"WBC_CASE_F\" \"coguda40\", \"CDW\".\"WBC_OFFICE_D\" \"coguda41\"\n",
    " where  \"coguda40\".\"OFFICE_ORG_WID\"=\"coguda41\".\"OFFICE_ORG_WID\" and \"WBC_DATE_D_Start\".\"FISCAL_YEAR\">=2020 and \"WBC_ES_STAGE_OF_SERVICE_D\".\"STAGE_OF_SERVICE_NAME\" in ('In Sustainment', 'Left After Completing Sustainment', 'Left Before Completing Sustainment') and \"coguda40\".\"CASE_WID\"=\"WBC_CASE_D\".\"CASE_WID\" and \"coguda40\".\"ES_STAGE_OF_SERVICE_WID\"=\"WBC_ES_STAGE_OF_SERVICE_D\".\"ES_STAGE_OF_SERVICE_WID\" and \"WBC_DATE_D_Start\".\"DATE_WID\"=\"coguda40\".\"PLAN_START_DT_WID\" and \"coguda40\".\"SUST_EMP_OUTCOME_DT_WID\"=\"WBC_DATE_D_Outcome_Achieved\".\"DATE_WID\"\n",
    "\n",
    "\n",
    "\"\"\"\n",
    "\n",
    "query4 = \"\"\"\n",
    "\n",
    "select distinct \"WBC_CASE_D\".\"CASE_NUM\" \"Case_Number\", \"WBC_DATE_D_Start\".\"CALENDAR_DATE\" \"Start_Date\"\n",
    " from \"CDW\".\"WBC_CASE_D\" \"WBC_CASE_D\", \"CDW\".\"WBC_DATE_D\" \"WBC_DATE_D_Start\", \"CDW\".\"WBC_ES_STAGE_OF_SERVICE_D\" \"WBC_ES_STAGE_OF_SERVICE_D\", \"CDW\".\"WBC_CASE_F\" \"coguda30\", \"CDW\".\"WBC_OFFICE_D\" \"coguda31\"\n",
    " where  \"coguda30\".\"OFFICE_ORG_WID\"=\"coguda31\".\"OFFICE_ORG_WID\" and \"WBC_DATE_D_Start\".\"FISCAL_YEAR\">=2020 and \"WBC_ES_STAGE_OF_SERVICE_D\".\"STAGE_OF_SERVICE_NAME\" in ('Before Sustainable Employment Achieved', 'Left Before Outcome') and \"coguda30\".\"CASE_WID\"=\"WBC_CASE_D\".\"CASE_WID\" and \"coguda30\".\"ES_STAGE_OF_SERVICE_WID\"=\"WBC_ES_STAGE_OF_SERVICE_D\".\"ES_STAGE_OF_SERVICE_WID\" and \"WBC_DATE_D_Start\".\"DATE_WID\"=\"coguda30\".\"PLAN_START_DT_WID\"\n",
    "\n",
    "\"\"\"\n",
    "\n",
    "query5 = \"\"\"\n",
    "\n",
    "select \"WBC_CASE_D\".\"CASE_NUM\" \"Case_Number\", \"WBC_DATE_D_Start\".\"CALENDAR_DATE\" \"Start_Date\", \"WBC_DATE_D_Exit\".\"CALENDAR_DATE\" \"Exit_Date\", avg(\"coguda30\".\"WEEKS_TO_ACHV_SUST_EMP_ELAPSED\") \"c4\"\n",
    " from \"CDW\".\"WBC_CASE_D\" \"WBC_CASE_D\", \"CDW\".\"WBC_DATE_D\" \"WBC_DATE_D_Start\", \"CDW\".\"WBC_DATE_D\" \"WBC_DATE_D_Exit\", \"CDW\".\"WBC_CASE_F\" \"coguda30\", \"CDW\".\"WBC_OFFICE_D\" \"coguda31\", \"CDW\".\"WBC_ES_STAGE_OF_SERVICE_D\" \"WBC_ES_STAGE_OF_SERVICE_D\"\n",
    " where \"coguda30\".\"OFFICE_ORG_WID\"=\"coguda31\".\"OFFICE_ORG_WID\" and \"WBC_DATE_D_Start\".\"FISCAL_YEAR\">2019 and \"coguda30\".\"ES_SRV_PLN_TYPE\" in ('Employment Services') and \"WBC_ES_STAGE_OF_SERVICE_D\".\"STAGE_OF_SERVICE_NAME\" in ('Left Before Outcome', 'Not Available', 'Before Sustainable Employment Achieved') and \"coguda30\".\"CASE_TYPE_WID\"=1 and \"coguda30\".\"SNAPSHOT_DT_WID\"=(\n",
    "select snapshot_dt_wid\n",
    " from cdw.wbc_run_ctl_d) and \"coguda30\".\"CASE_WID\"=\"WBC_CASE_D\".\"CASE_WID\" and \"coguda30\".\"ES_STAGE_OF_SERVICE_WID\"=\"WBC_ES_STAGE_OF_SERVICE_D\".\"ES_STAGE_OF_SERVICE_WID\" and \"WBC_DATE_D_Start\".\"DATE_WID\"=\"coguda30\".\"PLAN_START_DT_WID\" and \"coguda30\".\"PLAN_CLOSED_DT_WID\"=\"WBC_DATE_D_Exit\".\"DATE_WID\"\n",
    " group by \"WBC_CASE_D\".\"CASE_NUM\", \"WBC_DATE_D_Exit\".\"CALENDAR_DATE\", \"WBC_DATE_D_Start\".\"CALENDAR_DATE\"\n",
    "\n",
    "\n",
    "\"\"\"\n",
    "\n",
    "query6 = \"\"\"\n",
    "\n",
    "select \"WBC_CASE_D\".\"CASE_NUM\" \"Case_Number\", \"WBC_DATE_D_Start\".\"CALENDAR_DATE\" \"Start_Date\", \"WBC_DATE_D_Exit\".\"CALENDAR_DATE\" \"Exit_Date\", avg(\"coguda30\".\"WEEKS_TO_ACHV_SUST_EMP_ELAPSED\") \"c4\"\n",
    " from \"CDW\".\"WBC_CASE_D\" \"WBC_CASE_D\", \"CDW\".\"WBC_DATE_D\" \"WBC_DATE_D_Start\", \"CDW\".\"WBC_DATE_D\" \"WBC_DATE_D_Exit\", \"CDW\".\"WBC_CASE_F\" \"coguda30\", \"CDW\".\"WBC_OFFICE_D\" \"coguda31\", \"CDW\".\"WBC_ES_STAGE_OF_SERVICE_D\" \"WBC_ES_STAGE_OF_SERVICE_D\"\n",
    " where \"coguda30\".\"OFFICE_ORG_WID\"=\"coguda31\".\"OFFICE_ORG_WID\" and \"WBC_DATE_D_Start\".\"FISCAL_YEAR\">2019 and \"coguda30\".\"ES_SRV_PLN_TYPE\" in ('Employment Services') and \"WBC_ES_STAGE_OF_SERVICE_D\".\"STAGE_OF_SERVICE_NAME\" in ('Left Before Completing Sustainment', 'Left After Completing Sustainment', 'In Sustainment') and \"coguda30\".\"CASE_TYPE_WID\"=1 and \"coguda30\".\"SNAPSHOT_DT_WID\"=(\n",
    "select snapshot_dt_wid\n",
    " from cdw.wbc_run_ctl_d) and \"coguda30\".\"CASE_WID\"=\"WBC_CASE_D\".\"CASE_WID\" and \"coguda30\".\"ES_STAGE_OF_SERVICE_WID\"=\"WBC_ES_STAGE_OF_SERVICE_D\".\"ES_STAGE_OF_SERVICE_WID\" and \"WBC_DATE_D_Start\".\"DATE_WID\"=\"coguda30\".\"PLAN_START_DT_WID\" and \"coguda30\".\"PLAN_CLOSED_DT_WID\"=\"WBC_DATE_D_Exit\".\"DATE_WID\"\n",
    " group by \"WBC_CASE_D\".\"CASE_NUM\", \"WBC_DATE_D_Exit\".\"CALENDAR_DATE\", \"WBC_DATE_D_Start\".\"CALENDAR_DATE\"\n",
    "\n",
    "\n",
    "\n",
    "\"\"\"\n",
    "df = pd.read_sql(query6, con=conn)\n",
    "\n"
   ]
  },
  {
   "cell_type": "code",
   "execution_count": 10,
   "metadata": {},
   "outputs": [
    {
     "name": "stdout",
     "output_type": "stream",
     "text": [
      "Case_Number            object\n",
      "Start_Date     datetime64[ns]\n",
      "Exit_Date      datetime64[ns]\n",
      "c4                      int64\n",
      "dtype: object\n",
      "<bound method NDFrame.head of            Case_Number Start_Date  Exit_Date  c4\n",
      "0      1-421153-105122 2019-05-29 2020-07-13  45\n",
      "1      1-421153-329221 2019-11-21 2021-07-02  25\n",
      "2      1-421153-334701 2020-06-25        NaT  32\n",
      "3      1-421153-424118 2020-02-19        NaT   3\n",
      "4      1-421153-429020 2019-08-12        NaT  98\n",
      "...                ...        ...        ...  ..\n",
      "23226    1-64593811539 2021-07-14        NaT   3\n",
      "23227    1-64604950133 2021-07-15        NaT   3\n",
      "23228    1-64713467287 2021-07-26        NaT   1\n",
      "23229    1-64553496111 2021-07-09        NaT   4\n",
      "23230    1-64555781621 2021-07-09        NaT   3\n",
      "\n",
      "[23231 rows x 4 columns]>\n",
      "2019-04-01 00:00:00\n",
      "(23231, 4)\n"
     ]
    }
   ],
   "source": [
    "import datetime\n",
    "year_ago = datetime.datetime.now() - datetime.timedelta(days=365)\n",
    "print(df.dtypes)\n",
    "print(df.head)\n",
    "\n",
    "df2 = pd.DataFrame(columns=df.columns)\n",
    "\n",
    "# for index, row in df.iterrows():\n",
    "#     #print(str(row['c4']))\n",
    "#     if str(row['c4']) == 'Y':\n",
    "#         df2 = df2.append(row)\n",
    "#     elif row['Start_Date'] < year_ago:\n",
    "#         df2 = df2.append(row)\n",
    "        \n",
    "print(min(df['Start_Date']))\n",
    "print(df.shape)\n"
   ]
  },
  {
   "cell_type": "code",
   "execution_count": 58,
   "metadata": {},
   "outputs": [
    {
     "data": {
      "text/plain": [
       "73620"
      ]
     },
     "execution_count": 58,
     "metadata": {},
     "output_type": "execute_result"
    }
   ],
   "source": [
    "df['Case_Number'].nunique()\n"
   ]
  }
 ],
 "metadata": {
  "kernelspec": {
   "display_name": "Python 3",
   "language": "python",
   "name": "python3"
  },
  "language_info": {
   "codemirror_mode": {
    "name": "ipython",
    "version": 3
   },
   "file_extension": ".py",
   "mimetype": "text/x-python",
   "name": "python",
   "nbconvert_exporter": "python",
   "pygments_lexer": "ipython3",
   "version": "3.7.6"
  }
 },
 "nbformat": 4,
 "nbformat_minor": 4
}
