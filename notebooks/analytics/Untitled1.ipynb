{
 "cells": [
  {
   "cell_type": "code",
   "execution_count": 3,
   "metadata": {},
   "outputs": [
    {
     "name": "stdout",
     "output_type": "stream",
     "text": [
      "initialised already\n",
      "  Case_Open_Date Start_Date Employment_Situation_at_Intake  \\\n",
      "0     2021-12-12 2021-12-12                  Not Available   \n",
      "1     2021-12-12 2021-12-12                  Not Available   \n",
      "\n",
      "                Refugee_Status             Stage_of_Employment_Service  \\\n",
      "0  Not Identified as a Refugee                           Not Available   \n",
      "1                      Unknown  Before Sustainable Employment Achieved   \n",
      "\n",
      "                      Initiative Intake_NOC_L1_Code  \\\n",
      "0  Not an Initiative Participant                  U   \n",
      "1  Not an Initiative Participant                  U   \n",
      "\n",
      "      Disability_Confirmation Client_Category_Code Inclusion_Group_Client  \\\n",
      "0  DRENA Confirmed Disability              GENERAL                      Y   \n",
      "1    No Disability Identified              GENERAL                      Y   \n",
      "\n",
      "  Assistive_Technology_Supports Child_with_a_Disibility_Flag SPEI_Status  c14  \n",
      "0  Has Not Received AT Supports                            N         n/a   99  \n",
      "1  Has Not Received AT Supports                            N         n/a   99  \n"
     ]
    }
   ],
   "source": [
    "\n",
    "import pandas as pd\n",
    "    \n",
    "import cx_Oracle\n",
    "\n",
    "f=open(\"pwds.txt\",\"r\")\n",
    "lines=f.readlines()\n",
    "usr=lines[0]\n",
    "pw=lines[1]\n",
    "f.close()\n",
    
    "\n",
    "host = ''\n",
    "port = 1\n",
    "service = ''\n",
    "try:\n",
    "    cx_Oracle.init_oracle_client(lib_dir= path) # use this is service isn't initialised\n",
    "except Exception as err:\n",
    "    print('initialised already')\n",
    "\n",
    "cx_Oracle.clientversion()  \n",
    "dsn_tns = cx_Oracle.makedsn(host, port, service_name=service)\n",
    "\n",
    "conn = cx_Oracle.connect(user=usr, password=pw, dsn=dsn_tns)\n",
    "\n",
    "c = conn.cursor()\n",
    "\n",
    "query = \"\"\"\n",
    "select distinct \"WBC_CASE_D\".\"CASE_OPEN_DT\" \"Case_Open_Date\", \"WBC_DATE_D_PlanStart\".\"CALENDAR_DATE\" \"Start_Date\", \"WBC_EMPLOY_MENT_AT_INTAKE_D\".\"EMPLOYMENT_AT_INTAKE_NAME\" \"Employment_Situation_at_Intake\", \"WBC_REFUGEE_STATUS_D\".\"REFUGEE_STATUS_NAME\" \"Refugee_Status\", \"WBC_ES_STAGE_OF_SERVICE_D\".\"STAGE_OF_SERVICE_NAME\" \"Stage_of_Employment_Service\", \"WBC_INITIATIVE_D\".\"INITIATIVE_NAME\" \"Initiative\", \"WBC_NOC_D_Intake\".\"NOC_L1_CD\" \"Intake_NOC_L1_Code\", \"WBC_DISABILITY_D\".\"DISABILITY_NAME\" \"Disability_Confirmation\", \"WBC_CLIENT_TYPE_D\".\"CLIENT_CATEGORY_CD\" \"Client_Category_Code\", \"WBC_CLIENT_INCLUSION_GROUP_D\".\"INCLUSION_GROUP_FLG\" \"Inclusion_Group_Client\", \"WBC_ATS_SUPPORT_D\".\"ATS_SUPPORT_NAME\" \"Assistive_Technology_Supports\", \"WBC_CLIENT_D\".\"CHILD_WITH_DISABILITY_FLG\" \"Child_with_a_Disibility_Flag\", \"WBC_CLIENT_D\".\"SPEI_STATUS\" \"SPEI_Status\", \"WBC_EMPLOY_MENT_AT_INTAKE_D\".\"EMPLOYMENT_AT_INTAKE_SORT\" \"c14\"\n",
    " from \"CDW\".\"WBC_CASE_D\" \"WBC_CASE_D\", \"CDW\".\"WBC_DATE_D\" \"WBC_DATE_D_PlanStart\", \"CDW\".\"WBC_EMPLOYMENT_AT_INTAKE_D\" \"WBC_EMPLOY_MENT_AT_INTAKE_D\", \"CDW\".\"WBC_REFUGEE_STATUS_D\" \"WBC_REFUGEE_STATUS_D\", \"CDW\".\"WBC_ES_STAGE_OF_SERVICE_D\" \"WBC_ES_STAGE_OF_SERVICE_D\", \"CDW\".\"WBC_INITIATIVE_D\" \"WBC_INITIATIVE_D\", \"CDW\".\"WBC_NOC_D\" \"WBC_NOC_D_Intake\", \"CDW\".\"WBC_DISABILITY_D\" \"WBC_DISABILITY_D\", \"CDW\".\"WBC_CLIENT_TYPE_D\" \"WBC_CLIENT_TYPE_D\", \"CDW\".\"WBC_CLIENT_INCLUSION_GROUP_D\" \"WBC_CLIENT_INCLUSION_GROUP_D\", \"CDW\".\"WBC_ATS_SUPPORT_D\" \"WBC_ATS_SUPPORT_D\", \"CDW\".\"WBC_CLIENT_D\" \"WBC_CLIENT_D\", \"CDW\".\"WBC_CASE_F\" \"coguda120\", \"CDW\".\"WBC_OFFICE_D\" \"coguda121\"\n",
    " where \"coguda120\".\"OFFICE_ORG_WID\"=\"coguda121\".\"OFFICE_ORG_WID\" and \"WBC_DATE_D_PlanStart\".\"CALENDAR_DATE\">TIMESTAMP '2021-12-11 00:00:00.000000000' and \"coguda120\".\"CASE_WID\"=\"WBC_CASE_D\".\"CASE_WID\" and \"coguda120\".\"INCLUSION_GROUP_WID\"=\"WBC_CLIENT_INCLUSION_GROUP_D\".\"INCLUSION_GROUP_WID\" and \"coguda120\".\"CLIENT_TYPE_WID\"=\"WBC_CLIENT_TYPE_D\".\"CLIENT_TYPE_WID\" and \"coguda120\".\"ATS_SUPPORT_WID\"=\"WBC_ATS_SUPPORT_D\".\"ATS_SUPPORT_WID\" and \"coguda120\".\"CONTACT_WID\"=\"WBC_CLIENT_D\".\"CONTACT_WID\" and \"coguda120\".\"DISABILITY_WID\"=\"WBC_DISABILITY_D\".\"DISABILITY_WID\" and \"coguda120\".\"INITIATIVE_WID\"=\"WBC_INITIATIVE_D\".\"INITIATIVE_WID\" and \"coguda120\".\"REFUGEE_STATUS_WID\"=\"WBC_REFUGEE_STATUS_D\".\"REFUGEE_STATUS_WID\" and \"coguda120\".\"ES_STAGE_OF_SERVICE_WID\"=\"WBC_ES_STAGE_OF_SERVICE_D\".\"ES_STAGE_OF_SERVICE_WID\" and \"coguda120\".\"EMP_SITUATION_AT_INTAKE_WID\"=\"WBC_EMPLOY_MENT_AT_INTAKE_D\".\"EMPLOYMENT_AT_INTAKE_WID\" and \"WBC_DATE_D_PlanStart\".\"DATE_WID\"=\"coguda120\".\"PLAN_START_DT_WID\" and \"coguda120\".\"INTAKE_NOC_WID\"=\"WBC_NOC_D_Intake\".\"NOC_WID\"\n",
    "\n",
    "\"\"\"\n",
    "\n",
    "result = pd.read_sql(query, con=conn)\n",
    "\n",
    "print(result)"
   ]
  }
 ],
 "metadata": {
  "kernelspec": {
   "display_name": "Python 3",
   "language": "python",
   "name": "python3"
  },
  "language_info": {
   "codemirror_mode": {
    "name": "ipython",
    "version": 3
   },
   "file_extension": ".py",
   "mimetype": "text/x-python",
   "name": "python",
   "nbconvert_exporter": "python",
   "pygments_lexer": "ipython3",
   "version": "3.7.6"
  }
 },
 "nbformat": 4,
 "nbformat_minor": 4
}
