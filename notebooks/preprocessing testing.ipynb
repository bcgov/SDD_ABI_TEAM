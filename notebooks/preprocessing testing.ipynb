{
 "cells": [
  {
   "cell_type": "code",
   "execution_count": 21,
   "metadata": {},
   "outputs": [
    {
     "data": {
      "text/plain": [
       "(19, 11, 0, 0, 0)"
      ]
     },
     "execution_count": 21,
     "metadata": {},
     "output_type": "execute_result"
    },
    {
     "name": "stderr",
     "output_type": "stream",
     "text": [
      "IOPub data rate exceeded.\n",
      "The notebook server will temporarily stop sending output\n",
      "to the client in order to avoid crashing it.\n",
      "To change this limit, set the config variable\n",
      "`--NotebookApp.iopub_data_rate_limit`.\n",
      "\n",
      "Current values:\n",
      "NotebookApp.iopub_data_rate_limit=1000000.0 (bytes/sec)\n",
      "NotebookApp.rate_limit_window=3.0 (secs)\n",
      "\n"
     ]
    }
   ],
   "source": [
    "\n",
    "import pandas as pd\n",
    "    \n",
    "import cx_Oracle\n",
    "\n",
    "pw = '!99HAW!re67'\n",
    "\n",
    "usr = 'GDALLAS'\n",
    "path = 'C:\\ORACLE\\instantclient_19_11'\n",
    "\n",
    "host = 'ALASTRIA'\n",
    "port = 1524\n",
    "service = 'CW1T2'\n",
    "#cx_Oracle.init_oracle_client(lib_dir= path) # use this is service isn't initialised\n",
    "\n",
    "cx_Oracle.clientversion()  \n",
    "dsn_tns = cx_Oracle.makedsn(host, port, service_name=service)\n",
    "\n",
    "conn = cx_Oracle.connect(user=usr, password=pw, dsn=dsn_tns)\n",
    "\n",
    "c = conn.cursor()\n",
    "\n",
    "query = \"\"\"select distinct *\n",
    " from ((\n",
    "select \"WBC_OES_APPLICATION_F\".\"TAAAPA_WID\" \"TAAAPA_WID\", \"WBC_OES_APPLICATION_F\".\"CASE_WID\" \"CASE_WID\"\n",
    " from \"CDW\".\"WBC_OES_APPLICATION_F\" \"WBC_OES_APPLICATION_F\"\n",
    ") \"WBC_OES_APPLICATION_F\" INNER JOIN \"CDW\".\"WBC_CASE_D\" \"WBC_CASE_D\" on \"WBC_OES_APPLICATION_F\".\"CASE_WID\"=\"WBC_CASE_D\".\"CASE_WID\") LEFT OUTER JOIN \"CDW\".\"WBC_OES_APPLICATION_D\" \"WBC_OES_APPLICATION_D\" on \"WBC_OES_APPLICATION_F\".\"TAAAPA_WID\"=\"WBC_OES_APPLICATION_D\".\"TAAAPA_WID\"\n",
    "\n",
    "\"\"\"\n",
    "\n",
    "\n",
    "df = pd.read_sql(query, con=conn)\n",
    "\n",
    "print(df)\n"
   ]
  },
  {
   "cell_type": "code",
   "execution_count": null,
   "metadata": {},
   "outputs": [],
   "source": [
    "print(df.dtypes)"
   ]
  },
  {
   "cell_type": "code",
   "execution_count": 13,
   "metadata": {},
   "outputs": [],
   "source": [
    "from IPython.core.interactiveshell import InteractiveShell\n",
    "InteractiveShell.ast_node_interactivity = \"all\"\n",
    "pd.set_option(\"display.max_rows\", None, \"display.max_columns\", 1000)\n",
    "small_cols = ['X_EI_PAY_END_DT', 'X_EI_REACHBCK_DT', 'ADDRESS_NO_FIXD_ADDR_PERMANENT', 'SERVICE_SELECTED', 'REVIEWER_BCEID', 'PROGRAM_TYPE', 'AS_LATEST_SRVC_SUB_CONTRACTOR', 'APPLICATION_TYPE', 'EMPLOYED', 'UNEMP_PERSONAL_SITUATION', 'UNEMP_KEEPING_JOBS', 'UNEMP_DISABLTY_SUPPORTS_NEEDED', 'UNEMP_KIND_OF_WORK_UNKNOWN', 'UNEMP_FNCL_SUPPORTS_NEEDED', 'UNEMP_TRAINING_NEEDED', 'UNEMP_JOB_SEARCH_HELP_NEEDED', 'UNEMP_JOB_OFFER_LACK_RESOURCES', 'UNEMP_RETURN_TO_SAME_WORK', 'UNEMP_OTHER_FACTOR', 'EMP_SELF_EMPLOYED', 'EMP_LOSING_JOB', 'EMP_DISABLTY_SUPPORTS_NEEDED', 'EMP_JOB_OFFER_LACK_RESOURCES', 'EMP_NEED_MORE_HOURS_OF_WORK', 'EMP_TRAINING_NEEDED', 'EMP_NEW_LINE_OF_WORK', 'EMP_SEEKEING_CHANGE', 'EMP_CHALLENGING_JOB', 'EMPLOYMENT_FACTOR_AGE', 'EMPLOYMENT_FACTOR_OTHER', 'DISABILITY_PHYSICAL', 'DISABILITY_LEARNING', 'DEVELOPMENTAL_DISABILITY', 'DISABILITY_VISUAL', 'DISABILITY_HEARING', 'DISABILITY_MENTAL_HEALTH', 'DISABILITY_CHRONIC_ILLNESS', 'DISABILITY_SHORT_TERM_ILLNESS', 'DISABILITY_OTHER', 'CURRENTLY_IN_SCHOOL', 'CURRENTLY_IN_SCHOOL_STATUS', 'STATUS_INDIAN', 'READING_INFORMATION', 'EXPLAINING_TO_OTHERS', 'CREATING_DOCUMENTS', 'WRITING_INFORMATION', 'ORGANIZING_INFORMATION', 'WORKING_WITH_MATH', 'PROBLEM_SOLVING', 'GET_ALONG_WITH_OTHERS', 'USING_COMPUTERS', 'LEARNING_NEW_THINGS', 'ACCEPTED_EMPLOYED', 'ACCEPTED_PRECARIOUSLY_EMPLOYED', 'ACCEPTED_SELF_EMPLOYED', 'ACCEPTED_UNEMPLOYED', 'ACCEPTED_NOT_IN_LABOUR_FORCE', 'NOTACCEPT_NOT_BC_RESIDENT', 'NOTACCEPT_NOT_UNEMPLOYED', 'NOTACCEPT_NOT_ELIBIBLE', 'NOTACCEPT_900_SIN', 'NOTACCEPT_FULL_TIME_STUDENT', 'NOTACCEPT_DRUG_ALCOHOL_ABUSE', 'NOTACCEPT_HEALTH', 'NOTACCEPT_OTHER', 'INTERVIEW_METHOD_IN_PERSON', 'INTERVIEW_METHOD_PHONE', 'INTERVIEW_METHOD_VIDEO_CALL', 'INTERVIEW_METHOD_WITH_ATTNDENT', 'INTERVIEW_METHOD_OTHER', 'EMPLOYMENT_GOAL_SEASONAL', 'EMPLOYMENT_GOAL_CASUAL', 'EMPLOYMENT_GOAL_RELOCATE', 'EMPLOYMENT_GOAL_TRANSPORT', 'GENDER', 'RESUME', 'ACCEPTED_INTO_CASE_MGMT', 'DRENA_REQUIRED', 'CHANGE_OF_CIRCUMSATNCE', 'CLIENT_CONSENT', 'VERSION_NUMBER', 'CASE_CLOSE_REASON', 'EMPLOYMENT_FACTOR_LACK_HOUSING', 'EMPLOYMENT_FACTOR_ADDICTION', 'VISIBLE_MINORITY', 'CHILDREN_AT_HOME', 'SINGLE_PARENT', 'MARITAL_STATUS', 'INDIGENOUS_TYPE', 'CITIZENSHIP_STATUS', 'PAST_EMPLOYMENT_INSURANCE', 'PAST_FIVE_YEARS_WORK', 'NON_BC_INCOME_ASSISTANCE', 'NON_BC_INCOME_ASSISTANCE_CNT', 'OTHER_FUNDING', 'FRANCOPHONE', 'RECENT_IMMIGRANT', 'INDIGENOUS_PERSON', 'PERSON_WITH_DISABILITY', 'SURVIVOR_OF_VIOLENCE', 'LEGAL_TO_WORK', 'CASE_TYPE_CD', 'X_CONT_TO_PAY', 'X_CONT_TO_WORK', 'X_EMPLOY_SPONSR_CD', 'AS_LATEST_SERVICE_STATUS', 'REFUGEE_TYPE', 'CURRENT_EMPLOYMENT_INSURANCE', 'BCEA_INCOME_ASSISTANCE', 'STATUS_CD', 'CLIENT_TRANSITION_STATUS', 'X_EARLY_OPN_RSN_CD', 'INCOME_ASSISTANCE_DURATION', 'LANGUAGE', 'AS_SUCCESSFUL_COMPLTD_SERVICES', 'TOTAL_DEPENDENTS', 'SCHOOL_LEVEL', 'ADDRESS_PROVINCE_PERMANENT', 'ORGANIZATION', 'HOURS_PER_WEEK', 'CATCHMENT']\n",
    "\n",
    "o = pd.DataFrame()\n",
    "for x in small_cols:\n",
    "    n=df[x].value_counts(normalize = True).rename_axis('unique_values').reset_index(name='counts')\n",
    "    o=o.append({'unique_values':x}, ignore_index = True)\n",
    "    o=o.append(n)\n",
    "#x.to_csv('OES_fields_nunique.csv')"
   ]
  },
  {
   "cell_type": "code",
   "execution_count": 14,
   "metadata": {},
   "outputs": [
    {
     "name": "stdout",
     "output_type": "stream",
     "text": [
      "                    unique_values  counts\n",
      "0                 X_EI_PAY_END_DT     NaN\n",
      "1                X_EI_REACHBCK_DT     NaN\n",
      "2  ADDRESS_NO_FIXD_ADDR_PERMANENT     NaN\n",
      "3                SERVICE_SELECTED     NaN\n",
      "4                  REVIEWER_BCEID     NaN\n"
     ]
    }
   ],
   "source": [
    "print(o.head())\n",
    "o.to_excel('unique_vals.xlsx')"
   ]
  },
  {
   "cell_type": "code",
   "execution_count": 4,
   "metadata": {},
   "outputs": [
    {
     "name": "stdout",
     "output_type": "stream",
     "text": [
      "UNEMP_OTHER_FACTOR_DESC\n",
      "3.0820872749465975\n",
      "4.8028902348315805\n",
      "95.19710976516842\n",
      "EMPLOYMENT_FACTOR_OTHER_DESC\n",
      "3.6701860231271994\n",
      "1.4575753245468435\n",
      "98.54242467545316\n",
      "AREA_OF_STUDY\n",
      "32.564030396847734\n",
      "1.3018514650867108\n",
      "98.69814853491329\n",
      "IMMIGRATION_DATE\n",
      "8.716198477290627\n",
      "6.978260949219365\n",
      "93.02173905078064\n",
      "MOST_RECENT_WORK_EMPLOYER\n",
      "7.785249001891153\n",
      "20.924889802468865\n",
      "79.07511019753113\n",
      "MOST_RECENT_WORK_START_DATE\n",
      "23.979627111613006\n",
      "15.89885643725794\n",
      "84.10114356274205\n",
      "MOST_RECENT_WORK_INDUSTRY\n",
      "42.103805972904134\n",
      "19.851311194896656\n",
      "80.14868880510335\n",
      "MOST_RECENT_WORK_JOB_TITLE\n",
      "21.978242342206848\n",
      "21.92628582106779\n",
      "78.0737141789322\n",
      "MOST_RECENT_WORK_END_DATE\n",
      "31.194132477652992\n",
      "12.789142566109359\n",
      "87.21085743389064\n",
      "REASON_FOR_LEAVING_EMPLOYMENT\n",
      "16.939093800004052\n",
      "18.089982742132282\n",
      "81.91001725786772\n",
      "EMPLOYMENT_GOAL\n",
      "14.146363802894303\n",
      "24.002726083563257\n",
      "75.99727391643674\n",
      "WAGE_PER_HOUR\n",
      "99.3299087885673\n",
      "22.25495476679894\n",
      "77.74504523320105\n",
      "OFFICE\n",
      "99.88008335952871\n",
      "31.47197520143339\n",
      "68.5280247985666\n",
      "CATCHMENT\n",
      "100.0\n",
      "31.47197520143339\n",
      "68.5280247985666\n",
      "ADDRESS_POSTALCODE_PERMANENT\n",
      "9.165434283917696\n",
      "31.46611265613607\n",
      "68.53388734386392\n",
      "OTHER_FUNDING_DESCRIPITON\n",
      "27.246835443037973\n",
      "2.3157053924424464\n",
      "97.68429460755755\n",
      "LANGUAGE_OTHER\n",
      "80.74204946996467\n",
      "1.451712779249521\n",
      "98.54828722075048\n",
      "CURRENT_EMPLOYMENT_SITUATION\n",
      "12.010096052723831\n",
      "10.452185446964117\n",
      "89.54781455303588\n",
      "DISABILITY_OTHER_DESC\n",
      "21.609538002980624\n",
      "1.229302467032343\n",
      "98.77069753296766\n",
      "STATUS_IN_CANADA_OTHER_DESC\n",
      "77.51479289940828\n",
      "0.12384626940594096\n",
      "99.87615373059405\n",
      "ORIGIN_COUNTRY\n",
      "84.47886584405356\n",
      "6.978260949219365\n",
      "93.02173905078064\n",
      "NOTACCEPT_CASE_MGMT_OTHER_DESC\n",
      "35.08718262465586\n",
      "1.1977912860592337\n",
      "98.80220871394077\n",
      "EXPLORE_WITH_CLIENT\n",
      "6.336220725056144\n",
      "20.557747903224033\n",
      "79.44225209677596\n",
      "CHANGE_OF_CIRCUMSATNCE_REASON\n",
      "76.1244504565438\n",
      "2.166943305522884\n",
      "97.83305669447712\n",
      "EMPLOYMENT_SITUATION_LIST\n",
      "69.58890712863679\n",
      "31.47197520143339\n",
      "68.5280247985666\n",
      "EMPLOYMENT_FACTOR_LIST\n",
      "96.10929891741124\n",
      "7.750651292141624\n",
      "92.24934870785837\n",
      "NOT_ACCEPTED_REASONS_LIST\n",
      "46.47044150661013\n",
      "1.4689340060604061\n",
      "98.53106599393959\n"
     ]
    }
   ],
   "source": [
    "#print(df['AREA_OF_STUDY'].head(1000))\n",
    "InteractiveShell.ast_node_interactivity = \"all\"\n",
    "pd.set_option(\"display.max_rows\", None, \"display.max_columns\", 1000)\n",
    "l = ['EXPLORE_WITH_CLIENT','EMPLOYMENT_GOAL','MOST_RECENT_WORK_EMPLOYER','ADDRESS_POSTALCODE_PERMANENT','REASON_FOR_LEAVING_EMPLOYMENT','MOST_RECENT_WORK_JOB_TITLE','CURRENT_EMPLOYMENT_SITUATION','MOST_RECENT_WORK_INDUSTRY','UNEMP_OTHER_FACTOR_DESC','IMMIGRATION_DATE','MOST_RECENT_WORK_START_DATE','OTHER_FUNDING_DESCRIPITON','EMPLOYMENT_FACTOR_OTHER_DESC','MOST_RECENT_WORK_END_DATE','DISABILITY_OTHER_DESC','NOT_ACCEPTED_REASONS_LIST','AREA_OF_STUDY','NOTACCEPT_CASE_MGMT_OTHER_DESC','CHANGE_OF_CIRCUMSATNCE_REASON','EMPLOYMENT_SITUATION_LIST','ORIGIN_COUNTRY','LANGUAGE_OTHER','WAGE_PER_HOUR','EMPLOYMENT_FACTOR_LIST','STATUS_IN_CANADA_OTHER_DESC','OFFICE','CATCHMENT']\n",
    "d = df[df.columns.intersection(l)]\n",
    "res = pd.DataFrame(columns=('var_name', 'top 100 vals as a % of all non null values', 'proportion of filled in values', 'proportion of missing values'))\n",
    "n=0\n",
    "for x in d.columns.tolist():\n",
    "    print(x)\n",
    "    print(sum(d[x].value_counts().sort_values(ascending=False).head(100))*100/sum(d[x].value_counts()))\n",
    "    print(sum(d[x].value_counts())*100/len(d[x]))\n",
    "    print(d[x].isna().sum()*100/len(d[x]))\n",
    "    res.loc[n] = [x, sum(d[x].value_counts().sort_values(ascending=False).head(100))*100/sum(d[x].value_counts()), sum(d[x].value_counts())*100/len(d[x]), d[x].isna().sum()*100/len(d[x])]\n",
    "    n=n+1"
   ]
  },
  {
   "cell_type": "code",
   "execution_count": 9,
   "metadata": {},
   "outputs": [],
   "source": [
    "df['CHANGE_OF_CIRCUMSATNCE_REASON'].value_counts().to_csv('change_circumstance_value_counts.csv')"
   ]
  },
  {
   "cell_type": "code",
   "execution_count": 22,
   "metadata": {},
   "outputs": [
    {
     "name": "stdout",
     "output_type": "stream",
     "text": [
      "           Case_Number    c2 Start_Day_Date    c4              Is_Active\n",
      "0      1-421153-102573   5.0     2018-06-01   5.0  Not Active In Program\n",
      "1      1-421153-102637   NaN     2019-03-14   NaN      Active In Program\n",
      "2      1-421153-102713   NaN     2019-03-04   NaN  Not Active In Program\n",
      "3      1-421153-103684   NaN     2018-04-23   NaN      Active In Program\n",
      "4      1-421153-103719  21.0     2019-01-17  21.0  Not Active In Program\n",
      "...                ...   ...            ...   ...                    ...\n",
      "93508    1-64732710780   NaN     2021-07-28   NaN      Active In Program\n",
      "93509    1-64733701827   NaN     2021-07-28   NaN      Active In Program\n",
      "93510    1-64734636923   NaN     2021-07-28   NaN      Active In Program\n",
      "93511    1-64735345090   NaN     2021-07-28   NaN      Active In Program\n",
      "93512    1-64737267417   NaN     2021-07-28   NaN      Active In Program\n",
      "\n",
      "[93513 rows x 5 columns]\n"
     ]
    }
   ],
   "source": [
    "\n",
    "import pandas as pd\n",
    "    \n",
    "import cx_Oracle\n",
    "\n",
    "pw = '!99HAW!re67'\n",
    "\n",
    "usr = 'GDALLAS'\n",
    "path = 'C:\\ORACLE\\instantclient_19_11'\n",
    "\n",
    "host = 'ALASTRIA'\n",
    "port = 1524\n",
    "service = 'CW1T2'\n",
    "#cx_Oracle.init_oracle_client(lib_dir= path) # use this is service isn't initialised\n",
    "\n",
    "cx_Oracle.clientversion()  \n",
    "dsn_tns = cx_Oracle.makedsn(host, port, service_name=service)\n",
    "\n",
    "conn = cx_Oracle.connect(user=usr, password=pw, dsn=dsn_tns)\n",
    "\n",
    "c = conn.cursor()\n",
    "#get weeks to sustainment\n",
    "query = \"\"\"\n",
    "\n",
    "select \"WBC_CASE_D\".\"CASE_NUM\" \"Case_Number\", avg(\"coguda10\".\"WEEKS_TO_ACHV_SUST_EMP_ELAPSED\") \"c2\", \"WBC_DATE_D_Start\".\"DAY_DT\" \"Start_Day_Date\", avg(\"coguda10\".\"WEEKS_TO_ACHV_SUST_EMP_IN_PROG\") \"c4\", \"WBC_ES_STAGE_OF_SERVICE_D\".\"IS_ACTIVE_NAME\" \"Is_Active\"\n",
    " from \"CDW\".\"WBC_CASE_D\" \"WBC_CASE_D\", \"CDW\".\"WBC_CASE_F\" \"coguda10\", \"CDW\".\"WBC_OFFICE_D\" \"coguda11\", \"CDW\".\"WBC_ES_STAGE_OF_SERVICE_D\" \"WBC_ES_STAGE_OF_SERVICE_D\", \"CDW\".\"WBC_DATE_D\" \"WBC_DATE_D_Start\"\n",
    " where  \"coguda10\".\"OFFICE_ORG_WID\"=\"coguda11\".\"OFFICE_ORG_WID\" and \"WBC_DATE_D_Start\".\"FISCAL_YEAR\" > 2018 and \"WBC_CASE_D\".\"CASE_TYPE_CD\" in ('Employment Services') and \"coguda10\".\"CASE_TYPE_WID\"=1 and \"coguda10\".\"SNAPSHOT_DT_WID\"=(\n",
    "select snapshot_dt_wid\n",
    " from CDW.WBC_RUN_CTL_D) and \"coguda10\".\"CASE_WID\"=\"WBC_CASE_D\".\"CASE_WID\" and \"coguda10\".\"ES_STAGE_OF_SERVICE_WID\"=\"WBC_ES_STAGE_OF_SERVICE_D\".\"ES_STAGE_OF_SERVICE_WID\" and \"WBC_DATE_D_Start\".\"DATE_WID\"=\"coguda10\".\"PLAN_START_DT_WID\"\n",
    " group by \"WBC_CASE_D\".\"CASE_NUM\", \"WBC_ES_STAGE_OF_SERVICE_D\".\"IS_ACTIVE_NAME\", \"WBC_DATE_D_Start\".\"DAY_DT\"\n",
    "\n",
    "\n",
    "\n",
    "\n",
    "\"\"\"\n",
    "\n",
    "\n",
    "\n",
    "\n",
    "\n",
    "\n",
    "\n",
    "df = pd.read_sql(query, con=conn)\n",
    "\n",
    "print(df)"
   ]
  },
  {
   "cell_type": "code",
   "execution_count": 20,
   "metadata": {},
   "outputs": [
    {
     "data": {
      "text/plain": [
       "93513"
      ]
     },
     "execution_count": 20,
     "metadata": {},
     "output_type": "execute_result"
    }
   ],
   "source": [
    "df['Case_Number'].nunique()"
   ]
  },
  {
   "cell_type": "code",
   "execution_count": 19,
   "metadata": {},
   "outputs": [
    {
     "name": "stdout",
     "output_type": "stream",
     "text": [
      "(53482, 5)\n"
     ]
    }
   ],
   "source": [
    "df[df['c2'].isna() == False]\n",
    "ddf = df[df['Is_Active'] == 'Not Active In Program']\n",
    "print(ddf.shape)"
   ]
  },
  {
   "cell_type": "code",
   "execution_count": 17,
   "metadata": {},
   "outputs": [
    {
     "name": "stdout",
     "output_type": "stream",
     "text": [
      "(22922, 5)\n"
     ]
    }
   ],
   "source": [
    "n=ddf[ddf['c2'].isna() == False]\n",
    "print(n.shape)\n",
    "n.to_csv('weeks_to_sustainment.csv')"
   ]
  },
  {
   "cell_type": "code",
   "execution_count": null,
   "metadata": {},
   "outputs": [],
   "source": [
    "n['c2']"
   ]
  }
 ],
 "metadata": {
  "kernelspec": {
   "display_name": "Python 3",
   "language": "python",
   "name": "python3"
  },
  "language_info": {
   "codemirror_mode": {
    "name": "ipython",
    "version": 3
   },
   "file_extension": ".py",
   "mimetype": "text/x-python",
   "name": "python",
   "nbconvert_exporter": "python",
   "pygments_lexer": "ipython3",
   "version": "3.7.6"
  }
 },
 "nbformat": 4,
 "nbformat_minor": 4
}
