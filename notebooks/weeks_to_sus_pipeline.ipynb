{
 "cells": [
  {
   "cell_type": "code",
   "execution_count": 4,
   "id": "e459d11c-b6bb-4c51-a144-dfe34e470b33",
   "metadata": {},
   "outputs": [
    {
     "name": "stdout",
     "output_type": "stream",
     "text": [
      "/home/jovyan/instantclient_21_6\n",
      "client already initialised\n"
     ]
    },
    {
     "ename": "DatabaseError",
     "evalue": "ORA-12170: TNS:Connect timeout occurred",
     "output_type": "error",
     "traceback": [
      "\u001b[0;31m---------------------------------------------------------------------------\u001b[0m",
      "\u001b[0;31mDatabaseError\u001b[0m                             Traceback (most recent call last)",
      "Input \u001b[0;32mIn [4]\u001b[0m, in \u001b[0;36m<cell line: 33>\u001b[0;34m()\u001b[0m\n\u001b[1;32m     30\u001b[0m cx_Oracle\u001b[38;5;241m.\u001b[39mclientversion()  \n\u001b[1;32m     31\u001b[0m dsn_tns \u001b[38;5;241m=\u001b[39m cx_Oracle\u001b[38;5;241m.\u001b[39mmakedsn(host, port, service_name\u001b[38;5;241m=\u001b[39mservice)\n\u001b[0;32m---> 33\u001b[0m conn \u001b[38;5;241m=\u001b[39m \u001b[43mcx_Oracle\u001b[49m\u001b[38;5;241;43m.\u001b[39;49m\u001b[43mconnect\u001b[49m\u001b[43m(\u001b[49m\u001b[43muser\u001b[49m\u001b[38;5;241;43m=\u001b[39;49m\u001b[43musr\u001b[49m\u001b[43m,\u001b[49m\u001b[43m \u001b[49m\u001b[43mpassword\u001b[49m\u001b[38;5;241;43m=\u001b[39;49m\u001b[43mpw\u001b[49m\u001b[43m,\u001b[49m\u001b[43m \u001b[49m\u001b[43mdsn\u001b[49m\u001b[38;5;241;43m=\u001b[39;49m\u001b[43mdsn_tns\u001b[49m\u001b[43m)\u001b[49m\n\u001b[1;32m     35\u001b[0m c \u001b[38;5;241m=\u001b[39m conn\u001b[38;5;241m.\u001b[39mcursor()\n\u001b[1;32m     37\u001b[0m no_sus \u001b[38;5;241m=\u001b[39m \u001b[38;5;124m\"\"\"\u001b[39m\n\u001b[1;32m     38\u001b[0m \n\u001b[1;32m     39\u001b[0m \u001b[38;5;124mselect \u001b[39m\u001b[38;5;124m\"\u001b[39m\u001b[38;5;124mWBC_CASE_D\u001b[39m\u001b[38;5;124m\"\u001b[39m\u001b[38;5;124m.\u001b[39m\u001b[38;5;124m\"\u001b[39m\u001b[38;5;124mCASE_NUM\u001b[39m\u001b[38;5;124m\"\u001b[39m\u001b[38;5;124m \u001b[39m\u001b[38;5;124m\"\u001b[39m\u001b[38;5;124mCase_Number\u001b[39m\u001b[38;5;124m\"\u001b[39m\u001b[38;5;124m, \u001b[39m\u001b[38;5;124m\"\u001b[39m\u001b[38;5;124mWBC_DATE_D_Start\u001b[39m\u001b[38;5;124m\"\u001b[39m\u001b[38;5;124m.\u001b[39m\u001b[38;5;124m\"\u001b[39m\u001b[38;5;124mCALENDAR_DATE\u001b[39m\u001b[38;5;124m\"\u001b[39m\u001b[38;5;124m \u001b[39m\u001b[38;5;124m\"\u001b[39m\u001b[38;5;124mStart_Date\u001b[39m\u001b[38;5;124m\"\u001b[39m\u001b[38;5;124m, \u001b[39m\u001b[38;5;124m\"\u001b[39m\u001b[38;5;124mWBC_DATE_D_Exit\u001b[39m\u001b[38;5;124m\"\u001b[39m\u001b[38;5;124m.\u001b[39m\u001b[38;5;124m\"\u001b[39m\u001b[38;5;124mCALENDAR_DATE\u001b[39m\u001b[38;5;124m\"\u001b[39m\u001b[38;5;124m \u001b[39m\u001b[38;5;124m\"\u001b[39m\u001b[38;5;124mExit_Date\u001b[39m\u001b[38;5;124m\"\u001b[39m\u001b[38;5;124m, avg(\u001b[39m\u001b[38;5;124m\"\u001b[39m\u001b[38;5;124mcoguda30\u001b[39m\u001b[38;5;124m\"\u001b[39m\u001b[38;5;124m.\u001b[39m\u001b[38;5;124m\"\u001b[39m\u001b[38;5;124mWEEKS_TO_ACHV_SUST_EMP_ELAPSED\u001b[39m\u001b[38;5;124m\"\u001b[39m\u001b[38;5;124m) \u001b[39m\u001b[38;5;124m\"\u001b[39m\u001b[38;5;124mc4\u001b[39m\u001b[38;5;124m\"\u001b[39m\u001b[38;5;124m, \u001b[39m\u001b[38;5;124m\"\u001b[39m\u001b[38;5;124mWBC_ES_STAGE_OF_SERVICE_D\u001b[39m\u001b[38;5;124m\"\u001b[39m\u001b[38;5;124m.\u001b[39m\u001b[38;5;124m\"\u001b[39m\u001b[38;5;124mSTAGE_OF_SERVICE_NAME\u001b[39m\u001b[38;5;124m\"\u001b[39m\u001b[38;5;124m \u001b[39m\u001b[38;5;124m\"\u001b[39m\u001b[38;5;124mStage_of_Employment_Service1\u001b[39m\u001b[38;5;124m\"\u001b[39m\n\u001b[0;32m   (...)\u001b[0m\n\u001b[1;32m     46\u001b[0m \n\u001b[1;32m     47\u001b[0m \u001b[38;5;124m\"\"\"\u001b[39m\n",
      "\u001b[0;31mDatabaseError\u001b[0m: ORA-12170: TNS:Connect timeout occurred"
     ]
    }
   ],
   "source": [
    "import cx_Oracle\n",
    "import pandas as pd\n",
    "import os\n",
    "# port = os.environ['port']\n",
    "# pw = os.environ['password']\n",
    "# host = os.environ['host']\n",
    "# service = os.environ['service']\n",
    "# usr= os.environ['username']\n",
    "\n",
    "port = os.environ['prod_port']\n",
    "pw = os.environ['prod_pw']\n",
    "host = os.environ['prod_host']\n",
    "service = os.environ['prod_service']\n",
    "usr= os.environ['prod_username']\n",
    "\n",
    "\n",
    "# print(host)\n",
    "# print(service)\n",
    "path = '/home/jovyan/instantclient_21_6'\n",
    "\n",
    "\n",
    "#print(cx_Oracle.clientversion())  \n",
    "print(path)\n",
    "#path = 'C:\\ORACLE\\instantclient_19_11'\n",
    "#cx_Oracle.init_oracle_client(lib_dir= path)\n",
    "try:\n",
    "    cx_Oracle.init_oracle_client(lib_dir= path)\n",
    "except Exception as err:\n",
    "    print('client already initialised')\n",
    "cx_Oracle.clientversion()  \n",
    "dsn_tns = cx_Oracle.makedsn(host, port, service_name=service)\n",
    "\n",
    "conn = cx_Oracle.connect(user=usr, password=pw, dsn=dsn_tns)\n",
    "\n",
    "c = conn.cursor()\n",
    "\n",
    "no_sus = \"\"\"\n",
    "\n",
    "select \"WBC_CASE_D\".\"CASE_NUM\" \"Case_Number\", \"WBC_DATE_D_Start\".\"CALENDAR_DATE\" \"Start_Date\", \"WBC_DATE_D_Exit\".\"CALENDAR_DATE\" \"Exit_Date\", avg(\"coguda30\".\"WEEKS_TO_ACHV_SUST_EMP_ELAPSED\") \"c4\", \"WBC_ES_STAGE_OF_SERVICE_D\".\"STAGE_OF_SERVICE_NAME\" \"Stage_of_Employment_Service1\"\n",
    " from \"CDW\".\"WBC_CASE_D\" \"WBC_CASE_D\", \"CDW\".\"WBC_DATE_D\" \"WBC_DATE_D_Start\", \"CDW\".\"WBC_DATE_D\" \"WBC_DATE_D_Exit\", \"CDW\".\"WBC_CASE_F\" \"coguda30\", \"CDW\".\"WBC_OFFICE_D\" \"coguda31\", \"CDW\".\"WBC_ES_STAGE_OF_SERVICE_D\" \"WBC_ES_STAGE_OF_SERVICE_D\"\n",
    " where  \"coguda30\".\"OFFICE_ORG_WID\"=\"coguda31\".\"OFFICE_ORG_WID\" and \"WBC_DATE_D_Start\".\"FISCAL_YEAR\">2019 and \"coguda30\".\"ES_SRV_PLN_TYPE\" in ('Employment Services') and \"WBC_ES_STAGE_OF_SERVICE_D\".\"STAGE_OF_SERVICE_NAME\" in ('Before Sustainable Employment Achieved', 'Left Before Outcome', 'Not Available') and \"coguda30\".\"CASE_TYPE_WID\"=1 and \"coguda30\".\"SNAPSHOT_DT_WID\"=(\n",
    "select snapshot_dt_wid\n",
    " from cdw.wbc_run_ctl_d) and \"coguda30\".\"CASE_WID\"=\"WBC_CASE_D\".\"CASE_WID\" and \"coguda30\".\"ES_STAGE_OF_SERVICE_WID\"=\"WBC_ES_STAGE_OF_SERVICE_D\".\"ES_STAGE_OF_SERVICE_WID\" and \"WBC_DATE_D_Start\".\"DATE_WID\"=\"coguda30\".\"PLAN_START_DT_WID\" and \"coguda30\".\"PLAN_CLOSED_DT_WID\"=\"WBC_DATE_D_Exit\".\"DATE_WID\"\n",
    " group by \"WBC_CASE_D\".\"CASE_NUM\", \"WBC_DATE_D_Exit\".\"CALENDAR_DATE\", \"WBC_DATE_D_Start\".\"CALENDAR_DATE\", \"WBC_ES_STAGE_OF_SERVICE_D\".\"STAGE_OF_SERVICE_NAME\"\n",
    "\n",
    "\n",
    "\"\"\"\n",
    "\n",
    "sus = \"\"\"\n",
    "\n",
    "select \"WBC_CASE_D\".\"CASE_NUM\" \"Case_Number\", \"WBC_DATE_D_Start\".\"CALENDAR_DATE\" \"Start_Date\", \"WBC_DATE_D_Exit\".\"CALENDAR_DATE\" \"Exit_Date\", avg(\"coguda30\".\"WEEKS_TO_ACHV_SUST_EMP_ELAPSED\") \"c4\", \"WBC_ES_STAGE_OF_SERVICE_D\".\"STAGE_OF_SERVICE_NAME\" \"Stage_of_Employment_Service1\"\n",
    " from \"CDW\".\"WBC_CASE_D\" \"WBC_CASE_D\", \"CDW\".\"WBC_DATE_D\" \"WBC_DATE_D_Start\", \"CDW\".\"WBC_DATE_D\" \"WBC_DATE_D_Exit\", \"CDW\".\"WBC_CASE_F\" \"coguda30\", \"CDW\".\"WBC_OFFICE_D\" \"coguda31\", \"CDW\".\"WBC_ES_STAGE_OF_SERVICE_D\" \"WBC_ES_STAGE_OF_SERVICE_D\"\n",
    " where \"coguda30\".\"OFFICE_ORG_WID\"=\"coguda31\".\"OFFICE_ORG_WID\" and \"WBC_DATE_D_Start\".\"FISCAL_YEAR\">2019 and \"coguda30\".\"ES_SRV_PLN_TYPE\" in ('Employment Services') and \"WBC_ES_STAGE_OF_SERVICE_D\".\"STAGE_OF_SERVICE_NAME\" in ('Left Before Completing Sustainment', 'Left After Completing Sustainment', 'In Sustainment') and \"coguda30\".\"CASE_TYPE_WID\"=1 and \"coguda30\".\"SNAPSHOT_DT_WID\"=(\n",
    "select snapshot_dt_wid\n",
    " from cdw.wbc_run_ctl_d) and \"coguda30\".\"CASE_WID\"=\"WBC_CASE_D\".\"CASE_WID\" and \"coguda30\".\"ES_STAGE_OF_SERVICE_WID\"=\"WBC_ES_STAGE_OF_SERVICE_D\".\"ES_STAGE_OF_SERVICE_WID\" and \"WBC_DATE_D_Start\".\"DATE_WID\"=\"coguda30\".\"PLAN_START_DT_WID\" and \"coguda30\".\"PLAN_CLOSED_DT_WID\"=\"WBC_DATE_D_Exit\".\"DATE_WID\"\n",
    " group by \"WBC_CASE_D\".\"CASE_NUM\", \"WBC_DATE_D_Exit\".\"CALENDAR_DATE\", \"WBC_DATE_D_Start\".\"CALENDAR_DATE\", \"WBC_ES_STAGE_OF_SERVICE_D\".\"STAGE_OF_SERVICE_NAME\"\n",
    "\n",
    "\n",
    "\n",
    "\n",
    "\"\"\"\n",
    "df = pd.read_sql(sus, con=conn)\n",
    "print(df.shape)\n",
    "df2 = pd.read_sql(no_sus, con=conn)\n",
    "print(df2.shape)\n",
    "\n",
    "link = \"\"\"\n",
    "select distinct \"WBC_CASE_D\".\"CASE_NUM\" \"Case_Number\", \"WBC_CATCHMENT_AREA_D\".\"REGION_CODE\" \"Region_Code\", \"WBC_CATCHMENT_AREA_D\".\"CATCHMENT\" \"Catchment\", \"WBC_OES_APPLICATION_D\".\"EXPLAINING_TO_OTHERS\" \"Explaining_to_Others\", \"WBC_OES_APPLICATION_D\".\"GET_ALONG_WITH_OTHERS\" \"Getting_Along_with_Others\", \"WBC_OES_APPLICATION_D\".\"LEARNING_NEW_THINGS\" \"New_Things\", \"WBC_OES_APPLICATION_D\".\"ORGANIZING_INFORMATION\" \"Organizing\", \"WBC_OES_APPLICATION_D\".\"PROBLEM_SOLVING\" \"Problem_Solving\", \"WBC_OES_APPLICATION_D\".\"READING_INFORMATION\" \"Reading_and_Understanding\", \"WBC_OES_APPLICATION_D\".\"USING_COMPUTERS\" \"Using_Computers\", \"WBC_OES_APPLICATION_D\".\"CREATING_DOCUMENTS\" \"Working_with_Documents\", \"WBC_OES_APPLICATION_D\".\"WORKING_WITH_MATH\" \"Working_with_Math\", \"WBC_OES_APPLICATION_D\".\"WRITING_INFORMATION\" \"Writing\", \"WBC_OES_APPLICATION_D\".\"FRANCOPHONE\" \"Francophone\", \"WBC_OES_APPLICATION_D\".\"RECENT_IMMIGRANT\" \"Recent_Immigrant\", \"WBC_OES_APPLICATION_D\".\"INDIGENOUS_PERSON\" \"Indigenous_Person\", \"WBC_OES_APPLICATION_D\".\"PERSON_WITH_DISABILITY\" \"Person_with_a_Disability\", \"WBC_OES_APPLICATION_D\".\"SURVIVOR_OF_VIOLENCE\" \"Survivor_of_Violence_or_Abuse\", \"WBC_OES_APPLICATION_D\".\"LANGUAGE\" \"Language19\", \"WBC_OES_APPLICATION_D\".\"LANGUAGE_OTHER\" \"Other_Language\", \"WBC_OES_APPLICATION_D\".\"DISABILITY_OTHER_DESC\" \"Other_Disability_Discription\", \"WBC_OES_APPLICATION_D\".\"STATUS_IN_CANADA_OTHER_DESC\" \"c22\", \"WBC_OES_APPLICATION_D\".\"SCHOOL_LEVEL\" \"Education_Level\", \"WBC_OES_APPLICATION_D\".\"CURRENTLY_IN_SCHOOL\" \"Currently_In_School\", \"WBC_OES_APPLICATION_D\".\"CURRENTLY_IN_SCHOOL_STATUS\" \"c25\", \"WBC_OES_APPLICATION_D\".\"AREA_OF_STUDY\" \"Education_Area_of_Study\", \"WBC_OES_APPLICATION_D\".\"INDIGENOUS_TYPE\" \"Indigenous_Type\", \"WBC_OES_APPLICATION_D\".\"STATUS_INDIAN\" \"Status_Indian\", \"WBC_OES_APPLICATION_D\".\"DRENA_REQUIRED\" \"DRENA_Required\", \"WBC_OES_APPLICATION_D\".\"LEGAL_TO_WORK\" \"c30\", \"WBC_OES_APPLICATION_D\".\"CHANGE_OF_CIRCUMSATNCE\" \"Change_of_Circumstance\", \"WBC_OES_APPLICATION_D\".\"CHANGE_OF_CIRCUMSATNCE_REASON\" \"Change_of_Circumstance_Reason\", \"WBC_OES_APPLICATION_D\".\"BCEID_GUID\" \"BCeID_GUID\", \"WBC_OES_APPLICATION_D\".\"CLIENT_BCEID\" \"Client_BCeID\", \"WBC_OES_APPLICATION_D\".\"CLIENT_CONSENT\" \"Client_Consent\", \"WBC_OES_APPLICATION_D\".\"PROGRAM_TYPE\" \"Program_Type\", \"WBC_OES_APPLICATION_D\".\"CURRENT_EMPLOYMENT_INSURANCE\" \"c37\", \"WBC_OES_APPLICATION_D\".\"PAST_EMPLOYMENT_INSURANCE\" \"c38\", \"WBC_OES_APPLICATION_D\".\"PAST_FIVE_YEARS_WORK\" \"c39\", \"WBC_OES_APPLICATION_D\".\"BCEA_INCOME_ASSISTANCE\" \"c40\", \"WBC_OES_APPLICATION_D\".\"INCOME_ASSISTANCE_DURATION\" \"c41\", \"WBC_OES_APPLICATION_D\".\"NON_BC_INCOME_ASSISTANCE\" \"c42\", \"WBC_OES_APPLICATION_D\".\"NON_BC_INCOME_ASSISTANCE_CNT\" \"c43\", \"WBC_OES_APPLICATION_D\".\"OTHER_FUNDING\" \"c44\", \"WBC_OES_APPLICATION_D\".\"EMPLOYMENT_FACTOR_AGE\" \"Age\", \"WBC_OES_APPLICATION_D\".\"EMPLOYMENT_FACTOR_LACK_HOUSING\" \"Lack_Housing\", \"WBC_OES_APPLICATION_D\".\"EMPLOYMENT_FACTOR_ADDICTION\" \"Addiction\", \"WBC_OES_APPLICATION_D\".\"VISIBLE_MINORITY\" \"Visible_Minority\", \"WBC_OES_APPLICATION_D\".\"CHILDREN_AT_HOME\" \"Child_at_Home\", \"WBC_OES_APPLICATION_D\".\"SINGLE_PARENT\" \"Single_Parent\", \"WBC_OES_APPLICATION_D\".\"DISABILITY_PHYSICAL\" \"Physical_Disability\", \"WBC_OES_APPLICATION_D\".\"DISABILITY_LEARNING\" \"Learning_Disablilit\", \"WBC_OES_APPLICATION_D\".\"DEVELOPMENTAL_DISABILITY\" \"Developmental_Disability\", \"WBC_OES_APPLICATION_D\".\"DISABILITY_VISUAL\" \"Visual_Disability\", \"WBC_OES_APPLICATION_D\".\"DISABILITY_HEARING\" \"Hearing_Disability\", \"WBC_OES_APPLICATION_D\".\"DISABILITY_MENTAL_HEALTH\" \"Mental_Health_Condition\", \"WBC_OES_APPLICATION_D\".\"DISABILITY_CHRONIC_ILLNESS\" \"Chronic_Illness\", \"WBC_OES_APPLICATION_D\".\"DISABILITY_SHORT_TERM_ILLNESS\" \"Short_term_Illness\", \"WBC_OES_APPLICATION_D\".\"DISABILITY_OTHER\" \"Other_Disability\", \"WBC_OES_APPLICATION_D\".\"INTERVIEW_METHOD_IN_PERSON\" \"Interview_In_Person\", \"WBC_OES_APPLICATION_D\".\"EMPLOYED\" \"Client_Employed_Flag\", \"WBC_OES_APPLICATION_D\".\"UNEMP_PERSONAL_SITUATION\" \"c62\", \"WBC_OES_APPLICATION_D\".\"UNEMP_KEEPING_JOBS\" \"Unemployed___Keeping_Jobs\", \"WBC_OES_APPLICATION_D\".\"UNEMP_DISABLTY_SUPPORTS_NEEDED\" \"c64\", \"WBC_OES_APPLICATION_D\".\"UNEMP_KIND_OF_WORK_UNKNOWN\" \"c65\", \"WBC_OES_APPLICATION_D\".\"UNEMP_FNCL_SUPPORTS_NEEDED\" \"c66\", \"WBC_OES_APPLICATION_D\".\"UNEMP_TRAINING_NEEDED\" \"Unemployed___Training_Needed\", \"WBC_OES_APPLICATION_D\".\"UNEMP_JOB_SEARCH_HELP_NEEDED\" \"c68\", \"WBC_OES_APPLICATION_D\".\"UNEMP_JOB_OFFER_LACK_RESOURCES\" \"Unemployed___Lack_Resources\", \"WBC_OES_APPLICATION_D\".\"UNEMP_RETURN_TO_SAME_WORK\" \"c70\", \"WBC_OES_APPLICATION_D\".\"UNEMP_OTHER_FACTOR\" \"Unemployed___Other\", \"WBC_OES_APPLICATION_D\".\"UNEMP_OTHER_FACTOR_DESC\" \"Unemployed___Other_Description\", \"WBC_OES_APPLICATION_D\".\"EMP_SELF_EMPLOYED\" \"Employed___Self_Employed\", \"WBC_OES_APPLICATION_D\".\"EMP_LOSING_JOB\" \"Employed___Losing_Job\", \"WBC_OES_APPLICATION_D\".\"EMP_DISABLTY_SUPPORTS_NEEDED\" \"Employed___Disability_Supports\", \"WBC_OES_APPLICATION_D\".\"EMP_JOB_OFFER_LACK_RESOURCES\" \"Employed___Lack_Resources\", \"WBC_OES_APPLICATION_D\".\"EMP_NEED_MORE_HOURS_OF_WORK\" \"Employed___Need_More_hours\", \"WBC_OES_APPLICATION_D\".\"EMP_TRAINING_NEEDED\" \"Employed___Training\", \"WBC_OES_APPLICATION_D\".\"EMP_NEW_LINE_OF_WORK\" \"Employed___New_Line_of_Work\", \"WBC_OES_APPLICATION_D\".\"EMP_SEEKEING_CHANGE\" \"Employed___Dislike_Current\", \"WBC_OES_APPLICATION_D\".\"EMP_CHALLENGING_JOB\" \"Employed___More_Challenge\", \"WBC_OES_APPLICATION_D\".\"EMPLOYMENT_FACTOR_OTHER\" \"Employed___Other\", \"WBC_OES_APPLICATION_D\".\"EMPLOYMENT_FACTOR_OTHER_DESC\" \"Employed___Other_Description\", \"WBC_OES_APPLICATION_D\".\"EMPLOYMENT_SITUATION_LIST\" \"Employment_Situation_List\", \"WBC_OES_APPLICATION_D\".\"INTERVIEW_METHOD_PHONE\" \"Interview_By_Telephone\", \"WBC_OES_APPLICATION_D\".\"INTERVIEW_METHOD_VIDEO_CALL\" \"Interview_By_Video_Call\", \"WBC_OES_APPLICATION_D\".\"INTERVIEW_METHOD_WITH_ATTNDENT\" \"Interview_With_Attendant\", \"WBC_OES_APPLICATION_D\".\"INTERVIEW_METHOD_OTHER\" \"Interview_Other\", \"WBC_OES_APPLICATION_D\".\"EMPLOYMENT_GOAL\" \"Employment_Goal\", \"WBC_OES_APPLICATION_D\".\"HOURS_PER_WEEK\" \"Hours_per_Week_Goal\", \"WBC_OES_APPLICATION_D\".\"WAGE_PER_HOUR\" \"Wage_Per_Hour_Goal\", \"WBC_OES_APPLICATION_D\".\"EMPLOYMENT_GOAL_SEASONAL\" \"Goal_is_Seasonal\", \"WBC_OES_APPLICATION_D\".\"EMPLOYMENT_GOAL_CASUAL\" \"Goal_is_Casual\", \"WBC_OES_APPLICATION_D\".\"EMPLOYMENT_GOAL_RELOCATE\" \"Can_Relocate\", \"WBC_OES_APPLICATION_D\".\"EMPLOYMENT_GOAL_TRANSPORT\" \"Has_Transportation\", \"WBC_OES_APPLICATION_D\".\"PORTAL_APPLICATION_NUMBER\" \"OES_Application_Num\", \"WBC_OES_APPLICATION_D\".\"OFFICE\" \"Office\", \"WBC_OES_APPLICATION_D\".\"CATCHMENT\" \"Catchment_Selected\", \"WBC_OES_APPLICATION_D\".\"SERVICE_SELECTED\" \"Service_Selected\", \"WBC_OES_APPLICATION_D\".\"ACCEPTED_INTO_CASE_MGMT\" \"Accepted_into_Case_Management\", \"WBC_OES_APPLICATION_D\".\"NOTACCEPT_CASE_MGMT_OTHER_DESC\" \"c101\", \"WBC_OES_APPLICATION_D\".\"EXPLORE_WITH_CLIENT\" \"Explore_with_Client\"\n",
    " from (((\"CDW\".\"WBC_OFFICE_D\" \"WBC_OFFICE_D\" INNER JOIN (\n",
    "select \"WBC_CATCHMENT_AREA_D\".\"CATCHMENT_AREA_WID\" \"CATCHMENT_AREA_WID\", \"WBC_CATCHMENT_AREA_D\".\"CATCHMENT\" \"CATCHMENT\", \"WBC_CATCHMENT_AREA_D\".\"REGION_CODE\" \"REGION_CODE\"\n",
    " from \"CDW\".\"WBC_CATCHMENT_AREA_D\" \"WBC_CATCHMENT_AREA_D\"\n",
    " ) \"WBC_CATCHMENT_AREA_D\" on \"WBC_OFFICE_D\".\"CATCHMENT_AREA_WID\"=\"WBC_CATCHMENT_AREA_D\".\"CATCHMENT_AREA_WID\") INNER JOIN (\n",
    "select \"WBC_OES_APPLICATION_F\".\"TAAAPA_WID\" \"TAAAPA_WID\", \"WBC_OES_APPLICATION_F\".\"OFFICE_ORG_WID\" \"OFFICE_ORG_WID\", \"WBC_OES_APPLICATION_F\".\"CASE_WID\" \"CASE_WID\"\n",
    " from \"CDW\".\"WBC_OES_APPLICATION_F\" \"WBC_OES_APPLICATION_F\"\n",
    ") \"WBC_OES_APPLICATION_F\" on \"WBC_OES_APPLICATION_F\".\"OFFICE_ORG_WID\"=\"WBC_OFFICE_D\".\"OFFICE_ORG_WID\") INNER JOIN \"CDW\".\"WBC_CASE_D\" \"WBC_CASE_D\" on \"WBC_OES_APPLICATION_F\".\"CASE_WID\"=\"WBC_CASE_D\".\"CASE_WID\") LEFT OUTER JOIN \"CDW\".\"WBC_OES_APPLICATION_D\" \"WBC_OES_APPLICATION_D\" on \"WBC_OES_APPLICATION_F\".\"TAAAPA_WID\"=\"WBC_OES_APPLICATION_D\".\"TAAAPA_WID\"\n",
    "\n",
    "\n",
    "\n",
    "\"\"\"\n",
    "link = pd.read_sql(link, con=conn)\n",
    "#print(link.head)\n",
    "link2 = link[link['Case_Number'].isin(df['Case_Number'])]\n",
    "print(link2.shape)\n",
    "data = link2\n",
    "l = []\n",
    "for col in data.columns:\n",
    "    #print(\"--------COLUMN--------\")\n",
    "    if data[col].nunique() > 100:\n",
    "        print(col)\n",
    "        \n",
    "        if (col != 'Case_Number') & (col != 'Wage_Per_Hour_Goal'):\n",
    "            l.append(col)\n",
    "\n",
    "    #print(data[col].nunique())\n",
    "data = data.drop(l, axis = 1)\n",
    "\n",
    "pp = df[['Case_Number', 'c4']]\n",
    "\n",
    "tt=data.merge(df[['Case_Number', 'c4']], on = 'Case_Number', how = 'left')\n",
    "\n",
    "print(tt.columns)"
   ]
  },
  {
   "cell_type": "code",
   "execution_count": 2,
   "id": "26387a3c-54bb-450f-ad79-b558564f562f",
   "metadata": {},
   "outputs": [
    {
     "name": "stdout",
     "output_type": "stream",
     "text": [
      "environ({'SHELL': '/bin/bash', 'WORKBC_WAGE_SUBSIDY_API_PORT_8000_TCP_PORT': '8000', 'KUBERNETES_SERVICE_PORT_HTTPS': '443', 'SCIPY_NOTEBOOK_PORT': 'tcp://10.98.210.4:8888', 'WORKBC_WAGE_SUBSIDY_API_SERVICE_PORT_API': '8000', 'ELMSD_WORKBC_COMMS_MONGODB_PORT_27017_TCP_PROTO': 'tcp', 'ELMSD_DEV_PATRONI_MASTER_SERVICE_PORT': '5432', 'SDD_CPAP_MAP_PORT_8443_TCP_PORT': '8443', 'WORKBC_SMALL_GRANTS_MONGODB_PORT_27017_TCP': 'tcp://10.98.236.63:27017', 'KUBERNETES_SERVICE_PORT': '443', 'ACCESS_TO_TECHNOLOGY_CRON_PORT': 'tcp://10.98.92.57:8000', 'db_name': 'postgres', 'SDD_CPAP_MAP_PORT_8443_TCP': 'tcp://10.98.173.253:8443', 'EOD_RESUME_BUNDLER_STATIC_PORT_8080_TCP_PORT': '8080', 'ACCESS_TO_TECHNOLOGY_STATIC_PORT_8080_TCP_PROTO': 'tcp', 'SDD_CPAP_MAP_SERVICE_PORT_8080_TCP': '8080', 'ACCESS_TO_TECHNOLOGY_API_PORT': 'tcp://10.98.141.32:8000', 'SDD_CPAP_MAP_PORT_8080_TCP_ADDR': '10.98.173.253', 'WORKBC_WAGE_SUBSIDY_CRON_PORT_8000_TCP': 'tcp://10.98.173.108:8000', 'HOSTNAME': 'analytics-notebook-25-2bxdv', 'EOD_RESUME_BUNDLER_API_SERVICE_HOST': '10.98.168.147', 'LANGUAGE': 'en_US.UTF-8', 'WORKBC_SMALL_GRANTS_API_PORT_8000_TCP': 'tcp://10.98.67.254:8000', 'ELMSD_WORKBC_COMMS_API_PORT_8000_TCP': 'tcp://10.98.215.231:8000', 'NSS_SDB_USE_CACHE': 'no', 'ELMSD_WORKBC_COMMS_API_SERVICE_PORT': '8000', 'ACCESS_TO_TECHNOLOGY_API_PORT_8000_TCP_ADDR': '10.98.141.32', 'WORKBC_WAGE_SUBSIDY_API_PORT_8000_TCP': 'tcp://10.98.22.186:8000', 'WORKBC_WAGE_SUBSIDY_API_PORT': 'tcp://10.98.22.186:8000', 'EOD_RESUME_BUNDLER_API_PORT_8000_TCP_ADDR': '10.98.168.147', 'WORKBC_WAGE_SUBSIDY_STATIC_PORT_8080_TCP_PROTO': 'tcp', 'SDD_CPAP_MAP_SERVICE_PORT_8443_TCP': '8443', 'ELMSD_WORKBC_COMMS_API_SERVICE_HOST': '10.98.215.231', 'NB_UID': '1000', 'WORKBC_SMALL_GRANTS_MONGODB_PORT': 'tcp://10.98.236.63:27017', 'EOD_RESUME_BUNDLER_STATIC_PORT_8080_TCP_PROTO': 'tcp', 'WORKBC_WAGE_SUBSIDY_CRON_SERVICE_HOST': '10.98.173.108', 'prod_host': '142.34.250.164', 'SDD_CPAP_MAP_PORT_8080_TCP': 'tcp://10.98.173.253:8080', 'EOD_RESUME_BUNDLER_API_PORT': 'tcp://10.98.168.147:8000', 'CDW_CONNECTION_TEST_CRON_PORT': 'tcp://10.98.197.223:8000', 'WORKBC_SMALL_GRANTS_STATIC_PORT_8080_TCP_PROTO': 'tcp', 'WORKBC_WAGE_SUBSIDY_STATIC_PORT': 'tcp://10.98.243.36:8080', 'EOD_RESUME_BUNDLER_API_PORT_8000_TCP_PROTO': 'tcp', 'ACCESS_TO_TECHNOLOGY_MONGODB_SERVICE_HOST': '10.98.191.79', 'ACCESS_TO_TECHNOLOGY_MONGODB_PORT_27017_TCP_ADDR': '10.98.191.79', 'ELMSD_DEV_PATRONI_MASTER_PORT_5432_TCP_PROTO': 'tcp', 'ANALYTICS_NOTEBOOK_PORT_8888_TCP_PORT': '8888', 'ACCESS_TO_TECHNOLOGY_STATIC_PORT_8080_TCP': 'tcp://10.98.28.252:8080', 'WORKBC_WAGE_SUBSIDY_CRON_SERVICE_PORT_API': '8000', 'PWD': '/home/jovyan', 'prod_port': '1521', 'WORKBC_SMALL_GRANTS_STATIC_SERVICE_HOST': '10.98.211.99', 'db_password': '8b4drr7xw8ncrfj7yrng1vlhh2i1agw8', 'CDW_CONNECTION_TEST_CRON_PORT_8000_TCP_PROTO': 'tcp', 'WORKBC_SMALL_GRANTS_STATIC_PORT_8080_TCP': 'tcp://10.98.211.99:8080', 'SCIPY_NOTEBOOK_SERVICE_PORT_8888_TCP': '8888', 'WORKBC_SMALL_GRANTS_STATIC_PORT': 'tcp://10.98.211.99:8080', 'ELMSD_WORKBC_COMMS_MONGODB_PORT_27017_TCP': 'tcp://10.98.165.76:27017', 'ELMSD_WORKBC_COMMS_STATIC_PORT_8080_TCP': 'tcp://10.98.97.63:8080', 'ACCESS_TO_TECHNOLOGY_STATIC_SERVICE_PORT': '8080', 'WORKBC_SMALL_GRANTS_API_PORT_8000_TCP_PROTO': 'tcp', 'WORKBC_WAGE_SUBSIDY_MONGODB_PORT_27017_TCP_PROTO': 'tcp', 'WORKBC_SMALL_GRANTS_API_SERVICE_PORT': '8000', 'ANALYTICS_NOTEBOOK_PORT_8888_TCP_PROTO': 'tcp', 'OPENSHIFT_BUILD_REFERENCE': 'main', 'WORKBC_SMALL_GRANTS_CRON_PORT_8000_TCP_PROTO': 'tcp', 'WORKBC_SMALL_GRANTS_CRON_SERVICE_PORT_API': '8000', 'WORKBC_WAGE_SUBSIDY_CRON_PORT_8000_TCP_PROTO': 'tcp', 'ACCESS_TO_TECHNOLOGY_MONGODB_PORT_27017_TCP': 'tcp://10.98.191.79:27017', 'ELMSD_WORKBC_COMMS_API_PORT_8000_TCP_ADDR': '10.98.215.231', 'ACCESS_TO_TECHNOLOGY_MONGODB_PORT_27017_TCP_PROTO': 'tcp', 'EOD_RESUME_BUNDLER_API_SERVICE_PORT_API': '8000', 'ELMSD_WORKBC_COMMS_STATIC_PORT_8080_TCP_ADDR': '10.98.97.63', 'ACCESS_TO_TECHNOLOGY_CRON_PORT_8000_TCP': 'tcp://10.98.92.57:8000', 'CDW_CONNECTION_TEST_CRON_PORT_8000_TCP_PORT': '8000', 'ANALYTICS_NOTEBOOK_PORT': 'tcp://10.98.246.29:8888', 'ELMSD_DEV_PATRONI_MASTER_PORT_5432_TCP': 'tcp://10.98.125.2:5432', 'EOD_RESUME_BUNDLER_STATIC_PORT_8080_TCP_ADDR': '10.98.212.143', 'WORKBC_SMALL_GRANTS_API_PORT_8000_TCP_PORT': '8000', 'WORKBC_SMALL_GRANTS_API_PORT': 'tcp://10.98.67.254:8000', 'HOME': '/home/jovyan', 'SCIPY_NOTEBOOK_PORT_8888_TCP_PROTO': 'tcp', 'ACCESS_TO_TECHNOLOGY_MONGODB_PORT_27017_TCP_PORT': '27017', 'LANG': 'en_US.UTF-8', 'OPENSHIFT_BUILD_COMMIT': '3fd72ac9f0975344425c1cd8e811a81ecb08441e', 'KUBERNETES_PORT_443_TCP': 'tcp://10.98.0.1:443', 'WORKBC_WAGE_SUBSIDY_CRON_PORT_8000_TCP_PORT': '8000', 'port': '1523', 'WORKBC_SMALL_GRANTS_MONGODB_PORT_27017_TCP_ADDR': '10.98.236.63', 'ACCESS_TO_TECHNOLOGY_MONGODB_SERVICE_PORT': '27017', 'WORKBC_SMALL_GRANTS_CRON_PORT_8000_TCP_ADDR': '10.98.89.225', 'ACCESS_TO_TECHNOLOGY_CRON_SERVICE_PORT_API': '8000', 'ELMSD_DEV_PATRONI_MASTER_SERVICE_HOST': '10.98.125.2', 'SDD_CPAP_MAP_SERVICE_PORT': '8080', 'NB_GID': '100', 'WORKBC_SMALL_GRANTS_STATIC_PORT_8080_TCP_ADDR': '10.98.211.99', 'WORKBC_WAGE_SUBSIDY_STATIC_PORT_8080_TCP_ADDR': '10.98.243.36', 'EOD_RESUME_BUNDLER_API_PORT_8000_TCP_PORT': '8000', 'ACCESS_TO_TECHNOLOGY_CRON_PORT_8000_TCP_ADDR': '10.98.92.57', 'ACCESS_TO_TECHNOLOGY_STATIC_PORT_8080_TCP_PORT': '8080', 'CDW_CONNECTION_TEST_CRON_SERVICE_HOST': '10.98.197.223', 'WORKBC_WAGE_SUBSIDY_API_SERVICE_HOST': '10.98.22.186', 'ACCESS_TO_TECHNOLOGY_API_PORT_8000_TCP_PORT': '8000', 'SDD_CPAP_MAP_PORT_8080_TCP_PROTO': 'tcp', 'ELMSD_WORKBC_COMMS_MONGODB_SERVICE_PORT_ELMSD_WORKBC_COMMS_MONGODB': '27017', 'ACCESS_TO_TECHNOLOGY_API_SERVICE_HOST': '10.98.141.32', 'WORKBC_WAGE_SUBSIDY_STATIC_SERVICE_HOST': '10.98.243.36', 'WORKBC_SMALL_GRANTS_STATIC_SERVICE_PORT': '8080', 'ACCESS_TO_TECHNOLOGY_STATIC_SERVICE_HOST': '10.98.28.252', 'SCIPY_NOTEBOOK_PORT_8888_TCP_PORT': '8888', 'CDW_CONNECTION_TEST_CRON_SERVICE_PORT_API': '8000', 'SDD_CPAP_MAP_PORT_8443_TCP_PROTO': 'tcp', 'ELMSD_WORKBC_COMMS_MONGODB_SERVICE_PORT': '27017', 'prod_username': 'GDALLAS', 'SCIPY_NOTEBOOK_PORT_8888_TCP_ADDR': '10.98.210.4', 'ELMSD_WORKBC_COMMS_STATIC_PORT_8080_TCP_PORT': '8080', 'db_username': 'app_api_kexvmj3g', 'WORKBC_SMALL_GRANTS_STATIC_SERVICE_PORT_WEB': '8080', 'ELMSD_WORKBC_COMMS_STATIC_PORT': 'tcp://10.98.97.63:8080', 'ANALYTICS_NOTEBOOK_PORT_8888_TCP_ADDR': '10.98.246.29', 'ELMSD_WORKBC_COMMS_MONGODB_SERVICE_HOST': '10.98.165.76', 'WORKBC_SMALL_GRANTS_MONGODB_PORT_27017_TCP_PORT': '27017', 'TERM': 'xterm-color', 'WORKBC_SMALL_GRANTS_CRON_PORT_8000_TCP': 'tcp://10.98.89.225:8000', 'SDD_CPAP_MAP_PORT_8080_TCP_PORT': '8080', 'service': 'CW1T2', 'WORKBC_WAGE_SUBSIDY_MONGODB_SERVICE_PORT': '27017', 'ELMSD_DEV_PATRONI_MASTER_PORT_5432_TCP_ADDR': '10.98.125.2', 'username': 'GDALLAS', 'ANALYTICS_NOTEBOOK_SERVICE_PORT': '8888', 'OPENSHIFT_BUILD_NAMESPACE': '1c4f9c-tools', 'WORKBC_WAGE_SUBSIDY_STATIC_PORT_8080_TCP': 'tcp://10.98.243.36:8080', 'ACCESS_TO_TECHNOLOGY_STATIC_PORT': 'tcp://10.98.28.252:8080', 'ACCESS_TO_TECHNOLOGY_MONGODB_SERVICE_PORT_ACCESS_TO_TECHNOLOGY_MONGODB': '27017', 'ACCESS_TO_TECHNOLOGY_CRON_SERVICE_HOST': '10.98.92.57', 'OPENSHIFT_BUILD_NAME': 'analytics-notebook-29', 'EOD_RESUME_BUNDLER_STATIC_PORT': 'tcp://10.98.212.143:8080', 'ACCESS_TO_TECHNOLOGY_CRON_PORT_8000_TCP_PROTO': 'tcp', 'WORKBC_SMALL_GRANTS_API_PORT_8000_TCP_ADDR': '10.98.67.254', 'WORKBC_WAGE_SUBSIDY_API_SERVICE_PORT': '8000', 'ANALYTICS_NOTEBOOK_SERVICE_PORT_8888_TCP': '8888', 'ACCESS_TO_TECHNOLOGY_CRON_PORT_8000_TCP_PORT': '8000', 'SCIPY_NOTEBOOK_SERVICE_PORT': '8888', 'ANALYTICS_NOTEBOOK_PORT_8888_TCP': 'tcp://10.98.246.29:8888', 'ELMSD_WORKBC_COMMS_STATIC_SERVICE_PORT_WEB': '8080', 'ELMSD_WORKBC_COMMS_STATIC_SERVICE_HOST': '10.98.97.63', 'ACCESS_TO_TECHNOLOGY_API_SERVICE_PORT': '8000', 'WORKBC_SMALL_GRANTS_MONGODB_SERVICE_PORT': '27017', 'WORKBC_SMALL_GRANTS_CRON_PORT': 'tcp://10.98.89.225:8000', 'SHLVL': '0', 'WORKBC_WAGE_SUBSIDY_MONGODB_SERVICE_HOST': '10.98.137.69', 'ACCESS_TO_TECHNOLOGY_API_SERVICE_PORT_API': '8000', 'CONDA_DIR': '/opt/conda', 'WORKBC_SMALL_GRANTS_MONGODB_SERVICE_PORT_WORKBC_SMALL_GRANTS_MONGODB': '27017', 'WORKBC_WAGE_SUBSIDY_MONGODB_PORT_27017_TCP_ADDR': '10.98.137.69', 'EOD_RESUME_BUNDLER_STATIC_SERVICE_PORT_WEB': '8080', 'KUBERNETES_PORT_443_TCP_PROTO': 'tcp', 'ELMSD_WORKBC_COMMS_API_PORT': 'tcp://10.98.215.231:8000', 'WORKBC_WAGE_SUBSIDY_MONGODB_PORT_27017_TCP_PORT': '27017', 'ELMSD_WORKBC_COMMS_STATIC_PORT_8080_TCP_PROTO': 'tcp', 'ELMSD_DEV_PATRONI_MASTER_PORT': 'tcp://10.98.125.2:5432', 'EOD_RESUME_BUNDLER_API_PORT_8000_TCP': 'tcp://10.98.168.147:8000', 'ACCESS_TO_TECHNOLOGY_STATIC_PORT_8080_TCP_ADDR': '10.98.28.252', 'ACCESS_TO_TECHNOLOGY_API_PORT_8000_TCP_PROTO': 'tcp', 'ELMSD_WORKBC_COMMS_API_PORT_8000_TCP_PORT': '8000', 'db_host': 'elmsd-dev-patroni-master', 'prod_service': 'PW1P', 'KUBERNETES_PORT_443_TCP_ADDR': '10.98.0.1', 'OPENSHIFT_BUILD_SOURCE': 'https://github.com/bcgov/elmsd-analytics-workbooks', 'SDD_CPAP_MAP_SERVICE_HOST': '10.98.173.253', 'WORKBC_WAGE_SUBSIDY_CRON_PORT_8000_TCP_ADDR': '10.98.173.108', 'LD_LIBRARY_PATH': '/home/jovyan/instantclient_21_6', 'EOD_RESUME_BUNDLER_API_SERVICE_PORT': '8000', 'WORKBC_WAGE_SUBSIDY_STATIC_SERVICE_PORT_WEB': '8080', 'ELMSD_WORKBC_COMMS_API_SERVICE_PORT_API': '8000', 'WORKBC_WAGE_SUBSIDY_API_PORT_8000_TCP_PROTO': 'tcp', 'password': '!99HAW!re67', 'SCIPY_NOTEBOOK_PORT_8888_TCP': 'tcp://10.98.210.4:8888', 'WORKBC_SMALL_GRANTS_MONGODB_SERVICE_HOST': '10.98.236.63', 'ELMSD_WORKBC_COMMS_API_PORT_8000_TCP_PROTO': 'tcp', 'WORKBC_SMALL_GRANTS_CRON_SERVICE_HOST': '10.98.89.225', 'WORKBC_WAGE_SUBSIDY_API_PORT_8000_TCP_ADDR': '10.98.22.186', 'ELMSD_WORKBC_COMMS_STATIC_SERVICE_PORT': '8080', 'ACCESS_TO_TECHNOLOGY_CRON_SERVICE_PORT': '8000', 'CDW_CONNECTION_TEST_CRON_PORT_8000_TCP_ADDR': '10.98.197.223', 'ELMSD_WORKBC_COMMS_MONGODB_PORT_27017_TCP_ADDR': '10.98.165.76', 'WORKBC_SMALL_GRANTS_STATIC_PORT_8080_TCP_PORT': '8080', 'db_port': '5432', 'WORKBC_SMALL_GRANTS_MONGODB_PORT_27017_TCP_PROTO': 'tcp', 'EOD_RESUME_BUNDLER_STATIC_SERVICE_HOST': '10.98.212.143', 'NB_USER': 'jovyan', 'KUBERNETES_SERVICE_HOST': '10.98.0.1', 'ACCESS_TO_TECHNOLOGY_API_PORT_8000_TCP': 'tcp://10.98.141.32:8000', 'LC_ALL': 'en_US.UTF-8', 'KUBERNETES_PORT': 'tcp://10.98.0.1:443', 'CDW_CONNECTION_TEST_CRON_SERVICE_PORT': '8000', 'KUBERNETES_PORT_443_TCP_PORT': '443', 'host': '142.34.250.138', 'prod_pw': 'Wis#5#9doms', 'ACCESS_TO_TECHNOLOGY_STATIC_SERVICE_PORT_WEB': '8080', 'WORKBC_WAGE_SUBSIDY_STATIC_SERVICE_PORT': '8080', 'CDW_CONNECTION_TEST_CRON_PORT_8000_TCP': 'tcp://10.98.197.223:8000', 'ACCESS_TO_TECHNOLOGY_MONGODB_PORT': 'tcp://10.98.191.79:27017', 'WORKBC_SMALL_GRANTS_CRON_PORT_8000_TCP_PORT': '8000', 'PATH': '/opt/conda/bin:/usr/local/sbin:/usr/local/bin:/usr/sbin:/usr/bin:/sbin:/bin', 'WORKBC_WAGE_SUBSIDY_MONGODB_PORT_27017_TCP': 'tcp://10.98.137.69:27017', 'WORKBC_WAGE_SUBSIDY_MONGODB_PORT': 'tcp://10.98.137.69:27017', 'SCIPY_NOTEBOOK_SERVICE_HOST': '10.98.210.4', 'ELMSD_WORKBC_COMMS_MONGODB_PORT_27017_TCP_PORT': '27017', 'WORKBC_SMALL_GRANTS_CRON_SERVICE_PORT': '8000', 'WORKBC_WAGE_SUBSIDY_MONGODB_SERVICE_PORT_WORKBC_WAGE_SUBSIDY_MONGODB': '27017', 'SDD_CPAP_MAP_PORT': 'tcp://10.98.173.253:8080', 'ANALYTICS_NOTEBOOK_SERVICE_HOST': '10.98.246.29', 'SDD_CPAP_MAP_PORT_8443_TCP_ADDR': '10.98.173.253', 'WORKBC_WAGE_SUBSIDY_STATIC_PORT_8080_TCP_PORT': '8080', 'EOD_RESUME_BUNDLER_STATIC_PORT_8080_TCP': 'tcp://10.98.212.143:8080', 'DEBIAN_FRONTEND': 'noninteractive', 'WORKBC_WAGE_SUBSIDY_CRON_SERVICE_PORT': '8000', 'WORKBC_WAGE_SUBSIDY_CRON_PORT': 'tcp://10.98.173.108:8000', 'ELMSD_WORKBC_COMMS_MONGODB_PORT': 'tcp://10.98.165.76:27017', 'WORKBC_SMALL_GRANTS_API_SERVICE_PORT_API': '8000', 'EOD_RESUME_BUNDLER_STATIC_SERVICE_PORT': '8080', 'ELMSD_DEV_PATRONI_MASTER_PORT_5432_TCP_PORT': '5432', 'WORKBC_SMALL_GRANTS_API_SERVICE_HOST': '10.98.67.254', 'PYDEVD_USE_FRAME_EVAL': 'NO', 'JPY_PARENT_PID': '1', 'CLICOLOR': '1', 'PAGER': 'cat', 'GIT_PAGER': 'cat', 'MPLBACKEND': 'module://matplotlib_inline.backend_inline'})\n"
     ]
    }
   ],
   "source": [
    "print(os.environ)"
   ]
  },
  {
   "cell_type": "code",
   "execution_count": 4,
   "id": "5d980be9-49ac-4344-8013-7169f1bb9b76",
   "metadata": {},
   "outputs": [
    {
     "name": "stdout",
     "output_type": "stream",
     "text": [
      "Index(['Region_Code', 'Catchment', 'Explaining_to_Others',\n",
      "       'Getting_Along_with_Others', 'New_Things', 'Organizing',\n",
      "       'Problem_Solving', 'Reading_and_Understanding', 'Using_Computers',\n",
      "       'Working_with_Documents', 'Working_with_Math', 'Writing', 'Francophone',\n",
      "       'Recent_Immigrant', 'Indigenous_Person', 'Person_with_a_Disability',\n",
      "       'Survivor_of_Violence_or_Abuse', 'Language19', 'Education_Level',\n",
      "       'Currently_In_School', 'c25', 'Indigenous_Type', 'Status_Indian',\n",
      "       'DRENA_Required', 'c30', 'Change_of_Circumstance', 'Client_Consent',\n",
      "       'Program_Type', 'c37', 'c38', 'c39', 'c40', 'c41', 'c42', 'c43', 'c44',\n",
      "       'Age', 'Lack_Housing', 'Addiction', 'Visible_Minority', 'Child_at_Home',\n",
      "       'Single_Parent', 'Physical_Disability', 'Learning_Disablilit',\n",
      "       'Developmental_Disability', 'Visual_Disability', 'Hearing_Disability',\n",
      "       'Mental_Health_Condition', 'Chronic_Illness', 'Short_term_Illness',\n",
      "       'Other_Disability', 'Interview_In_Person', 'Client_Employed_Flag',\n",
      "       'c62', 'Unemployed___Keeping_Jobs', 'c64', 'c65', 'c66',\n",
      "       'Unemployed___Training_Needed', 'c68', 'Unemployed___Lack_Resources',\n",
      "       'c70', 'Unemployed___Other', 'Employed___Self_Employed',\n",
      "       'Employed___Losing_Job', 'Employed___Disability_Supports',\n",
      "       'Employed___Lack_Resources', 'Employed___Need_More_hours',\n",
      "       'Employed___Training', 'Employed___New_Line_of_Work',\n",
      "       'Employed___Dislike_Current', 'Employed___More_Challenge',\n",
      "       'Employed___Other', 'Interview_By_Telephone', 'Interview_By_Video_Call',\n",
      "       'Interview_With_Attendant', 'Interview_Other', 'Hours_per_Week_Goal',\n",
      "       'Goal_is_Seasonal', 'Goal_is_Casual', 'Can_Relocate',\n",
      "       'Has_Transportation', 'Catchment_Selected', 'Service_Selected',\n",
      "       'Accepted_into_Case_Management', 'c4'],\n",
      "      dtype='object')\n",
      "(31702, 415)\n"
     ]
    }
   ],
   "source": [
    "from sklearn import preprocessing\n",
    "tt=tt.drop('Case_Number', axis = 1)\n",
    "tt=tt.drop(['Wage_Per_Hour_Goal', 'c101', 'c22'], axis = 1)\n",
    "tst = tt\n",
    "print(tt.columns)\n",
    "#print(tst.dtypes)\n",
    "#le = preprocessing.LabelEncoder()\n",
    "le = preprocessing.OneHotEncoder()\n",
    "\n",
    "# for col in tst.columns:\n",
    "#     if col != 'c4':\n",
    "#         tst[col] = le.fit_transform(tst[col].astype(str))\n",
    "\n",
    "# print(tst.head)\n",
    "features = tst.drop('c4', axis = 1)\n",
    "label = tst['c4']\n",
    "for col in features.columns:\n",
    "    features[col]=features[col].astype(str)\n",
    "\n",
    "le.fit(features)\n",
    "features = pd.DataFrame(le.transform(features).toarray())\n",
    "print(features.shape)\n",
    "from sklearn.neighbors import KNeighborsClassifier\n",
    "from sklearn.model_selection import train_test_split\n",
    "x_train, x_test, y_train, y_test = train_test_split(features, label)\n",
    "from sklearn.preprocessing import StandardScaler\n",
    "scaler = StandardScaler()\n",
    "scaler.fit(x_train)\n",
    "\n",
    "x_train = scaler.transform(x_train)\n",
    "x_test = scaler.transform(x_test)\n",
    "\n",
    "\n",
    "\n"
   ]
  },
  {
   "cell_type": "code",
   "execution_count": 5,
   "id": "28d54577-f7a5-4aee-a633-6747403b2f6e",
   "metadata": {},
   "outputs": [
    {
     "name": "stdout",
     "output_type": "stream",
     "text": [
      "(23776, 493)\n",
      "(31702, 493)\n",
      "(31702, 88)\n"
     ]
    }
   ],
   "source": [
    "print(x_train.shape)\n",
    "print(features.shape)\n",
    "print(tt.shape)"
   ]
  },
  {
   "cell_type": "code",
   "execution_count": 5,
   "id": "ca917396-fa57-46a0-858d-5b1a5134a9bb",
   "metadata": {},
   "outputs": [
    {
     "name": "stdout",
     "output_type": "stream",
     "text": [
      "[[226  47  36 ...   0   0   0]\n",
      " [ 72  44  28 ...   0   0   0]\n",
      " [ 53  52  43 ...   0   0   0]\n",
      " ...\n",
      " [  0   0   0 ...   0   0   0]\n",
      " [  1   0   0 ...   0   0   0]\n",
      " [  0   0   0 ...   0   0   0]]\n",
      "The mean squared error (MSE) on test set: 1018.8592\n"
     ]
    },
    {
     "data": {
      "image/png": "[encoded data removed]",
      "text/plain": [
       "<Figure size 432x288 with 1 Axes>"
      ]
     },
     "metadata": {
      "needs_background": "light"
     },
     "output_type": "display_data"
    }
   ],
   "source": [
    "model = KNeighborsClassifier(n_neighbors=3)\n",
    "\n",
    "# Train the model using the training sets\n",
    "model.fit(x_train,y_train)\n",
    "y_test.plot.hist(bins=100, alpha=0.5)\n",
    "\n",
    "y_pred = model.predict(x_test)\n",
    "from sklearn.metrics import classification_report, confusion_matrix, mean_squared_error\n",
    "print(confusion_matrix(y_test, y_pred))\n",
    "mse = mean_squared_error(y_test, y_pred)\n",
    "print(\"The mean squared error (MSE) on test set: {:.4f}\".format(mse))\n"
   ]
  },
  {
   "cell_type": "code",
   "execution_count": 7,
   "id": "00b5351d-7b4b-483e-8ea5-d517675b7c3e",
   "metadata": {},
   "outputs": [
    {
     "name": "stdout",
     "output_type": "stream",
     "text": [
      "156\n"
     ]
    },
    {
     "name": "stderr",
     "output_type": "stream",
     "text": [
      "/opt/conda/lib/python3.9/site-packages/sklearn/ensemble/_gb.py:294: FutureWarning: The loss 'ls' was deprecated in v1.0 and will be removed in version 1.2. Use 'squared_error' which is equivalent.\n",
      "  warnings.warn(\n"
     ]
    },
    {
     "name": "stdout",
     "output_type": "stream",
     "text": [
      "The mean squared error (MSE) on test set: 668.6912\n",
      "The mean squared error (MSE) on test set: 25.8591\n"
     ]
    }
   ],
   "source": [
    "from sklearn import datasets, ensemble\n",
    "from sklearn.inspection import permutation_importance\n",
    "from sklearn.metrics import mean_squared_error\n",
    "from sklearn.model_selection import train_test_split\n",
    "import math\n",
    "params = {'n_estimators': 100,\n",
    "          'max_depth': 4,\n",
    "          'min_samples_split': 5,\n",
    "          'learning_rate': 0.01,\n",
    "          'loss': 'ls'}\n",
    "\n",
    "from sklearn.decomposition import PCA\n",
    "# Make an instance of the Model\n",
    "pca = PCA(.90)\n",
    "pca.fit(x_train)\n",
    "print(pca.n_components_)\n",
    "x_train_pca = pca.transform(x_train)\n",
    "x_test_pca = pca.transform(x_test)\n",
    "\n",
    "reg = ensemble.GradientBoostingRegressor(**params)\n",
    "reg.fit(x_train_pca, y_train)\n",
    "\n",
    "mse = mean_squared_error(y_test, reg.predict(x_test_pca))\n",
    "print(\"The mean squared error (MSE) on test set: {:.4f}\".format(mse))\n",
    "\n",
    "y_pred = reg.predict(x_test_pca)\n",
    "\n",
    "mse = math.sqrt(mean_squared_error(y_test, y_pred))\n",
    "print(\"The mean squared error (MSE) on test set: {:.4f}\".format(mse))"
   ]
  },
  {
   "cell_type": "code",
   "execution_count": 10,
   "id": "79eec728-44ee-4d28-9b57-0cc7644b9584",
   "metadata": {},
   "outputs": [
    {
     "name": "stdout",
     "output_type": "stream",
     "text": [
      "hello\n"
     ]
    }
   ],
   "source": [
    "print('hello')\n",
    "import pickle as pk\n",
    "pk.dump(pca, open(\"/home/jovyan/work/pca_weeks_to_sus.pkl\",\"wb\"))"
   ]
  },
  {
   "cell_type": "code",
   "execution_count": 9,
   "id": "6eb14586-64da-413e-9301-b378d71bc367",
   "metadata": {},
   "outputs": [],
   "source": [
    "import pickle as pk\n",
    "filename = '/home/jovyan/work/finalized_weeks_to_sus_model.sav'\n",
    "pk.dump(reg, open(filename, 'wb'))\n"
   ]
  },
  {
   "cell_type": "code",
   "execution_count": null,
   "id": "6876ea2d-2092-4b2c-9992-9d3266d41dfc",
   "metadata": {},
   "outputs": [
    {
     "name": "stderr",
     "output_type": "stream",
     "text": [
      "/opt/conda/lib/python3.9/site-packages/sklearn/ensemble/_gb.py:294: FutureWarning: The loss 'ls' was deprecated in v1.0 and will be removed in version 1.2. Use 'squared_error' which is equivalent.\n",
      "  warnings.warn(\n"
     ]
    }
   ],
   "source": [
    "\n",
    "from sklearn import datasets, ensemble\n",
    "from sklearn.inspection import permutation_importance\n",
    "from sklearn.metrics import mean_squared_error\n",
    "from sklearn.model_selection import train_test_split\n",
    "import math\n",
    "params = {'n_estimators': 500,\n",
    "          'max_depth': 4,\n",
    "          'min_samples_split': 5,\n",
    "          'learning_rate': 0.01,\n",
    "          'loss': 'ls'}\n",
    "\n",
    "reg = ensemble.GradientBoostingRegressor(**params)\n",
    "reg.fit(x_train, y_train)\n",
    "\n",
    "mse = mean_squared_error(y_test, reg.predict(x_test))\n",
    "print(\"The mean squared error (MSE) on test set: {:.4f}\".format(mse))\n",
    "\n",
    "y_pred = reg.predict(x_test)\n",
    "\n",
    "mse = math.sqrt(mean_squared_error(y_test, y_pred))\n",
    "print(\"The mean squared error (MSE) on test set: {:.4f}\".format(mse))\n",
    "\n",
    "from sklearn.neural_network import MLPClassifier\n",
    "clf = MLPClassifier(solver='adam', alpha=1e-4,hidden_layer_sizes=(10, 10), random_state=1, max_iter = 2000)\n",
    "clf.fit(x_train, y_train)\n",
    "y_pred = clf.predict(x_test)\n",
    "print(classification_report(y_test, y_pred.round()))\n",
    "print(confusion_matrix(y_test, y_pred.round()))\n",
    "mse = math.sqrt(mean_squared_error(y_test, y_pred))\n",
    "print(\"The mean squared error (MSE) on test set: {:.4f}\".format(mse))\n",
    "\n",
    "from sklearn.decomposition import PCA\n",
    "# Make an instance of the Model\n",
    "pca = PCA(.90)\n",
    "pca.fit(x_train)\n",
    "print(pca.n_components_)\n",
    "x_train_pca = pca.transform(x_train)\n",
    "x_test_pca = pca.transform(x_test)\n",
    "\n",
    "reg = ensemble.GradientBoostingRegressor(**params)\n",
    "reg.fit(x_train_pca, y_train)\n",
    "\n",
    "mse = mean_squared_error(y_test, reg.predict(x_test_pca))\n",
    "print(\"The mean squared error (MSE) on test set: {:.4f}\".format(mse))\n",
    "\n",
    "y_pred = reg.predict(x_test_pca)\n",
    "\n",
    "mse = math.sqrt(mean_squared_error(y_test, y_pred))\n",
    "print(\"The mean squared error (MSE) on test set: {:.4f}\".format(mse))"
   ]
  }
 ],
 "metadata": {
  "kernelspec": {
   "display_name": "Python 3 (ipykernel)",
   "language": "python",
   "name": "python3"
  },
  "language_info": {
   "codemirror_mode": {
    "name": "ipython",
    "version": 3
   },
   "file_extension": ".py",
   "mimetype": "text/x-python",
   "name": "python",
   "nbconvert_exporter": "python",
   "pygments_lexer": "ipython3",
   "version": "3.9.13"
  }
 },
 "nbformat": 4,
 "nbformat_minor": 5
}
